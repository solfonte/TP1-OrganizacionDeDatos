{
 "cells": [
  {
   "cell_type": "markdown",
   "id": "048eabcb",
   "metadata": {},
   "source": [
    "## Naive Bayes "
   ]
  },
  {
   "cell_type": "code",
   "execution_count": 1,
   "id": "115bbcea",
   "metadata": {},
   "outputs": [],
   "source": [
    "import pandas as pd\n",
    "import numpy as np\n",
    "import matplotlib.pyplot as plt\n",
    "import seaborn as sns\n",
    "from sklearn.metrics import  auc, plot_roc_curve"
   ]
  },
  {
   "cell_type": "code",
   "execution_count": 2,
   "id": "91b4c217",
   "metadata": {},
   "outputs": [],
   "source": [
    "from sklearn.model_selection import train_test_split\n",
    "from sklearn.metrics import classification_report\n",
    "from sklearn.metrics import confusion_matrix\n",
    "from sklearn.metrics import roc_auc_score\n",
    "from sklearn.metrics import roc_curve\n",
    "from sklearn.model_selection import KFold, StratifiedKFold\n",
    "from sklearn.model_selection import GridSearchCV"
   ]
  },
  {
   "cell_type": "code",
   "execution_count": 3,
   "id": "431f603b",
   "metadata": {},
   "outputs": [],
   "source": [
    "from sklearn.naive_bayes import MultinomialNB\n",
    "from sklearn.naive_bayes import GaussianNB\n",
    "from sklearn.naive_bayes import CategoricalNB"
   ]
  },
  {
   "cell_type": "code",
   "execution_count": 4,
   "id": "fc54619e",
   "metadata": {},
   "outputs": [],
   "source": [
    "from preprocessing import cargarDatasets\n",
    "from preprocessing import prepararSet\n",
    "from preprocessing import ingenieriaDeFeaturesCategoricalNB, ingenieriaDeFeaturesGaussianNB\n",
    "from preprocessing import ingenieriaDeFeaturesCategoricalNB2"
   ]
  },
  {
   "cell_type": "code",
   "execution_count": 5,
   "id": "ca469501",
   "metadata": {},
   "outputs": [],
   "source": [
    "from preprocessing import prepararSetDeHoldOutCategoricalNB\n",
    "from preprocessing import prepararSetDeHoldOutGaussianNB"
   ]
  },
  {
   "cell_type": "markdown",
   "id": "1cbb6b9a",
   "metadata": {},
   "source": [
    "# Carga y preprocesamiento de datos"
   ]
  },
  {
   "cell_type": "code",
   "execution_count": 6,
   "id": "2c9c2bde",
   "metadata": {},
   "outputs": [],
   "source": [
    "train_df,final_df = cargarDatasets()\n",
    "train_df = prepararSet(train_df)"
   ]
  },
  {
   "cell_type": "code",
   "execution_count": 7,
   "id": "f53890fe",
   "metadata": {},
   "outputs": [],
   "source": [
    "train2_df = train_df.copy()"
   ]
  },
  {
   "cell_type": "markdown",
   "id": "2de87455",
   "metadata": {},
   "source": [
    "Luego de tener cargado el set de datos, vamos a aplicarle determinados preprocesamientos. Par eso vamos a distingir este algoritmos en 3:\n",
    "   *  categorical nb\n",
    "   *  Multinomial nb\n",
    "   * gaussian nb"
   ]
  },
  {
   "cell_type": "markdown",
   "id": "bbfe186a",
   "metadata": {},
   "source": [
    "# Categorical Naive Bayes "
   ]
  },
  {
   "cell_type": "markdown",
   "id": "442ecc78",
   "metadata": {},
   "source": [
    "Este metodo es utilizado para variables categoricas, nos fijamos cuales son categoricas y luego nos desascemos de las que son numericcas."
   ]
  },
  {
   "cell_type": "code",
   "execution_count": 46,
   "id": "f40a713b",
   "metadata": {},
   "outputs": [
    {
     "data": {
      "text/html": [
       "<div>\n",
       "<style scoped>\n",
       "    .dataframe tbody tr th:only-of-type {\n",
       "        vertical-align: middle;\n",
       "    }\n",
       "\n",
       "    .dataframe tbody tr th {\n",
       "        vertical-align: top;\n",
       "    }\n",
       "\n",
       "    .dataframe thead th {\n",
       "        text-align: right;\n",
       "    }\n",
       "</style>\n",
       "<table border=\"1\" class=\"dataframe\">\n",
       "  <thead>\n",
       "    <tr style=\"text-align: right;\">\n",
       "      <th></th>\n",
       "      <th>id</th>\n",
       "      <th>anios_estudiados</th>\n",
       "      <th>barrio</th>\n",
       "      <th>categoria_de_trabajo</th>\n",
       "      <th>edad</th>\n",
       "      <th>educacion_alcanzada</th>\n",
       "      <th>estado_marital</th>\n",
       "      <th>ganancia_perdida_declarada_bolsa_argentina</th>\n",
       "      <th>genero</th>\n",
       "      <th>horas_trabajo_registradas</th>\n",
       "      <th>religion</th>\n",
       "      <th>representatividad_poblacional</th>\n",
       "      <th>rol_familiar_registrado</th>\n",
       "      <th>trabajo</th>\n",
       "    </tr>\n",
       "  </thead>\n",
       "  <tbody>\n",
       "    <tr>\n",
       "      <th>0</th>\n",
       "      <td>1</td>\n",
       "      <td>11</td>\n",
       "      <td>Palermo</td>\n",
       "      <td>relacion_de_dependencia</td>\n",
       "      <td>25</td>\n",
       "      <td>2_anio</td>\n",
       "      <td>sin_matrimonio</td>\n",
       "      <td>0</td>\n",
       "      <td>hombre</td>\n",
       "      <td>40</td>\n",
       "      <td>judaismo</td>\n",
       "      <td>226802</td>\n",
       "      <td>con_hijos</td>\n",
       "      <td>inspector</td>\n",
       "    </tr>\n",
       "    <tr>\n",
       "      <th>1</th>\n",
       "      <td>2</td>\n",
       "      <td>13</td>\n",
       "      <td>Palermo</td>\n",
       "      <td>relacion_de_dependencia</td>\n",
       "      <td>38</td>\n",
       "      <td>4_anio</td>\n",
       "      <td>matrimonio_civil</td>\n",
       "      <td>0</td>\n",
       "      <td>hombre</td>\n",
       "      <td>50</td>\n",
       "      <td>cristianismo</td>\n",
       "      <td>89814</td>\n",
       "      <td>casado</td>\n",
       "      <td>sector_primario</td>\n",
       "    </tr>\n",
       "    <tr>\n",
       "      <th>2</th>\n",
       "      <td>3</td>\n",
       "      <td>16</td>\n",
       "      <td>Palermo</td>\n",
       "      <td>empleado_municipal</td>\n",
       "      <td>28</td>\n",
       "      <td>universidad_2_anio</td>\n",
       "      <td>matrimonio_civil</td>\n",
       "      <td>0</td>\n",
       "      <td>hombre</td>\n",
       "      <td>40</td>\n",
       "      <td>cristianismo</td>\n",
       "      <td>336951</td>\n",
       "      <td>casado</td>\n",
       "      <td>seguridad</td>\n",
       "    </tr>\n",
       "    <tr>\n",
       "      <th>3</th>\n",
       "      <td>4</td>\n",
       "      <td>14</td>\n",
       "      <td>Palermo</td>\n",
       "      <td>relacion_de_dependencia</td>\n",
       "      <td>44</td>\n",
       "      <td>5_anio</td>\n",
       "      <td>matrimonio_civil</td>\n",
       "      <td>7688</td>\n",
       "      <td>hombre</td>\n",
       "      <td>40</td>\n",
       "      <td>judaismo</td>\n",
       "      <td>160323</td>\n",
       "      <td>casado</td>\n",
       "      <td>inspector</td>\n",
       "    </tr>\n",
       "    <tr>\n",
       "      <th>4</th>\n",
       "      <td>5</td>\n",
       "      <td>14</td>\n",
       "      <td>Palermo</td>\n",
       "      <td>NaN</td>\n",
       "      <td>18</td>\n",
       "      <td>5_anio</td>\n",
       "      <td>sin_matrimonio</td>\n",
       "      <td>0</td>\n",
       "      <td>mujer</td>\n",
       "      <td>30</td>\n",
       "      <td>cristianismo</td>\n",
       "      <td>103497</td>\n",
       "      <td>con_hijos</td>\n",
       "      <td>NaN</td>\n",
       "    </tr>\n",
       "  </tbody>\n",
       "</table>\n",
       "</div>"
      ],
      "text/plain": [
       "   id  anios_estudiados   barrio     categoria_de_trabajo  edad  \\\n",
       "0   1                11  Palermo  relacion_de_dependencia    25   \n",
       "1   2                13  Palermo  relacion_de_dependencia    38   \n",
       "2   3                16  Palermo       empleado_municipal    28   \n",
       "3   4                14  Palermo  relacion_de_dependencia    44   \n",
       "4   5                14  Palermo                      NaN    18   \n",
       "\n",
       "  educacion_alcanzada    estado_marital  \\\n",
       "0              2_anio    sin_matrimonio   \n",
       "1              4_anio  matrimonio_civil   \n",
       "2  universidad_2_anio  matrimonio_civil   \n",
       "3              5_anio  matrimonio_civil   \n",
       "4              5_anio    sin_matrimonio   \n",
       "\n",
       "   ganancia_perdida_declarada_bolsa_argentina  genero  \\\n",
       "0                                           0  hombre   \n",
       "1                                           0  hombre   \n",
       "2                                           0  hombre   \n",
       "3                                        7688  hombre   \n",
       "4                                           0   mujer   \n",
       "\n",
       "   horas_trabajo_registradas      religion  representatividad_poblacional  \\\n",
       "0                         40      judaismo                         226802   \n",
       "1                         50  cristianismo                          89814   \n",
       "2                         40  cristianismo                         336951   \n",
       "3                         40      judaismo                         160323   \n",
       "4                         30  cristianismo                         103497   \n",
       "\n",
       "  rol_familiar_registrado          trabajo  \n",
       "0               con_hijos        inspector  \n",
       "1                  casado  sector_primario  \n",
       "2                  casado        seguridad  \n",
       "3                  casado        inspector  \n",
       "4               con_hijos              NaN  "
      ]
     },
     "execution_count": 46,
     "metadata": {},
     "output_type": "execute_result"
    }
   ],
   "source": [
    "final_df.head()"
   ]
  },
  {
   "cell_type": "markdown",
   "id": "f28cac13",
   "metadata": {},
   "source": [
    "vemos que las que son categoricas son barrio, genero, estado_marital, religion, trabajo, rol familiar y educacion_alcanza. Dentro de estas no vamos a tener en cuenta ni el barrio ni la religion ya que cuando hicimos el analisis previo vimos que eran features irrelevantes con respecto a la variable target. Luego estado marital y rol familiar estaban muy relacionados por lo que nos quedamos con estado marital."
   ]
  },
  {
   "cell_type": "code",
   "execution_count": 8,
   "id": "49eef8eb",
   "metadata": {},
   "outputs": [],
   "source": [
    "X,y,df,y_encoder = ingenieriaDeFeaturesCategoricalNB(train_df)"
   ]
  },
  {
   "cell_type": "code",
   "execution_count": 9,
   "id": "37e82ce5",
   "metadata": {},
   "outputs": [],
   "source": [
    "X_train, X_test, y_train, y_test = train_test_split(X, y, random_state=117, test_size=0.1, stratify=y)"
   ]
  },
  {
   "cell_type": "code",
   "execution_count": 10,
   "id": "faa84a25",
   "metadata": {},
   "outputs": [],
   "source": [
    "X2,y2,df2,y_encoder2, meanEnconding = ingenieriaDeFeaturesCategoricalNB2(train2_df)"
   ]
  },
  {
   "cell_type": "code",
   "execution_count": 11,
   "id": "5ddbeadc",
   "metadata": {},
   "outputs": [],
   "source": [
    "X_train2, X_test2, y_train2, y_test2 = train_test_split(X2, y2, random_state=117, test_size=0.1, stratify=y2)"
   ]
  },
  {
   "cell_type": "markdown",
   "id": "c5b74cf7",
   "metadata": {},
   "source": [
    "Ahora buscamos los mejores hiperparametros, en este caso solo tenemos alfa, en la cual nos indic que tan smothing se van a realizar las diferenctes convinaciones para evitar la probalidad cero. "
   ]
  },
  {
   "cell_type": "code",
   "execution_count": 51,
   "id": "77500fd9",
   "metadata": {},
   "outputs": [],
   "source": [
    "parametrosCategorica = [{'alpha': [0.0005,0.001,0.01,0.1,0.3,0.5,0.7,1,2,3,5, 10, 15, 20, 50]}]"
   ]
  },
  {
   "cell_type": "markdown",
   "id": "f6f180b4",
   "metadata": {},
   "source": [
    "primer preprocesamiento "
   ]
  },
  {
   "cell_type": "code",
   "execution_count": 52,
   "id": "5e5282b7",
   "metadata": {},
   "outputs": [],
   "source": [
    "categorical = CategoricalNB()\n",
    "modelo1 = GridSearchCV(\n",
    "    categorical, parametrosCategorica, scoring='roc_auc', n_jobs=-1, cv=5, return_train_score=True\n",
    ").fit(X_train, y_train)"
   ]
  },
  {
   "cell_type": "code",
   "execution_count": 53,
   "id": "d8ee1cd9",
   "metadata": {},
   "outputs": [
    {
     "name": "stdout",
     "output_type": "stream",
     "text": [
      "Best score: 0.841265615318051\n",
      "Best params {'alpha': 0.1}\n"
     ]
    }
   ],
   "source": [
    "print(f\"Best score: {modelo1.best_score_}\")\n",
    "print(f\"Best params {modelo1.best_params_}\")"
   ]
  },
  {
   "cell_type": "markdown",
   "id": "cc9280f2",
   "metadata": {},
   "source": [
    "segundo preprocesamiento"
   ]
  },
  {
   "cell_type": "code",
   "execution_count": 54,
   "id": "f3d9272d",
   "metadata": {},
   "outputs": [],
   "source": [
    "categorical = CategoricalNB()\n",
    "modelo2 = GridSearchCV(\n",
    "    categorical, parametrosCategorica, scoring='roc_auc', n_jobs=-1, cv=5, return_train_score=True\n",
    ").fit(X_train2, y_train2)"
   ]
  },
  {
   "cell_type": "code",
   "execution_count": 55,
   "id": "49b4bb32",
   "metadata": {},
   "outputs": [
    {
     "name": "stdout",
     "output_type": "stream",
     "text": [
      "Best score: 0.6242997079565432\n",
      "Best params {'alpha': 0.0005}\n"
     ]
    }
   ],
   "source": [
    "print(f\"Best score: {modelo2.best_score_}\")\n",
    "print(f\"Best params {modelo2.best_params_}\")"
   ]
  },
  {
   "cell_type": "markdown",
   "id": "39a44441",
   "metadata": {},
   "source": [
    "vemos que dio mucho mejor el primer preprosesamiento. Vamos a utilizar ese"
   ]
  },
  {
   "cell_type": "markdown",
   "id": "9b9634d5",
   "metadata": {},
   "source": [
    "# Entrenamos "
   ]
  },
  {
   "cell_type": "code",
   "execution_count": 12,
   "id": "e4d21036",
   "metadata": {},
   "outputs": [
    {
     "data": {
      "text/plain": [
       "CategoricalNB(alpha=0.1)"
      ]
     },
     "execution_count": 12,
     "metadata": {},
     "output_type": "execute_result"
    }
   ],
   "source": [
    "categoricalNB = CategoricalNB(alpha=0.1)\n",
    "\n",
    "categoricalNB.fit(X_train, y_train)\n"
   ]
  },
  {
   "cell_type": "markdown",
   "id": "84fa3dba",
   "metadata": {},
   "source": [
    "# Metricas"
   ]
  },
  {
   "cell_type": "code",
   "execution_count": 57,
   "id": "305a813f",
   "metadata": {},
   "outputs": [
    {
     "name": "stdout",
     "output_type": "stream",
     "text": [
      "                                 precision    recall  f1-score   support\n",
      "\n",
      "No tiene alto valor adquisitivo       0.86      0.87      0.87      2473\n",
      "   Tiene alto valor adquisitivo       0.58      0.57      0.57       784\n",
      "\n",
      "                       accuracy                           0.80      3257\n",
      "                      macro avg       0.72      0.72      0.72      3257\n",
      "                   weighted avg       0.80      0.80      0.80      3257\n",
      "\n"
     ]
    }
   ],
   "source": [
    "y_pred = categoricalNB.predict(X_test)\n",
    "print(classification_report(y_test, y_pred, target_names=['No tiene alto valor adquisitivo','Tiene alto valor adquisitivo']))"
   ]
  },
  {
   "cell_type": "markdown",
   "id": "b8c190c0",
   "metadata": {},
   "source": [
    "# Curva auc roc"
   ]
  },
  {
   "cell_type": "code",
   "execution_count": 58,
   "id": "cd96e565",
   "metadata": {},
   "outputs": [
    {
     "data": {
      "image/png": "[encoded data removed]",
      "text/plain": [
       "<Figure size 432x288 with 1 Axes>"
      ]
     },
     "metadata": {
      "needs_background": "light"
     },
     "output_type": "display_data"
    }
   ],
   "source": [
    "plot_roc_curve(categoricalNB,X_test,y_test,response_method='predict_proba')\n",
    "plt.show()"
   ]
  },
  {
   "cell_type": "markdown",
   "id": "9248149c",
   "metadata": {},
   "source": [
    "# Matriz de Confusion "
   ]
  },
  {
   "cell_type": "code",
   "execution_count": 59,
   "id": "2f4cc6c6",
   "metadata": {},
   "outputs": [
    {
     "data": {
      "image/png": "[encoded data removed]",
      "text/plain": [
       "<Figure size 1080x504 with 2 Axes>"
      ]
     },
     "metadata": {
      "needs_background": "light"
     },
     "output_type": "display_data"
    }
   ],
   "source": [
    "from sklearn.metrics import plot_confusion_matrix\n",
    "\n",
    "fig, ax = plt.subplots(figsize=(15, 7))\n",
    "plt.grid(False)\n",
    "plot_confusion_matrix(\n",
    "    categoricalNB, X_test, y_test, cmap=plt.cm.Blues, display_labels=['bajo podes adquisitivo', 'alto poder adquisitivo'], ax=ax\n",
    ")\n",
    "plt.show()"
   ]
  },
  {
   "cell_type": "markdown",
   "id": "118e3afb",
   "metadata": {},
   "source": [
    "# Prediccion sobre el data ser de HoldOut "
   ]
  },
  {
   "cell_type": "markdown",
   "id": "13eb4049",
   "metadata": {},
   "source": [
    "se predice para el algoritmo de naive bayes categorico "
   ]
  },
  {
   "cell_type": "code",
   "execution_count": 13,
   "id": "12c28ebe",
   "metadata": {},
   "outputs": [],
   "source": [
    "aux = final_df.copy()\n",
    "aux2 = final_df.copy()"
   ]
  },
  {
   "cell_type": "code",
   "execution_count": 14,
   "id": "4b7b37d8",
   "metadata": {},
   "outputs": [],
   "source": [
    "final_df_copy = prepararSet(final_df)"
   ]
  },
  {
   "cell_type": "code",
   "execution_count": 15,
   "id": "697c3bcf",
   "metadata": {},
   "outputs": [],
   "source": [
    "final_df_categorical = prepararSetDeHoldOutCategoricalNB(final_df_copy)"
   ]
  },
  {
   "cell_type": "code",
   "execution_count": 16,
   "id": "40d7be10",
   "metadata": {},
   "outputs": [],
   "source": [
    "ho_prediction = categoricalNB.predict(final_df_categorical)\n",
    "aux['tiene_alto_valor_adquisitivo'] = ho_prediction\n",
    "\n",
    "aux.to_csv('predicciones/categoricalNB.csv')"
   ]
  },
  {
   "cell_type": "markdown",
   "id": "34a856c0",
   "metadata": {},
   "source": [
    "## GaussianNB"
   ]
  },
  {
   "cell_type": "markdown",
   "id": "82155413",
   "metadata": {},
   "source": [
    "este modelo es utilizado para variables continuas, En este caso vamos a considerar la edad, anios estudiados y inversion en la bolsa. Como no hay muchos feautures no esperamos que tengamos un muy buen resultado.\n"
   ]
  },
  {
   "cell_type": "code",
   "execution_count": 34,
   "id": "d838b9e6",
   "metadata": {},
   "outputs": [],
   "source": [
    "train_df2,final_df2 = cargarDatasets()\n",
    "train_df2 = prepararSet(train_df2)"
   ]
  },
  {
   "cell_type": "code",
   "execution_count": 35,
   "id": "e329c02b",
   "metadata": {},
   "outputs": [],
   "source": [
    "X,y,df,y_encoder, meanEncoding = ingenieriaDeFeaturesGaussianNB(train_df2)"
   ]
  },
  {
   "cell_type": "markdown",
   "id": "4996bd80",
   "metadata": {},
   "source": [
    "Busco los mejores hiperparametros, en este caso corresponde al valor de smothing."
   ]
  },
  {
   "cell_type": "code",
   "execution_count": 36,
   "id": "5dbcc282",
   "metadata": {},
   "outputs": [],
   "source": [
    "parametrosGaussian = [{'var_smoothing' : [0.00000001,0.0000001,0.000001,0.00001,0.0001,0.001, 0.01, 0.1, 1, 3]}]"
   ]
  },
  {
   "cell_type": "markdown",
   "id": "7fd6897a-5980-48eb-87f9-9cc62b3965a5",
   "metadata": {},
   "source": [
    "# Busco la mejor combinacion de features"
   ]
  },
  {
   "cell_type": "markdown",
   "id": "8707b0d7-33fd-44e8-987b-61fa91be0c40",
   "metadata": {},
   "source": [
    "Utilizo la tecnica de wrapper de sellecion de feaures en la cual utilizo la secuencial hacia atras, arranco con toso los features y luego voy sacando de a uno hasta obtener la mejor combinacion"
   ]
  },
  {
   "cell_type": "code",
   "execution_count": 9,
   "id": "a75e5ac2-739a-44f7-a1ee-8b82b7df6614",
   "metadata": {},
   "outputs": [],
   "source": [
    "from sklearn.feature_selection import SequentialFeatureSelector"
   ]
  },
  {
   "cell_type": "code",
   "execution_count": 37,
   "id": "2909fad3-8283-4b69-ae5d-761ca8cb62f1",
   "metadata": {},
   "outputs": [],
   "source": [
    "X_train, X_test, y_train, y_test = train_test_split(X, y, random_state=117, test_size=0.1, stratify=y)"
   ]
  },
  {
   "cell_type": "code",
   "execution_count": 11,
   "id": "4d4b90a5-67da-48a2-b6b4-4ae18dd8b9e8",
   "metadata": {},
   "outputs": [],
   "source": [
    "features_names =  X.columns.values"
   ]
  },
  {
   "cell_type": "code",
   "execution_count": 12,
   "id": "c0fe181c-6cca-4a33-b622-f3236caadaf5",
   "metadata": {},
   "outputs": [],
   "source": [
    "gaussian = GaussianNB()"
   ]
  },
  {
   "cell_type": "code",
   "execution_count": 13,
   "id": "98b97aa3-58d0-4128-ac79-b2bc8ad5c4de",
   "metadata": {},
   "outputs": [],
   "source": [
    "sfs_backward = SequentialFeatureSelector(gaussian, n_features_to_select=6,\n",
    "                                         direction='backward').fit(X_train, y_train)"
   ]
  },
  {
   "cell_type": "code",
   "execution_count": 14,
   "id": "09467cc4-ba80-4cf9-8485-26812c072afc",
   "metadata": {},
   "outputs": [
    {
     "name": "stdout",
     "output_type": "stream",
     "text": [
      "Features selected by backward sequential selection: ['anios_estudiados' 'edad' 'estado_marital'\n",
      " 'ganancia_perdida_declarada_bolsa_argentina' 'rol_familiar_registrado'\n",
      " 'trabajo']\n"
     ]
    }
   ],
   "source": [
    "print(\"Features selected by backward sequential selection: \"\n",
    "      f\"{features_names[sfs_backward.get_support()]}\")"
   ]
  },
  {
   "cell_type": "code",
   "execution_count": 38,
   "id": "5c30eb25-803a-495d-8f71-6836b1636528",
   "metadata": {},
   "outputs": [],
   "source": [
    "X_train = X_train[['anios_estudiados', 'estado_marital', 'ganancia_perdida_declarada_bolsa_argentina' ,\n",
    "                  'rol_familiar_registrado', 'trabajo', 'edad']].copy()"
   ]
  },
  {
   "cell_type": "code",
   "execution_count": 39,
   "id": "074b2e7f-6ded-461d-a16c-47defeaa9c99",
   "metadata": {},
   "outputs": [],
   "source": [
    "X_test =X_test[['anios_estudiados', 'estado_marital', 'ganancia_perdida_declarada_bolsa_argentina' ,\n",
    "                  'rol_familiar_registrado', 'trabajo', 'edad']].copy()"
   ]
  },
  {
   "cell_type": "code",
   "execution_count": 17,
   "id": "5a66e860",
   "metadata": {},
   "outputs": [],
   "source": [
    "gaussian = GaussianNB()\n",
    "modelo1 = GridSearchCV(\n",
    "    gaussian, parametrosGaussian, scoring='roc_auc', n_jobs=-1, cv=5, return_train_score=True\n",
    ").fit(X_train, y_train)"
   ]
  },
  {
   "cell_type": "code",
   "execution_count": 18,
   "id": "626debc1",
   "metadata": {},
   "outputs": [
    {
     "name": "stdout",
     "output_type": "stream",
     "text": [
      "Best score: 0.8429145559610358\n",
      "Best params {'var_smoothing': 1e-08}\n"
     ]
    }
   ],
   "source": [
    "print(f\"Best score: {modelo1.best_score_}\")\n",
    "print(f\"Best params {modelo1.best_params_}\")"
   ]
  },
  {
   "cell_type": "markdown",
   "id": "7d3eb79c",
   "metadata": {},
   "source": [
    "# Entrenamos "
   ]
  },
  {
   "cell_type": "code",
   "execution_count": 40,
   "id": "043416bb",
   "metadata": {},
   "outputs": [
    {
     "data": {
      "text/plain": [
       "GaussianNB(var_smoothing=1e-08)"
      ]
     },
     "execution_count": 40,
     "metadata": {},
     "output_type": "execute_result"
    }
   ],
   "source": [
    "gaussianNB = GaussianNB(var_smoothing = 0.00000001)\n",
    "gaussianNB.fit(X_train, y_train)"
   ]
  },
  {
   "cell_type": "markdown",
   "id": "39531937",
   "metadata": {},
   "source": [
    "# Metricas "
   ]
  },
  {
   "cell_type": "code",
   "execution_count": 20,
   "id": "ec936657",
   "metadata": {},
   "outputs": [
    {
     "name": "stdout",
     "output_type": "stream",
     "text": [
      "                                 precision    recall  f1-score   support\n",
      "\n",
      "No tiene alto valor adquisitivo       0.80      0.98      0.88      2473\n",
      "   Tiene alto valor adquisitivo       0.77      0.21      0.33       784\n",
      "\n",
      "                       accuracy                           0.79      3257\n",
      "                      macro avg       0.78      0.60      0.61      3257\n",
      "                   weighted avg       0.79      0.79      0.75      3257\n",
      "\n"
     ]
    }
   ],
   "source": [
    "y_pred = gaussianNB.predict(X_test)\n",
    "print(classification_report(y_test, y_pred, target_names=['No tiene alto valor adquisitivo','Tiene alto valor adquisitivo']))"
   ]
  },
  {
   "cell_type": "markdown",
   "id": "d5b85160",
   "metadata": {},
   "source": [
    "podemos observar que el recall para si tiene alto poder aquisitivo es muy bajo. "
   ]
  },
  {
   "cell_type": "markdown",
   "id": "702022cb",
   "metadata": {},
   "source": [
    "# Curva Auc Roc"
   ]
  },
  {
   "cell_type": "code",
   "execution_count": 21,
   "id": "082323d1",
   "metadata": {},
   "outputs": [
    {
     "data": {
      "image/png": "[encoded data removed]",
      "text/plain": [
       "<Figure size 432x288 with 1 Axes>"
      ]
     },
     "metadata": {
      "needs_background": "light"
     },
     "output_type": "display_data"
    }
   ],
   "source": [
    "plot_roc_curve(gaussianNB,X_test,y_test,response_method='predict_proba')\n",
    "plt.show()"
   ]
  },
  {
   "cell_type": "markdown",
   "id": "f54d0caf",
   "metadata": {},
   "source": [
    "# Matriz de confusion"
   ]
  },
  {
   "cell_type": "code",
   "execution_count": 22,
   "id": "f5bab95a",
   "metadata": {},
   "outputs": [
    {
     "data": {
      "image/png": "[encoded data removed]",
      "text/plain": [
       "<Figure size 1080x504 with 2 Axes>"
      ]
     },
     "metadata": {
      "needs_background": "light"
     },
     "output_type": "display_data"
    }
   ],
   "source": [
    "from sklearn.metrics import plot_confusion_matrix\n",
    "\n",
    "fig, ax = plt.subplots(figsize=(15, 7))\n",
    "plt.grid(False)\n",
    "plot_confusion_matrix(\n",
    "    gaussianNB, X_test, y_test, cmap=plt.cm.Blues, display_labels=['bajo poder adquisitivo', 'alto poder adquisitivo'], ax=ax\n",
    ")\n",
    "plt.show()"
   ]
  },
  {
   "cell_type": "markdown",
   "id": "995b23f6",
   "metadata": {},
   "source": [
    "# Prediccion sobre el data set de hold out"
   ]
  },
  {
   "cell_type": "code",
   "execution_count": 41,
   "id": "406951d7",
   "metadata": {},
   "outputs": [],
   "source": [
    "final_df2_copy = prepararSet(final_df2)"
   ]
  },
  {
   "cell_type": "code",
   "execution_count": 42,
   "id": "e675611b-a289-443f-9c53-c8616d97d501",
   "metadata": {},
   "outputs": [
    {
     "data": {
      "text/html": [
       "<div>\n",
       "<style scoped>\n",
       "    .dataframe tbody tr th:only-of-type {\n",
       "        vertical-align: middle;\n",
       "    }\n",
       "\n",
       "    .dataframe tbody tr th {\n",
       "        vertical-align: top;\n",
       "    }\n",
       "\n",
       "    .dataframe thead th {\n",
       "        text-align: right;\n",
       "    }\n",
       "</style>\n",
       "<table border=\"1\" class=\"dataframe\">\n",
       "  <thead>\n",
       "    <tr style=\"text-align: right;\">\n",
       "      <th></th>\n",
       "      <th>id</th>\n",
       "      <th>anios_estudiados</th>\n",
       "      <th>barrio</th>\n",
       "      <th>categoria_de_trabajo</th>\n",
       "      <th>edad</th>\n",
       "      <th>educacion_alcanzada</th>\n",
       "      <th>estado_marital</th>\n",
       "      <th>ganancia_perdida_declarada_bolsa_argentina</th>\n",
       "      <th>genero</th>\n",
       "      <th>horas_trabajo_registradas</th>\n",
       "      <th>religion</th>\n",
       "      <th>representatividad_poblacional</th>\n",
       "      <th>rol_familiar_registrado</th>\n",
       "      <th>trabajo</th>\n",
       "    </tr>\n",
       "  </thead>\n",
       "  <tbody>\n",
       "    <tr>\n",
       "      <th>0</th>\n",
       "      <td>1</td>\n",
       "      <td>11</td>\n",
       "      <td>Palermo</td>\n",
       "      <td>relacion_de_dependencia</td>\n",
       "      <td>25</td>\n",
       "      <td>2_anio</td>\n",
       "      <td>sin_matrimonio</td>\n",
       "      <td>0</td>\n",
       "      <td>hombre</td>\n",
       "      <td>40</td>\n",
       "      <td>judaismo</td>\n",
       "      <td>226802</td>\n",
       "      <td>con_hijos</td>\n",
       "      <td>inspector</td>\n",
       "    </tr>\n",
       "    <tr>\n",
       "      <th>1</th>\n",
       "      <td>2</td>\n",
       "      <td>13</td>\n",
       "      <td>Palermo</td>\n",
       "      <td>relacion_de_dependencia</td>\n",
       "      <td>38</td>\n",
       "      <td>4_anio</td>\n",
       "      <td>matrimonio_civil</td>\n",
       "      <td>0</td>\n",
       "      <td>hombre</td>\n",
       "      <td>50</td>\n",
       "      <td>cristianismo</td>\n",
       "      <td>89814</td>\n",
       "      <td>casado</td>\n",
       "      <td>sector_primario</td>\n",
       "    </tr>\n",
       "    <tr>\n",
       "      <th>2</th>\n",
       "      <td>3</td>\n",
       "      <td>16</td>\n",
       "      <td>Palermo</td>\n",
       "      <td>empleado_municipal</td>\n",
       "      <td>28</td>\n",
       "      <td>universidad_2_anio</td>\n",
       "      <td>matrimonio_civil</td>\n",
       "      <td>0</td>\n",
       "      <td>hombre</td>\n",
       "      <td>40</td>\n",
       "      <td>cristianismo</td>\n",
       "      <td>336951</td>\n",
       "      <td>casado</td>\n",
       "      <td>seguridad</td>\n",
       "    </tr>\n",
       "    <tr>\n",
       "      <th>3</th>\n",
       "      <td>4</td>\n",
       "      <td>14</td>\n",
       "      <td>Palermo</td>\n",
       "      <td>relacion_de_dependencia</td>\n",
       "      <td>44</td>\n",
       "      <td>5_anio</td>\n",
       "      <td>matrimonio_civil</td>\n",
       "      <td>7688</td>\n",
       "      <td>hombre</td>\n",
       "      <td>40</td>\n",
       "      <td>judaismo</td>\n",
       "      <td>160323</td>\n",
       "      <td>casado</td>\n",
       "      <td>inspector</td>\n",
       "    </tr>\n",
       "    <tr>\n",
       "      <th>4</th>\n",
       "      <td>5</td>\n",
       "      <td>14</td>\n",
       "      <td>Palermo</td>\n",
       "      <td>No respondio</td>\n",
       "      <td>18</td>\n",
       "      <td>5_anio</td>\n",
       "      <td>sin_matrimonio</td>\n",
       "      <td>0</td>\n",
       "      <td>mujer</td>\n",
       "      <td>30</td>\n",
       "      <td>cristianismo</td>\n",
       "      <td>103497</td>\n",
       "      <td>con_hijos</td>\n",
       "      <td>No respondio</td>\n",
       "    </tr>\n",
       "    <tr>\n",
       "      <th>...</th>\n",
       "      <td>...</td>\n",
       "      <td>...</td>\n",
       "      <td>...</td>\n",
       "      <td>...</td>\n",
       "      <td>...</td>\n",
       "      <td>...</td>\n",
       "      <td>...</td>\n",
       "      <td>...</td>\n",
       "      <td>...</td>\n",
       "      <td>...</td>\n",
       "      <td>...</td>\n",
       "      <td>...</td>\n",
       "      <td>...</td>\n",
       "      <td>...</td>\n",
       "    </tr>\n",
       "    <tr>\n",
       "      <th>16276</th>\n",
       "      <td>16277</td>\n",
       "      <td>17</td>\n",
       "      <td>Palermo</td>\n",
       "      <td>relacion_de_dependencia</td>\n",
       "      <td>39</td>\n",
       "      <td>universidad_3_anio</td>\n",
       "      <td>divorciado</td>\n",
       "      <td>0</td>\n",
       "      <td>mujer</td>\n",
       "      <td>36</td>\n",
       "      <td>cristianismo</td>\n",
       "      <td>215419</td>\n",
       "      <td>sin_familia</td>\n",
       "      <td>profesional_especializado</td>\n",
       "    </tr>\n",
       "    <tr>\n",
       "      <th>16277</th>\n",
       "      <td>16278</td>\n",
       "      <td>13</td>\n",
       "      <td>Palermo</td>\n",
       "      <td>No respondio</td>\n",
       "      <td>64</td>\n",
       "      <td>4_anio</td>\n",
       "      <td>viudo_a</td>\n",
       "      <td>0</td>\n",
       "      <td>hombre</td>\n",
       "      <td>40</td>\n",
       "      <td>judaismo</td>\n",
       "      <td>321403</td>\n",
       "      <td>otro</td>\n",
       "      <td>No respondio</td>\n",
       "    </tr>\n",
       "    <tr>\n",
       "      <th>16278</th>\n",
       "      <td>16279</td>\n",
       "      <td>17</td>\n",
       "      <td>Palermo</td>\n",
       "      <td>relacion_de_dependencia</td>\n",
       "      <td>38</td>\n",
       "      <td>universidad_3_anio</td>\n",
       "      <td>matrimonio_civil</td>\n",
       "      <td>0</td>\n",
       "      <td>hombre</td>\n",
       "      <td>50</td>\n",
       "      <td>cristianismo</td>\n",
       "      <td>374983</td>\n",
       "      <td>casado</td>\n",
       "      <td>profesional_especializado</td>\n",
       "    </tr>\n",
       "    <tr>\n",
       "      <th>16279</th>\n",
       "      <td>16280</td>\n",
       "      <td>17</td>\n",
       "      <td>Palermo</td>\n",
       "      <td>relacion_de_dependencia</td>\n",
       "      <td>44</td>\n",
       "      <td>universidad_3_anio</td>\n",
       "      <td>divorciado</td>\n",
       "      <td>5455</td>\n",
       "      <td>hombre</td>\n",
       "      <td>40</td>\n",
       "      <td>budismo</td>\n",
       "      <td>83891</td>\n",
       "      <td>con_hijos</td>\n",
       "      <td>entretenimiento</td>\n",
       "    </tr>\n",
       "    <tr>\n",
       "      <th>16280</th>\n",
       "      <td>16281</td>\n",
       "      <td>17</td>\n",
       "      <td>Palermo</td>\n",
       "      <td>responsable_inscripto</td>\n",
       "      <td>35</td>\n",
       "      <td>universidad_3_anio</td>\n",
       "      <td>matrimonio_civil</td>\n",
       "      <td>0</td>\n",
       "      <td>hombre</td>\n",
       "      <td>60</td>\n",
       "      <td>cristianismo</td>\n",
       "      <td>182148</td>\n",
       "      <td>casado</td>\n",
       "      <td>directivo_gerente</td>\n",
       "    </tr>\n",
       "  </tbody>\n",
       "</table>\n",
       "<p>16281 rows × 14 columns</p>\n",
       "</div>"
      ],
      "text/plain": [
       "          id  anios_estudiados   barrio     categoria_de_trabajo  edad  \\\n",
       "0          1                11  Palermo  relacion_de_dependencia    25   \n",
       "1          2                13  Palermo  relacion_de_dependencia    38   \n",
       "2          3                16  Palermo       empleado_municipal    28   \n",
       "3          4                14  Palermo  relacion_de_dependencia    44   \n",
       "4          5                14  Palermo             No respondio    18   \n",
       "...      ...               ...      ...                      ...   ...   \n",
       "16276  16277                17  Palermo  relacion_de_dependencia    39   \n",
       "16277  16278                13  Palermo             No respondio    64   \n",
       "16278  16279                17  Palermo  relacion_de_dependencia    38   \n",
       "16279  16280                17  Palermo  relacion_de_dependencia    44   \n",
       "16280  16281                17  Palermo    responsable_inscripto    35   \n",
       "\n",
       "      educacion_alcanzada    estado_marital  \\\n",
       "0                  2_anio    sin_matrimonio   \n",
       "1                  4_anio  matrimonio_civil   \n",
       "2      universidad_2_anio  matrimonio_civil   \n",
       "3                  5_anio  matrimonio_civil   \n",
       "4                  5_anio    sin_matrimonio   \n",
       "...                   ...               ...   \n",
       "16276  universidad_3_anio        divorciado   \n",
       "16277              4_anio           viudo_a   \n",
       "16278  universidad_3_anio  matrimonio_civil   \n",
       "16279  universidad_3_anio        divorciado   \n",
       "16280  universidad_3_anio  matrimonio_civil   \n",
       "\n",
       "       ganancia_perdida_declarada_bolsa_argentina  genero  \\\n",
       "0                                               0  hombre   \n",
       "1                                               0  hombre   \n",
       "2                                               0  hombre   \n",
       "3                                            7688  hombre   \n",
       "4                                               0   mujer   \n",
       "...                                           ...     ...   \n",
       "16276                                           0   mujer   \n",
       "16277                                           0  hombre   \n",
       "16278                                           0  hombre   \n",
       "16279                                        5455  hombre   \n",
       "16280                                           0  hombre   \n",
       "\n",
       "       horas_trabajo_registradas      religion  representatividad_poblacional  \\\n",
       "0                             40      judaismo                         226802   \n",
       "1                             50  cristianismo                          89814   \n",
       "2                             40  cristianismo                         336951   \n",
       "3                             40      judaismo                         160323   \n",
       "4                             30  cristianismo                         103497   \n",
       "...                          ...           ...                            ...   \n",
       "16276                         36  cristianismo                         215419   \n",
       "16277                         40      judaismo                         321403   \n",
       "16278                         50  cristianismo                         374983   \n",
       "16279                         40       budismo                          83891   \n",
       "16280                         60  cristianismo                         182148   \n",
       "\n",
       "      rol_familiar_registrado                    trabajo  \n",
       "0                   con_hijos                  inspector  \n",
       "1                      casado            sector_primario  \n",
       "2                      casado                  seguridad  \n",
       "3                      casado                  inspector  \n",
       "4                   con_hijos               No respondio  \n",
       "...                       ...                        ...  \n",
       "16276             sin_familia  profesional_especializado  \n",
       "16277                    otro               No respondio  \n",
       "16278                  casado  profesional_especializado  \n",
       "16279               con_hijos            entretenimiento  \n",
       "16280                  casado          directivo_gerente  \n",
       "\n",
       "[16281 rows x 14 columns]"
      ]
     },
     "execution_count": 42,
     "metadata": {},
     "output_type": "execute_result"
    }
   ],
   "source": [
    "final_df2_copy"
   ]
  },
  {
   "cell_type": "code",
   "execution_count": 43,
   "id": "4f629753",
   "metadata": {},
   "outputs": [],
   "source": [
    "final_df_gaussian = prepararSetDeHoldOutGaussianNB(final_df2_copy, meanEncoding)"
   ]
  },
  {
   "cell_type": "code",
   "execution_count": 44,
   "id": "5e786952-fac3-41ab-b5a0-531b8fef3585",
   "metadata": {},
   "outputs": [
    {
     "data": {
      "text/html": [
       "<div>\n",
       "<style scoped>\n",
       "    .dataframe tbody tr th:only-of-type {\n",
       "        vertical-align: middle;\n",
       "    }\n",
       "\n",
       "    .dataframe tbody tr th {\n",
       "        vertical-align: top;\n",
       "    }\n",
       "\n",
       "    .dataframe thead th {\n",
       "        text-align: right;\n",
       "    }\n",
       "</style>\n",
       "<table border=\"1\" class=\"dataframe\">\n",
       "  <thead>\n",
       "    <tr style=\"text-align: right;\">\n",
       "      <th></th>\n",
       "      <th>anios_estudiados</th>\n",
       "      <th>edad</th>\n",
       "      <th>estado_marital</th>\n",
       "      <th>ganancia_perdida_declarada_bolsa_argentina</th>\n",
       "      <th>rol_familiar_registrado</th>\n",
       "      <th>trabajo</th>\n",
       "    </tr>\n",
       "  </thead>\n",
       "  <tbody>\n",
       "    <tr>\n",
       "      <th>0</th>\n",
       "      <td>11</td>\n",
       "      <td>25</td>\n",
       "      <td>NaN</td>\n",
       "      <td>0</td>\n",
       "      <td>0.013220</td>\n",
       "      <td>NaN</td>\n",
       "    </tr>\n",
       "    <tr>\n",
       "      <th>1</th>\n",
       "      <td>13</td>\n",
       "      <td>38</td>\n",
       "      <td>NaN</td>\n",
       "      <td>0</td>\n",
       "      <td>0.448571</td>\n",
       "      <td>NaN</td>\n",
       "    </tr>\n",
       "    <tr>\n",
       "      <th>2</th>\n",
       "      <td>16</td>\n",
       "      <td>28</td>\n",
       "      <td>NaN</td>\n",
       "      <td>0</td>\n",
       "      <td>0.448571</td>\n",
       "      <td>NaN</td>\n",
       "    </tr>\n",
       "    <tr>\n",
       "      <th>3</th>\n",
       "      <td>14</td>\n",
       "      <td>44</td>\n",
       "      <td>NaN</td>\n",
       "      <td>7688</td>\n",
       "      <td>0.448571</td>\n",
       "      <td>NaN</td>\n",
       "    </tr>\n",
       "    <tr>\n",
       "      <th>4</th>\n",
       "      <td>14</td>\n",
       "      <td>18</td>\n",
       "      <td>NaN</td>\n",
       "      <td>0</td>\n",
       "      <td>0.013220</td>\n",
       "      <td>NaN</td>\n",
       "    </tr>\n",
       "    <tr>\n",
       "      <th>...</th>\n",
       "      <td>...</td>\n",
       "      <td>...</td>\n",
       "      <td>...</td>\n",
       "      <td>...</td>\n",
       "      <td>...</td>\n",
       "      <td>...</td>\n",
       "    </tr>\n",
       "    <tr>\n",
       "      <th>16276</th>\n",
       "      <td>17</td>\n",
       "      <td>39</td>\n",
       "      <td>NaN</td>\n",
       "      <td>0</td>\n",
       "      <td>0.103070</td>\n",
       "      <td>NaN</td>\n",
       "    </tr>\n",
       "    <tr>\n",
       "      <th>16277</th>\n",
       "      <td>13</td>\n",
       "      <td>64</td>\n",
       "      <td>NaN</td>\n",
       "      <td>0</td>\n",
       "      <td>0.037717</td>\n",
       "      <td>NaN</td>\n",
       "    </tr>\n",
       "    <tr>\n",
       "      <th>16278</th>\n",
       "      <td>17</td>\n",
       "      <td>38</td>\n",
       "      <td>NaN</td>\n",
       "      <td>0</td>\n",
       "      <td>0.448571</td>\n",
       "      <td>NaN</td>\n",
       "    </tr>\n",
       "    <tr>\n",
       "      <th>16279</th>\n",
       "      <td>17</td>\n",
       "      <td>44</td>\n",
       "      <td>NaN</td>\n",
       "      <td>5455</td>\n",
       "      <td>0.013220</td>\n",
       "      <td>NaN</td>\n",
       "    </tr>\n",
       "    <tr>\n",
       "      <th>16280</th>\n",
       "      <td>17</td>\n",
       "      <td>35</td>\n",
       "      <td>NaN</td>\n",
       "      <td>0</td>\n",
       "      <td>0.448571</td>\n",
       "      <td>NaN</td>\n",
       "    </tr>\n",
       "  </tbody>\n",
       "</table>\n",
       "<p>16281 rows × 6 columns</p>\n",
       "</div>"
      ],
      "text/plain": [
       "       anios_estudiados  edad  estado_marital  \\\n",
       "0                    11    25             NaN   \n",
       "1                    13    38             NaN   \n",
       "2                    16    28             NaN   \n",
       "3                    14    44             NaN   \n",
       "4                    14    18             NaN   \n",
       "...                 ...   ...             ...   \n",
       "16276                17    39             NaN   \n",
       "16277                13    64             NaN   \n",
       "16278                17    38             NaN   \n",
       "16279                17    44             NaN   \n",
       "16280                17    35             NaN   \n",
       "\n",
       "       ganancia_perdida_declarada_bolsa_argentina  rol_familiar_registrado  \\\n",
       "0                                               0                 0.013220   \n",
       "1                                               0                 0.448571   \n",
       "2                                               0                 0.448571   \n",
       "3                                            7688                 0.448571   \n",
       "4                                               0                 0.013220   \n",
       "...                                           ...                      ...   \n",
       "16276                                           0                 0.103070   \n",
       "16277                                           0                 0.037717   \n",
       "16278                                           0                 0.448571   \n",
       "16279                                        5455                 0.013220   \n",
       "16280                                           0                 0.448571   \n",
       "\n",
       "       trabajo  \n",
       "0          NaN  \n",
       "1          NaN  \n",
       "2          NaN  \n",
       "3          NaN  \n",
       "4          NaN  \n",
       "...        ...  \n",
       "16276      NaN  \n",
       "16277      NaN  \n",
       "16278      NaN  \n",
       "16279      NaN  \n",
       "16280      NaN  \n",
       "\n",
       "[16281 rows x 6 columns]"
      ]
     },
     "execution_count": 44,
     "metadata": {},
     "output_type": "execute_result"
    }
   ],
   "source": [
    "final_df_gaussian"
   ]
  },
  {
   "cell_type": "code",
   "execution_count": 45,
   "id": "62671f01",
   "metadata": {},
   "outputs": [
    {
     "ename": "ValueError",
     "evalue": "Input contains NaN, infinity or a value too large for dtype('float64').",
     "output_type": "error",
     "traceback": [
      "\u001b[0;31m---------------------------------------------------------------------------\u001b[0m",
      "\u001b[0;31mValueError\u001b[0m                                Traceback (most recent call last)",
      "\u001b[0;32m<ipython-input-45-8a5d69fc4678>\u001b[0m in \u001b[0;36m<module>\u001b[0;34m\u001b[0m\n\u001b[0;32m----> 1\u001b[0;31m \u001b[0mho_prediction2\u001b[0m \u001b[0;34m=\u001b[0m \u001b[0mgaussianNB\u001b[0m\u001b[0;34m.\u001b[0m\u001b[0mpredict\u001b[0m\u001b[0;34m(\u001b[0m\u001b[0mfinal_df_gaussian\u001b[0m\u001b[0;34m)\u001b[0m\u001b[0;34m\u001b[0m\u001b[0;34m\u001b[0m\u001b[0m\n\u001b[0m\u001b[1;32m      2\u001b[0m \u001b[0maux\u001b[0m\u001b[0;34m[\u001b[0m\u001b[0;34m'tiene_alto_valor_adquisitivo'\u001b[0m\u001b[0;34m]\u001b[0m \u001b[0;34m=\u001b[0m \u001b[0mho_prediction2\u001b[0m\u001b[0;34m\u001b[0m\u001b[0;34m\u001b[0m\u001b[0m\n\u001b[1;32m      3\u001b[0m \u001b[0;34m\u001b[0m\u001b[0m\n\u001b[1;32m      4\u001b[0m \u001b[0maux\u001b[0m\u001b[0;34m.\u001b[0m\u001b[0mto_csv\u001b[0m\u001b[0;34m(\u001b[0m\u001b[0;34m'predicciones/gaussianNB.csv'\u001b[0m\u001b[0;34m)\u001b[0m\u001b[0;34m\u001b[0m\u001b[0;34m\u001b[0m\u001b[0m\n",
      "\u001b[0;32m~/.local/lib/python3.8/site-packages/sklearn/naive_bayes.py\u001b[0m in \u001b[0;36mpredict\u001b[0;34m(self, X)\u001b[0m\n\u001b[1;32m     72\u001b[0m         \"\"\"\n\u001b[1;32m     73\u001b[0m         \u001b[0mcheck_is_fitted\u001b[0m\u001b[0;34m(\u001b[0m\u001b[0mself\u001b[0m\u001b[0;34m)\u001b[0m\u001b[0;34m\u001b[0m\u001b[0;34m\u001b[0m\u001b[0m\n\u001b[0;32m---> 74\u001b[0;31m         \u001b[0mX\u001b[0m \u001b[0;34m=\u001b[0m \u001b[0mself\u001b[0m\u001b[0;34m.\u001b[0m\u001b[0m_check_X\u001b[0m\u001b[0;34m(\u001b[0m\u001b[0mX\u001b[0m\u001b[0;34m)\u001b[0m\u001b[0;34m\u001b[0m\u001b[0;34m\u001b[0m\u001b[0m\n\u001b[0m\u001b[1;32m     75\u001b[0m         \u001b[0mjll\u001b[0m \u001b[0;34m=\u001b[0m \u001b[0mself\u001b[0m\u001b[0;34m.\u001b[0m\u001b[0m_joint_log_likelihood\u001b[0m\u001b[0;34m(\u001b[0m\u001b[0mX\u001b[0m\u001b[0;34m)\u001b[0m\u001b[0;34m\u001b[0m\u001b[0;34m\u001b[0m\u001b[0m\n\u001b[1;32m     76\u001b[0m         \u001b[0;32mreturn\u001b[0m \u001b[0mself\u001b[0m\u001b[0;34m.\u001b[0m\u001b[0mclasses_\u001b[0m\u001b[0;34m[\u001b[0m\u001b[0mnp\u001b[0m\u001b[0;34m.\u001b[0m\u001b[0margmax\u001b[0m\u001b[0;34m(\u001b[0m\u001b[0mjll\u001b[0m\u001b[0;34m,\u001b[0m \u001b[0maxis\u001b[0m\u001b[0;34m=\u001b[0m\u001b[0;36m1\u001b[0m\u001b[0;34m)\u001b[0m\u001b[0;34m]\u001b[0m\u001b[0;34m\u001b[0m\u001b[0;34m\u001b[0m\u001b[0m\n",
      "\u001b[0;32m~/.local/lib/python3.8/site-packages/sklearn/naive_bayes.py\u001b[0m in \u001b[0;36m_check_X\u001b[0;34m(self, X)\u001b[0m\n\u001b[1;32m    211\u001b[0m \u001b[0;34m\u001b[0m\u001b[0m\n\u001b[1;32m    212\u001b[0m     \u001b[0;32mdef\u001b[0m \u001b[0m_check_X\u001b[0m\u001b[0;34m(\u001b[0m\u001b[0mself\u001b[0m\u001b[0;34m,\u001b[0m \u001b[0mX\u001b[0m\u001b[0;34m)\u001b[0m\u001b[0;34m:\u001b[0m\u001b[0;34m\u001b[0m\u001b[0;34m\u001b[0m\u001b[0m\n\u001b[0;32m--> 213\u001b[0;31m         \u001b[0;32mreturn\u001b[0m \u001b[0mcheck_array\u001b[0m\u001b[0;34m(\u001b[0m\u001b[0mX\u001b[0m\u001b[0;34m)\u001b[0m\u001b[0;34m\u001b[0m\u001b[0;34m\u001b[0m\u001b[0m\n\u001b[0m\u001b[1;32m    214\u001b[0m \u001b[0;34m\u001b[0m\u001b[0m\n\u001b[1;32m    215\u001b[0m     \u001b[0;34m@\u001b[0m\u001b[0mstaticmethod\u001b[0m\u001b[0;34m\u001b[0m\u001b[0;34m\u001b[0m\u001b[0m\n",
      "\u001b[0;32m~/.local/lib/python3.8/site-packages/sklearn/utils/validation.py\u001b[0m in \u001b[0;36minner_f\u001b[0;34m(*args, **kwargs)\u001b[0m\n\u001b[1;32m     61\u001b[0m             \u001b[0mextra_args\u001b[0m \u001b[0;34m=\u001b[0m \u001b[0mlen\u001b[0m\u001b[0;34m(\u001b[0m\u001b[0margs\u001b[0m\u001b[0;34m)\u001b[0m \u001b[0;34m-\u001b[0m \u001b[0mlen\u001b[0m\u001b[0;34m(\u001b[0m\u001b[0mall_args\u001b[0m\u001b[0;34m)\u001b[0m\u001b[0;34m\u001b[0m\u001b[0;34m\u001b[0m\u001b[0m\n\u001b[1;32m     62\u001b[0m             \u001b[0;32mif\u001b[0m \u001b[0mextra_args\u001b[0m \u001b[0;34m<=\u001b[0m \u001b[0;36m0\u001b[0m\u001b[0;34m:\u001b[0m\u001b[0;34m\u001b[0m\u001b[0;34m\u001b[0m\u001b[0m\n\u001b[0;32m---> 63\u001b[0;31m                 \u001b[0;32mreturn\u001b[0m \u001b[0mf\u001b[0m\u001b[0;34m(\u001b[0m\u001b[0;34m*\u001b[0m\u001b[0margs\u001b[0m\u001b[0;34m,\u001b[0m \u001b[0;34m**\u001b[0m\u001b[0mkwargs\u001b[0m\u001b[0;34m)\u001b[0m\u001b[0;34m\u001b[0m\u001b[0;34m\u001b[0m\u001b[0m\n\u001b[0m\u001b[1;32m     64\u001b[0m \u001b[0;34m\u001b[0m\u001b[0m\n\u001b[1;32m     65\u001b[0m             \u001b[0;31m# extra_args > 0\u001b[0m\u001b[0;34m\u001b[0m\u001b[0;34m\u001b[0m\u001b[0;34m\u001b[0m\u001b[0m\n",
      "\u001b[0;32m~/.local/lib/python3.8/site-packages/sklearn/utils/validation.py\u001b[0m in \u001b[0;36mcheck_array\u001b[0;34m(array, accept_sparse, accept_large_sparse, dtype, order, copy, force_all_finite, ensure_2d, allow_nd, ensure_min_samples, ensure_min_features, estimator)\u001b[0m\n\u001b[1;32m    718\u001b[0m \u001b[0;34m\u001b[0m\u001b[0m\n\u001b[1;32m    719\u001b[0m         \u001b[0;32mif\u001b[0m \u001b[0mforce_all_finite\u001b[0m\u001b[0;34m:\u001b[0m\u001b[0;34m\u001b[0m\u001b[0;34m\u001b[0m\u001b[0m\n\u001b[0;32m--> 720\u001b[0;31m             _assert_all_finite(array,\n\u001b[0m\u001b[1;32m    721\u001b[0m                                allow_nan=force_all_finite == 'allow-nan')\n\u001b[1;32m    722\u001b[0m \u001b[0;34m\u001b[0m\u001b[0m\n",
      "\u001b[0;32m~/.local/lib/python3.8/site-packages/sklearn/utils/validation.py\u001b[0m in \u001b[0;36m_assert_all_finite\u001b[0;34m(X, allow_nan, msg_dtype)\u001b[0m\n\u001b[1;32m    101\u001b[0m                 not allow_nan and not np.isfinite(X).all()):\n\u001b[1;32m    102\u001b[0m             \u001b[0mtype_err\u001b[0m \u001b[0;34m=\u001b[0m \u001b[0;34m'infinity'\u001b[0m \u001b[0;32mif\u001b[0m \u001b[0mallow_nan\u001b[0m \u001b[0;32melse\u001b[0m \u001b[0;34m'NaN, infinity'\u001b[0m\u001b[0;34m\u001b[0m\u001b[0;34m\u001b[0m\u001b[0m\n\u001b[0;32m--> 103\u001b[0;31m             raise ValueError(\n\u001b[0m\u001b[1;32m    104\u001b[0m                     \u001b[0mmsg_err\u001b[0m\u001b[0;34m.\u001b[0m\u001b[0mformat\u001b[0m\u001b[0;34m\u001b[0m\u001b[0;34m\u001b[0m\u001b[0m\n\u001b[1;32m    105\u001b[0m                     (type_err,\n",
      "\u001b[0;31mValueError\u001b[0m: Input contains NaN, infinity or a value too large for dtype('float64')."
     ]
    }
   ],
   "source": [
    "ho_prediction2 = gaussianNB.predict(final_df_gaussian)\n",
    "aux['tiene_alto_valor_adquisitivo'] = ho_prediction2\n",
    "\n",
    "aux.to_csv('predicciones/gaussianNB.csv')"
   ]
  },
  {
   "cell_type": "code",
   "execution_count": null,
   "id": "27b36f90",
   "metadata": {},
   "outputs": [],
   "source": []
  },
  {
   "cell_type": "code",
   "execution_count": null,
   "id": "a20c63c3-e50f-4b57-b891-6cf39ce960b9",
   "metadata": {},
   "outputs": [],
   "source": []
  },
  {
   "cell_type": "code",
   "execution_count": null,
   "id": "a98445cd-660b-4863-a353-7784a25cd5f0",
   "metadata": {},
   "outputs": [],
   "source": []
  },
  {
   "cell_type": "code",
   "execution_count": null,
   "id": "53e5d9a7-dad4-4c6c-ac23-df156e6d8f3f",
   "metadata": {},
   "outputs": [],
   "source": []
  }
 ],
 "metadata": {
  "kernelspec": {
   "display_name": "Python 3",
   "language": "python",
   "name": "python3"
  },
  "language_info": {
   "codemirror_mode": {
    "name": "ipython",
    "version": 3
   },
   "file_extension": ".py",
   "mimetype": "text/x-python",
   "name": "python",
   "nbconvert_exporter": "python",
   "pygments_lexer": "ipython3",
   "version": "3.8.5"
  }
 },
 "nbformat": 4,
 "nbformat_minor": 5
}
