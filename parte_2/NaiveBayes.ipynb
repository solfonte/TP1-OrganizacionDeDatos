{
 "cells": [
  {
   "cell_type": "markdown",
   "id": "367a2e69-635a-4ed2-8de7-df226b036fb8",
   "metadata": {},
   "source": [
    "## Naive Bayes "
   ]
  },
  {
   "cell_type": "code",
   "execution_count": 25,
   "id": "d4aa250b-f782-4891-8415-3716d0335dcc",
   "metadata": {},
   "outputs": [],
   "source": [
    "import pandas as pd\n",
    "import numpy as np\n",
    "import matplotlib.pyplot as plt\n",
    "import seaborn as sns\n",
    "from sklearn.metrics import  auc, plot_roc_curve"
   ]
  },
  {
   "cell_type": "code",
   "execution_count": 26,
   "id": "bc7c670c-5c2f-455e-bab3-8f726c50a5c4",
   "metadata": {},
   "outputs": [],
   "source": [
    "from sklearn.model_selection import train_test_split\n",
    "from sklearn.metrics import classification_report\n",
    "from sklearn.metrics import confusion_matrix\n",
    "from sklearn.metrics import roc_auc_score\n",
    "from sklearn.metrics import roc_curve\n",
    "from sklearn.model_selection import KFold, StratifiedKFold\n",
    "from sklearn.model_selection import GridSearchCV"
   ]
  },
  {
   "cell_type": "code",
   "execution_count": 27,
   "id": "b529e605-da98-4d03-9a16-e35edc0339bc",
   "metadata": {},
   "outputs": [],
   "source": [
    "from sklearn.naive_bayes import MultinomialNB\n",
    "from sklearn.naive_bayes import GaussianNB\n",
    "from sklearn.naive_bayes import CategoricalNB"
   ]
  },
  {
   "cell_type": "code",
   "execution_count": 28,
   "id": "4566e8b6-4a0d-468f-b8d4-bdbff8ca7182",
   "metadata": {},
   "outputs": [],
   "source": [
    "from preprocessing import cargarDatasets\n",
    "from preprocessing import prepararSetDeEntrenamiento\n",
    "from preprocessing import ingenieriaDeFeaturesCategoricalNB, ingenieriaDeFeaturesGaussianNB"
   ]
  },
  {
   "cell_type": "code",
   "execution_count": null,
   "id": "e8352ffc-c200-4072-910b-0e6d51488eec",
   "metadata": {},
   "outputs": [],
   "source": [
    "from preprocessing import prepararHoldOut\n",
    "from preprocessing import prepararSetDeHoldOutCategoricalNB\n",
    "from preprocessing import prepararSetDeHoldOutGaussianNB"
   ]
  },
  {
   "cell_type": "markdown",
   "id": "4df1ef82-ca72-4aa2-a685-d6e1482cc072",
   "metadata": {},
   "source": [
    "# Carga y preprocesamiento de datos"
   ]
  },
  {
   "cell_type": "code",
   "execution_count": 29,
   "id": "0cbb5de8-266c-4d68-acaa-309febdb4d08",
   "metadata": {},
   "outputs": [],
   "source": [
    "train_df,final_df = cargarDatasets()\n",
    "train_df = prepararSetDeEntrenamiento(train_df)"
   ]
  },
  {
   "cell_type": "markdown",
   "id": "fe9ca3f5-43fa-4198-bb80-76d802fd7973",
   "metadata": {},
   "source": [
    "Luego de tener cargado el set de datos, vamos a aplicarle determinados preprocesamientos. Par eso vamos a distingir este algoritmos en 3:\n",
    "   *  categorical nb\n",
    "   *  Multinomial nb\n",
    "   * gaussian nb"
   ]
  },
  {
   "cell_type": "markdown",
   "id": "72e6601a-d17d-4567-88c3-ceae4bfc3f44",
   "metadata": {},
   "source": [
    "# Categorical Naive Bayes "
   ]
  },
  {
   "cell_type": "markdown",
   "id": "fe3a50a3-95e2-4dbc-bb0d-9f44a10fcc8b",
   "metadata": {},
   "source": [
    "Este metodo es utilizado para variables categoricas, nos fijamos cuales son categoricas y luego nos desascemos de las que son numericcas."
   ]
  },
  {
   "cell_type": "code",
   "execution_count": 30,
   "id": "11de2c5a-1ced-4b04-a322-74e36557e5c3",
   "metadata": {},
   "outputs": [
    {
     "data": {
      "text/html": [
       "<div>\n",
       "<style scoped>\n",
       "    .dataframe tbody tr th:only-of-type {\n",
       "        vertical-align: middle;\n",
       "    }\n",
       "\n",
       "    .dataframe tbody tr th {\n",
       "        vertical-align: top;\n",
       "    }\n",
       "\n",
       "    .dataframe thead th {\n",
       "        text-align: right;\n",
       "    }\n",
       "</style>\n",
       "<table border=\"1\" class=\"dataframe\">\n",
       "  <thead>\n",
       "    <tr style=\"text-align: right;\">\n",
       "      <th></th>\n",
       "      <th>id</th>\n",
       "      <th>anios_estudiados</th>\n",
       "      <th>barrio</th>\n",
       "      <th>categoria_de_trabajo</th>\n",
       "      <th>edad</th>\n",
       "      <th>educacion_alcanzada</th>\n",
       "      <th>estado_marital</th>\n",
       "      <th>ganancia_perdida_declarada_bolsa_argentina</th>\n",
       "      <th>genero</th>\n",
       "      <th>horas_trabajo_registradas</th>\n",
       "      <th>religion</th>\n",
       "      <th>representatividad_poblacional</th>\n",
       "      <th>rol_familiar_registrado</th>\n",
       "      <th>trabajo</th>\n",
       "    </tr>\n",
       "  </thead>\n",
       "  <tbody>\n",
       "    <tr>\n",
       "      <th>0</th>\n",
       "      <td>1</td>\n",
       "      <td>11</td>\n",
       "      <td>Palermo</td>\n",
       "      <td>relacion_de_dependencia</td>\n",
       "      <td>25</td>\n",
       "      <td>2_anio</td>\n",
       "      <td>sin_matrimonio</td>\n",
       "      <td>0</td>\n",
       "      <td>hombre</td>\n",
       "      <td>40</td>\n",
       "      <td>judaismo</td>\n",
       "      <td>226802</td>\n",
       "      <td>con_hijos</td>\n",
       "      <td>inspector</td>\n",
       "    </tr>\n",
       "    <tr>\n",
       "      <th>1</th>\n",
       "      <td>2</td>\n",
       "      <td>13</td>\n",
       "      <td>Palermo</td>\n",
       "      <td>relacion_de_dependencia</td>\n",
       "      <td>38</td>\n",
       "      <td>4_anio</td>\n",
       "      <td>matrimonio_civil</td>\n",
       "      <td>0</td>\n",
       "      <td>hombre</td>\n",
       "      <td>50</td>\n",
       "      <td>cristianismo</td>\n",
       "      <td>89814</td>\n",
       "      <td>casado</td>\n",
       "      <td>sector_primario</td>\n",
       "    </tr>\n",
       "    <tr>\n",
       "      <th>2</th>\n",
       "      <td>3</td>\n",
       "      <td>16</td>\n",
       "      <td>Palermo</td>\n",
       "      <td>empleado_municipal</td>\n",
       "      <td>28</td>\n",
       "      <td>universidad_2_anio</td>\n",
       "      <td>matrimonio_civil</td>\n",
       "      <td>0</td>\n",
       "      <td>hombre</td>\n",
       "      <td>40</td>\n",
       "      <td>cristianismo</td>\n",
       "      <td>336951</td>\n",
       "      <td>casado</td>\n",
       "      <td>seguridad</td>\n",
       "    </tr>\n",
       "    <tr>\n",
       "      <th>3</th>\n",
       "      <td>4</td>\n",
       "      <td>14</td>\n",
       "      <td>Palermo</td>\n",
       "      <td>relacion_de_dependencia</td>\n",
       "      <td>44</td>\n",
       "      <td>5_anio</td>\n",
       "      <td>matrimonio_civil</td>\n",
       "      <td>7688</td>\n",
       "      <td>hombre</td>\n",
       "      <td>40</td>\n",
       "      <td>judaismo</td>\n",
       "      <td>160323</td>\n",
       "      <td>casado</td>\n",
       "      <td>inspector</td>\n",
       "    </tr>\n",
       "    <tr>\n",
       "      <th>4</th>\n",
       "      <td>5</td>\n",
       "      <td>14</td>\n",
       "      <td>Palermo</td>\n",
       "      <td>NaN</td>\n",
       "      <td>18</td>\n",
       "      <td>5_anio</td>\n",
       "      <td>sin_matrimonio</td>\n",
       "      <td>0</td>\n",
       "      <td>mujer</td>\n",
       "      <td>30</td>\n",
       "      <td>cristianismo</td>\n",
       "      <td>103497</td>\n",
       "      <td>con_hijos</td>\n",
       "      <td>NaN</td>\n",
       "    </tr>\n",
       "  </tbody>\n",
       "</table>\n",
       "</div>"
      ],
      "text/plain": [
       "   id  anios_estudiados   barrio     categoria_de_trabajo  edad  \\\n",
       "0   1                11  Palermo  relacion_de_dependencia    25   \n",
       "1   2                13  Palermo  relacion_de_dependencia    38   \n",
       "2   3                16  Palermo       empleado_municipal    28   \n",
       "3   4                14  Palermo  relacion_de_dependencia    44   \n",
       "4   5                14  Palermo                      NaN    18   \n",
       "\n",
       "  educacion_alcanzada    estado_marital  \\\n",
       "0              2_anio    sin_matrimonio   \n",
       "1              4_anio  matrimonio_civil   \n",
       "2  universidad_2_anio  matrimonio_civil   \n",
       "3              5_anio  matrimonio_civil   \n",
       "4              5_anio    sin_matrimonio   \n",
       "\n",
       "   ganancia_perdida_declarada_bolsa_argentina  genero  \\\n",
       "0                                           0  hombre   \n",
       "1                                           0  hombre   \n",
       "2                                           0  hombre   \n",
       "3                                        7688  hombre   \n",
       "4                                           0   mujer   \n",
       "\n",
       "   horas_trabajo_registradas      religion  representatividad_poblacional  \\\n",
       "0                         40      judaismo                         226802   \n",
       "1                         50  cristianismo                          89814   \n",
       "2                         40  cristianismo                         336951   \n",
       "3                         40      judaismo                         160323   \n",
       "4                         30  cristianismo                         103497   \n",
       "\n",
       "  rol_familiar_registrado          trabajo  \n",
       "0               con_hijos        inspector  \n",
       "1                  casado  sector_primario  \n",
       "2                  casado        seguridad  \n",
       "3                  casado        inspector  \n",
       "4               con_hijos              NaN  "
      ]
     },
     "execution_count": 30,
     "metadata": {},
     "output_type": "execute_result"
    }
   ],
   "source": [
    "final_df.head()"
   ]
  },
  {
   "cell_type": "markdown",
   "id": "c8ba50fd-a21e-4305-9863-bfe2e639816e",
   "metadata": {},
   "source": [
    "vemos que las que son categoricas son barrio, genero, estado_marital, religion, trabajo, rol familiar y educacion_alcanza. Dentro de estas no vamos a tener en cuenta ni el barrio ni la religion ya que cuando hicimos el analisis previo vimos que eran features irrelevantes con respecto a la variable target. Luego estado marital y rol familiar estaban muy relacionados por lo que nos quedamos con estado marital."
   ]
  },
  {
   "cell_type": "code",
   "execution_count": 31,
   "id": "e15767a3-c3d9-45a4-98ac-17f7bfdacbdf",
   "metadata": {},
   "outputs": [],
   "source": [
    "X,y,df,y_encoder = ingenieriaDeFeaturesCategoricalNB(train_df)"
   ]
  },
  {
   "cell_type": "code",
   "execution_count": 32,
   "id": "eef1eece-fffe-46a6-a253-a5b710277d74",
   "metadata": {},
   "outputs": [],
   "source": [
    "X_train, X_test, y_train, y_test = train_test_split(X, y, random_state=117, test_size=0.1, stratify=y)"
   ]
  },
  {
   "cell_type": "markdown",
   "id": "5406b179-c817-42e6-99a8-810ccaa8b268",
   "metadata": {},
   "source": [
    "Ahora buscamos los mejores hiperparametros, en este caso solo tenemos alfa, en la cual nos indic que tan smothing se van a realizar las diferenctes convinaciones para evitar la probalidad cero. "
   ]
  },
  {
   "cell_type": "code",
   "execution_count": 33,
   "id": "52ece6fc-9521-4b8e-88dc-2441da03ec1c",
   "metadata": {},
   "outputs": [],
   "source": [
    "parametrosCategorica = [{'alpha': [0.0005,0.001,0.01,0.1,0.3,0.5,0.7,1,2,3,5, 10, 15, 20, 50]}]"
   ]
  },
  {
   "cell_type": "code",
   "execution_count": 28,
   "id": "ba0178e1-e0ff-49db-b8f0-33fcb067f459",
   "metadata": {},
   "outputs": [],
   "source": [
    "categorical = CategoricalNB()\n",
    "modelo1 = GridSearchCV(\n",
    "    categorical, parametrosCategorica, scoring='roc_auc', n_jobs=-1, cv=5, return_train_score=True\n",
    ").fit(X_train, y_train)"
   ]
  },
  {
   "cell_type": "code",
   "execution_count": 29,
   "id": "025c7314-d996-4597-8683-7e052de3d3d3",
   "metadata": {},
   "outputs": [
    {
     "name": "stdout",
     "output_type": "stream",
     "text": [
      "Best score: 0.841265615318051\n",
      "Best params {'alpha': 0.1}\n"
     ]
    }
   ],
   "source": [
    "print(f\"Best score: {modelo1.best_score_}\")\n",
    "print(f\"Best params {modelo1.best_params_}\")"
   ]
  },
  {
   "cell_type": "markdown",
   "id": "02679e9e-63e4-4f16-b0a8-b57d56f3f366",
   "metadata": {},
   "source": [
    "# Entrenamos "
   ]
  },
  {
   "cell_type": "code",
   "execution_count": 34,
   "id": "568dd77e-e78e-4232-8521-ec14b48982f9",
   "metadata": {},
   "outputs": [
    {
     "data": {
      "text/plain": [
       "CategoricalNB(alpha=0.1)"
      ]
     },
     "execution_count": 34,
     "metadata": {},
     "output_type": "execute_result"
    }
   ],
   "source": [
    "categoricalNB = CategoricalNB(alpha=0.1)\n",
    "\n",
    "categoricalNB.fit(X_train, y_train)\n"
   ]
  },
  {
   "cell_type": "markdown",
   "id": "86caa761-40e3-45f4-9f20-64814336e425",
   "metadata": {},
   "source": [
    "# Metricas"
   ]
  },
  {
   "cell_type": "code",
   "execution_count": 32,
   "id": "e0f367ba-b9e8-4c2f-8dea-81721e2ba33b",
   "metadata": {},
   "outputs": [
    {
     "name": "stdout",
     "output_type": "stream",
     "text": [
      "                                 precision    recall  f1-score   support\n",
      "\n",
      "No tiene alto valor adquisitivo       0.86      0.87      0.87      2473\n",
      "   Tiene alto valor adquisitivo       0.58      0.57      0.57       784\n",
      "\n",
      "                       accuracy                           0.80      3257\n",
      "                      macro avg       0.72      0.72      0.72      3257\n",
      "                   weighted avg       0.80      0.80      0.80      3257\n",
      "\n"
     ]
    }
   ],
   "source": [
    "y_pred = categoricalNB.predict(X_test)\n",
    "print(classification_report(y_test, y_pred, target_names=['No tiene alto valor adquisitivo','Tiene alto valor adquisitivo']))"
   ]
  },
  {
   "cell_type": "markdown",
   "id": "fb8d099f-3602-4168-968f-3ac0b735bc46",
   "metadata": {},
   "source": [
    "# Curva auc roc"
   ]
  },
  {
   "cell_type": "code",
   "execution_count": 35,
   "id": "6de44b8f-013c-44fe-b653-ec62f4f9794b",
   "metadata": {},
   "outputs": [
    {
     "data": {
      "image/png": "[encoded data removed]",
      "text/plain": [
       "<Figure size 432x288 with 1 Axes>"
      ]
     },
     "metadata": {
      "needs_background": "light"
     },
     "output_type": "display_data"
    }
   ],
   "source": [
    "plot_roc_curve(categoricalNB,X_test,y_test,response_method='predict_proba')\n",
    "plt.show()"
   ]
  },
  {
   "cell_type": "markdown",
   "id": "6a0982df-bb41-4ca6-a2a2-fbcedf5bb9d1",
   "metadata": {},
   "source": [
    "# Matriz de Confucion "
   ]
  },
  {
   "cell_type": "code",
   "execution_count": 37,
   "id": "fd23c1e4-01ba-406a-b7c8-8be8683f5714",
   "metadata": {},
   "outputs": [
    {
     "data": {
      "image/png": "[encoded data removed]",
      "text/plain": [
       "<Figure size 1080x504 with 2 Axes>"
      ]
     },
     "metadata": {
      "needs_background": "light"
     },
     "output_type": "display_data"
    }
   ],
   "source": [
    "from sklearn.metrics import plot_confusion_matrix\n",
    "\n",
    "fig, ax = plt.subplots(figsize=(15, 7))\n",
    "plt.grid(False)\n",
    "plot_confusion_matrix(\n",
    "    categoricalNB, X_test, y_test, cmap=plt.cm.Blues, display_labels=['bajo podes adquisitivo', 'alto poder adquisitivo'], ax=ax\n",
    ")\n",
    "plt.show()"
   ]
  },
  {
   "cell_type": "markdown",
   "id": "60676b7b-3ad9-4809-8dc2-0b25f6ec28b8",
   "metadata": {},
   "source": [
    "# Prediccion sobre el data ser de HoldOut "
   ]
  },
  {
   "cell_type": "markdown",
   "id": "524bbe5b-6445-4091-96f7-c456b51b1050",
   "metadata": {},
   "source": [
    "se predice para el algoritmo de naive bayes categorico "
   ]
  },
  {
   "cell_type": "code",
   "execution_count": 36,
   "id": "76c880c9-b24a-4c1b-a684-65820283ff6a",
   "metadata": {},
   "outputs": [],
   "source": [
    "final_df = prepararHoldOut(final_df)"
   ]
  },
  {
   "cell_type": "code",
   "execution_count": 38,
   "id": "c3f56768-4812-4c04-bbb9-986446e18e52",
   "metadata": {},
   "outputs": [],
   "source": [
    "final_df_categorical = prepararSetDeHoldOutCategoricalNB(final_df)"
   ]
  },
  {
   "cell_type": "code",
   "execution_count": 39,
   "id": "de29300f-1c79-4a6a-81e0-f7125b7db420",
   "metadata": {},
   "outputs": [],
   "source": [
    "ho_prediction = categoricalNB.predict(final_df_categorical)\n",
    "final_df['tiene_alto_valor_adquisitivo'] = ho_prediction\n",
    "\n",
    "final_df.to_csv('predicciones/categoricalNB.csv')"
   ]
  },
  {
   "cell_type": "markdown",
   "id": "7d58e45c-4a59-4feb-8dd8-91acf80968be",
   "metadata": {},
   "source": [
    "## GaussianNB"
   ]
  },
  {
   "cell_type": "markdown",
   "id": "5dfaae15-93a5-4638-8b35-b588d5326c1e",
   "metadata": {},
   "source": [
    "este modelo es utilizado para variables continuas, En este caso vamos a considerar la edad, anios estudiados y inversion en la bolsa. Como no hay muchos feautures no esperamos que tengamos un muy buen resultado.\n"
   ]
  },
  {
   "cell_type": "code",
   "execution_count": 55,
   "id": "94e6f66c-ca69-46a9-b791-e08732da5915",
   "metadata": {},
   "outputs": [],
   "source": [
    "train_df2,final_df2 = cargarDatasets()\n",
    "train_df2 = prepararSetDeEntrenamiento(train_df2)"
   ]
  },
  {
   "cell_type": "code",
   "execution_count": 56,
   "id": "3e25cd9b-8436-4af6-9fa3-c12932a0121c",
   "metadata": {},
   "outputs": [],
   "source": [
    "X,y,df,y_encoder = ingenieriaDeFeaturesGaussianNB(train_df2)"
   ]
  },
  {
   "cell_type": "code",
   "execution_count": 57,
   "id": "4e9ae42c-5c9b-4af6-91ab-b1cf3eab9759",
   "metadata": {},
   "outputs": [
    {
     "data": {
      "text/html": [
       "<div>\n",
       "<style scoped>\n",
       "    .dataframe tbody tr th:only-of-type {\n",
       "        vertical-align: middle;\n",
       "    }\n",
       "\n",
       "    .dataframe tbody tr th {\n",
       "        vertical-align: top;\n",
       "    }\n",
       "\n",
       "    .dataframe thead th {\n",
       "        text-align: right;\n",
       "    }\n",
       "</style>\n",
       "<table border=\"1\" class=\"dataframe\">\n",
       "  <thead>\n",
       "    <tr style=\"text-align: right;\">\n",
       "      <th></th>\n",
       "      <th>anios_estudiados</th>\n",
       "      <th>edad</th>\n",
       "      <th>ganancia_perdida_declarada_bolsa_argentina</th>\n",
       "    </tr>\n",
       "  </thead>\n",
       "  <tbody>\n",
       "    <tr>\n",
       "      <th>0</th>\n",
       "      <td>17</td>\n",
       "      <td>39</td>\n",
       "      <td>2174</td>\n",
       "    </tr>\n",
       "    <tr>\n",
       "      <th>1</th>\n",
       "      <td>17</td>\n",
       "      <td>50</td>\n",
       "      <td>0</td>\n",
       "    </tr>\n",
       "    <tr>\n",
       "      <th>2</th>\n",
       "      <td>13</td>\n",
       "      <td>38</td>\n",
       "      <td>0</td>\n",
       "    </tr>\n",
       "    <tr>\n",
       "      <th>3</th>\n",
       "      <td>11</td>\n",
       "      <td>53</td>\n",
       "      <td>0</td>\n",
       "    </tr>\n",
       "    <tr>\n",
       "      <th>4</th>\n",
       "      <td>17</td>\n",
       "      <td>28</td>\n",
       "      <td>0</td>\n",
       "    </tr>\n",
       "  </tbody>\n",
       "</table>\n",
       "</div>"
      ],
      "text/plain": [
       "   anios_estudiados  edad  ganancia_perdida_declarada_bolsa_argentina\n",
       "0                17    39                                        2174\n",
       "1                17    50                                           0\n",
       "2                13    38                                           0\n",
       "3                11    53                                           0\n",
       "4                17    28                                           0"
      ]
     },
     "execution_count": 57,
     "metadata": {},
     "output_type": "execute_result"
    }
   ],
   "source": [
    "X.head()"
   ]
  },
  {
   "cell_type": "code",
   "execution_count": 58,
   "id": "70216716-e823-41d8-9626-ee45d194e68b",
   "metadata": {},
   "outputs": [],
   "source": [
    "X_train, X_test, y_train, y_test = train_test_split(X, y, random_state=117, test_size=0.1, stratify=y)"
   ]
  },
  {
   "cell_type": "markdown",
   "id": "9acc3a98-a826-480d-bb92-34be900ede55",
   "metadata": {},
   "source": [
    "Busco los mejores hiperparametros, en este caso corresponde al valor de smothing."
   ]
  },
  {
   "cell_type": "code",
   "execution_count": 59,
   "id": "f67b7195-590d-46f1-89aa-bb798f5da659",
   "metadata": {},
   "outputs": [],
   "source": [
    "parametrosGaussian = [{'var_smoothing' : [0.00000001,0.0000001,0.000001,0.00001,0.0001,0.001, 0.01, 0.1, 1, 3]}]"
   ]
  },
  {
   "cell_type": "code",
   "execution_count": 16,
   "id": "560ce6b9-7858-46a8-abc0-dfc3f3e13264",
   "metadata": {},
   "outputs": [],
   "source": [
    "gaussian = GaussianNB()\n",
    "modelo1 = GridSearchCV(\n",
    "    gaussian, parametrosGaussian, scoring='roc_auc', n_jobs=-1, cv=5, return_train_score=True\n",
    ").fit(X_train, y_train)"
   ]
  },
  {
   "cell_type": "code",
   "execution_count": 17,
   "id": "28ec383b-1feb-4434-9f90-84376fa2cffc",
   "metadata": {},
   "outputs": [
    {
     "name": "stdout",
     "output_type": "stream",
     "text": [
      "Best score: 0.8237172447758583\n",
      "Best params {'var_smoothing': 1e-08}\n"
     ]
    }
   ],
   "source": [
    "print(f\"Best score: {modelo1.best_score_}\")\n",
    "print(f\"Best params {modelo1.best_params_}\")"
   ]
  },
  {
   "cell_type": "markdown",
   "id": "38fb7b29-cc0c-4183-982b-04540f87fb8f",
   "metadata": {},
   "source": [
    "# Entrenamos "
   ]
  },
  {
   "cell_type": "code",
   "execution_count": 60,
   "id": "b675b6d1-87b6-4863-a8b1-af67bb0c6f08",
   "metadata": {},
   "outputs": [
    {
     "data": {
      "text/plain": [
       "GaussianNB(var_smoothing=1e-08)"
      ]
     },
     "execution_count": 60,
     "metadata": {},
     "output_type": "execute_result"
    }
   ],
   "source": [
    "gaussianNB = GaussianNB(var_smoothing = 0.00000001)\n",
    "gaussianNB.fit(X_train, y_train)"
   ]
  },
  {
   "cell_type": "markdown",
   "id": "4dc0ac18-ebb6-4184-a976-d8b957d35df0",
   "metadata": {},
   "source": [
    "# Metricas "
   ]
  },
  {
   "cell_type": "code",
   "execution_count": 125,
   "id": "24384ca3-3b73-4990-95ec-a859027e7322",
   "metadata": {},
   "outputs": [
    {
     "name": "stdout",
     "output_type": "stream",
     "text": [
      "                                 precision    recall  f1-score   support\n",
      "\n",
      "No tiene alto valor adquisitivo       0.80      0.98      0.88      2473\n",
      "   Tiene alto valor adquisitivo       0.77      0.21      0.33       784\n",
      "\n",
      "                       accuracy                           0.79      3257\n",
      "                      macro avg       0.78      0.60      0.60      3257\n",
      "                   weighted avg       0.79      0.79      0.75      3257\n",
      "\n"
     ]
    }
   ],
   "source": [
    "y_pred = gaussianNB.predict(X_test)\n",
    "print(classification_report(y_test, y_pred, target_names=['No tiene alto valor adquisitivo','Tiene alto valor adquisitivo']))"
   ]
  },
  {
   "cell_type": "markdown",
   "id": "1a72f0a5-251a-4f44-9331-e950cf3bb14e",
   "metadata": {},
   "source": [
    "podemos observar que el recall para si tiene alto poder aquisitivo es muy bajo. "
   ]
  },
  {
   "cell_type": "markdown",
   "id": "6c49e51f-c329-4704-abe2-9463af10b5e9",
   "metadata": {},
   "source": [
    "# Curva Auc Roc"
   ]
  },
  {
   "cell_type": "code",
   "execution_count": 126,
   "id": "b062c117-519a-4932-a04b-1cc07306654f",
   "metadata": {},
   "outputs": [
    {
     "data": {
      "image/png": "[encoded data removed]",
      "text/plain": [
       "<Figure size 432x288 with 1 Axes>"
      ]
     },
     "metadata": {
      "needs_background": "light"
     },
     "output_type": "display_data"
    }
   ],
   "source": [
    "plot_roc_curve(gaussianNB,X_test,y_test,response_method='predict_proba')\n",
    "plt.show()"
   ]
  },
  {
   "cell_type": "markdown",
   "id": "e0270841-2070-4582-8d1d-6d022bc18feb",
   "metadata": {},
   "source": [
    "# Matriz de confucion"
   ]
  },
  {
   "cell_type": "code",
   "execution_count": 127,
   "id": "a380c0ab-8c11-4ffe-953c-e39987d6e8f7",
   "metadata": {},
   "outputs": [
    {
     "data": {
      "image/png": "[encoded data removed]",
      "text/plain": [
       "<Figure size 1080x504 with 2 Axes>"
      ]
     },
     "metadata": {
      "needs_background": "light"
     },
     "output_type": "display_data"
    }
   ],
   "source": [
    "from sklearn.metrics import plot_confusion_matrix\n",
    "\n",
    "fig, ax = plt.subplots(figsize=(15, 7))\n",
    "plt.grid(False)\n",
    "plot_confusion_matrix(\n",
    "    gaussianNB, X_test, y_test, cmap=plt.cm.Blues, display_labels=['bajo podes adquisitivo', 'alto poder adquisitivo'], ax=ax\n",
    ")\n",
    "plt.show()"
   ]
  },
  {
   "cell_type": "markdown",
   "id": "1840bc41-fdf8-48b0-ad28-012d737873c3",
   "metadata": {},
   "source": [
    "# Prediccion sobre el data set de hold out"
   ]
  },
  {
   "cell_type": "code",
   "execution_count": 61,
   "id": "3a38d06b-2950-46db-a5a3-d94a94365056",
   "metadata": {},
   "outputs": [],
   "source": [
    "final_df2 = prepararHoldOut(final_df2)"
   ]
  },
  {
   "cell_type": "code",
   "execution_count": 62,
   "id": "b04d1036-3997-463c-bc9a-e11256cd547a",
   "metadata": {},
   "outputs": [],
   "source": [
    "final_df_gaussian = prepararSetDeHoldOutGaussianNB(final_df2)"
   ]
  },
  {
   "cell_type": "code",
   "execution_count": 63,
   "id": "e6e198ea-8aad-4fea-be59-11099f8ffaae",
   "metadata": {},
   "outputs": [],
   "source": [
    "ho_prediction2 = gaussianNB.predict(final_df_gaussian)\n",
    "final_df['tiene_alto_valor_adquisitivo'] = ho_prediction2\n",
    "\n",
    "final_df.to_csv('predicciones/gaussianNB.csv')"
   ]
  },
  {
   "cell_type": "code",
   "execution_count": null,
   "id": "0551353d-9a0a-4a20-9dd9-68013c792906",
   "metadata": {},
   "outputs": [],
   "source": []
  }
 ],
 "metadata": {
  "kernelspec": {
   "display_name": "Python 3",
   "language": "python",
   "name": "python3"
  },
  "language_info": {
   "codemirror_mode": {
    "name": "ipython",
    "version": 3
   },
   "file_extension": ".py",
   "mimetype": "text/x-python",
   "name": "python",
   "nbconvert_exporter": "python",
   "pygments_lexer": "ipython3",
   "version": "3.8.5"
  }
 },
 "nbformat": 4,
 "nbformat_minor": 5
}
