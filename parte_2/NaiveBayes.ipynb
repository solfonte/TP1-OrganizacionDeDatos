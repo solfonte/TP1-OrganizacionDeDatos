{
 "cells": [
  {
   "cell_type": "markdown",
   "id": "048eabcb",
   "metadata": {},
   "source": [
    "## Naive Bayes "
   ]
  },
  {
   "cell_type": "code",
   "execution_count": 1,
   "id": "115bbcea",
   "metadata": {},
   "outputs": [],
   "source": [
    "import pandas as pd\n",
    "import numpy as np\n",
    "import matplotlib.pyplot as plt\n",
    "import seaborn as sns\n",
    "from sklearn.metrics import  auc, plot_roc_curve"
   ]
  },
  {
   "cell_type": "code",
   "execution_count": 2,
   "id": "91b4c217",
   "metadata": {},
   "outputs": [],
   "source": [
    "from sklearn.model_selection import train_test_split\n",
    "from sklearn.metrics import classification_report\n",
    "from sklearn.metrics import confusion_matrix\n",
    "from sklearn.metrics import roc_auc_score\n",
    "from sklearn.metrics import roc_curve\n",
    "from sklearn.model_selection import KFold, StratifiedKFold\n",
    "from sklearn.model_selection import GridSearchCV"
   ]
  },
  {
   "cell_type": "code",
   "execution_count": 3,
   "id": "431f603b",
   "metadata": {},
   "outputs": [],
   "source": [
    "from sklearn.naive_bayes import MultinomialNB\n",
    "from sklearn.naive_bayes import GaussianNB\n",
    "from sklearn.naive_bayes import CategoricalNB"
   ]
  },
  {
   "cell_type": "code",
   "execution_count": 4,
   "id": "fc54619e",
   "metadata": {},
   "outputs": [],
   "source": [
    "from preprocessing import cargarDatasets\n",
    "from preprocessing import prepararSet\n",
    "from preprocessing import ingenieriaDeFeaturesCategoricalNB, ingenieriaDeFeaturesGaussianNB\n",
    "from preprocessing import ingenieriaDeFeaturesCategoricalNB2"
   ]
  },
  {
   "cell_type": "code",
   "execution_count": 5,
   "id": "ca469501",
   "metadata": {},
   "outputs": [],
   "source": [
    "from preprocessing import prepararSetDeHoldOutCategoricalNB\n",
    "from preprocessing import prepararSetDeHoldOutGaussianNB"
   ]
  },
  {
   "cell_type": "markdown",
   "id": "1cbb6b9a",
   "metadata": {},
   "source": [
    "# Carga y preprocesamiento de datos"
   ]
  },
  {
   "cell_type": "code",
   "execution_count": 6,
   "id": "2c9c2bde",
   "metadata": {},
   "outputs": [],
   "source": [
    "train_df,final_df = cargarDatasets()\n",
    "train_df = prepararSet(train_df)"
   ]
  },
  {
   "cell_type": "code",
   "execution_count": 7,
   "id": "f53890fe",
   "metadata": {},
   "outputs": [],
   "source": [
    "train2_df = train_df.copy()"
   ]
  },
  {
   "cell_type": "markdown",
   "id": "2de87455",
   "metadata": {},
   "source": [
    "Luego de tener cargado el set de datos, vamos a aplicarle determinados preprocesamientos. Par eso vamos a distingir este algoritmos en 3:\n",
    "   *  categorical nb\n",
    "   *  Multinomial nb\n",
    "   * gaussian nb"
   ]
  },
  {
   "cell_type": "markdown",
   "id": "bbfe186a",
   "metadata": {},
   "source": [
    "# Categorical Naive Bayes "
   ]
  },
  {
   "cell_type": "markdown",
   "id": "442ecc78",
   "metadata": {},
   "source": [
    "Este metodo es utilizado para variables categoricas, nos fijamos cuales son categoricas y luego nos desascemos de las que son numericcas."
   ]
  },
  {
   "cell_type": "code",
   "execution_count": 46,
   "id": "f40a713b",
   "metadata": {},
   "outputs": [
    {
     "data": {
      "text/html": [
       "<div>\n",
       "<style scoped>\n",
       "    .dataframe tbody tr th:only-of-type {\n",
       "        vertical-align: middle;\n",
       "    }\n",
       "\n",
       "    .dataframe tbody tr th {\n",
       "        vertical-align: top;\n",
       "    }\n",
       "\n",
       "    .dataframe thead th {\n",
       "        text-align: right;\n",
       "    }\n",
       "</style>\n",
       "<table border=\"1\" class=\"dataframe\">\n",
       "  <thead>\n",
       "    <tr style=\"text-align: right;\">\n",
       "      <th></th>\n",
       "      <th>id</th>\n",
       "      <th>anios_estudiados</th>\n",
       "      <th>barrio</th>\n",
       "      <th>categoria_de_trabajo</th>\n",
       "      <th>edad</th>\n",
       "      <th>educacion_alcanzada</th>\n",
       "      <th>estado_marital</th>\n",
       "      <th>ganancia_perdida_declarada_bolsa_argentina</th>\n",
       "      <th>genero</th>\n",
       "      <th>horas_trabajo_registradas</th>\n",
       "      <th>religion</th>\n",
       "      <th>representatividad_poblacional</th>\n",
       "      <th>rol_familiar_registrado</th>\n",
       "      <th>trabajo</th>\n",
       "    </tr>\n",
       "  </thead>\n",
       "  <tbody>\n",
       "    <tr>\n",
       "      <th>0</th>\n",
       "      <td>1</td>\n",
       "      <td>11</td>\n",
       "      <td>Palermo</td>\n",
       "      <td>relacion_de_dependencia</td>\n",
       "      <td>25</td>\n",
       "      <td>2_anio</td>\n",
       "      <td>sin_matrimonio</td>\n",
       "      <td>0</td>\n",
       "      <td>hombre</td>\n",
       "      <td>40</td>\n",
       "      <td>judaismo</td>\n",
       "      <td>226802</td>\n",
       "      <td>con_hijos</td>\n",
       "      <td>inspector</td>\n",
       "    </tr>\n",
       "    <tr>\n",
       "      <th>1</th>\n",
       "      <td>2</td>\n",
       "      <td>13</td>\n",
       "      <td>Palermo</td>\n",
       "      <td>relacion_de_dependencia</td>\n",
       "      <td>38</td>\n",
       "      <td>4_anio</td>\n",
       "      <td>matrimonio_civil</td>\n",
       "      <td>0</td>\n",
       "      <td>hombre</td>\n",
       "      <td>50</td>\n",
       "      <td>cristianismo</td>\n",
       "      <td>89814</td>\n",
       "      <td>casado</td>\n",
       "      <td>sector_primario</td>\n",
       "    </tr>\n",
       "    <tr>\n",
       "      <th>2</th>\n",
       "      <td>3</td>\n",
       "      <td>16</td>\n",
       "      <td>Palermo</td>\n",
       "      <td>empleado_municipal</td>\n",
       "      <td>28</td>\n",
       "      <td>universidad_2_anio</td>\n",
       "      <td>matrimonio_civil</td>\n",
       "      <td>0</td>\n",
       "      <td>hombre</td>\n",
       "      <td>40</td>\n",
       "      <td>cristianismo</td>\n",
       "      <td>336951</td>\n",
       "      <td>casado</td>\n",
       "      <td>seguridad</td>\n",
       "    </tr>\n",
       "    <tr>\n",
       "      <th>3</th>\n",
       "      <td>4</td>\n",
       "      <td>14</td>\n",
       "      <td>Palermo</td>\n",
       "      <td>relacion_de_dependencia</td>\n",
       "      <td>44</td>\n",
       "      <td>5_anio</td>\n",
       "      <td>matrimonio_civil</td>\n",
       "      <td>7688</td>\n",
       "      <td>hombre</td>\n",
       "      <td>40</td>\n",
       "      <td>judaismo</td>\n",
       "      <td>160323</td>\n",
       "      <td>casado</td>\n",
       "      <td>inspector</td>\n",
       "    </tr>\n",
       "    <tr>\n",
       "      <th>4</th>\n",
       "      <td>5</td>\n",
       "      <td>14</td>\n",
       "      <td>Palermo</td>\n",
       "      <td>NaN</td>\n",
       "      <td>18</td>\n",
       "      <td>5_anio</td>\n",
       "      <td>sin_matrimonio</td>\n",
       "      <td>0</td>\n",
       "      <td>mujer</td>\n",
       "      <td>30</td>\n",
       "      <td>cristianismo</td>\n",
       "      <td>103497</td>\n",
       "      <td>con_hijos</td>\n",
       "      <td>NaN</td>\n",
       "    </tr>\n",
       "  </tbody>\n",
       "</table>\n",
       "</div>"
      ],
      "text/plain": [
       "   id  anios_estudiados   barrio     categoria_de_trabajo  edad  \\\n",
       "0   1                11  Palermo  relacion_de_dependencia    25   \n",
       "1   2                13  Palermo  relacion_de_dependencia    38   \n",
       "2   3                16  Palermo       empleado_municipal    28   \n",
       "3   4                14  Palermo  relacion_de_dependencia    44   \n",
       "4   5                14  Palermo                      NaN    18   \n",
       "\n",
       "  educacion_alcanzada    estado_marital  \\\n",
       "0              2_anio    sin_matrimonio   \n",
       "1              4_anio  matrimonio_civil   \n",
       "2  universidad_2_anio  matrimonio_civil   \n",
       "3              5_anio  matrimonio_civil   \n",
       "4              5_anio    sin_matrimonio   \n",
       "\n",
       "   ganancia_perdida_declarada_bolsa_argentina  genero  \\\n",
       "0                                           0  hombre   \n",
       "1                                           0  hombre   \n",
       "2                                           0  hombre   \n",
       "3                                        7688  hombre   \n",
       "4                                           0   mujer   \n",
       "\n",
       "   horas_trabajo_registradas      religion  representatividad_poblacional  \\\n",
       "0                         40      judaismo                         226802   \n",
       "1                         50  cristianismo                          89814   \n",
       "2                         40  cristianismo                         336951   \n",
       "3                         40      judaismo                         160323   \n",
       "4                         30  cristianismo                         103497   \n",
       "\n",
       "  rol_familiar_registrado          trabajo  \n",
       "0               con_hijos        inspector  \n",
       "1                  casado  sector_primario  \n",
       "2                  casado        seguridad  \n",
       "3                  casado        inspector  \n",
       "4               con_hijos              NaN  "
      ]
     },
     "execution_count": 46,
     "metadata": {},
     "output_type": "execute_result"
    }
   ],
   "source": [
    "final_df.head()"
   ]
  },
  {
   "cell_type": "markdown",
   "id": "f28cac13",
   "metadata": {},
   "source": [
    "vemos que las que son categoricas son barrio, genero, estado_marital, religion, trabajo, rol familiar y educacion_alcanza. Dentro de estas no vamos a tener en cuenta ni el barrio ni la religion ya que cuando hicimos el analisis previo vimos que eran features irrelevantes con respecto a la variable target. Luego estado marital y rol familiar estaban muy relacionados por lo que nos quedamos con estado marital."
   ]
  },
  {
   "cell_type": "code",
   "execution_count": 8,
   "id": "49eef8eb",
   "metadata": {},
   "outputs": [],
   "source": [
    "X,y,df,y_encoder = ingenieriaDeFeaturesCategoricalNB(train_df)"
   ]
  },
  {
   "cell_type": "code",
   "execution_count": 9,
   "id": "37e82ce5",
   "metadata": {},
   "outputs": [],
   "source": [
    "X_train, X_test, y_train, y_test = train_test_split(X, y, random_state=117, test_size=0.1, stratify=y)"
   ]
  },
  {
   "cell_type": "code",
   "execution_count": 10,
   "id": "faa84a25",
   "metadata": {},
   "outputs": [],
   "source": [
    "X2,y2,df2,y_encoder2, meanEnconding = ingenieriaDeFeaturesCategoricalNB2(train2_df)"
   ]
  },
  {
   "cell_type": "code",
   "execution_count": 11,
   "id": "5ddbeadc",
   "metadata": {},
   "outputs": [],
   "source": [
    "X_train2, X_test2, y_train2, y_test2 = train_test_split(X2, y2, random_state=117, test_size=0.1, stratify=y2)"
   ]
  },
  {
   "cell_type": "markdown",
   "id": "c5b74cf7",
   "metadata": {},
   "source": [
    "Ahora buscamos los mejores hiperparametros, en este caso solo tenemos alfa, en la cual nos indic que tan smothing se van a realizar las diferenctes convinaciones para evitar la probalidad cero. "
   ]
  },
  {
   "cell_type": "code",
   "execution_count": 51,
   "id": "77500fd9",
   "metadata": {},
   "outputs": [],
   "source": [
    "parametrosCategorica = [{'alpha': [0.0005,0.001,0.01,0.1,0.3,0.5,0.7,1,2,3,5, 10, 15, 20, 50]}]"
   ]
  },
  {
   "cell_type": "markdown",
   "id": "f6f180b4",
   "metadata": {},
   "source": [
    "primer preprocesamiento "
   ]
  },
  {
   "cell_type": "code",
   "execution_count": 52,
   "id": "5e5282b7",
   "metadata": {},
   "outputs": [],
   "source": [
    "categorical = CategoricalNB()\n",
    "modelo1 = GridSearchCV(\n",
    "    categorical, parametrosCategorica, scoring='roc_auc', n_jobs=-1, cv=5, return_train_score=True\n",
    ").fit(X_train, y_train)"
   ]
  },
  {
   "cell_type": "code",
   "execution_count": 53,
   "id": "d8ee1cd9",
   "metadata": {},
   "outputs": [
    {
     "name": "stdout",
     "output_type": "stream",
     "text": [
      "Best score: 0.841265615318051\n",
      "Best params {'alpha': 0.1}\n"
     ]
    }
   ],
   "source": [
    "print(f\"Best score: {modelo1.best_score_}\")\n",
    "print(f\"Best params {modelo1.best_params_}\")"
   ]
  },
  {
   "cell_type": "markdown",
   "id": "cc9280f2",
   "metadata": {},
   "source": [
    "segundo preprocesamiento"
   ]
  },
  {
   "cell_type": "code",
   "execution_count": 54,
   "id": "f3d9272d",
   "metadata": {},
   "outputs": [],
   "source": [
    "categorical = CategoricalNB()\n",
    "modelo2 = GridSearchCV(\n",
    "    categorical, parametrosCategorica, scoring='roc_auc', n_jobs=-1, cv=5, return_train_score=True\n",
    ").fit(X_train2, y_train2)"
   ]
  },
  {
   "cell_type": "code",
   "execution_count": 55,
   "id": "49b4bb32",
   "metadata": {},
   "outputs": [
    {
     "name": "stdout",
     "output_type": "stream",
     "text": [
      "Best score: 0.6242997079565432\n",
      "Best params {'alpha': 0.0005}\n"
     ]
    }
   ],
   "source": [
    "print(f\"Best score: {modelo2.best_score_}\")\n",
    "print(f\"Best params {modelo2.best_params_}\")"
   ]
  },
  {
   "cell_type": "markdown",
   "id": "39a44441",
   "metadata": {},
   "source": [
    "vemos que dio mucho mejor el primer preprosesamiento. Vamos a utilizar ese"
   ]
  },
  {
   "cell_type": "markdown",
   "id": "9b9634d5",
   "metadata": {},
   "source": [
    "# Entrenamos "
   ]
  },
  {
   "cell_type": "code",
   "execution_count": 12,
   "id": "e4d21036",
   "metadata": {},
   "outputs": [
    {
     "data": {
      "text/plain": [
       "CategoricalNB(alpha=0.1)"
      ]
     },
     "execution_count": 12,
     "metadata": {},
     "output_type": "execute_result"
    }
   ],
   "source": [
    "categoricalNB = CategoricalNB(alpha=0.1)\n",
    "\n",
    "categoricalNB.fit(X_train, y_train)\n"
   ]
  },
  {
   "cell_type": "markdown",
   "id": "84fa3dba",
   "metadata": {},
   "source": [
    "# Metricas"
   ]
  },
  {
   "cell_type": "code",
   "execution_count": 57,
   "id": "305a813f",
   "metadata": {},
   "outputs": [
    {
     "name": "stdout",
     "output_type": "stream",
     "text": [
      "                                 precision    recall  f1-score   support\n",
      "\n",
      "No tiene alto valor adquisitivo       0.86      0.87      0.87      2473\n",
      "   Tiene alto valor adquisitivo       0.58      0.57      0.57       784\n",
      "\n",
      "                       accuracy                           0.80      3257\n",
      "                      macro avg       0.72      0.72      0.72      3257\n",
      "                   weighted avg       0.80      0.80      0.80      3257\n",
      "\n"
     ]
    }
   ],
   "source": [
    "y_pred = categoricalNB.predict(X_test)\n",
    "print(classification_report(y_test, y_pred, target_names=['No tiene alto valor adquisitivo','Tiene alto valor adquisitivo']))"
   ]
  },
  {
   "cell_type": "markdown",
   "id": "b8c190c0",
   "metadata": {},
   "source": [
    "# Curva auc roc"
   ]
  },
  {
   "cell_type": "code",
   "execution_count": 58,
   "id": "cd96e565",
   "metadata": {},
   "outputs": [
    {
     "data": {
      "image/png": "[encoded data removed]",
      "text/plain": [
       "<Figure size 432x288 with 1 Axes>"
      ]
     },
     "metadata": {
      "needs_background": "light"
     },
     "output_type": "display_data"
    }
   ],
   "source": [
    "plot_roc_curve(categoricalNB,X_test,y_test,response_method='predict_proba')\n",
    "plt.show()"
   ]
  },
  {
   "cell_type": "markdown",
   "id": "9248149c",
   "metadata": {},
   "source": [
    "# Matriz de Confusion "
   ]
  },
  {
   "cell_type": "code",
   "execution_count": 59,
   "id": "2f4cc6c6",
   "metadata": {},
   "outputs": [
    {
     "data": {
      "image/png": "[encoded data removed]",
      "text/plain": [
       "<Figure size 1080x504 with 2 Axes>"
      ]
     },
     "metadata": {
      "needs_background": "light"
     },
     "output_type": "display_data"
    }
   ],
   "source": [
    "from sklearn.metrics import plot_confusion_matrix\n",
    "\n",
    "fig, ax = plt.subplots(figsize=(15, 7))\n",
    "plt.grid(False)\n",
    "plot_confusion_matrix(\n",
    "    categoricalNB, X_test, y_test, cmap=plt.cm.Blues, display_labels=['bajo podes adquisitivo', 'alto poder adquisitivo'], ax=ax\n",
    ")\n",
    "plt.show()"
   ]
  },
  {
   "cell_type": "markdown",
   "id": "118e3afb",
   "metadata": {},
   "source": [
    "# Prediccion sobre el data ser de HoldOut "
   ]
  },
  {
   "cell_type": "markdown",
   "id": "13eb4049",
   "metadata": {},
   "source": [
    "se predice para el algoritmo de naive bayes categorico "
   ]
  },
  {
   "cell_type": "code",
   "execution_count": 13,
   "id": "12c28ebe",
   "metadata": {},
   "outputs": [],
   "source": [
    "aux = final_df.copy()\n",
    "aux2 = final_df.copy()"
   ]
  },
  {
   "cell_type": "code",
   "execution_count": 14,
   "id": "4b7b37d8",
   "metadata": {},
   "outputs": [],
   "source": [
    "final_df_copy = prepararSet(final_df)"
   ]
  },
  {
   "cell_type": "code",
   "execution_count": 15,
   "id": "697c3bcf",
   "metadata": {},
   "outputs": [],
   "source": [
    "final_df_categorical = prepararSetDeHoldOutCategoricalNB(final_df_copy)"
   ]
  },
  {
   "cell_type": "code",
   "execution_count": 16,
   "id": "40d7be10",
   "metadata": {},
   "outputs": [],
   "source": [
    "ho_prediction = categoricalNB.predict(final_df_categorical)\n",
    "aux['tiene_alto_valor_adquisitivo'] = ho_prediction\n",
    "\n",
    "aux.to_csv('predicciones/categoricalNB.csv')"
   ]
  },
  {
   "cell_type": "markdown",
   "id": "34a856c0",
   "metadata": {},
   "source": [
    "## GaussianNB"
   ]
  },
  {
   "cell_type": "markdown",
   "id": "82155413",
   "metadata": {},
   "source": [
    "este modelo es utilizado para variables continuas, En este caso vamos a considerar la edad, anios estudiados y inversion en la bolsa. Como no hay muchos feautures no esperamos que tengamos un muy buen resultado.\n"
   ]
  },
  {
   "cell_type": "code",
   "execution_count": 17,
   "id": "d838b9e6",
   "metadata": {},
   "outputs": [],
   "source": [
    "train_df2,final_df2 = cargarDatasets()\n",
    "train_df2 = prepararSet(train_df2)"
   ]
  },
  {
   "cell_type": "code",
   "execution_count": 18,
   "id": "e329c02b",
   "metadata": {},
   "outputs": [],
   "source": [
    "X,y,df,y_encoder = ingenieriaDeFeaturesGaussianNB(train_df2)"
   ]
  },
  {
   "cell_type": "code",
   "execution_count": 19,
   "id": "b84dc34f",
   "metadata": {},
   "outputs": [
    {
     "data": {
      "text/html": [
       "<div>\n",
       "<style scoped>\n",
       "    .dataframe tbody tr th:only-of-type {\n",
       "        vertical-align: middle;\n",
       "    }\n",
       "\n",
       "    .dataframe tbody tr th {\n",
       "        vertical-align: top;\n",
       "    }\n",
       "\n",
       "    .dataframe thead th {\n",
       "        text-align: right;\n",
       "    }\n",
       "</style>\n",
       "<table border=\"1\" class=\"dataframe\">\n",
       "  <thead>\n",
       "    <tr style=\"text-align: right;\">\n",
       "      <th></th>\n",
       "      <th>anios_estudiados</th>\n",
       "      <th>edad</th>\n",
       "      <th>ganancia_perdida_declarada_bolsa_argentina</th>\n",
       "    </tr>\n",
       "  </thead>\n",
       "  <tbody>\n",
       "    <tr>\n",
       "      <th>0</th>\n",
       "      <td>17</td>\n",
       "      <td>39</td>\n",
       "      <td>2174</td>\n",
       "    </tr>\n",
       "    <tr>\n",
       "      <th>1</th>\n",
       "      <td>17</td>\n",
       "      <td>50</td>\n",
       "      <td>0</td>\n",
       "    </tr>\n",
       "    <tr>\n",
       "      <th>2</th>\n",
       "      <td>13</td>\n",
       "      <td>38</td>\n",
       "      <td>0</td>\n",
       "    </tr>\n",
       "    <tr>\n",
       "      <th>3</th>\n",
       "      <td>11</td>\n",
       "      <td>53</td>\n",
       "      <td>0</td>\n",
       "    </tr>\n",
       "    <tr>\n",
       "      <th>4</th>\n",
       "      <td>17</td>\n",
       "      <td>28</td>\n",
       "      <td>0</td>\n",
       "    </tr>\n",
       "  </tbody>\n",
       "</table>\n",
       "</div>"
      ],
      "text/plain": [
       "   anios_estudiados  edad  ganancia_perdida_declarada_bolsa_argentina\n",
       "0                17    39                                        2174\n",
       "1                17    50                                           0\n",
       "2                13    38                                           0\n",
       "3                11    53                                           0\n",
       "4                17    28                                           0"
      ]
     },
     "execution_count": 19,
     "metadata": {},
     "output_type": "execute_result"
    }
   ],
   "source": [
    "X.head()"
   ]
  },
  {
   "cell_type": "code",
   "execution_count": 20,
   "id": "a85679c0",
   "metadata": {},
   "outputs": [],
   "source": [
    "X_train, X_test, y_train, y_test = train_test_split(X, y, random_state=117, test_size=0.1, stratify=y)"
   ]
  },
  {
   "cell_type": "markdown",
   "id": "4996bd80",
   "metadata": {},
   "source": [
    "Busco los mejores hiperparametros, en este caso corresponde al valor de smothing."
   ]
  },
  {
   "cell_type": "code",
   "execution_count": 67,
   "id": "5dbcc282",
   "metadata": {},
   "outputs": [],
   "source": [
    "parametrosGaussian = [{'var_smoothing' : [0.00000001,0.0000001,0.000001,0.00001,0.0001,0.001, 0.01, 0.1, 1, 3]}]"
   ]
  },
  {
   "cell_type": "code",
   "execution_count": 68,
   "id": "5a66e860",
   "metadata": {},
   "outputs": [],
   "source": [
    "gaussian = GaussianNB()\n",
    "modelo1 = GridSearchCV(\n",
    "    gaussian, parametrosGaussian, scoring='roc_auc', n_jobs=-1, cv=5, return_train_score=True\n",
    ").fit(X_train, y_train)"
   ]
  },
  {
   "cell_type": "code",
   "execution_count": 69,
   "id": "626debc1",
   "metadata": {},
   "outputs": [
    {
     "name": "stdout",
     "output_type": "stream",
     "text": [
      "Best score: 0.8237172447758583\n",
      "Best params {'var_smoothing': 1e-08}\n"
     ]
    }
   ],
   "source": [
    "print(f\"Best score: {modelo1.best_score_}\")\n",
    "print(f\"Best params {modelo1.best_params_}\")"
   ]
  },
  {
   "cell_type": "markdown",
   "id": "7d3eb79c",
   "metadata": {},
   "source": [
    "# Entrenamos "
   ]
  },
  {
   "cell_type": "code",
   "execution_count": 21,
   "id": "043416bb",
   "metadata": {},
   "outputs": [
    {
     "data": {
      "text/plain": [
       "GaussianNB(var_smoothing=1e-08)"
      ]
     },
     "execution_count": 21,
     "metadata": {},
     "output_type": "execute_result"
    }
   ],
   "source": [
    "gaussianNB = GaussianNB(var_smoothing = 0.00000001)\n",
    "gaussianNB.fit(X_train, y_train)"
   ]
  },
  {
   "cell_type": "markdown",
   "id": "39531937",
   "metadata": {},
   "source": [
    "# Metricas "
   ]
  },
  {
   "cell_type": "code",
   "execution_count": 71,
   "id": "ec936657",
   "metadata": {},
   "outputs": [
    {
     "name": "stdout",
     "output_type": "stream",
     "text": [
      "                                 precision    recall  f1-score   support\n",
      "\n",
      "No tiene alto valor adquisitivo       0.80      0.98      0.88      2473\n",
      "   Tiene alto valor adquisitivo       0.77      0.21      0.33       784\n",
      "\n",
      "                       accuracy                           0.79      3257\n",
      "                      macro avg       0.78      0.60      0.60      3257\n",
      "                   weighted avg       0.79      0.79      0.75      3257\n",
      "\n"
     ]
    }
   ],
   "source": [
    "y_pred = gaussianNB.predict(X_test)\n",
    "print(classification_report(y_test, y_pred, target_names=['No tiene alto valor adquisitivo','Tiene alto valor adquisitivo']))"
   ]
  },
  {
   "cell_type": "markdown",
   "id": "d5b85160",
   "metadata": {},
   "source": [
    "podemos observar que el recall para si tiene alto poder aquisitivo es muy bajo. "
   ]
  },
  {
   "cell_type": "markdown",
   "id": "702022cb",
   "metadata": {},
   "source": [
    "# Curva Auc Roc"
   ]
  },
  {
   "cell_type": "code",
   "execution_count": 72,
   "id": "082323d1",
   "metadata": {},
   "outputs": [
    {
     "data": {
      "image/png": "[encoded data removed]",
      "text/plain": [
       "<Figure size 432x288 with 1 Axes>"
      ]
     },
     "metadata": {
      "needs_background": "light"
     },
     "output_type": "display_data"
    }
   ],
   "source": [
    "plot_roc_curve(gaussianNB,X_test,y_test,response_method='predict_proba')\n",
    "plt.show()"
   ]
  },
  {
   "cell_type": "markdown",
   "id": "f54d0caf",
   "metadata": {},
   "source": [
    "# Matriz de confusion"
   ]
  },
  {
   "cell_type": "code",
   "execution_count": 73,
   "id": "f5bab95a",
   "metadata": {},
   "outputs": [
    {
     "data": {
      "image/png": "[encoded data removed]",
      "text/plain": [
       "<Figure size 1080x504 with 2 Axes>"
      ]
     },
     "metadata": {
      "needs_background": "light"
     },
     "output_type": "display_data"
    }
   ],
   "source": [
    "from sklearn.metrics import plot_confusion_matrix\n",
    "\n",
    "fig, ax = plt.subplots(figsize=(15, 7))\n",
    "plt.grid(False)\n",
    "plot_confusion_matrix(\n",
    "    gaussianNB, X_test, y_test, cmap=plt.cm.Blues, display_labels=['bajo poder adquisitivo', 'alto poder adquisitivo'], ax=ax\n",
    ")\n",
    "plt.show()"
   ]
  },
  {
   "cell_type": "markdown",
   "id": "995b23f6",
   "metadata": {},
   "source": [
    "# Prediccion sobre el data set de hold out"
   ]
  },
  {
   "cell_type": "code",
   "execution_count": 22,
   "id": "406951d7",
   "metadata": {},
   "outputs": [],
   "source": [
    "final_df2_copy = prepararSet(final_df2)"
   ]
  },
  {
   "cell_type": "code",
   "execution_count": 23,
   "id": "4f629753",
   "metadata": {},
   "outputs": [],
   "source": [
    "final_df_gaussian = prepararSetDeHoldOutGaussianNB(final_df2_copy)"
   ]
  },
  {
   "cell_type": "code",
   "execution_count": 24,
   "id": "62671f01",
   "metadata": {},
   "outputs": [],
   "source": [
    "ho_prediction2 = gaussianNB.predict(final_df_gaussian)\n",
    "aux['tiene_alto_valor_adquisitivo'] = ho_prediction2\n",
    "\n",
    "aux.to_csv('predicciones/gaussianNB.csv')"
   ]
  },
  {
   "cell_type": "code",
   "execution_count": null,
   "id": "27b36f90",
   "metadata": {},
   "outputs": [],
   "source": []
  }
 ],
 "metadata": {
  "kernelspec": {
   "display_name": "Python 3",
   "language": "python",
   "name": "python3"
  },
  "language_info": {
   "codemirror_mode": {
    "name": "ipython",
    "version": 3
   },
   "file_extension": ".py",
   "mimetype": "text/x-python",
   "name": "python",
   "nbconvert_exporter": "python",
   "pygments_lexer": "ipython3",
   "version": "3.8.10"
  }
 },
 "nbformat": 4,
 "nbformat_minor": 5
}
