{
 "cells": [
  {
   "cell_type": "markdown",
   "id": "367a2e69-635a-4ed2-8de7-df226b036fb8",
   "metadata": {},
   "source": [
    "## Naive Bayes "
   ]
  },
  {
   "cell_type": "code",
   "execution_count": 33,
   "id": "d4aa250b-f782-4891-8415-3716d0335dcc",
   "metadata": {},
   "outputs": [],
   "source": [
    "import pandas as pd\n",
    "import numpy as np\n",
    "import matplotlib.pyplot as plt\n",
    "import seaborn as sns\n",
    "from sklearn.metrics import  auc, plot_roc_curve"
   ]
  },
  {
   "cell_type": "code",
   "execution_count": 2,
   "id": "bc7c670c-5c2f-455e-bab3-8f726c50a5c4",
   "metadata": {},
   "outputs": [],
   "source": [
    "from sklearn.model_selection import train_test_split\n",
    "from sklearn.metrics import classification_report\n",
    "from sklearn.metrics import confusion_matrix\n",
    "from sklearn.metrics import roc_auc_score\n",
    "from sklearn.metrics import roc_curve\n",
    "from sklearn.model_selection import KFold, StratifiedKFold\n",
    "from sklearn.model_selection import GridSearchCV"
   ]
  },
  {
   "cell_type": "code",
   "execution_count": 3,
   "id": "b529e605-da98-4d03-9a16-e35edc0339bc",
   "metadata": {},
   "outputs": [],
   "source": [
    "from sklearn.naive_bayes import MultinomialNB\n",
    "from sklearn.naive_bayes import GaussianNB\n",
    "from sklearn.naive_bayes import CategoricalNB"
   ]
  },
  {
   "cell_type": "code",
   "execution_count": 4,
   "id": "4566e8b6-4a0d-468f-b8d4-bdbff8ca7182",
   "metadata": {},
   "outputs": [],
   "source": [
    "from preprocessing import cargarDatasets\n",
    "from preprocessing import prepararSetDeEntrenamiento\n",
    "from preprocessing import prepararSetDeValidacion\n",
    "from preprocessing import ingenieriaDeFeaturesCategoricalNB"
   ]
  },
  {
   "cell_type": "markdown",
   "id": "4df1ef82-ca72-4aa2-a685-d6e1482cc072",
   "metadata": {},
   "source": [
    "# Carga y preprocesamiento de datos"
   ]
  },
  {
   "cell_type": "code",
   "execution_count": 5,
   "id": "0cbb5de8-266c-4d68-acaa-309febdb4d08",
   "metadata": {},
   "outputs": [],
   "source": [
    "train_df,final_df = cargarDatasets()\n",
    "train_df = prepararSetDeEntrenamiento(train_df)\n",
    "final_df = prepararSetDeValidacion(final_df)"
   ]
  },
  {
   "cell_type": "markdown",
   "id": "fe9ca3f5-43fa-4198-bb80-76d802fd7973",
   "metadata": {},
   "source": [
    "Luego de tener cargado el set de datos, vamos a aplicarle determinados preprocesamientos. Par eso vamos a distingir este algoritmos en 3:\n",
    "   *  categorical nb\n",
    "   *  Multinomial nb\n",
    "   * gaussian nb"
   ]
  },
  {
   "cell_type": "markdown",
   "id": "72e6601a-d17d-4567-88c3-ceae4bfc3f44",
   "metadata": {},
   "source": [
    "# Categorical Naive Bayes "
   ]
  },
  {
   "cell_type": "markdown",
   "id": "fe3a50a3-95e2-4dbc-bb0d-9f44a10fcc8b",
   "metadata": {},
   "source": [
    "Este metodo es utilizado para variables categoricas, nos fijamos cuales son categoricas y luego nos desascemos de las que son numericcas."
   ]
  },
  {
   "cell_type": "code",
   "execution_count": 6,
   "id": "11de2c5a-1ced-4b04-a322-74e36557e5c3",
   "metadata": {},
   "outputs": [
    {
     "data": {
      "text/html": [
       "<div>\n",
       "<style scoped>\n",
       "    .dataframe tbody tr th:only-of-type {\n",
       "        vertical-align: middle;\n",
       "    }\n",
       "\n",
       "    .dataframe tbody tr th {\n",
       "        vertical-align: top;\n",
       "    }\n",
       "\n",
       "    .dataframe thead th {\n",
       "        text-align: right;\n",
       "    }\n",
       "</style>\n",
       "<table border=\"1\" class=\"dataframe\">\n",
       "  <thead>\n",
       "    <tr style=\"text-align: right;\">\n",
       "      <th></th>\n",
       "      <th>id</th>\n",
       "      <th>anios_estudiados</th>\n",
       "      <th>barrio</th>\n",
       "      <th>categoria_de_trabajo</th>\n",
       "      <th>edad</th>\n",
       "      <th>educacion_alcanzada</th>\n",
       "      <th>estado_marital</th>\n",
       "      <th>ganancia_perdida_declarada_bolsa_argentina</th>\n",
       "      <th>genero</th>\n",
       "      <th>horas_trabajo_registradas</th>\n",
       "      <th>religion</th>\n",
       "      <th>representatividad_poblacional</th>\n",
       "      <th>rol_familiar_registrado</th>\n",
       "      <th>trabajo</th>\n",
       "    </tr>\n",
       "  </thead>\n",
       "  <tbody>\n",
       "    <tr>\n",
       "      <th>0</th>\n",
       "      <td>1</td>\n",
       "      <td>11</td>\n",
       "      <td>Palermo</td>\n",
       "      <td>relacion_de_dependencia</td>\n",
       "      <td>25</td>\n",
       "      <td>2_anio</td>\n",
       "      <td>sin_matrimonio</td>\n",
       "      <td>0</td>\n",
       "      <td>hombre</td>\n",
       "      <td>40</td>\n",
       "      <td>judaismo</td>\n",
       "      <td>226802</td>\n",
       "      <td>con_hijos</td>\n",
       "      <td>inspector</td>\n",
       "    </tr>\n",
       "    <tr>\n",
       "      <th>1</th>\n",
       "      <td>2</td>\n",
       "      <td>13</td>\n",
       "      <td>Palermo</td>\n",
       "      <td>relacion_de_dependencia</td>\n",
       "      <td>38</td>\n",
       "      <td>4_anio</td>\n",
       "      <td>matrimonio_civil</td>\n",
       "      <td>0</td>\n",
       "      <td>hombre</td>\n",
       "      <td>50</td>\n",
       "      <td>cristianismo</td>\n",
       "      <td>89814</td>\n",
       "      <td>casado</td>\n",
       "      <td>sector_primario</td>\n",
       "    </tr>\n",
       "    <tr>\n",
       "      <th>2</th>\n",
       "      <td>3</td>\n",
       "      <td>16</td>\n",
       "      <td>Palermo</td>\n",
       "      <td>empleado_municipal</td>\n",
       "      <td>28</td>\n",
       "      <td>universidad_2_anio</td>\n",
       "      <td>matrimonio_civil</td>\n",
       "      <td>0</td>\n",
       "      <td>hombre</td>\n",
       "      <td>40</td>\n",
       "      <td>cristianismo</td>\n",
       "      <td>336951</td>\n",
       "      <td>casado</td>\n",
       "      <td>seguridad</td>\n",
       "    </tr>\n",
       "    <tr>\n",
       "      <th>3</th>\n",
       "      <td>4</td>\n",
       "      <td>14</td>\n",
       "      <td>Palermo</td>\n",
       "      <td>relacion_de_dependencia</td>\n",
       "      <td>44</td>\n",
       "      <td>5_anio</td>\n",
       "      <td>matrimonio_civil</td>\n",
       "      <td>7688</td>\n",
       "      <td>hombre</td>\n",
       "      <td>40</td>\n",
       "      <td>judaismo</td>\n",
       "      <td>160323</td>\n",
       "      <td>casado</td>\n",
       "      <td>inspector</td>\n",
       "    </tr>\n",
       "    <tr>\n",
       "      <th>4</th>\n",
       "      <td>5</td>\n",
       "      <td>14</td>\n",
       "      <td>Palermo</td>\n",
       "      <td>No respondio</td>\n",
       "      <td>18</td>\n",
       "      <td>5_anio</td>\n",
       "      <td>sin_matrimonio</td>\n",
       "      <td>0</td>\n",
       "      <td>mujer</td>\n",
       "      <td>30</td>\n",
       "      <td>cristianismo</td>\n",
       "      <td>103497</td>\n",
       "      <td>con_hijos</td>\n",
       "      <td>No respondio</td>\n",
       "    </tr>\n",
       "  </tbody>\n",
       "</table>\n",
       "</div>"
      ],
      "text/plain": [
       "   id  anios_estudiados   barrio     categoria_de_trabajo  edad  \\\n",
       "0   1                11  Palermo  relacion_de_dependencia    25   \n",
       "1   2                13  Palermo  relacion_de_dependencia    38   \n",
       "2   3                16  Palermo       empleado_municipal    28   \n",
       "3   4                14  Palermo  relacion_de_dependencia    44   \n",
       "4   5                14  Palermo             No respondio    18   \n",
       "\n",
       "  educacion_alcanzada    estado_marital  \\\n",
       "0              2_anio    sin_matrimonio   \n",
       "1              4_anio  matrimonio_civil   \n",
       "2  universidad_2_anio  matrimonio_civil   \n",
       "3              5_anio  matrimonio_civil   \n",
       "4              5_anio    sin_matrimonio   \n",
       "\n",
       "   ganancia_perdida_declarada_bolsa_argentina  genero  \\\n",
       "0                                           0  hombre   \n",
       "1                                           0  hombre   \n",
       "2                                           0  hombre   \n",
       "3                                        7688  hombre   \n",
       "4                                           0   mujer   \n",
       "\n",
       "   horas_trabajo_registradas      religion  representatividad_poblacional  \\\n",
       "0                         40      judaismo                         226802   \n",
       "1                         50  cristianismo                          89814   \n",
       "2                         40  cristianismo                         336951   \n",
       "3                         40      judaismo                         160323   \n",
       "4                         30  cristianismo                         103497   \n",
       "\n",
       "  rol_familiar_registrado          trabajo  \n",
       "0               con_hijos        inspector  \n",
       "1                  casado  sector_primario  \n",
       "2                  casado        seguridad  \n",
       "3                  casado        inspector  \n",
       "4               con_hijos     No respondio  "
      ]
     },
     "execution_count": 6,
     "metadata": {},
     "output_type": "execute_result"
    }
   ],
   "source": [
    "final_df.head()"
   ]
  },
  {
   "cell_type": "markdown",
   "id": "c8ba50fd-a21e-4305-9863-bfe2e639816e",
   "metadata": {},
   "source": [
    "vemos que las que son categoricas son barrio, genero, estado_marital, religion, trabajo, rol familiar y educacion_alcanza. Dentro de estas no vamos a tener en cuenta ni el barrio ni la religion ya que cuando hicimos el analisis previo vimos que eran features irrelevantes con respecto a la variable target. Luego estado marital y rol familiar estaban muy relacionados por lo que nos quedamos con estado marital."
   ]
  },
  {
   "cell_type": "code",
   "execution_count": 7,
   "id": "e15767a3-c3d9-45a4-98ac-17f7bfdacbdf",
   "metadata": {},
   "outputs": [],
   "source": [
    "X,y,df,y_encoder = ingenieriaDeFeaturesCategoricalNB(train_df)"
   ]
  },
  {
   "cell_type": "code",
   "execution_count": 8,
   "id": "eef1eece-fffe-46a6-a253-a5b710277d74",
   "metadata": {},
   "outputs": [],
   "source": [
    "X_train, X_test, y_train, y_test = train_test_split(X, y, random_state=117, test_size=0.1, stratify=y)"
   ]
  },
  {
   "cell_type": "markdown",
   "id": "5406b179-c817-42e6-99a8-810ccaa8b268",
   "metadata": {},
   "source": [
    "Ahora buscamos los mejores hiperparametros, en este caso solo tenemos alfa, en la cual nos indic que tan smothing se van a realizar las diferenctes convinaciones para evitar la probalidad cero. "
   ]
  },
  {
   "cell_type": "code",
   "execution_count": 27,
   "id": "52ece6fc-9521-4b8e-88dc-2441da03ec1c",
   "metadata": {},
   "outputs": [],
   "source": [
    "parametrosCategorica = [{'alpha': [0.0005,0.001,0.01,0.1,0.3,0.5,0.7,1,2,3,5, 10, 15, 20, 50]}]"
   ]
  },
  {
   "cell_type": "code",
   "execution_count": 28,
   "id": "ba0178e1-e0ff-49db-b8f0-33fcb067f459",
   "metadata": {},
   "outputs": [],
   "source": [
    "categorical = CategoricalNB()\n",
    "modelo1 = GridSearchCV(\n",
    "    categorical, parametrosCategorica, scoring='roc_auc', n_jobs=-1, cv=5, return_train_score=True\n",
    ").fit(X_train, y_train)"
   ]
  },
  {
   "cell_type": "code",
   "execution_count": 29,
   "id": "025c7314-d996-4597-8683-7e052de3d3d3",
   "metadata": {},
   "outputs": [
    {
     "name": "stdout",
     "output_type": "stream",
     "text": [
      "Best score: 0.841265615318051\n",
      "Best params {'alpha': 0.1}\n"
     ]
    }
   ],
   "source": [
    "print(f\"Best score: {modelo1.best_score_}\")\n",
    "print(f\"Best params {modelo1.best_params_}\")"
   ]
  },
  {
   "cell_type": "markdown",
   "id": "02679e9e-63e4-4f16-b0a8-b57d56f3f366",
   "metadata": {},
   "source": [
    "# Entrenamos "
   ]
  },
  {
   "cell_type": "code",
   "execution_count": 31,
   "id": "568dd77e-e78e-4232-8521-ec14b48982f9",
   "metadata": {},
   "outputs": [
    {
     "data": {
      "text/plain": [
       "CategoricalNB(alpha=0.1)"
      ]
     },
     "execution_count": 31,
     "metadata": {},
     "output_type": "execute_result"
    }
   ],
   "source": [
    "categoricalNB = CategoricalNB(alpha=0.1)\n",
    "\n",
    "categoricalNB.fit(X_train, y_train)\n"
   ]
  },
  {
   "cell_type": "markdown",
   "id": "86caa761-40e3-45f4-9f20-64814336e425",
   "metadata": {},
   "source": [
    "# Metricas"
   ]
  },
  {
   "cell_type": "code",
   "execution_count": 32,
   "id": "e0f367ba-b9e8-4c2f-8dea-81721e2ba33b",
   "metadata": {},
   "outputs": [
    {
     "name": "stdout",
     "output_type": "stream",
     "text": [
      "                                 precision    recall  f1-score   support\n",
      "\n",
      "No tiene alto valor adquisitivo       0.86      0.87      0.87      2473\n",
      "   Tiene alto valor adquisitivo       0.58      0.57      0.57       784\n",
      "\n",
      "                       accuracy                           0.80      3257\n",
      "                      macro avg       0.72      0.72      0.72      3257\n",
      "                   weighted avg       0.80      0.80      0.80      3257\n",
      "\n"
     ]
    }
   ],
   "source": [
    "y_pred = categoricalNB.predict(X_test)\n",
    "print(classification_report(y_test, y_pred, target_names=['No tiene alto valor adquisitivo','Tiene alto valor adquisitivo']))"
   ]
  },
  {
   "cell_type": "markdown",
   "id": "fb8d099f-3602-4168-968f-3ac0b735bc46",
   "metadata": {},
   "source": [
    "# Curva auc roc"
   ]
  },
  {
   "cell_type": "code",
   "execution_count": 35,
   "id": "6de44b8f-013c-44fe-b653-ec62f4f9794b",
   "metadata": {},
   "outputs": [
    {
     "data": {
      "image/png": "[encoded data removed]",
      "text/plain": [
       "<Figure size 432x288 with 1 Axes>"
      ]
     },
     "metadata": {
      "needs_background": "light"
     },
     "output_type": "display_data"
    }
   ],
   "source": [
    "plot_roc_curve(categoricalNB,X_test,y_test,response_method='predict_proba')\n",
    "plt.show()"
   ]
  },
  {
   "cell_type": "markdown",
   "id": "6a0982df-bb41-4ca6-a2a2-fbcedf5bb9d1",
   "metadata": {},
   "source": [
    "# Matriz de Confucion "
   ]
  },
  {
   "cell_type": "code",
   "execution_count": 37,
   "id": "fd23c1e4-01ba-406a-b7c8-8be8683f5714",
   "metadata": {},
   "outputs": [
    {
     "data": {
      "image/png": "[encoded data removed]",
      "text/plain": [
       "<Figure size 1080x504 with 2 Axes>"
      ]
     },
     "metadata": {
      "needs_background": "light"
     },
     "output_type": "display_data"
    }
   ],
   "source": [
    "from sklearn.metrics import plot_confusion_matrix\n",
    "\n",
    "fig, ax = plt.subplots(figsize=(15, 7))\n",
    "plt.grid(False)\n",
    "plot_confusion_matrix(\n",
    "    categoricalNB, X_test, y_test, cmap=plt.cm.Blues, display_labels=['bajo podes adquisitivo', 'alto poder adquisitivo'], ax=ax\n",
    ")\n",
    "plt.show()"
   ]
  },
  {
   "cell_type": "markdown",
   "id": "7d58e45c-4a59-4feb-8dd8-91acf80968be",
   "metadata": {},
   "source": [
    "## MultinomialNB"
   ]
  },
  {
   "cell_type": "code",
   "execution_count": null,
   "id": "cbfe1336-41b4-45bc-b47f-8d77cf25e155",
   "metadata": {},
   "outputs": [],
   "source": [
    "este modelo es utilizado para variables discretas, nos fijamos cuales son discretas "
   ]
  }
 ],
 "metadata": {
  "kernelspec": {
   "display_name": "Python 3",
   "language": "python",
   "name": "python3"
  },
  "language_info": {
   "codemirror_mode": {
    "name": "ipython",
    "version": 3
   },
   "file_extension": ".py",
   "mimetype": "text/x-python",
   "name": "python",
   "nbconvert_exporter": "python",
   "pygments_lexer": "ipython3",
   "version": "3.8.5"
  }
 },
 "nbformat": 4,
 "nbformat_minor": 5
}
