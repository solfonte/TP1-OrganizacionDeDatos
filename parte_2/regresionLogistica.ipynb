{
 "cells": [
  {
   "cell_type": "markdown",
   "id": "18e735f3",
   "metadata": {},
   "source": [
    "# Regresion logistica\n",
    "La documentacion sobre el modelo la obtenemos de:  \n",
    "https://scikit-learn.org/stable/modules/generated/sklearn.linear_model.LogisticRegression.html"
   ]
  },
  {
   "cell_type": "code",
   "execution_count": 17,
   "id": "2dc2218c",
   "metadata": {},
   "outputs": [],
   "source": [
    "import numpy as np\n",
    "import pandas as pd\n",
    "import seaborn as sns\n",
    "\n",
    "from preprocessing import cargarDatasets\n",
    "from preprocessing import prepararSet\n",
    "from preprocessing import ingenieriaDeFeaturesVariablesNormalizadas\n",
    "from preprocessing import ingenieriaDeFeauturesVariablesNormalizadasME\n",
    "\n",
    "from sklearn.linear_model import LogisticRegression\n",
    "from sklearn.metrics import accuracy_score, roc_auc_score, precision_score, recall_score,mean_squared_error\n",
    "from sklearn.model_selection import train_test_split,GridSearchCV"
   ]
  },
  {
   "cell_type": "markdown",
   "id": "751211e6",
   "metadata": {},
   "source": [
    "## Carga y preprocesamiento de los datos"
   ]
  },
  {
   "cell_type": "markdown",
   "id": "e2b5f22d",
   "metadata": {},
   "source": [
    "Cargamos los datasets y preparamos los datos para entrenar la regresion."
   ]
  },
  {
   "cell_type": "code",
   "execution_count": 18,
   "id": "0fdc6090",
   "metadata": {},
   "outputs": [],
   "source": [
    "train_df,final_df = cargarDatasets()\n",
    "train_df = prepararSet(train_df)"
   ]
  },
  {
   "cell_type": "code",
   "execution_count": 19,
   "id": "ef108962",
   "metadata": {},
   "outputs": [],
   "source": [
    "X,y,df,y_encoder = ingenieriaDeFeaturesVariablesNormalizadas(train_df)\n",
    "X_train, X_test, y_train, y_test = train_test_split(X, y, random_state=117, test_size=0.1, stratify=y)\n",
    "\n",
    "X_2,y_2,df_2,y_encoder_2,meanEncoding = ingenieriaDeFeauturesVariablesNormalizadasME(train_df)\n",
    "X_train_2, X_test_2, y_train_2, y_test_2 = train_test_split(X_2, y_2, random_state=117, test_size=0.1, stratify=y_2)"
   ]
  },
  {
   "cell_type": "markdown",
   "id": "4694234a",
   "metadata": {},
   "source": [
    "Queremos encontrar los mejores hiperparametros para la regresion. Con estos hiperparametros buscamos minimizar el error en las predicciones, construyendo un modelo robusto y regularizado, para que logre generalizar para datos futuros.\n",
    "\n",
    "Parametros:\n",
    "* C: que tanto regularizamos. Similar al C de SVM, cuanto mas pequeño este valor mas fuerte sera la regularizacion.  \n",
    "* penalty: tipo de regularizacion, estas pueden ser l1 (lasso), l2 (ridge) o elastic net.\n"
   ]
  },
  {
   "cell_type": "code",
   "execution_count": 20,
   "id": "0c53b87d",
   "metadata": {},
   "outputs": [],
   "source": [
    "params = [\n",
    "    {'penalty' : ['l1','l2','elasticnet'],\n",
    "     'C' : [0.001,0.005,0.01,0.05,0.1,0.3,1,3,5,10,30,50,55,75,100,120,150,],   \n",
    "    }]"
   ]
  },
  {
   "cell_type": "code",
   "execution_count": 21,
   "id": "ac1a1020",
   "metadata": {},
   "outputs": [
    {
     "name": "stdout",
     "output_type": "stream",
     "text": [
      "Best score: 0.8930353283762277\n",
      "Best params {'C': 0.3, 'penalty': 'l2'}\n"
     ]
    }
   ],
   "source": [
    "regresion1 = LogisticRegression(random_state = 0)\n",
    "\n",
    "gscv1 = GridSearchCV(\n",
    "    regresion1, params, scoring='roc_auc', n_jobs=-1, cv=2, return_train_score=True\n",
    ").fit(X_train, y_train)\n",
    "\n",
    "print(f\"Best score: {gscv1.best_score_}\")\n",
    "print(f\"Best params {gscv1.best_params_}\")"
   ]
  },
  {
   "cell_type": "markdown",
   "id": "c7b9e490",
   "metadata": {},
   "source": [
    "Obtenemos:  \n",
    "Best score: 0.8930353283762277  \n",
    "Best params {'C': 0.3, 'penalty': 'l2'}"
   ]
  },
  {
   "cell_type": "code",
   "execution_count": 22,
   "id": "2c6e2031",
   "metadata": {},
   "outputs": [
    {
     "name": "stdout",
     "output_type": "stream",
     "text": [
      "Best score: 0.888072427164029\n",
      "Best params {'C': 0.1, 'penalty': 'l2'}\n"
     ]
    }
   ],
   "source": [
    "regresion2 = LogisticRegression(random_state = 0)\n",
    "\n",
    "gscv2 = GridSearchCV(\n",
    "    regresion2, params, scoring='roc_auc', n_jobs=-1, cv=2, return_train_score=True\n",
    ").fit(X_train_2, y_train_2)\n",
    "\n",
    "print(f\"Best score: {gscv2.best_score_}\")\n",
    "print(f\"Best params {gscv2.best_params_}\")"
   ]
  },
  {
   "cell_type": "markdown",
   "id": "606f8d5f",
   "metadata": {},
   "source": [
    "Obtenemos:  \n",
    "Best score: 0.888072427164029  \n",
    "Best params {'C': 0.1, 'penalty': 'l2'}"
   ]
  },
  {
   "cell_type": "markdown",
   "id": "e003be4c",
   "metadata": {},
   "source": [
    "Nos quedamos con la primera regresion, para la cual obtuvimos un roc score ligeramente mejor. "
   ]
  },
  {
   "cell_type": "code",
   "execution_count": 23,
   "id": "324a6a41",
   "metadata": {},
   "outputs": [],
   "source": [
    "params = {'C': 0.1, 'penalty': 'l2'}\n",
    "\n",
    "regresion1.set_params(**params)\n",
    "regresion1.fit(X_train, y_train)\n",
    "y_pred = regresion1.predict(X_test)"
   ]
  },
  {
   "cell_type": "markdown",
   "id": "98486a1d",
   "metadata": {},
   "source": [
    "## Evaluacion de metricas  \n",
    "Las metricas a utilizar son:\n",
    "* AUC-ROC  \n",
    "* Matriz de confusión  \n",
    "* Accuracy  \n",
    "* Precisión  \n",
    "* Recall \n",
    "Primero observamos las metricas obtenidas de las predicciones con el set de prueba."
   ]
  },
  {
   "cell_type": "code",
   "execution_count": 24,
   "id": "bc69c1c1",
   "metadata": {},
   "outputs": [
    {
     "name": "stdout",
     "output_type": "stream",
     "text": [
      "              precision    recall  f1-score   support\n",
      "\n",
      "           0       0.87      0.93      0.90      2473\n",
      "           1       0.73      0.56      0.63       784\n",
      "\n",
      "    accuracy                           0.84      3257\n",
      "   macro avg       0.80      0.75      0.77      3257\n",
      "weighted avg       0.83      0.84      0.84      3257\n",
      "\n"
     ]
    }
   ],
   "source": [
    "from sklearn.metrics import classification_report\n",
    "\n",
    "print(classification_report(y_test, regresion1.predict(X_test)))"
   ]
  },
  {
   "cell_type": "markdown",
   "id": "8b46510d",
   "metadata": {},
   "source": [
    "### Curva AUC ROC"
   ]
  },
  {
   "cell_type": "code",
   "execution_count": 25,
   "id": "3565bd7c",
   "metadata": {},
   "outputs": [],
   "source": [
    "import matplotlib.pyplot as plt\n",
    "from sklearn.metrics import roc_curve, auc, plot_roc_curve"
   ]
  },
  {
   "cell_type": "code",
   "execution_count": 26,
   "id": "8c02b264",
   "metadata": {},
   "outputs": [
    {
     "data": {
      "image/png": "[encoded data removed]",
      "text/plain": [
       "<Figure size 432x288 with 1 Axes>"
      ]
     },
     "metadata": {
      "needs_background": "light"
     },
     "output_type": "display_data"
    }
   ],
   "source": [
    "plot_roc_curve(regresion1,X_test,y_test,response_method='predict_proba')\n",
    "plt.show()"
   ]
  },
  {
   "cell_type": "markdown",
   "id": "3a3194ac",
   "metadata": {},
   "source": [
    "### Matriz de confusion"
   ]
  },
  {
   "cell_type": "code",
   "execution_count": 27,
   "id": "6486391e",
   "metadata": {},
   "outputs": [
    {
     "data": {
      "image/png": "[encoded data removed]",
      "text/plain": [
       "<Figure size 1080x504 with 2 Axes>"
      ]
     },
     "metadata": {
      "needs_background": "light"
     },
     "output_type": "display_data"
    }
   ],
   "source": [
    "from sklearn.metrics import plot_confusion_matrix\n",
    "\n",
    "fig, ax = plt.subplots(figsize=(15, 7))\n",
    "plt.grid(False)\n",
    "plot_confusion_matrix(\n",
    "    regresion1, X_test, y_test, cmap=plt.cm.Blues, display_labels=['no tiene alto valor adquisitivo', 'tiene alto valor adquisitivo'], ax=ax\n",
    ")\n",
    "plt.show()"
   ]
  },
  {
   "cell_type": "markdown",
   "id": "fe9a5d08",
   "metadata": {},
   "source": [
    "### Accuracy"
   ]
  },
  {
   "cell_type": "code",
   "execution_count": 28,
   "id": "d671f1ed",
   "metadata": {},
   "outputs": [
    {
     "data": {
      "text/plain": [
       "0.842800122812404"
      ]
     },
     "execution_count": 28,
     "metadata": {},
     "output_type": "execute_result"
    }
   ],
   "source": [
    "accuracy_score(y_test, y_pred) "
   ]
  },
  {
   "cell_type": "markdown",
   "id": "9f581654",
   "metadata": {},
   "source": [
    "### Precision"
   ]
  },
  {
   "cell_type": "code",
   "execution_count": 29,
   "id": "0f9d5963",
   "metadata": {},
   "outputs": [
    {
     "data": {
      "text/plain": [
       "0.7259136212624585"
      ]
     },
     "execution_count": 29,
     "metadata": {},
     "output_type": "execute_result"
    }
   ],
   "source": [
    "precision_score(y_test, y_pred)"
   ]
  },
  {
   "cell_type": "markdown",
   "id": "b7109665",
   "metadata": {},
   "source": [
    "### Recall"
   ]
  },
  {
   "cell_type": "code",
   "execution_count": 30,
   "id": "7bf21edb",
   "metadata": {},
   "outputs": [
    {
     "data": {
      "text/plain": [
       "0.5573979591836735"
      ]
     },
     "execution_count": 30,
     "metadata": {},
     "output_type": "execute_result"
    }
   ],
   "source": [
    "recall_score(y_test, y_pred)"
   ]
  },
  {
   "cell_type": "markdown",
   "id": "3273ba4d",
   "metadata": {},
   "source": [
    "## Predicciones sobre el set de hold out"
   ]
  },
  {
   "cell_type": "code",
   "execution_count": 15,
   "id": "b1c8b257",
   "metadata": {},
   "outputs": [],
   "source": [
    "from preprocessing import prepararSetDeHoldOutRegresion"
   ]
  },
  {
   "cell_type": "code",
   "execution_count": 31,
   "id": "3ad89793",
   "metadata": {},
   "outputs": [],
   "source": [
    "aux = final_df.copy()\n",
    "\n",
    "final_df_copy = prepararSetDeHoldOutRegresion(final_df)\n",
    "ho_prediction = regresion1.predict(final_df_copy)\n",
    "\n",
    "aux['tiene_alto_valor_adquisitivo'] = ho_prediction\n",
    "aux.to_csv('predicciones/regresion.csv')"
   ]
  }
 ],
 "metadata": {
  "kernelspec": {
   "display_name": "Python 3",
   "language": "python",
   "name": "python3"
  },
  "language_info": {
   "codemirror_mode": {
    "name": "ipython",
    "version": 3
   },
   "file_extension": ".py",
   "mimetype": "text/x-python",
   "name": "python",
   "nbconvert_exporter": "python",
   "pygments_lexer": "ipython3",
   "version": "3.8.10"
  }
 },
 "nbformat": 4,
 "nbformat_minor": 5
}
