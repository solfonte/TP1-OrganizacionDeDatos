{
 "cells": [
  {
   "cell_type": "markdown",
   "id": "13b18b8f",
   "metadata": {},
   "source": [
    "# Regresion logistica"
   ]
  },
  {
   "cell_type": "markdown",
   "id": "59a50ca4",
   "metadata": {},
   "source": [
    "En este notebook vamos a ajustar los datos a traves de una regresion logistica.  \n",
    "Los supuestos del modelo lineal Y = β₀ + β₁ X + ε son que los errores ε tienen media poblacional cero y varianza constante, y que son independientes para distintas observaciones."
   ]
  },
  {
   "cell_type": "code",
   "execution_count": 1,
   "id": "657aafa4",
   "metadata": {},
   "outputs": [],
   "source": [
    "import numpy as np\n",
    "import pandas as pd\n",
    "import seaborn as sns\n",
    "\n",
    "from preprocessing import cargarDatasets\n",
    "from preprocessing import prepararSetDeEntrenamiento\n",
    "from preprocessing import prepararSetDeValidacion\n",
    "from preprocessing import ingenieriaDeFeauturesRegresion1\n",
    "#from preprocessing import ingenieriaDeFeauturesRegresion2\n",
    "\n",
    "from sklearn.linear_model import LogisticRegression\n",
    "from sklearn.metrics import accuracy_score, roc_auc_score, precision_score, recall_score,mean_squared_error\n",
    "from sklearn.model_selection import train_test_split,GridSearchCV"
   ]
  },
  {
   "cell_type": "markdown",
   "id": "bab904fd",
   "metadata": {},
   "source": [
    "## Carga y preprocesamiento de los datos"
   ]
  },
  {
   "cell_type": "markdown",
   "id": "a755df3f",
   "metadata": {},
   "source": [
    "Cargamos los datasets y preparamos los datos para entrenar la regresion."
   ]
  },
  {
   "cell_type": "code",
   "execution_count": 2,
   "id": "23855fdf",
   "metadata": {},
   "outputs": [],
   "source": [
    "train_df,final_df = cargarDatasets()\n",
    "train_df = prepararSetDeEntrenamiento(train_df)\n",
    "final_df = prepararSetDeValidacion(final_df)"
   ]
  },
  {
   "cell_type": "code",
   "execution_count": 3,
   "id": "32d182aa",
   "metadata": {},
   "outputs": [],
   "source": [
    "X,y,df,y_encoder = ingenieriaDeFeauturesRegresion1(train_df)\n",
    "X_train, X_test, y_train, y_test = train_test_split(X, y, random_state=117, test_size=0.1, stratify=y)"
   ]
  },
  {
   "cell_type": "markdown",
   "id": "daf31d2b",
   "metadata": {},
   "source": [
    "Queremos encontrar los mejores hiperparametros para la regresion. Con estos hiperparametros buscamos minimizar el error en las predicciones, construyendo un modelo robusto y regularizado, para que logre generalizar para datos futuros. Como buscamos elegir el modelo con mejor AUC score, los hiperparametros con los que entrenaremos a la regresion seran los que maximicen el mismo.\n",
    "\n",
    "Parametros:\n",
    "* C -> que tanto regularizamos. Similar al C de SVM, cuanto mas pequenio este valor mas fuerte sera la regularizacion.  \n",
    "* penalty -> tipo de regularizacion, estas pueden ser l1 (lasso), l2 (ridge) o elastic net.\n"
   ]
  },
  {
   "cell_type": "code",
   "execution_count": 4,
   "id": "782f121b",
   "metadata": {},
   "outputs": [],
   "source": [
    "params = [\n",
    "    {'penalty' : ['l1','l2','elasticnet'],\n",
    "     'C' : [0.001,0.005,0.01,0.05,0.1,0.3,1,3,5,10,30,50,55,75,100,120,150,],   \n",
    "    }]"
   ]
  },
  {
   "cell_type": "code",
   "execution_count": 5,
   "id": "09d0fd6f",
   "metadata": {},
   "outputs": [],
   "source": [
    "regresion = LogisticRegression(random_state = 0)\n",
    "\n",
    "gscv = GridSearchCV(\n",
    "    regresion, params, scoring='roc_auc', n_jobs=-1, cv=5, return_train_score=True\n",
    ").fit(X_train, y_train)"
   ]
  },
  {
   "cell_type": "code",
   "execution_count": 6,
   "id": "f5e4ee5e",
   "metadata": {},
   "outputs": [],
   "source": [
    "regresion.fit(X_train, y_train)\n",
    "y_pred = regresion.predict(X_test)"
   ]
  },
  {
   "cell_type": "code",
   "execution_count": 7,
   "id": "2eda526f",
   "metadata": {},
   "outputs": [
    {
     "name": "stdout",
     "output_type": "stream",
     "text": [
      "Best score: 0.892964190294417\n",
      "Best params {'C': 0.1, 'penalty': 'l2'}\n"
     ]
    }
   ],
   "source": [
    "print(f\"Best score: {gscv.best_score_}\")\n",
    "print(f\"Best params {gscv.best_params_}\")"
   ]
  },
  {
   "cell_type": "markdown",
   "id": "4d58bc9f",
   "metadata": {},
   "source": [
    "## Evaluacion de metricas  \n",
    "Las metricas a utilizar son:\n",
    "* AUC-ROC  \n",
    "* Matriz de confusión  \n",
    "* Accuracy  \n",
    "* Precisión  \n",
    "* Recall \n",
    "Primero observamos las metricas obtenidas de las predicciones con el set de prueba."
   ]
  },
  {
   "cell_type": "code",
   "execution_count": 8,
   "id": "784b646a",
   "metadata": {},
   "outputs": [
    {
     "name": "stdout",
     "output_type": "stream",
     "text": [
      "              precision    recall  f1-score   support\n",
      "\n",
      "           0       0.87      0.93      0.90      2473\n",
      "           1       0.72      0.56      0.63       784\n",
      "\n",
      "    accuracy                           0.84      3257\n",
      "   macro avg       0.80      0.75      0.77      3257\n",
      "weighted avg       0.83      0.84      0.83      3257\n",
      "\n"
     ]
    }
   ],
   "source": [
    "from sklearn.metrics import classification_report\n",
    "\n",
    "print(classification_report(y_test, regresion.predict(X_test)))"
   ]
  },
  {
   "cell_type": "markdown",
   "id": "d2cee2d6",
   "metadata": {},
   "source": [
    "**conclusion maybe**"
   ]
  },
  {
   "cell_type": "markdown",
   "id": "aee0a866",
   "metadata": {},
   "source": [
    "### Curva AUC ROC"
   ]
  },
  {
   "cell_type": "code",
   "execution_count": 9,
   "id": "b7427ccd",
   "metadata": {},
   "outputs": [],
   "source": [
    "import matplotlib.pyplot as plt\n",
    "from sklearn.metrics import roc_curve, auc, plot_roc_curve"
   ]
  },
  {
   "cell_type": "code",
   "execution_count": 10,
   "id": "13e07ed1",
   "metadata": {},
   "outputs": [],
   "source": [
    "fpr, tpr, thresholds = roc_curve(y_test, regresion.predict_proba(X_test)[:,1]) #creo que esto es al pedo"
   ]
  },
  {
   "cell_type": "code",
   "execution_count": 11,
   "id": "a49425b1",
   "metadata": {},
   "outputs": [
    {
     "data": {
      "image/png": "[encoded data removed]",
      "text/plain": [
       "<Figure size 432x288 with 1 Axes>"
      ]
     },
     "metadata": {
      "needs_background": "light"
     },
     "output_type": "display_data"
    }
   ],
   "source": [
    "plot_roc_curve(regresion,X_test,y_test,response_method='predict_proba')\n",
    "plt.show()"
   ]
  },
  {
   "cell_type": "markdown",
   "id": "7f5b9077",
   "metadata": {},
   "source": [
    "**conclusion**"
   ]
  },
  {
   "cell_type": "markdown",
   "id": "8acd239e",
   "metadata": {},
   "source": [
    "### Matriz de confusion"
   ]
  },
  {
   "cell_type": "code",
   "execution_count": 12,
   "id": "2d9eca14",
   "metadata": {},
   "outputs": [
    {
     "data": {
      "image/png": "[encoded data removed]",
      "text/plain": [
       "<Figure size 1080x504 with 2 Axes>"
      ]
     },
     "metadata": {
      "needs_background": "light"
     },
     "output_type": "display_data"
    }
   ],
   "source": [
    "from sklearn.metrics import plot_confusion_matrix\n",
    "\n",
    "fig, ax = plt.subplots(figsize=(15, 7))\n",
    "plt.grid(False)\n",
    "plot_confusion_matrix(\n",
    "    regresion, X_test, y_test, cmap=plt.cm.Blues, display_labels=['1', '0'], ax=ax\n",
    ")\n",
    "plt.show()"
   ]
  },
  {
   "cell_type": "markdown",
   "id": "6b43b5b4",
   "metadata": {},
   "source": [
    "### Accuracy"
   ]
  },
  {
   "cell_type": "code",
   "execution_count": 13,
   "id": "a22c942e",
   "metadata": {},
   "outputs": [
    {
     "data": {
      "text/plain": [
       "0.842493091802272"
      ]
     },
     "execution_count": 13,
     "metadata": {},
     "output_type": "execute_result"
    }
   ],
   "source": [
    "accuracy_score(y_test, y_pred) "
   ]
  },
  {
   "cell_type": "markdown",
   "id": "e73e0cff",
   "metadata": {},
   "source": [
    "### Precision"
   ]
  },
  {
   "cell_type": "code",
   "execution_count": 14,
   "id": "9f49b6df",
   "metadata": {},
   "outputs": [
    {
     "data": {
      "text/plain": [
       "0.724709784411277"
      ]
     },
     "execution_count": 14,
     "metadata": {},
     "output_type": "execute_result"
    }
   ],
   "source": [
    "precision_score(y_test, y_pred)"
   ]
  },
  {
   "cell_type": "markdown",
   "id": "b647ec41",
   "metadata": {},
   "source": [
    "### Recall"
   ]
  },
  {
   "cell_type": "code",
   "execution_count": 15,
   "id": "2fdd74d4",
   "metadata": {},
   "outputs": [
    {
     "data": {
      "text/plain": [
       "0.5573979591836735"
      ]
     },
     "execution_count": 15,
     "metadata": {},
     "output_type": "execute_result"
    }
   ],
   "source": [
    "recall_score(y_test, y_pred)"
   ]
  },
  {
   "cell_type": "code",
   "execution_count": 16,
   "id": "f97451df",
   "metadata": {},
   "outputs": [
    {
     "data": {
      "text/plain": [
       "LogisticRegression(C=0.1, random_state=0)"
      ]
     },
     "execution_count": 16,
     "metadata": {},
     "output_type": "execute_result"
    }
   ],
   "source": [
    "regresionFinal = LogisticRegression(penalty = 'l2',C = 0.1, random_state = 0)\n",
    "regresionFinal.fit(X_train, y_train)"
   ]
  },
  {
   "cell_type": "markdown",
   "id": "be0a46dc",
   "metadata": {},
   "source": [
    "### Residual plot\n",
    "Queremos observar que los residuos cumplan con los supuestos del modelo. Si no se cumplen, tal vez el modelo lineal no sea lo mejor para predecir"
   ]
  },
  {
   "cell_type": "code",
   "execution_count": 17,
   "id": "1a5600a1",
   "metadata": {},
   "outputs": [
    {
     "data": {
      "text/plain": [
       "<AxesSubplot:xlabel='Predicciones', ylabel='Residuos'>"
      ]
     },
     "execution_count": 17,
     "metadata": {},
     "output_type": "execute_result"
    },
    {
     "data": {
      "image/png": "[encoded data removed]",
      "text/plain": [
       "<Figure size 720x360 with 1 Axes>"
      ]
     },
     "metadata": {
      "needs_background": "light"
     },
     "output_type": "display_data"
    }
   ],
   "source": [
    "plt.rcParams['figure.figsize'] = (10, 5)\n",
    "\n",
    "preds = pd.DataFrame({\"Predicciones\": y_pred, \"true\": y_test})\n",
    "preds[\"Residuos\"] = preds[\"true\"] - preds[\"Predicciones\"]\n",
    "preds.plot(x=\"Predicciones\", y=\"Residuos\", kind=\"scatter\")"
   ]
  },
  {
   "cell_type": "markdown",
   "id": "73e6d1e0",
   "metadata": {},
   "source": [
    "**creo que hay un patron**"
   ]
  },
  {
   "cell_type": "markdown",
   "id": "6e9db88c",
   "metadata": {},
   "source": [
    "## Predicciones sobre el set de hold out"
   ]
  },
  {
   "cell_type": "code",
   "execution_count": null,
   "id": "9e2f044a",
   "metadata": {},
   "outputs": [],
   "source": [
    "#falta preprocesamiento de los datos.\n",
    "\n",
    "ho_prediction = arbol_1.predict(final_df)\n",
    "final_df['tiene_alto_valor_adquisitivo'] = ho_prediction"
   ]
  }
 ],
 "metadata": {
  "kernelspec": {
   "display_name": "Python 3",
   "language": "python",
   "name": "python3"
  },
  "language_info": {
   "codemirror_mode": {
    "name": "ipython",
    "version": 3
   },
   "file_extension": ".py",
   "mimetype": "text/x-python",
   "name": "python",
   "nbconvert_exporter": "python",
   "pygments_lexer": "ipython3",
   "version": "3.8.5"
  }
 },
 "nbformat": 4,
 "nbformat_minor": 5
}
