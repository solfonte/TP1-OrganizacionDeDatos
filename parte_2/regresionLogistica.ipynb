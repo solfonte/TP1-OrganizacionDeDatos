{
 "cells": [
  {
   "cell_type": "markdown",
   "id": "834a47e7",
   "metadata": {},
   "source": [
    "# Regresion logistica\n",
    "La documentacion sobre el modelo la obtenemos de:  \n",
    "https://scikit-learn.org/stable/modules/generated/sklearn.linear_model.LogisticRegression.html"
   ]
  },
  {
   "cell_type": "code",
   "execution_count": 1,
   "id": "2d50f36c",
   "metadata": {},
   "outputs": [],
   "source": [
    "import numpy as np\n",
    "import pandas as pd\n",
    "import seaborn as sns\n",
    "\n",
    "from preprocessing import cargarDatasets\n",
    "from preprocessing import prepararSet\n",
    "from preprocessing import ingenieriaDeFeaturesVariablesNormalizadas\n",
    "from preprocessing import ingenieriaDeFeauturesVariablesNormalizadasME\n",
    "\n",
    "from sklearn.linear_model import LogisticRegression\n",
    "from sklearn.metrics import accuracy_score, roc_auc_score, precision_score, recall_score,mean_squared_error\n",
    "from sklearn.model_selection import train_test_split,GridSearchCV"
   ]
  },
  {
   "cell_type": "markdown",
   "id": "0fc66c68",
   "metadata": {},
   "source": [
    "## Carga y preprocesamiento de los datos"
   ]
  },
  {
   "cell_type": "markdown",
   "id": "8d51a722",
   "metadata": {},
   "source": [
    "Cargamos los datasets y preparamos los datos para entrenar la regresion."
   ]
  },
  {
   "cell_type": "code",
   "execution_count": 2,
   "id": "0c86d35e",
   "metadata": {},
   "outputs": [],
   "source": [
    "train_df,final_df = cargarDatasets()\n",
    "train_df = prepararSet(train_df)"
   ]
  },
  {
   "cell_type": "code",
   "execution_count": 3,
   "id": "d11cbf0c",
   "metadata": {},
   "outputs": [],
   "source": [
    "X,y,df,y_encoder = ingenieriaDeFeaturesVariablesNormalizadas(train_df)\n",
    "X_train, X_test, y_train, y_test = train_test_split(X, y, random_state=117, test_size=0.1, stratify=y)\n",
    "\n",
    "X_2,y_2,df_2,y_encoder_2,meanEncoding = ingenieriaDeFeauturesVariablesNormalizadasME(train_df)\n",
    "X_train_2, X_test_2, y_train_2, y_test_2 = train_test_split(X_2, y_2, random_state=117, test_size=0.1, stratify=y_2)"
   ]
  },
  {
   "cell_type": "markdown",
   "id": "5855e443",
   "metadata": {},
   "source": [
    "Queremos encontrar los mejores hiperparametros para la regresion. Con estos hiperparametros buscamos minimizar el error en las predicciones, construyendo un modelo robusto y regularizado, para que logre generalizar para datos futuros.\n",
    "\n",
    "Parametros:\n",
    "* C: que tanto regularizamos. Similar al C de SVM, cuanto mas pequeño este valor mas fuerte sera la regularizacion.  \n",
    "* penalty: tipo de regularizacion, estas pueden ser l1 (lasso), l2 (ridge) o elastic net.\n"
   ]
  },
  {
   "cell_type": "code",
   "execution_count": 4,
   "id": "87ce8f93",
   "metadata": {},
   "outputs": [],
   "source": [
    "params = [\n",
    "    {'penalty' : ['l1','l2','elasticnet'],\n",
    "     'C' : [0.001,0.005,0.01,0.05,0.1,0.3,1,3,5,10,30,50,55,75,100,120,150,],   \n",
    "    }]"
   ]
  },
  {
   "cell_type": "code",
   "execution_count": null,
   "id": "10d98b3a",
   "metadata": {},
   "outputs": [],
   "source": [
    "regresion1 = LogisticRegression(random_state = 0)\n",
    "\n",
    "gscv1 = GridSearchCV(\n",
    "    regresion1, params, scoring='roc_auc', n_jobs=-1, cv=2, return_train_score=True\n",
    ").fit(X_train, y_train)\n",
    "\n",
    "print(f\"Best score: {gscv1.best_score_}\")\n",
    "print(f\"Best params {gscv1.best_params_}\")"
   ]
  },
  {
   "cell_type": "markdown",
   "id": "b5aa3d51",
   "metadata": {},
   "source": [
    "Obtenemos:  \n",
    "Best score: 0.8930353283762277  \n",
    "Best params {'C': 0.3, 'penalty': 'l2'}"
   ]
  },
  {
   "cell_type": "code",
   "execution_count": null,
   "id": "690668d2",
   "metadata": {},
   "outputs": [],
   "source": [
    "regresion2 = LogisticRegression(random_state = 0)\n",
    "\n",
    "gscv2 = GridSearchCV(\n",
    "    regresion2, params, scoring='roc_auc', n_jobs=-1, cv=2, return_train_score=True\n",
    ").fit(X_train_2, y_train_2)\n",
    "\n",
    "print(f\"Best score: {gscv2.best_score_}\")\n",
    "print(f\"Best params {gscv2.best_params_}\")"
   ]
  },
  {
   "cell_type": "markdown",
   "id": "ced27ae7",
   "metadata": {},
   "source": [
    "Obtenemos:  \n",
    "Best score: 0.888072427164029  \n",
    "Best params {'C': 0.1, 'penalty': 'l2'}"
   ]
  },
  {
   "cell_type": "markdown",
   "id": "73ff4120",
   "metadata": {},
   "source": [
    "Nos quedamos con la primera regresion, para la cual obtuvimos un roc score ligeramente mejor. "
   ]
  },
  {
   "cell_type": "code",
   "execution_count": null,
   "id": "1b8e6f04",
   "metadata": {},
   "outputs": [],
   "source": [
    "params = {'C': 0.1, 'penalty': 'l2'}\n",
    "\n",
    "regresion1.set_params(**params)\n",
    "regresion1.fit(X_train, y_train)\n",
    "y_pred = regresion1.predict(X_test)"
   ]
  },
  {
   "cell_type": "markdown",
   "id": "a074f7e4",
   "metadata": {},
   "source": [
    "## Evaluacion de metricas  \n",
    "Las metricas a utilizar son:\n",
    "* AUC-ROC  \n",
    "* Matriz de confusión  \n",
    "* Accuracy  \n",
    "* Precisión  \n",
    "* Recall \n",
    "Primero observamos las metricas obtenidas de las predicciones con el set de prueba."
   ]
  },
  {
   "cell_type": "code",
   "execution_count": null,
   "id": "37f6d94a",
   "metadata": {},
   "outputs": [],
   "source": [
    "from sklearn.metrics import classification_report\n",
    "\n",
    "print(classification_report(y_test, regresion1.predict(X_test)))"
   ]
  },
  {
   "cell_type": "markdown",
   "id": "ceb14652",
   "metadata": {},
   "source": [
    "### Curva AUC ROC"
   ]
  },
  {
   "cell_type": "code",
   "execution_count": null,
   "id": "c4ee6187",
   "metadata": {},
   "outputs": [],
   "source": [
    "import matplotlib.pyplot as plt\n",
    "from sklearn.metrics import roc_curve, auc, plot_roc_curve"
   ]
  },
  {
   "cell_type": "code",
   "execution_count": null,
   "id": "04c07bde",
   "metadata": {},
   "outputs": [],
   "source": [
    "plot_roc_curve(regresion1,X_test,y_test,response_method='predict_proba')\n",
    "plt.show()"
   ]
  },
  {
   "cell_type": "markdown",
   "id": "235b0f87",
   "metadata": {},
   "source": [
    "### Matriz de confusion"
   ]
  },
  {
   "cell_type": "code",
   "execution_count": null,
   "id": "36155273",
   "metadata": {},
   "outputs": [],
   "source": [
    "from sklearn.metrics import plot_confusion_matrix\n",
    "\n",
    "fig, ax = plt.subplots(figsize=(15, 7))\n",
    "plt.grid(False)\n",
    "plot_confusion_matrix(\n",
    "    regresion1, X_test, y_test, cmap=plt.cm.Blues, display_labels=['no tiene alto valor adquisitivo', 'tiene alto valor adquisitivo'], ax=ax\n",
    ")\n",
    "plt.show()"
   ]
  },
  {
   "cell_type": "markdown",
   "id": "1e25be2f",
   "metadata": {},
   "source": [
    "### Accuracy"
   ]
  },
  {
   "cell_type": "code",
   "execution_count": null,
   "id": "2dcd88d1",
   "metadata": {},
   "outputs": [],
   "source": [
    "accuracy_score(y_test, y_pred) "
   ]
  },
  {
   "cell_type": "markdown",
   "id": "153a0330",
   "metadata": {},
   "source": [
    "### Precision"
   ]
  },
  {
   "cell_type": "code",
   "execution_count": null,
   "id": "150e23bb",
   "metadata": {},
   "outputs": [],
   "source": [
    "precision_score(y_test, y_pred)"
   ]
  },
  {
   "cell_type": "markdown",
   "id": "52797511",
   "metadata": {},
   "source": [
    "### Recall"
   ]
  },
  {
   "cell_type": "code",
   "execution_count": null,
   "id": "f278c0c4",
   "metadata": {},
   "outputs": [],
   "source": [
    "recall_score(y_test, y_pred)"
   ]
  },
  {
   "cell_type": "markdown",
   "id": "23458617",
   "metadata": {},
   "source": [
    "## Predicciones sobre el set de hold out"
   ]
  },
  {
   "cell_type": "code",
   "execution_count": null,
   "id": "c7d0e7af",
   "metadata": {},
   "outputs": [],
   "source": [
    "from preprocessing import prepararSetDeHoldOutRegresion"
   ]
  },
  {
   "cell_type": "code",
   "execution_count": null,
   "id": "e9853fb3",
   "metadata": {},
   "outputs": [],
   "source": [
    "final_df_copy = prepararSetDeHoldOutRegresion(final_df)\n",
    "ho_prediction = regresion1.predict(final_df_copy)\n",
    "\n",
    "final_df['tiene_alto_valor_adquisitivo'] = ho_prediction\n",
    "final_df.to_csv('predicciones/regresion.csv')"
   ]
  }
 ],
 "metadata": {
  "kernelspec": {
   "display_name": "Python 3",
   "language": "python",
   "name": "python3"
  },
  "language_info": {
   "codemirror_mode": {
    "name": "ipython",
    "version": 3
   },
   "file_extension": ".py",
   "mimetype": "text/x-python",
   "name": "python",
   "nbconvert_exporter": "python",
   "pygments_lexer": "ipython3",
   "version": "3.8.10"
  }
 },
 "nbformat": 4,
 "nbformat_minor": 5
}
