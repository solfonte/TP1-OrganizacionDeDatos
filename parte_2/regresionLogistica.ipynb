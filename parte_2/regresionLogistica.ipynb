{
 "cells": [
  {
   "cell_type": "markdown",
   "id": "ba1232ef",
   "metadata": {},
   "source": [
    "# Regresion logistica\n",
    "\n",
    "Podemos encontrar la documentacion en:  \n",
    "https://scikit-learn.org/stable/modules/generated/sklearn.linear_model.LogisticRegression.html"
   ]
  },
  {
   "cell_type": "markdown",
   "id": "0aeede48",
   "metadata": {},
   "source": [
    "En este notebook vamos a ajustar los datos a traves de una regresion logistica.  \n",
    "Los supuestos del modelo lineal Y = β₀ + β₁ X + ε son que los errores ε tienen media poblacional cero y varianza constante, y que son independientes para distintas observaciones."
   ]
  },
  {
   "cell_type": "code",
   "execution_count": 1,
   "id": "5e42cbef",
   "metadata": {},
   "outputs": [],
   "source": [
    "import numpy as np\n",
    "import pandas as pd\n",
    "import seaborn as sns\n",
    "\n",
    "from preprocessing import cargarDatasets\n",
    "from preprocessing import prepararSetDeEntrenamiento\n",
    "from preprocessing import prepararSetDeValidacion\n",
    "from preprocessing import ingenieriaDeFeauturesRegresion1\n",
    "from preprocessing import ingenieriaDeFeauturesRegresion2\n",
    "\n",
    "from sklearn.linear_model import LogisticRegression\n",
    "from sklearn.metrics import accuracy_score, roc_auc_score, precision_score, recall_score,mean_squared_error\n",
    "from sklearn.model_selection import train_test_split,GridSearchCV"
   ]
  },
  {
   "cell_type": "markdown",
   "id": "1db01cbd",
   "metadata": {},
   "source": [
    "## Carga y preprocesamiento de los datos"
   ]
  },
  {
   "cell_type": "markdown",
   "id": "e2492f7e",
   "metadata": {},
   "source": [
    "Cargamos los datasets y preparamos los datos para entrenar la regresion."
   ]
  },
  {
   "cell_type": "code",
   "execution_count": 2,
   "id": "1e110176",
   "metadata": {},
   "outputs": [],
   "source": [
    "train_df,final_df = cargarDatasets()\n",
    "train_df = prepararSetDeEntrenamiento(train_df)"
   ]
  },
  {
   "cell_type": "code",
   "execution_count": 3,
   "id": "dcb23ca9",
   "metadata": {},
   "outputs": [],
   "source": [
    "X,y,df,y_encoder = ingenieriaDeFeauturesRegresion1(train_df)\n",
    "X_train, X_test, y_train, y_test = train_test_split(X, y, random_state=117, test_size=0.1, stratify=y)\n",
    "\n",
    "X_2,y_2,df_2,y_encoder_2,meanEncoding = ingenieriaDeFeauturesRegresion2(train_df)\n",
    "X_train_2, X_test_2, y_train_2, y_test_2 = train_test_split(X_2, y_2, random_state=117, test_size=0.1, stratify=y_2)"
   ]
  },
  {
   "cell_type": "markdown",
   "id": "d5816f95",
   "metadata": {},
   "source": [
    "Queremos encontrar los mejores hiperparametros para la regresion. Con estos hiperparametros buscamos minimizar el error en las predicciones, construyendo un modelo robusto y regularizado, para que logre generalizar para datos futuros. Como buscamos elegir el modelo con mejor AUC score, los hiperparametros con los que entrenaremos a la regresion seran los que maximicen el mismo.\n",
    "\n",
    "Parametros:\n",
    "* C -> que tanto regularizamos. Similar al C de SVM, cuanto mas pequenio este valor mas fuerte sera la regularizacion.  \n",
    "* penalty -> tipo de regularizacion, estas pueden ser l1 (lasso), l2 (ridge) o elastic net.\n"
   ]
  },
  {
   "cell_type": "code",
   "execution_count": 4,
   "id": "234ef1f2",
   "metadata": {},
   "outputs": [],
   "source": [
    "params = [\n",
    "    {'penalty' : ['l1','l2','elasticnet'],\n",
    "     'C' : [0.001,0.005,0.01,0.05,0.1,0.3,1,3,5,10,30,50,55,75,100,120,150,],   \n",
    "    }]"
   ]
  },
  {
   "cell_type": "code",
   "execution_count": 5,
   "id": "d98e0607",
   "metadata": {},
   "outputs": [
    {
     "name": "stdout",
     "output_type": "stream",
     "text": [
      "Best score: 0.8930353283762277\n",
      "Best params {'C': 0.3, 'penalty': 'l2'}\n"
     ]
    }
   ],
   "source": [
    "regresion1 = LogisticRegression(random_state = 0)\n",
    "\n",
    "gscv1 = GridSearchCV(\n",
    "    regresion1, params, scoring='roc_auc', n_jobs=-1, cv=2, return_train_score=True\n",
    ").fit(X_train, y_train)\n",
    "\n",
    "print(f\"Best score: {gscv1.best_score_}\")\n",
    "print(f\"Best params {gscv1.best_params_}\")"
   ]
  },
  {
   "cell_type": "markdown",
   "id": "8c4b46b1",
   "metadata": {},
   "source": [
    "Obtenemos:  \n",
    "Best score: 0.8930353283762277  \n",
    "Best params {'C': 0.3, 'penalty': 'l2'}"
   ]
  },
  {
   "cell_type": "code",
   "execution_count": 6,
   "id": "b25cd24f",
   "metadata": {},
   "outputs": [
    {
     "name": "stdout",
     "output_type": "stream",
     "text": [
      "Best score: 0.888072427164029\n",
      "Best params {'C': 0.1, 'penalty': 'l2'}\n"
     ]
    }
   ],
   "source": [
    "regresion2 = LogisticRegression(random_state = 0)\n",
    "\n",
    "gscv2 = GridSearchCV(\n",
    "    regresion2, params, scoring='roc_auc', n_jobs=-1, cv=2, return_train_score=True\n",
    ").fit(X_train_2, y_train_2)\n",
    "\n",
    "print(f\"Best score: {gscv2.best_score_}\")\n",
    "print(f\"Best params {gscv2.best_params_}\")"
   ]
  },
  {
   "cell_type": "markdown",
   "id": "ea37d1e6",
   "metadata": {},
   "source": [
    "Obtenemos:  \n",
    "Best score: 0.888072427164029  \n",
    "Best params {'C': 0.1, 'penalty': 'l2'}"
   ]
  },
  {
   "cell_type": "markdown",
   "id": "58389376",
   "metadata": {},
   "source": [
    "Nos quedamos con la primera regresion, para la cual obtuvimos un roc score ligeramente mejor. "
   ]
  },
  {
   "cell_type": "code",
   "execution_count": 7,
   "id": "c159db83",
   "metadata": {},
   "outputs": [],
   "source": [
    "params = {'C': 0.1, 'penalty': 'l2'}\n",
    "\n",
    "regresion1.set_params(**params)\n",
    "regresion1.fit(X_train, y_train)\n",
    "y_pred = regresion1.predict(X_test)"
   ]
  },
  {
   "cell_type": "markdown",
   "id": "d6e1af3e",
   "metadata": {},
   "source": [
    "## Evaluacion de metricas  \n",
    "Las metricas a utilizar son:\n",
    "* AUC-ROC  \n",
    "* Matriz de confusión  \n",
    "* Accuracy  \n",
    "* Precisión  \n",
    "* Recall \n",
    "Primero observamos las metricas obtenidas de las predicciones con el set de prueba."
   ]
  },
  {
   "cell_type": "code",
   "execution_count": 8,
   "id": "fe904094",
   "metadata": {},
   "outputs": [
    {
     "name": "stdout",
     "output_type": "stream",
     "text": [
      "              precision    recall  f1-score   support\n",
      "\n",
      "           0       0.87      0.93      0.90      2473\n",
      "           1       0.73      0.56      0.63       784\n",
      "\n",
      "    accuracy                           0.84      3257\n",
      "   macro avg       0.80      0.75      0.77      3257\n",
      "weighted avg       0.83      0.84      0.84      3257\n",
      "\n"
     ]
    }
   ],
   "source": [
    "from sklearn.metrics import classification_report\n",
    "\n",
    "print(classification_report(y_test, regresion1.predict(X_test)))"
   ]
  },
  {
   "cell_type": "markdown",
   "id": "27f862a5",
   "metadata": {},
   "source": [
    "### Curva AUC ROC"
   ]
  },
  {
   "cell_type": "code",
   "execution_count": 9,
   "id": "7894dd3a",
   "metadata": {},
   "outputs": [],
   "source": [
    "import matplotlib.pyplot as plt\n",
    "from sklearn.metrics import roc_curve, auc, plot_roc_curve"
   ]
  },
  {
   "cell_type": "code",
   "execution_count": 10,
   "id": "bff61b07",
   "metadata": {},
   "outputs": [
    {
     "data": {
      "image/png": "[encoded data removed]",
      "text/plain": [
       "<Figure size 432x288 with 1 Axes>"
      ]
     },
     "metadata": {
      "needs_background": "light"
     },
     "output_type": "display_data"
    }
   ],
   "source": [
    "plot_roc_curve(regresion1,X_test,y_test,response_method='predict_proba')\n",
    "plt.show()"
   ]
  },
  {
   "cell_type": "markdown",
   "id": "6cae5989",
   "metadata": {},
   "source": [
    "### Matriz de confusion"
   ]
  },
  {
   "cell_type": "code",
   "execution_count": 11,
   "id": "bd05189e",
   "metadata": {},
   "outputs": [
    {
     "data": {
      "image/png": "[encoded data removed]",
      "text/plain": [
       "<Figure size 1080x504 with 2 Axes>"
      ]
     },
     "metadata": {
      "needs_background": "light"
     },
     "output_type": "display_data"
    }
   ],
   "source": [
    "from sklearn.metrics import plot_confusion_matrix\n",
    "\n",
    "fig, ax = plt.subplots(figsize=(15, 7))\n",
    "plt.grid(False)\n",
    "plot_confusion_matrix(\n",
    "    regresion1, X_test, y_test, cmap=plt.cm.Blues, display_labels=['0', '1'], ax=ax\n",
    ")\n",
    "plt.show()"
   ]
  },
  {
   "cell_type": "markdown",
   "id": "a16c37c9",
   "metadata": {},
   "source": [
    "### Accuracy"
   ]
  },
  {
   "cell_type": "code",
   "execution_count": 12,
   "id": "ea509ebe",
   "metadata": {},
   "outputs": [
    {
     "data": {
      "text/plain": [
       "0.842800122812404"
      ]
     },
     "execution_count": 12,
     "metadata": {},
     "output_type": "execute_result"
    }
   ],
   "source": [
    "accuracy_score(y_test, y_pred) "
   ]
  },
  {
   "cell_type": "markdown",
   "id": "685a4590",
   "metadata": {},
   "source": [
    "### Precision"
   ]
  },
  {
   "cell_type": "code",
   "execution_count": 13,
   "id": "e5ffdfa4",
   "metadata": {},
   "outputs": [
    {
     "data": {
      "text/plain": [
       "0.7259136212624585"
      ]
     },
     "execution_count": 13,
     "metadata": {},
     "output_type": "execute_result"
    }
   ],
   "source": [
    "precision_score(y_test, y_pred)"
   ]
  },
  {
   "cell_type": "markdown",
   "id": "376464f5",
   "metadata": {},
   "source": [
    "### Recall"
   ]
  },
  {
   "cell_type": "code",
   "execution_count": 14,
   "id": "04bf83c3",
   "metadata": {},
   "outputs": [
    {
     "data": {
      "text/plain": [
       "0.5573979591836735"
      ]
     },
     "execution_count": 14,
     "metadata": {},
     "output_type": "execute_result"
    }
   ],
   "source": [
    "recall_score(y_test, y_pred)"
   ]
  },
  {
   "cell_type": "markdown",
   "id": "43e8021c",
   "metadata": {},
   "source": [
    "### Residual plot\n",
    "Queremos observar que los residuos cumplan con los supuestos del modelo. Si no se cumplen, tal vez el modelo lineal no sea lo mejor para predecir"
   ]
  },
  {
   "cell_type": "code",
   "execution_count": 15,
   "id": "2a5adac4",
   "metadata": {},
   "outputs": [
    {
     "data": {
      "text/plain": [
       "<AxesSubplot:xlabel='Predicciones', ylabel='Residuos'>"
      ]
     },
     "execution_count": 15,
     "metadata": {},
     "output_type": "execute_result"
    },
    {
     "data": {
      "image/png": "[encoded data removed]",
      "text/plain": [
       "<Figure size 720x360 with 1 Axes>"
      ]
     },
     "metadata": {
      "needs_background": "light"
     },
     "output_type": "display_data"
    }
   ],
   "source": [
    "plt.rcParams['figure.figsize'] = (10, 5)\n",
    "\n",
    "y_pred_proba = regresion1.predict_proba(X_test)[:,1]\n",
    "\n",
    "preds = pd.DataFrame({\"Predicciones\": y_pred_proba, \"true\": y_test})\n",
    "preds[\"Residuos\"] = preds[\"true\"] - preds[\"Predicciones\"]\n",
    "preds.plot(x=\"Predicciones\", y=\"Residuos\", kind=\"scatter\")"
   ]
  },
  {
   "cell_type": "markdown",
   "id": "0dc4f0f1",
   "metadata": {},
   "source": [
    "Podemos concluir que este modelo lineal tal vez no sea el mejor para predecir la variable target ya que podemos ver un patron en el grafico de residuos."
   ]
  },
  {
   "cell_type": "markdown",
   "id": "1f1ac35b",
   "metadata": {},
   "source": [
    "## Predicciones sobre el set de hold out"
   ]
  },
  {
   "cell_type": "code",
   "execution_count": 16,
   "id": "00521b46",
   "metadata": {},
   "outputs": [],
   "source": [
    "from preprocessing import prepararSetDeHoldOutRegresion"
   ]
  },
  {
   "cell_type": "code",
   "execution_count": 17,
   "id": "e8fccfd3",
   "metadata": {},
   "outputs": [],
   "source": [
    "final_df = prepararSetDeHoldOutRegresion(final_df)\n",
    "\n",
    "#agrego dos columnas qu faltan por no haber labels\n",
    "final_df['categoria_de_trabajo_empleadao_estatal'] = 0\n",
    "final_df['trabajo_directivo_gerente'] = 0\n",
    "\n",
    "ho_prediction = regresion1.predict(final_df)\n",
    "final_df['tiene_alto_valor_adquisitivo'] = ho_prediction\n",
    "\n",
    "final_df.to_csv('predicciones/regresion.csv')"
   ]
  }
 ],
 "metadata": {
  "kernelspec": {
   "display_name": "Python 3",
   "language": "python",
   "name": "python3"
  },
  "language_info": {
   "codemirror_mode": {
    "name": "ipython",
    "version": 3
   },
   "file_extension": ".py",
   "mimetype": "text/x-python",
   "name": "python",
   "nbconvert_exporter": "python",
   "pygments_lexer": "ipython3",
   "version": "3.8.10"
  }
 },
 "nbformat": 4,
 "nbformat_minor": 5
}
