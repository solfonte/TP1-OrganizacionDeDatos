{
 "cells": [
  {
   "cell_type": "markdown",
   "id": "8186bc56",
   "metadata": {},
   "source": [
    "# Arbol de decision\n",
    "En este notebook vamos a entrenar y explorar un arbol de decision.\n",
    "Podemos encontrar la documentacion en:  \n",
    "https://scikit-learn.org/stable/modules/generated/sklearn.tree.DecisionTreeClassifier.html#sklearn.tree.DecisionTreeClassifier"
   ]
  },
  {
   "cell_type": "code",
   "execution_count": 1,
   "id": "9edc1ee8",
   "metadata": {},
   "outputs": [],
   "source": [
    "import numpy as np\n",
    "import pandas as pd\n",
    "from sklearn import preprocessing, tree\n",
    "from ipywidgets import Button, IntSlider, interactive\n",
    "\n",
    "from preprocessing import cargarDatasets\n",
    "from preprocessing import prepararSet\n",
    "from preprocessing import ingenieriaDeFeaturesArboles1\n",
    "from preprocessing import ingenieriaDeFeaturesArboles2\n",
    "\n",
    "from sklearn.metrics import accuracy_score, roc_auc_score, precision_score, recall_score\n",
    "from sklearn.model_selection import train_test_split,GridSearchCV"
   ]
  },
  {
   "cell_type": "markdown",
   "id": "49cd8093",
   "metadata": {},
   "source": [
    "## Carga y preprocesamiento de los datos\n",
    "Cargamos los datasets y los preparamos para usar."
   ]
  },
  {
   "cell_type": "code",
   "execution_count": 2,
   "id": "6907ee61",
   "metadata": {},
   "outputs": [],
   "source": [
    "train_df,final_df = cargarDatasets()\n",
    "train_df = prepararSet(train_df)"
   ]
  },
  {
   "cell_type": "code",
   "execution_count": 3,
   "id": "debe40c7",
   "metadata": {},
   "outputs": [],
   "source": [
    "X,y,df,y_encoder = ingenieriaDeFeaturesArboles1(train_df)\n",
    "X_reducido,y_reducido,df_reducido,y_encoder_reducido = ingenieriaDeFeaturesArboles2(train_df)\n",
    "\n",
    "X_train, X_test, y_train, y_test = train_test_split(X, y, random_state=117, test_size=0.1, stratify=y)\n",
    "X_train_r, X_test_r, y_train_r, y_test_r = train_test_split(X_reducido, y_reducido, random_state=117, test_size=0.1, stratify=y_reducido)"
   ]
  },
  {
   "cell_type": "markdown",
   "id": "d4febd73",
   "metadata": {},
   "source": [
    "* ingenieria de features (2 formas)\n",
    "* dividimos cada set en 2.\n",
    "* entrenamos (2 arboles)\n",
    "* metricas\n",
    "\n",
    "fit: ajusta el modelo al set de entrenamiento\n",
    "predict: que agarre un ejemplo y haga una prediccion (predice la clase a la que pertenece)\n",
    "\n",
    "\n",
    "hiperparametros: quiero encontrar el mejor modelo para este dataset. Son parametros que el modelo no aprende, hay que decirselos.\n",
    "-> random state: quiero que si un valor es random, que sea reproducible. Que el modelo vuelva a dar lo mismo cada vez que lo corro (que sea determinista).\n",
    "->split: cuantos feautures miro para ir dividiendo.\n",
    "\n",
    "Como el modelo es simple, le pasamos features que sabemos que van a andar bien."
   ]
  },
  {
   "cell_type": "code",
   "execution_count": 4,
   "id": "fcac97e0",
   "metadata": {},
   "outputs": [],
   "source": [
    "params = {'max_depth': np.arange(1, 10),'min_samples_leaf': np.arange(20,30),\n",
    "          \"criterion\": [\"gini\", \"entropy\"]}"
   ]
  },
  {
   "cell_type": "code",
   "execution_count": 5,
   "id": "c9a48275",
   "metadata": {},
   "outputs": [],
   "source": [
    "arbol = tree.DecisionTreeClassifier()\n",
    "arbol_r = tree.DecisionTreeClassifier()"
   ]
  },
  {
   "cell_type": "code",
   "execution_count": 6,
   "id": "211e3db0",
   "metadata": {},
   "outputs": [
    {
     "name": "stdout",
     "output_type": "stream",
     "text": [
      "Best score: 0.9010846930997207\n",
      "Best params {'criterion': 'gini', 'max_depth': 9, 'min_samples_leaf': 20}\n"
     ]
    }
   ],
   "source": [
    "gscv = GridSearchCV(\n",
    "    arbol, params, scoring='roc_auc', n_jobs=-1, cv=5, return_train_score=True\n",
    ").fit(X_train, y_train)\n",
    "\n",
    "print(f\"Best score: {gscv.best_score_}\")\n",
    "print(f\"Best params {gscv.best_params_}\")"
   ]
  },
  {
   "cell_type": "markdown",
   "id": "b579d48f",
   "metadata": {},
   "source": [
    "Obtenemos:  \n",
    "Best score: 0.9010804911090377  \n",
    "Best params {'criterion': 'gini', 'max_depth': 9, 'min_samples_leaf': 20}"
   ]
  },
  {
   "cell_type": "code",
   "execution_count": null,
   "id": "90f2350a",
   "metadata": {},
   "outputs": [],
   "source": [
    "gscv_r = GridSearchCV(\n",
    "    arbol_r, params, scoring='accuracy', n_jobs=-1, cv=5, return_train_score=True\n",
    ").fit(X_train_r, y_train_r)\n",
    "\n",
    "print(f\"Best score: {gscv_r.best_score_}\")\n",
    "print(f\"Best params {gscv_r.best_params_}\")"
   ]
  },
  {
   "cell_type": "markdown",
   "id": "4dcfb820",
   "metadata": {},
   "source": [
    "Para este modelo obtenemos:  \n",
    "Best score: 0.8532281821236344  \n",
    "Best params {'criterion': 'gini', 'max_depth': 9, 'min_samples_leaf': 21}  \n",
    "\n",
    "Como obtuvimos un mejor roc score con el primer arbol, nos quedamos con este para predecir y medir las metricas."
   ]
  },
  {
   "cell_type": "code",
   "execution_count": null,
   "id": "5454b937",
   "metadata": {},
   "outputs": [],
   "source": [
    "params = {'criterion': 'gini', 'max_depth': 9, 'min_samples_leaf': 20}\n",
    "\n",
    "arbol.set_params(**params)\n",
    "arbol.fit(X_train, y_train)\n",
    "y_pred = arbol.predict(X_test)"
   ]
  },
  {
   "cell_type": "markdown",
   "id": "197166f5",
   "metadata": {},
   "source": [
    "## Evaluacion de metricas\n",
    "Las metricas a utilizar son:\n",
    "* AUC-ROC  \n",
    "* Matriz de confusión  \n",
    "* Accuracy  \n",
    "* Precisión  \n",
    "* Recall  "
   ]
  },
  {
   "cell_type": "markdown",
   "id": "a5d2f950",
   "metadata": {},
   "source": [
    "Observamos las metricas obtenidas de las predicciones con el set de prueba."
   ]
  },
  {
   "cell_type": "code",
   "execution_count": null,
   "id": "e66858cc",
   "metadata": {},
   "outputs": [],
   "source": [
    "from sklearn.metrics import classification_report\n",
    "\n",
    "print(classification_report(y_test, arbol.predict(X_test)))"
   ]
  },
  {
   "cell_type": "markdown",
   "id": "b3e58003",
   "metadata": {},
   "source": [
    "### Curva AUC ROC\n",
    "Primero calculamos el score obtenido con la curva de AUC ROC."
   ]
  },
  {
   "cell_type": "code",
   "execution_count": null,
   "id": "8d805985",
   "metadata": {},
   "outputs": [],
   "source": [
    "import matplotlib.pyplot as plt\n",
    "from sklearn.metrics import roc_curve, auc, plot_roc_curve"
   ]
  },
  {
   "cell_type": "code",
   "execution_count": null,
   "id": "85bda25f",
   "metadata": {},
   "outputs": [],
   "source": [
    "plot_roc_curve(arbol,X_test,y_test,response_method='predict_proba')\n",
    "plt.show()"
   ]
  },
  {
   "cell_type": "markdown",
   "id": "b0150bf7",
   "metadata": {},
   "source": [
    "Podemos ver que la curva de auc roc nos indica que es mas probable que predigamos la clase de manera correcta."
   ]
  },
  {
   "cell_type": "markdown",
   "id": "22690e33",
   "metadata": {},
   "source": [
    "### Matriz de confusion"
   ]
  },
  {
   "cell_type": "code",
   "execution_count": null,
   "id": "364af280",
   "metadata": {},
   "outputs": [],
   "source": [
    "from sklearn.metrics import plot_confusion_matrix\n",
    "\n",
    "fig, ax = plt.subplots(figsize=(15, 7))\n",
    "plt.grid(False)\n",
    "plot_confusion_matrix(\n",
    "    arbol, X_test, y_test, cmap=plt.cm.Blues, display_labels=['0', '1'], ax=ax\n",
    ")\n",
    "plt.show()"
   ]
  },
  {
   "cell_type": "markdown",
   "id": "c39807f9",
   "metadata": {},
   "source": [
    "### Accuracy"
   ]
  },
  {
   "cell_type": "code",
   "execution_count": null,
   "id": "b8e58810",
   "metadata": {},
   "outputs": [],
   "source": [
    "accuracy_score(y_test, y_pred) "
   ]
  },
  {
   "cell_type": "markdown",
   "id": "81f94060",
   "metadata": {},
   "source": [
    "### Precision"
   ]
  },
  {
   "cell_type": "code",
   "execution_count": null,
   "id": "5dcfa29e",
   "metadata": {},
   "outputs": [],
   "source": [
    "precision_score(y_test, y_pred)"
   ]
  },
  {
   "cell_type": "markdown",
   "id": "2c0ce8b7",
   "metadata": {},
   "source": [
    "### Recall"
   ]
  },
  {
   "cell_type": "code",
   "execution_count": null,
   "id": "84db2bfa",
   "metadata": {},
   "outputs": [],
   "source": [
    "recall_score(y_test, y_pred)"
   ]
  },
  {
   "cell_type": "markdown",
   "id": "1fa36bd2",
   "metadata": {},
   "source": [
    "## Visualizacion del arbol obtenido"
   ]
  },
  {
   "cell_type": "code",
   "execution_count": null,
   "id": "818aad7f",
   "metadata": {},
   "outputs": [],
   "source": [
    "from sklearn.tree import export_graphviz\n",
    "import graphviz\n",
    "from pydotplus import graph_from_dot_data\n",
    "\n",
    "feature_names = X_train.columns\n",
    "\n",
    "feature_names\n",
    "dot_data = export_graphviz(arbol, feature_names=feature_names, label = all, class_names=[\"tiene\", \"no tiene\"])\n",
    "\n",
    "graph = graphviz.Source(dot_data, format='png')\n",
    "graph"
   ]
  },
  {
   "cell_type": "markdown",
   "id": "b55391cb",
   "metadata": {},
   "source": [
    "## Prediccion sobre el data set de hold out"
   ]
  },
  {
   "cell_type": "code",
   "execution_count": null,
   "id": "14e05f51",
   "metadata": {},
   "outputs": [],
   "source": [
    "from preprocessing import prepararSetDeHoldOutArbol"
   ]
  },
  {
   "cell_type": "code",
   "execution_count": null,
   "id": "a3ef4510",
   "metadata": {},
   "outputs": [],
   "source": [
    "final_df_copy = prepararSetDeHoldOutArbol(final_df)\n",
    "\n",
    "ho_prediction = arbol.predict(final_df_copy)\n",
    "final_df['tiene_alto_valor_adquisitivo'] = ho_prediction\n",
    "\n",
    "final_df.to_csv('predicciones/arbolDeDecision.csv')"
   ]
  }
 ],
 "metadata": {
  "kernelspec": {
   "display_name": "Python 3",
   "language": "python",
   "name": "python3"
  },
  "language_info": {
   "codemirror_mode": {
    "name": "ipython",
    "version": 3
   },
   "file_extension": ".py",
   "mimetype": "text/x-python",
   "name": "python",
   "nbconvert_exporter": "python",
   "pygments_lexer": "ipython3",
   "version": "3.8.10"
  }
 },
 "nbformat": 4,
 "nbformat_minor": 5
}
