{
 "cells": [
  {
   "cell_type": "markdown",
   "id": "e0cf5479",
   "metadata": {},
   "source": [
    "# Arbol de decision\n",
    "En este notebook vamos a entrenar y explorar un arbol de decision."
   ]
  },
  {
   "cell_type": "code",
   "execution_count": 29,
   "id": "f6654e2d",
   "metadata": {},
   "outputs": [],
   "source": [
    "import numpy as np\n",
    "import pandas as pd\n",
    "import seaborn as sns\n",
    "from sklearn import preprocessing, tree\n",
    "from ipywidgets import Button, IntSlider, interactive\n",
    "\n",
    "from preprocessing import cargarDatasets\n",
    "from preprocessing import prepararSetDeEntrenamiento\n",
    "from preprocessing import prepararSetDeValidacion\n",
    "from preprocessing import ingenieriaDeFeauturesArboles1\n",
    "\n",
    "from sklearn.metrics import accuracy_score, roc_auc_score, precision_score, recall_score\n",
    "from sklearn.model_selection import train_test_split,GridSearchCV"
   ]
  },
  {
   "cell_type": "markdown",
   "id": "7d08216a",
   "metadata": {},
   "source": [
    "## Carga y preprocesamiento de los datos\n",
    "Cargamos los datasets y los preparamos para usar."
   ]
  },
  {
   "cell_type": "code",
   "execution_count": 30,
   "id": "ae24261d",
   "metadata": {},
   "outputs": [],
   "source": [
    "train_df,final_df = cargarDatasets()\n",
    "train_df = prepararSetDeEntrenamiento(train_df)\n",
    "final_df = prepararSetDeValidacion(final_df)"
   ]
  },
  {
   "cell_type": "code",
   "execution_count": 31,
   "id": "a33809c9",
   "metadata": {},
   "outputs": [],
   "source": [
    "X,y,df,y_encoder = ingenieriaDeFeauturesArboles1(train_df)\n",
    "\n",
    "X_train, X_test, y_train, y_test = train_test_split(X, y, random_state=117, test_size=0.1, stratify=y)"
   ]
  },
  {
   "cell_type": "code",
   "execution_count": 32,
   "id": "f691b9f5",
   "metadata": {},
   "outputs": [
    {
     "data": {
      "text/html": [
       "<div>\n",
       "<style scoped>\n",
       "    .dataframe tbody tr th:only-of-type {\n",
       "        vertical-align: middle;\n",
       "    }\n",
       "\n",
       "    .dataframe tbody tr th {\n",
       "        vertical-align: top;\n",
       "    }\n",
       "\n",
       "    .dataframe thead th {\n",
       "        text-align: right;\n",
       "    }\n",
       "</style>\n",
       "<table border=\"1\" class=\"dataframe\">\n",
       "  <thead>\n",
       "    <tr style=\"text-align: right;\">\n",
       "      <th></th>\n",
       "      <th>ganancia_perdida_declarada_bolsa_argentina</th>\n",
       "      <th>categoria_de_trabajo_empleadao_estatal</th>\n",
       "      <th>categoria_de_trabajo_empleado_municipal</th>\n",
       "      <th>categoria_de_trabajo_empleado_provincial</th>\n",
       "      <th>categoria_de_trabajo_monotibutista</th>\n",
       "      <th>categoria_de_trabajo_relacion_de_dependencia</th>\n",
       "      <th>categoria_de_trabajo_responsable_inscripto</th>\n",
       "      <th>categoria_de_trabajo_sin_trabajo</th>\n",
       "      <th>categoria_de_trabajo_trabajo_voluntariado</th>\n",
       "      <th>estado_marital_matrimonio_civil</th>\n",
       "      <th>...</th>\n",
       "      <th>trabajo_otros</th>\n",
       "      <th>trabajo_profesional_especializado</th>\n",
       "      <th>trabajo_reparador</th>\n",
       "      <th>trabajo_sector_primario</th>\n",
       "      <th>trabajo_seguridad</th>\n",
       "      <th>trabajo_servicio_domestico</th>\n",
       "      <th>trabajo_soporte_tecnico</th>\n",
       "      <th>trabajo_transporte</th>\n",
       "      <th>trabajo_ventas</th>\n",
       "      <th>educacion_alcanzada_encoded</th>\n",
       "    </tr>\n",
       "  </thead>\n",
       "  <tbody>\n",
       "    <tr>\n",
       "      <th>29580</th>\n",
       "      <td>0</td>\n",
       "      <td>0</td>\n",
       "      <td>0</td>\n",
       "      <td>0</td>\n",
       "      <td>0</td>\n",
       "      <td>1</td>\n",
       "      <td>0</td>\n",
       "      <td>0</td>\n",
       "      <td>0</td>\n",
       "      <td>0</td>\n",
       "      <td>...</td>\n",
       "      <td>0</td>\n",
       "      <td>0</td>\n",
       "      <td>1</td>\n",
       "      <td>0</td>\n",
       "      <td>0</td>\n",
       "      <td>0</td>\n",
       "      <td>0</td>\n",
       "      <td>0</td>\n",
       "      <td>0</td>\n",
       "      <td>5</td>\n",
       "    </tr>\n",
       "    <tr>\n",
       "      <th>7359</th>\n",
       "      <td>0</td>\n",
       "      <td>0</td>\n",
       "      <td>1</td>\n",
       "      <td>0</td>\n",
       "      <td>0</td>\n",
       "      <td>0</td>\n",
       "      <td>0</td>\n",
       "      <td>0</td>\n",
       "      <td>0</td>\n",
       "      <td>1</td>\n",
       "      <td>...</td>\n",
       "      <td>0</td>\n",
       "      <td>1</td>\n",
       "      <td>0</td>\n",
       "      <td>0</td>\n",
       "      <td>0</td>\n",
       "      <td>0</td>\n",
       "      <td>0</td>\n",
       "      <td>0</td>\n",
       "      <td>0</td>\n",
       "      <td>8</td>\n",
       "    </tr>\n",
       "    <tr>\n",
       "      <th>30739</th>\n",
       "      <td>0</td>\n",
       "      <td>0</td>\n",
       "      <td>0</td>\n",
       "      <td>0</td>\n",
       "      <td>0</td>\n",
       "      <td>1</td>\n",
       "      <td>0</td>\n",
       "      <td>0</td>\n",
       "      <td>0</td>\n",
       "      <td>0</td>\n",
       "      <td>...</td>\n",
       "      <td>0</td>\n",
       "      <td>1</td>\n",
       "      <td>0</td>\n",
       "      <td>0</td>\n",
       "      <td>0</td>\n",
       "      <td>0</td>\n",
       "      <td>0</td>\n",
       "      <td>0</td>\n",
       "      <td>0</td>\n",
       "      <td>7</td>\n",
       "    </tr>\n",
       "    <tr>\n",
       "      <th>23107</th>\n",
       "      <td>0</td>\n",
       "      <td>0</td>\n",
       "      <td>0</td>\n",
       "      <td>0</td>\n",
       "      <td>0</td>\n",
       "      <td>1</td>\n",
       "      <td>0</td>\n",
       "      <td>0</td>\n",
       "      <td>0</td>\n",
       "      <td>0</td>\n",
       "      <td>...</td>\n",
       "      <td>1</td>\n",
       "      <td>0</td>\n",
       "      <td>0</td>\n",
       "      <td>0</td>\n",
       "      <td>0</td>\n",
       "      <td>0</td>\n",
       "      <td>0</td>\n",
       "      <td>0</td>\n",
       "      <td>0</td>\n",
       "      <td>8</td>\n",
       "    </tr>\n",
       "    <tr>\n",
       "      <th>14357</th>\n",
       "      <td>0</td>\n",
       "      <td>0</td>\n",
       "      <td>0</td>\n",
       "      <td>0</td>\n",
       "      <td>0</td>\n",
       "      <td>1</td>\n",
       "      <td>0</td>\n",
       "      <td>0</td>\n",
       "      <td>0</td>\n",
       "      <td>0</td>\n",
       "      <td>...</td>\n",
       "      <td>0</td>\n",
       "      <td>0</td>\n",
       "      <td>0</td>\n",
       "      <td>1</td>\n",
       "      <td>0</td>\n",
       "      <td>0</td>\n",
       "      <td>0</td>\n",
       "      <td>0</td>\n",
       "      <td>0</td>\n",
       "      <td>7</td>\n",
       "    </tr>\n",
       "  </tbody>\n",
       "</table>\n",
       "<p>5 rows × 36 columns</p>\n",
       "</div>"
      ],
      "text/plain": [
       "       ganancia_perdida_declarada_bolsa_argentina  \\\n",
       "29580                                           0   \n",
       "7359                                            0   \n",
       "30739                                           0   \n",
       "23107                                           0   \n",
       "14357                                           0   \n",
       "\n",
       "       categoria_de_trabajo_empleadao_estatal  \\\n",
       "29580                                       0   \n",
       "7359                                        0   \n",
       "30739                                       0   \n",
       "23107                                       0   \n",
       "14357                                       0   \n",
       "\n",
       "       categoria_de_trabajo_empleado_municipal  \\\n",
       "29580                                        0   \n",
       "7359                                         1   \n",
       "30739                                        0   \n",
       "23107                                        0   \n",
       "14357                                        0   \n",
       "\n",
       "       categoria_de_trabajo_empleado_provincial  \\\n",
       "29580                                         0   \n",
       "7359                                          0   \n",
       "30739                                         0   \n",
       "23107                                         0   \n",
       "14357                                         0   \n",
       "\n",
       "       categoria_de_trabajo_monotibutista  \\\n",
       "29580                                   0   \n",
       "7359                                    0   \n",
       "30739                                   0   \n",
       "23107                                   0   \n",
       "14357                                   0   \n",
       "\n",
       "       categoria_de_trabajo_relacion_de_dependencia  \\\n",
       "29580                                             1   \n",
       "7359                                              0   \n",
       "30739                                             1   \n",
       "23107                                             1   \n",
       "14357                                             1   \n",
       "\n",
       "       categoria_de_trabajo_responsable_inscripto  \\\n",
       "29580                                           0   \n",
       "7359                                            0   \n",
       "30739                                           0   \n",
       "23107                                           0   \n",
       "14357                                           0   \n",
       "\n",
       "       categoria_de_trabajo_sin_trabajo  \\\n",
       "29580                                 0   \n",
       "7359                                  0   \n",
       "30739                                 0   \n",
       "23107                                 0   \n",
       "14357                                 0   \n",
       "\n",
       "       categoria_de_trabajo_trabajo_voluntariado  \\\n",
       "29580                                          0   \n",
       "7359                                           0   \n",
       "30739                                          0   \n",
       "23107                                          0   \n",
       "14357                                          0   \n",
       "\n",
       "       estado_marital_matrimonio_civil  ...  trabajo_otros  \\\n",
       "29580                                0  ...              0   \n",
       "7359                                 1  ...              0   \n",
       "30739                                0  ...              0   \n",
       "23107                                0  ...              1   \n",
       "14357                                0  ...              0   \n",
       "\n",
       "       trabajo_profesional_especializado  trabajo_reparador  \\\n",
       "29580                                  0                  1   \n",
       "7359                                   1                  0   \n",
       "30739                                  1                  0   \n",
       "23107                                  0                  0   \n",
       "14357                                  0                  0   \n",
       "\n",
       "       trabajo_sector_primario  trabajo_seguridad  trabajo_servicio_domestico  \\\n",
       "29580                        0                  0                           0   \n",
       "7359                         0                  0                           0   \n",
       "30739                        0                  0                           0   \n",
       "23107                        0                  0                           0   \n",
       "14357                        1                  0                           0   \n",
       "\n",
       "       trabajo_soporte_tecnico  trabajo_transporte  trabajo_ventas  \\\n",
       "29580                        0                   0               0   \n",
       "7359                         0                   0               0   \n",
       "30739                        0                   0               0   \n",
       "23107                        0                   0               0   \n",
       "14357                        0                   0               0   \n",
       "\n",
       "       educacion_alcanzada_encoded  \n",
       "29580                            5  \n",
       "7359                             8  \n",
       "30739                            7  \n",
       "23107                            8  \n",
       "14357                            7  \n",
       "\n",
       "[5 rows x 36 columns]"
      ]
     },
     "execution_count": 32,
     "metadata": {},
     "output_type": "execute_result"
    }
   ],
   "source": [
    "X_train.head()"
   ]
  },
  {
   "cell_type": "markdown",
   "id": "e087547c",
   "metadata": {},
   "source": [
    "* ingenieria de feautures (2 formas)\n",
    "* dividimos cada set en 2.\n",
    "* entrenamos (2 arboles)\n",
    "* metricas\n",
    "\n",
    "fit: ajusta el modelo al set de entrenamiento\n",
    "predict: que agarre un ejemplo y haga una prediccion (predice la clase a la que pertenece)\n",
    "\n",
    "\n",
    "hiperparametros: quiero encontrar el mejor modelo para este dataset. Son parametros que el modelo no aprende, hay que decirselos.\n",
    "-> random state: quiero que si un valor es random, que sea reproducible. Que el modelo vuelva a dar lo mismo cada vez que lo corro (que sea determinista).\n",
    "->split: cuantos feautures miro para ir dividiendo.\n",
    "\n",
    "Como el modelo es simple, le pasamos features que sabemos que van a andar bien."
   ]
  },
  {
   "cell_type": "code",
   "execution_count": 33,
   "id": "f416f848",
   "metadata": {},
   "outputs": [
    {
     "data": {
      "text/plain": [
       "0.8492477740251766"
      ]
     },
     "execution_count": 33,
     "metadata": {},
     "output_type": "execute_result"
    }
   ],
   "source": [
    "params1 = {\n",
    "    'max_depth': np.arange(1, 10),\n",
    "    'min_samples_leaf': np.arange(10, 30),\n",
    "    \"criterion\": [\"gini\", \"entropy\"],\n",
    "}\n",
    "\n",
    "arbol_1 = tree.DecisionTreeClassifier()\n",
    "gscv1 = GridSearchCV(\n",
    "    arbol_1, params1, scoring='accuracy', n_jobs=-1, cv=5, return_train_score=True\n",
    ").fit(X_train, y_train)\n",
    "\n",
    "arbol_1.fit(X_train, y_train)\n",
    "y_pred1 = arbol_1.predict(X_test)\n",
    "accuracy_score(y_test, y_pred1) "
   ]
  },
  {
   "cell_type": "code",
   "execution_count": 34,
   "id": "749a2c27",
   "metadata": {},
   "outputs": [
    {
     "name": "stdout",
     "output_type": "stream",
     "text": [
      "Best score: 0.85486630256226\n",
      "Best params {'criterion': 'entropy', 'max_depth': 9, 'min_samples_leaf': 19}\n"
     ]
    }
   ],
   "source": [
    "print(f\"Best score: {gscv1.best_score_}\")\n",
    "print(f\"Best params {gscv1.best_params_}\")"
   ]
  },
  {
   "cell_type": "markdown",
   "id": "53f0b941",
   "metadata": {},
   "source": [
    "# plot del arbol 1"
   ]
  },
  {
   "cell_type": "code",
   "execution_count": 41,
   "id": "5af0073c",
   "metadata": {},
   "outputs": [
    {
     "data": {
      "text/plain": [
       "['ganancia_perdida_declarada_bolsa_argentina',\n",
       " 'categoria_de_trabajo_empleadao_estatal',\n",
       " 'categoria_de_trabajo_empleado_municipal',\n",
       " 'categoria_de_trabajo_empleado_provincial',\n",
       " 'categoria_de_trabajo_monotibutista',\n",
       " 'categoria_de_trabajo_relacion_de_dependencia',\n",
       " 'categoria_de_trabajo_responsable_inscripto',\n",
       " 'categoria_de_trabajo_sin_trabajo',\n",
       " 'categoria_de_trabajo_trabajo_voluntariado',\n",
       " 'estado_marital_matrimonio_civil',\n",
       " 'estado_marital_matrimonio_militar',\n",
       " 'estado_marital_pareja_no_presente',\n",
       " 'estado_marital_separado',\n",
       " 'estado_marital_sin_matrimonio',\n",
       " 'estado_marital_viudo_a',\n",
       " 'genero_mujer',\n",
       " 'rol_familiar_registrado_casado',\n",
       " 'rol_familiar_registrado_con_hijos',\n",
       " 'rol_familiar_registrado_otro',\n",
       " 'rol_familiar_registrado_sin_familia',\n",
       " 'rol_familiar_registrado_soltero_a',\n",
       " 'trabajo_directivo_gerente',\n",
       " 'trabajo_ejercito',\n",
       " 'trabajo_entretenimiento',\n",
       " 'trabajo_inspector',\n",
       " 'trabajo_limpiador',\n",
       " 'trabajo_otros',\n",
       " 'trabajo_profesional_especializado',\n",
       " 'trabajo_reparador',\n",
       " 'trabajo_sector_primario',\n",
       " 'trabajo_seguridad',\n",
       " 'trabajo_servicio_domestico',\n",
       " 'trabajo_soporte_tecnico',\n",
       " 'trabajo_transporte',\n",
       " 'trabajo_ventas',\n",
       " 'educacion_alcanzada_encoded']"
      ]
     },
     "execution_count": 41,
     "metadata": {},
     "output_type": "execute_result"
    }
   ],
   "source": [
    "from sklearn.tree import export_graphviz\n",
    "from pydotplus import graph_from_dot_data\n",
    "\n",
    "feature_names = list(X_train.columns.values)\n",
    "\n",
    "feature_names\n",
    "#dot_data = export_graphviz(arbol_1, feature_names=feature_names)\n",
    "\n",
    "#graph = graph_from_dot_data(dot_data)\n",
    "#graph.write_png('tree.png')"
   ]
  },
  {
   "cell_type": "markdown",
   "id": "53d33b20",
   "metadata": {},
   "source": [
    "## Metricas\n",
    "Las metricas a utilizar son:\n",
    "* AUC-ROC  \n",
    "* Matriz de confusión  \n",
    "* Accuracy  \n",
    "* Precisión  \n",
    "* Recall  "
   ]
  },
  {
   "cell_type": "markdown",
   "id": "e18b6abe",
   "metadata": {},
   "source": [
    "Observamos las metricas obtenidas de las predicciones con el set de prueba."
   ]
  },
  {
   "cell_type": "markdown",
   "id": "52053d96",
   "metadata": {},
   "source": [
    "### Curva AUC ROC\n",
    "Primero calculamos el score obtenido con la curva de AUC ROC."
   ]
  },
  {
   "cell_type": "code",
   "execution_count": null,
   "id": "b1631c9e",
   "metadata": {},
   "outputs": [],
   "source": [
    "import matplotlib.pyplot as plt\n",
    "from sklearn.metrics import roc_curve, auc, plot_roc_curve, roc_auc_score"
   ]
  },
  {
   "cell_type": "code",
   "execution_count": null,
   "id": "c2ec97f3",
   "metadata": {},
   "outputs": [],
   "source": [
    "fpr, tpr, thresholds = roc_curve(y_test, y_pred1)\n",
    "display(fpr)\n",
    "display(tpr)\n",
    "display(thresholds)"
   ]
  },
  {
   "cell_type": "code",
   "execution_count": null,
   "id": "9ea0e5a2",
   "metadata": {},
   "outputs": [],
   "source": [
    "plot_roc_curve(arbol_1,X_test,y_test)\n",
    "plt.show()"
   ]
  },
  {
   "cell_type": "markdown",
   "id": "716b2fee",
   "metadata": {},
   "source": [
    "Podemos ver que la curva de auc roc nos indica que es mas probable que predigamos la clase de manera correcta."
   ]
  },
  {
   "cell_type": "markdown",
   "id": "ea0ab5d9",
   "metadata": {},
   "source": [
    "### Matriz de confusion"
   ]
  },
  {
   "cell_type": "code",
   "execution_count": null,
   "id": "18448f21",
   "metadata": {},
   "outputs": [],
   "source": [
    "from sklearn.metrics import plot_confusion_matrix\n",
    "\n",
    "fig, ax = plt.subplots(figsize=(15, 7))\n",
    "plt.grid(False)\n",
    "plot_confusion_matrix(\n",
    "    arbol_1, X_test, y_test, cmap=plt.cm.Blues, display_labels=['1', '0'], ax=ax\n",
    ")\n",
    "plt.show()\n",
    "#plot_confusion_matrix(y_test, arbol_1.predict_proba(X_test)[:,1]) HAY Q USAR PREDICT PROBA?"
   ]
  },
  {
   "cell_type": "markdown",
   "id": "b1ef54d6",
   "metadata": {},
   "source": [
    "Podemos ver (por ahora, tal vez hay q cambiar algo) que estamos prediciendo de manera correcta a 2281 + 489 casos, y estamos prediciendo mal a 296 + 192.\n",
    "\n",
    "obtenemos 192 falsos negativos \n",
    "295 falsos positivos."
   ]
  },
  {
   "cell_type": "markdown",
   "id": "61b2873e",
   "metadata": {},
   "source": [
    "### Accuracy\n",
    "esta mas arriba, despues pasarlo aca y agregar conclusion"
   ]
  },
  {
   "cell_type": "markdown",
   "id": "9eebc13f",
   "metadata": {},
   "source": [
    "### Precision"
   ]
  },
  {
   "cell_type": "code",
   "execution_count": null,
   "id": "04a9b443",
   "metadata": {},
   "outputs": [],
   "source": [
    "precision_score(y_test, y_pred1)"
   ]
  },
  {
   "cell_type": "markdown",
   "id": "f82ac1df",
   "metadata": {},
   "source": [
    "### Recall"
   ]
  },
  {
   "cell_type": "code",
   "execution_count": null,
   "id": "06270225",
   "metadata": {},
   "outputs": [],
   "source": [
    "recall_score(y_test, y_pred1)"
   ]
  },
  {
   "cell_type": "markdown",
   "id": "725b4368",
   "metadata": {},
   "source": [
    "## Prediccion sobre el data set de hold out"
   ]
  },
  {
   "cell_type": "code",
   "execution_count": null,
   "id": "6c7bee0f",
   "metadata": {},
   "outputs": [],
   "source": [
    "#no anda porque hay que convertir los datos pero planteo la idea\n",
    "ho_prediction = arbol_1.predict(final_df)\n",
    "final_df['tiene_alto_valor_adquisitivo'] = ho_prediction"
   ]
  },
  {
   "cell_type": "code",
   "execution_count": null,
   "id": "1e9c21b3",
   "metadata": {},
   "outputs": [],
   "source": [
    "Dudas\n",
    "otras formas de preprocesamiento?\n",
    "estaria bien sacar algunas de las columnas de trabajo o categoria? el arbol es muy grande para graficar."
   ]
  },
  {
   "cell_type": "code",
   "execution_count": null,
   "id": "cc5196ec",
   "metadata": {},
   "outputs": [],
   "source": []
  }
 ],
 "metadata": {
  "kernelspec": {
   "display_name": "Python 3",
   "language": "python",
   "name": "python3"
  },
  "language_info": {
   "codemirror_mode": {
    "name": "ipython",
    "version": 3
   },
   "file_extension": ".py",
   "mimetype": "text/x-python",
   "name": "python",
   "nbconvert_exporter": "python",
   "pygments_lexer": "ipython3",
   "version": "3.8.5"
  }
 },
 "nbformat": 4,
 "nbformat_minor": 5
}
