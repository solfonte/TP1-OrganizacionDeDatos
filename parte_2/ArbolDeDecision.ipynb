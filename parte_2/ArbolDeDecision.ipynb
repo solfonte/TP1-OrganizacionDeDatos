{
 "cells": [
  {
   "cell_type": "markdown",
   "id": "e756b0ba",
   "metadata": {},
   "source": [
    "# Arbol de decision\n",
    "En este notebook vamos a entrenar y explorar un arbol de decision."
   ]
  },
  {
   "cell_type": "code",
   "execution_count": 15,
   "id": "8bd27f6e",
   "metadata": {},
   "outputs": [],
   "source": [
    "import numpy as np\n",
    "import pandas as pd\n",
    "import seaborn as sns\n",
    "from sklearn import preprocessing, tree\n",
    "from ipywidgets import Button, IntSlider, interactive\n",
    "\n",
    "from preprocessing import cargarDatasets\n",
    "from preprocessing import prepararSetDeEntrenamiento\n",
    "from preprocessing import prepararSetDeValidacion\n",
    "from preprocessing import ingenieriaDeFeauturesArboles1\n",
    "\n",
    "from sklearn.metrics import accuracy_score, roc_auc_score, precision_score, recall_score\n",
    "from sklearn.model_selection import train_test_split,GridSearchCV"
   ]
  },
  {
   "cell_type": "markdown",
   "id": "a49020bb",
   "metadata": {},
   "source": [
    "## Carga y preprocesamiento de los datos\n",
    "Cargamos los datasets y los preparamos para usar."
   ]
  },
  {
   "cell_type": "code",
   "execution_count": 16,
   "id": "f5e1557e",
   "metadata": {},
   "outputs": [],
   "source": [
    "train_df,final_df = cargarDatasets()\n",
    "train_df = prepararSetDeEntrenamiento(train_df)\n",
    "final_df = prepararSetDeValidacion(final_df)"
   ]
  },
  {
   "cell_type": "code",
   "execution_count": 17,
   "id": "c5360df9",
   "metadata": {},
   "outputs": [],
   "source": [
    "X,y,df,y_encoder = ingenieriaDeFeauturesArboles1(train_df)\n",
    "\n",
    "X_train, X_test, y_train, y_test = train_test_split(X, y, random_state=117, test_size=0.1, stratify=y)"
   ]
  },
  {
   "cell_type": "code",
   "execution_count": 18,
   "id": "b0359031",
   "metadata": {},
   "outputs": [
    {
     "data": {
      "text/html": [
       "<div>\n",
       "<style scoped>\n",
       "    .dataframe tbody tr th:only-of-type {\n",
       "        vertical-align: middle;\n",
       "    }\n",
       "\n",
       "    .dataframe tbody tr th {\n",
       "        vertical-align: top;\n",
       "    }\n",
       "\n",
       "    .dataframe thead th {\n",
       "        text-align: right;\n",
       "    }\n",
       "</style>\n",
       "<table border=\"1\" class=\"dataframe\">\n",
       "  <thead>\n",
       "    <tr style=\"text-align: right;\">\n",
       "      <th></th>\n",
       "      <th>ganancia_perdida_declarada_bolsa_argentina</th>\n",
       "      <th>categoria_de_trabajo_empleadao_estatal</th>\n",
       "      <th>categoria_de_trabajo_empleado_municipal</th>\n",
       "      <th>categoria_de_trabajo_empleado_provincial</th>\n",
       "      <th>categoria_de_trabajo_monotibutista</th>\n",
       "      <th>categoria_de_trabajo_relacion_de_dependencia</th>\n",
       "      <th>categoria_de_trabajo_responsable_inscripto</th>\n",
       "      <th>categoria_de_trabajo_sin_trabajo</th>\n",
       "      <th>categoria_de_trabajo_trabajo_voluntariado</th>\n",
       "      <th>estado_marital_matrimonio_civil</th>\n",
       "      <th>...</th>\n",
       "      <th>trabajo_otros</th>\n",
       "      <th>trabajo_profesional_especializado</th>\n",
       "      <th>trabajo_reparador</th>\n",
       "      <th>trabajo_sector_primario</th>\n",
       "      <th>trabajo_seguridad</th>\n",
       "      <th>trabajo_servicio_domestico</th>\n",
       "      <th>trabajo_soporte_tecnico</th>\n",
       "      <th>trabajo_transporte</th>\n",
       "      <th>trabajo_ventas</th>\n",
       "      <th>educacion_alcanzada_encoded</th>\n",
       "    </tr>\n",
       "  </thead>\n",
       "  <tbody>\n",
       "    <tr>\n",
       "      <th>29580</th>\n",
       "      <td>0</td>\n",
       "      <td>0</td>\n",
       "      <td>0</td>\n",
       "      <td>0</td>\n",
       "      <td>0</td>\n",
       "      <td>1</td>\n",
       "      <td>0</td>\n",
       "      <td>0</td>\n",
       "      <td>0</td>\n",
       "      <td>0</td>\n",
       "      <td>...</td>\n",
       "      <td>0</td>\n",
       "      <td>0</td>\n",
       "      <td>1</td>\n",
       "      <td>0</td>\n",
       "      <td>0</td>\n",
       "      <td>0</td>\n",
       "      <td>0</td>\n",
       "      <td>0</td>\n",
       "      <td>0</td>\n",
       "      <td>5</td>\n",
       "    </tr>\n",
       "    <tr>\n",
       "      <th>7359</th>\n",
       "      <td>0</td>\n",
       "      <td>0</td>\n",
       "      <td>1</td>\n",
       "      <td>0</td>\n",
       "      <td>0</td>\n",
       "      <td>0</td>\n",
       "      <td>0</td>\n",
       "      <td>0</td>\n",
       "      <td>0</td>\n",
       "      <td>1</td>\n",
       "      <td>...</td>\n",
       "      <td>0</td>\n",
       "      <td>1</td>\n",
       "      <td>0</td>\n",
       "      <td>0</td>\n",
       "      <td>0</td>\n",
       "      <td>0</td>\n",
       "      <td>0</td>\n",
       "      <td>0</td>\n",
       "      <td>0</td>\n",
       "      <td>8</td>\n",
       "    </tr>\n",
       "    <tr>\n",
       "      <th>30739</th>\n",
       "      <td>0</td>\n",
       "      <td>0</td>\n",
       "      <td>0</td>\n",
       "      <td>0</td>\n",
       "      <td>0</td>\n",
       "      <td>1</td>\n",
       "      <td>0</td>\n",
       "      <td>0</td>\n",
       "      <td>0</td>\n",
       "      <td>0</td>\n",
       "      <td>...</td>\n",
       "      <td>0</td>\n",
       "      <td>1</td>\n",
       "      <td>0</td>\n",
       "      <td>0</td>\n",
       "      <td>0</td>\n",
       "      <td>0</td>\n",
       "      <td>0</td>\n",
       "      <td>0</td>\n",
       "      <td>0</td>\n",
       "      <td>7</td>\n",
       "    </tr>\n",
       "    <tr>\n",
       "      <th>23107</th>\n",
       "      <td>0</td>\n",
       "      <td>0</td>\n",
       "      <td>0</td>\n",
       "      <td>0</td>\n",
       "      <td>0</td>\n",
       "      <td>1</td>\n",
       "      <td>0</td>\n",
       "      <td>0</td>\n",
       "      <td>0</td>\n",
       "      <td>0</td>\n",
       "      <td>...</td>\n",
       "      <td>1</td>\n",
       "      <td>0</td>\n",
       "      <td>0</td>\n",
       "      <td>0</td>\n",
       "      <td>0</td>\n",
       "      <td>0</td>\n",
       "      <td>0</td>\n",
       "      <td>0</td>\n",
       "      <td>0</td>\n",
       "      <td>8</td>\n",
       "    </tr>\n",
       "    <tr>\n",
       "      <th>14357</th>\n",
       "      <td>0</td>\n",
       "      <td>0</td>\n",
       "      <td>0</td>\n",
       "      <td>0</td>\n",
       "      <td>0</td>\n",
       "      <td>1</td>\n",
       "      <td>0</td>\n",
       "      <td>0</td>\n",
       "      <td>0</td>\n",
       "      <td>0</td>\n",
       "      <td>...</td>\n",
       "      <td>0</td>\n",
       "      <td>0</td>\n",
       "      <td>0</td>\n",
       "      <td>1</td>\n",
       "      <td>0</td>\n",
       "      <td>0</td>\n",
       "      <td>0</td>\n",
       "      <td>0</td>\n",
       "      <td>0</td>\n",
       "      <td>7</td>\n",
       "    </tr>\n",
       "  </tbody>\n",
       "</table>\n",
       "<p>5 rows × 36 columns</p>\n",
       "</div>"
      ],
      "text/plain": [
       "       ganancia_perdida_declarada_bolsa_argentina  \\\n",
       "29580                                           0   \n",
       "7359                                            0   \n",
       "30739                                           0   \n",
       "23107                                           0   \n",
       "14357                                           0   \n",
       "\n",
       "       categoria_de_trabajo_empleadao_estatal  \\\n",
       "29580                                       0   \n",
       "7359                                        0   \n",
       "30739                                       0   \n",
       "23107                                       0   \n",
       "14357                                       0   \n",
       "\n",
       "       categoria_de_trabajo_empleado_municipal  \\\n",
       "29580                                        0   \n",
       "7359                                         1   \n",
       "30739                                        0   \n",
       "23107                                        0   \n",
       "14357                                        0   \n",
       "\n",
       "       categoria_de_trabajo_empleado_provincial  \\\n",
       "29580                                         0   \n",
       "7359                                          0   \n",
       "30739                                         0   \n",
       "23107                                         0   \n",
       "14357                                         0   \n",
       "\n",
       "       categoria_de_trabajo_monotibutista  \\\n",
       "29580                                   0   \n",
       "7359                                    0   \n",
       "30739                                   0   \n",
       "23107                                   0   \n",
       "14357                                   0   \n",
       "\n",
       "       categoria_de_trabajo_relacion_de_dependencia  \\\n",
       "29580                                             1   \n",
       "7359                                              0   \n",
       "30739                                             1   \n",
       "23107                                             1   \n",
       "14357                                             1   \n",
       "\n",
       "       categoria_de_trabajo_responsable_inscripto  \\\n",
       "29580                                           0   \n",
       "7359                                            0   \n",
       "30739                                           0   \n",
       "23107                                           0   \n",
       "14357                                           0   \n",
       "\n",
       "       categoria_de_trabajo_sin_trabajo  \\\n",
       "29580                                 0   \n",
       "7359                                  0   \n",
       "30739                                 0   \n",
       "23107                                 0   \n",
       "14357                                 0   \n",
       "\n",
       "       categoria_de_trabajo_trabajo_voluntariado  \\\n",
       "29580                                          0   \n",
       "7359                                           0   \n",
       "30739                                          0   \n",
       "23107                                          0   \n",
       "14357                                          0   \n",
       "\n",
       "       estado_marital_matrimonio_civil  ...  trabajo_otros  \\\n",
       "29580                                0  ...              0   \n",
       "7359                                 1  ...              0   \n",
       "30739                                0  ...              0   \n",
       "23107                                0  ...              1   \n",
       "14357                                0  ...              0   \n",
       "\n",
       "       trabajo_profesional_especializado  trabajo_reparador  \\\n",
       "29580                                  0                  1   \n",
       "7359                                   1                  0   \n",
       "30739                                  1                  0   \n",
       "23107                                  0                  0   \n",
       "14357                                  0                  0   \n",
       "\n",
       "       trabajo_sector_primario  trabajo_seguridad  trabajo_servicio_domestico  \\\n",
       "29580                        0                  0                           0   \n",
       "7359                         0                  0                           0   \n",
       "30739                        0                  0                           0   \n",
       "23107                        0                  0                           0   \n",
       "14357                        1                  0                           0   \n",
       "\n",
       "       trabajo_soporte_tecnico  trabajo_transporte  trabajo_ventas  \\\n",
       "29580                        0                   0               0   \n",
       "7359                         0                   0               0   \n",
       "30739                        0                   0               0   \n",
       "23107                        0                   0               0   \n",
       "14357                        0                   0               0   \n",
       "\n",
       "       educacion_alcanzada_encoded  \n",
       "29580                            5  \n",
       "7359                             8  \n",
       "30739                            7  \n",
       "23107                            8  \n",
       "14357                            7  \n",
       "\n",
       "[5 rows x 36 columns]"
      ]
     },
     "execution_count": 18,
     "metadata": {},
     "output_type": "execute_result"
    }
   ],
   "source": [
    "X_train.head()"
   ]
  },
  {
   "cell_type": "markdown",
   "id": "6ab32eb0",
   "metadata": {},
   "source": [
    "* ingenieria de feautures (2 formas)\n",
    "* dividimos cada set en 2.\n",
    "* entrenamos (2 arboles)\n",
    "* metricas\n",
    "\n",
    "fit: ajusta el modelo al set de entrenamiento\n",
    "predict: que agarre un ejemplo y haga una prediccion (predice la clase a la que pertenece)\n",
    "\n",
    "\n",
    "hiperparametros: quiero encontrar el mejor modelo para este dataset. Son parametros que el modelo no aprende, hay que decirselos.\n",
    "-> random state: quiero que si un valor es random, que sea reproducible. Que el modelo vuelva a dar lo mismo cada vez que lo corro (que sea determinista).\n",
    "->split: cuantos feautures miro para ir dividiendo."
   ]
  },
  {
   "cell_type": "code",
   "execution_count": 19,
   "id": "fc7e5b39",
   "metadata": {},
   "outputs": [
    {
     "data": {
      "text/plain": [
       "0.8501688670555726"
      ]
     },
     "execution_count": 19,
     "metadata": {},
     "output_type": "execute_result"
    }
   ],
   "source": [
    "params1 = {\n",
    "    'max_depth': np.arange(1, 10),\n",
    "    'min_samples_leaf': np.arange(10, 30),\n",
    "    \"criterion\": [\"gini\", \"entropy\"],\n",
    "}\n",
    "\n",
    "arbol_1 = tree.DecisionTreeClassifier()\n",
    "gscv1 = GridSearchCV(\n",
    "    arbol_1, params1, scoring='accuracy', n_jobs=-1, cv=5, return_train_score=True\n",
    ").fit(X_train, y_train)\n",
    "\n",
    "arbol_1.fit(X_train, y_train)\n",
    "y_pred1 = arbol_1.predict(X_test)\n",
    "accuracy_score(y_test, y_pred1) "
   ]
  },
  {
   "cell_type": "code",
   "execution_count": 20,
   "id": "9c67bd41",
   "metadata": {},
   "outputs": [
    {
     "name": "stdout",
     "output_type": "stream",
     "text": [
      "Best score: 0.85486630256226\n",
      "Best params {'criterion': 'entropy', 'max_depth': 9, 'min_samples_leaf': 19}\n"
     ]
    }
   ],
   "source": [
    "print(f\"Best score: {gscv1.best_score_}\")\n",
    "print(f\"Best params {gscv1.best_params_}\")"
   ]
  },
  {
   "cell_type": "markdown",
   "id": "c32a5ce9",
   "metadata": {},
   "source": [
    "## Metricas\n",
    "Las metricas a utilizar son:\n",
    "* AUC-ROC  \n",
    "* Matriz de confusión  \n",
    "* Accuracy  \n",
    "* Precisión  \n",
    "* Recall  "
   ]
  },
  {
   "cell_type": "markdown",
   "id": "bea6558d",
   "metadata": {},
   "source": [
    "Observamos las metricas obtenidas de las predicciones con el set de prueba."
   ]
  },
  {
   "cell_type": "markdown",
   "id": "cf6a9fd6",
   "metadata": {},
   "source": [
    "### Curva AUC ROC\n",
    "Primero calculamos el score obtenido con la curva de AUC ROC."
   ]
  },
  {
   "cell_type": "code",
   "execution_count": 21,
   "id": "b0f18d88",
   "metadata": {},
   "outputs": [],
   "source": [
    "import matplotlib.pyplot as plt\n",
    "from sklearn.metrics import roc_curve, auc\n",
    "from sklearn.metrics import roc_auc_score"
   ]
  },
  {
   "cell_type": "code",
   "execution_count": 22,
   "id": "a1f562bf",
   "metadata": {},
   "outputs": [
    {
     "data": {
      "text/plain": [
       "array([0.       , 0.0776385, 1.       ])"
      ]
     },
     "metadata": {},
     "output_type": "display_data"
    },
    {
     "data": {
      "text/plain": [
       "array([0.        , 0.62244898, 1.        ])"
      ]
     },
     "metadata": {},
     "output_type": "display_data"
    },
    {
     "data": {
      "text/plain": [
       "array([2, 1, 0])"
      ]
     },
     "metadata": {},
     "output_type": "display_data"
    }
   ],
   "source": [
    "fpr, tpr, thresholds = roc_curve(y_test, y_pred1)\n",
    "display(fpr)\n",
    "display(tpr)\n",
    "display(thresholds)"
   ]
  },
  {
   "cell_type": "code",
   "execution_count": 23,
   "id": "5d7e6427",
   "metadata": {},
   "outputs": [],
   "source": [
    "def plot_roc(_fpr, _tpr, x):\n",
    "\n",
    "    roc_auc = auc(_fpr, _tpr)\n",
    "\n",
    "    plt.figure(figsize=(15, 10))\n",
    "    plt.plot(\n",
    "        _fpr, _tpr, color='darkorange', lw=2, label=f'ROC curve (area = {roc_auc:.2f})'\n",
    "    )\n",
    "    plt.scatter(_fpr, x)\n",
    "    plt.plot([0, 1], [0, 1], color='navy', lw=2, linestyle='--')\n",
    "    plt.xlim([0.0, 1.0])\n",
    "    plt.ylim([0.0, 1.05])\n",
    "    plt.xlabel('False Positive Rate')\n",
    "    plt.ylabel('True Positive Rate')\n",
    "    plt.title('Receiver operating characteristic')\n",
    "    plt.legend(loc=\"lower right\")\n",
    "    plt.show()"
   ]
  },
  {
   "cell_type": "code",
   "execution_count": 24,
   "id": "7a14abfb",
   "metadata": {},
   "outputs": [
    {
     "data": {
      "image/png": "[encoded data removed]",
      "text/plain": [
       "<Figure size 1080x720 with 1 Axes>"
      ]
     },
     "metadata": {
      "needs_background": "light"
     },
     "output_type": "display_data"
    },
    {
     "data": {
      "text/plain": [
       "0.8787569010620827"
      ]
     },
     "execution_count": 24,
     "metadata": {},
     "output_type": "execute_result"
    }
   ],
   "source": [
    "plot_roc(fpr, tpr, thresholds)\n",
    "roc_auc_score(y_test, arbol_1.predict_proba(X_test)[:,1])"
   ]
  },
  {
   "cell_type": "markdown",
   "id": "5491f7b1",
   "metadata": {},
   "source": [
    "**agregar conclusion (cuando entienda la curva)**"
   ]
  },
  {
   "cell_type": "markdown",
   "id": "931507c4",
   "metadata": {},
   "source": [
    "### Matriz de confusion"
   ]
  },
  {
   "cell_type": "code",
   "execution_count": 31,
   "id": "4513f1f9",
   "metadata": {},
   "outputs": [
    {
     "name": "stderr",
     "output_type": "stream",
     "text": [
      "/home/sol/.local/lib/python3.8/site-packages/sklearn/utils/validation.py:67: FutureWarning: Pass labels=[0, 1] as keyword args. From version 0.25 passing these as positional arguments will result in an error\n",
      "  warnings.warn(\"Pass {} as keyword args. From version 0.25 \"\n"
     ]
    },
    {
     "data": {
      "image/png": "[encoded data removed]",
      "text/plain": [
       "<Figure size 600x400 with 2 Axes>"
      ]
     },
     "metadata": {
      "needs_background": "light"
     },
     "output_type": "display_data"
    }
   ],
   "source": [
    "from sklearn.metrics import confusion_matrix\n",
    "\n",
    "\n",
    "def plot_confusion_matrix(y_true, y_pred):\n",
    "    names = sorted(set(y_true))\n",
    "    cm = confusion_matrix(y_true, y_pred, names)\n",
    "    df_cm = pd.DataFrame(cm, names, names)\n",
    "\n",
    "    plt.figure(dpi=100)\n",
    "    plt.title(\"Matriz de confusion\")\n",
    "    sns.heatmap(df_cm, annot=True, annot_kws={\"size\": 16}, fmt='g', square=True)\n",
    "    plt.ylabel(\"True label\")\n",
    "    plt.xlabel(\"Predicted label\")\n",
    "    plt.show()\n",
    "\n",
    "\n",
    "plot_confusion_matrix(y_test, arbol_1.predict(X_test))\n",
    "#plot_confusion_matrix(y_test, arbol_1.predict_proba(X_test)[:,1]) HAY Q USAR PREDICT PROBA?"
   ]
  },
  {
   "cell_type": "markdown",
   "id": "060bfe9a",
   "metadata": {},
   "source": [
    "**no entiendo si deberia verse asi pero despues agregar conclusion**"
   ]
  },
  {
   "cell_type": "markdown",
   "id": "80cd4224",
   "metadata": {},
   "source": [
    "### Accuracy\n",
    "esta mas arriba, despues pasarlo aca y agregar conclusion"
   ]
  },
  {
   "cell_type": "markdown",
   "id": "8e768ebc",
   "metadata": {},
   "source": [
    "### Precision"
   ]
  },
  {
   "cell_type": "code",
   "execution_count": 26,
   "id": "50e187e6",
   "metadata": {},
   "outputs": [
    {
     "data": {
      "text/plain": [
       "0.7176470588235294"
      ]
     },
     "execution_count": 26,
     "metadata": {},
     "output_type": "execute_result"
    }
   ],
   "source": [
    "precision_score(y_test, y_pred1)"
   ]
  },
  {
   "cell_type": "markdown",
   "id": "bf5be4fe",
   "metadata": {},
   "source": [
    "### Recall"
   ]
  },
  {
   "cell_type": "code",
   "execution_count": 27,
   "id": "7e6d0035",
   "metadata": {},
   "outputs": [
    {
     "data": {
      "text/plain": [
       "0.6224489795918368"
      ]
     },
     "execution_count": 27,
     "metadata": {},
     "output_type": "execute_result"
    }
   ],
   "source": [
    "recall_score(y_test, y_pred1)"
   ]
  },
  {
   "cell_type": "code",
   "execution_count": null,
   "id": "4d91323b",
   "metadata": {},
   "outputs": [],
   "source": []
  }
 ],
 "metadata": {
  "kernelspec": {
   "display_name": "Python 3",
   "language": "python",
   "name": "python3"
  },
  "language_info": {
   "codemirror_mode": {
    "name": "ipython",
    "version": 3
   },
   "file_extension": ".py",
   "mimetype": "text/x-python",
   "name": "python",
   "nbconvert_exporter": "python",
   "pygments_lexer": "ipython3",
   "version": "3.8.5"
  }
 },
 "nbformat": 4,
 "nbformat_minor": 5
}
