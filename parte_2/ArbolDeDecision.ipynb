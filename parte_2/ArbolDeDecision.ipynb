{
 "cells": [
  {
   "cell_type": "markdown",
   "id": "e736b5d6",
   "metadata": {},
   "source": [
    "# Arbol de decision\n",
    "En este notebook vamos a entrenar y explorar un arbol de decision."
   ]
  },
  {
   "cell_type": "code",
   "execution_count": 142,
   "id": "4e8b234b",
   "metadata": {},
   "outputs": [],
   "source": [
    "import numpy as np\n",
    "import pandas as pd\n",
    "import seaborn as sns\n",
    "from sklearn import preprocessing, tree\n",
    "\n",
    "from preprocessing import cargarDatasets\n",
    "\n",
    "from sklearn.model_selection import train_test_split"
   ]
  },
  {
   "cell_type": "markdown",
   "id": "3fa9d595",
   "metadata": {},
   "source": [
    "## Carga y preprocesamiento de los datos"
   ]
  },
  {
   "cell_type": "code",
   "execution_count": 144,
   "id": "e0b5c35a",
   "metadata": {},
   "outputs": [],
   "source": [
    "def cargarDatasets():\n",
    "\n",
    "    with requests.get(\n",
    "    DATA_TRAIN_URL\n",
    "    ) as r, open(DATA_TRAIN, \"wb\") as f:\n",
    "        for chunk in r.iter_content():\n",
    "            f.write(chunk)\n",
    "\n",
    "    x = pd.read_csv(DATA_TRAIN)\n",
    "\n",
    "    with requests.get(\n",
    "    DATA_VALIDATION_URL\n",
    "    ) as r, open(DATA_VALIDATION, \"wb\") as f:\n",
    "        for chunk in r.iter_content():\n",
    "            f.write(chunk)\n",
    "\n",
    "    y = pd.read_csv(DATA_VALIDATION)\n",
    "    return x,y\n",
    "\n",
    "x,y = cargarDatasets()"
   ]
  },
  {
   "cell_type": "code",
   "execution_count": 145,
   "id": "b7acef1b",
   "metadata": {},
   "outputs": [],
   "source": [
    "def prepararSetDeEntrenamiento(train_df:pd.DataFrame):\n",
    "    #dropeamos algunas columnas supongo como las de religion, horas de trabajo registradas\n",
    "    #no se si estaria bien borrar las filas que borrabamos en el primer tp\n",
    "    train_df.drop(columns=['religion','horas_trabajo_registradas'], inplace=True)\n",
    "    train_df.fillna(np.nan, inplace = True)\n",
    "    \n",
    "    train_df['categoria_de_trabajo'] = train_df['categoria_de_trabajo'].replace(np.nan, 'No respondio')\n",
    "    train_df['trabajo'] = train_df['trabajo'].replace(np.nan, 'No respondio')\n",
    "    train_df['barrio'] = train_df['barrio'].replace(np.nan, 'Otro Barrio')\n",
    "    \n",
    "    #train_df = conversionDeVariablesCategoricas(train_df)\n",
    "    \n",
    "    return train_df\n",
    "\n",
    "def prepararSetDeValidacion(validation_df:pd.DataFrame):\n",
    "    #borro el id porque no se q es seguro no sirve\n",
    "    #representatividad_poblacional  tampoco se q es wtf\n",
    "    validation_df.drop(columns=['religion','id','representatividad_poblacional'], inplace=True)\n",
    "    return validation_df"
   ]
  },
  {
   "cell_type": "code",
   "execution_count": 146,
   "id": "f4b0c6cb",
   "metadata": {},
   "outputs": [],
   "source": [
    "x = prepararSetDeEntrenamiento(x)\n",
    "y = prepararSetDeValidacion(y)"
   ]
  },
  {
   "cell_type": "code",
   "execution_count": 117,
   "id": "5d71e205",
   "metadata": {},
   "outputs": [],
   "source": [
    "#X_train, X_test, y_train, y_test = train_test_split(x, y, random_state=117)"
   ]
  },
  {
   "cell_type": "code",
   "execution_count": null,
   "id": "4cfadbd6",
   "metadata": {},
   "outputs": [],
   "source": []
  }
 ],
 "metadata": {
  "kernelspec": {
   "display_name": "Python 3",
   "language": "python",
   "name": "python3"
  },
  "language_info": {
   "codemirror_mode": {
    "name": "ipython",
    "version": 3
   },
   "file_extension": ".py",
   "mimetype": "text/x-python",
   "name": "python",
   "nbconvert_exporter": "python",
   "pygments_lexer": "ipython3",
   "version": "3.8.5"
  }
 },
 "nbformat": 4,
 "nbformat_minor": 5
}
