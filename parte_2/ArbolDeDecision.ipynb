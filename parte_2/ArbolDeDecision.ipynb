{
 "cells": [
  {
   "cell_type": "markdown",
   "id": "c6c172ae",
   "metadata": {},
   "source": [
    "# Arbol de decision\n",
    "En este notebook vamos a entrenar y explorar un arbol de decision."
   ]
  },
  {
   "cell_type": "code",
   "execution_count": 1,
   "id": "8adbdb91",
   "metadata": {},
   "outputs": [],
   "source": [
    "import numpy as np\n",
    "import pandas as pd\n",
    "import seaborn as sns\n",
    "from sklearn import preprocessing, tree\n",
    "from ipywidgets import Button, IntSlider, interactive\n",
    "\n",
    "from preprocessing import cargarDatasets\n",
    "from preprocessing import prepararSetDeEntrenamiento\n",
    "from preprocessing import prepararSetDeValidacion\n",
    "from preprocessing import ingenieriaDeFeauturesArboles1\n",
    "\n",
    "from sklearn.metrics import accuracy_score, roc_auc_score\n",
    "from sklearn.model_selection import train_test_split,GridSearchCV"
   ]
  },
  {
   "cell_type": "markdown",
   "id": "b9a48380",
   "metadata": {},
   "source": [
    "## Carga y preprocesamiento de los datos\n",
    "Cargamos los datasets y los preparamos para usar."
   ]
  },
  {
   "cell_type": "code",
   "execution_count": 2,
   "id": "36dea26f",
   "metadata": {},
   "outputs": [],
   "source": [
    "train_df,final_df = cargarDatasets()\n",
    "train_df = prepararSetDeEntrenamiento(train_df)\n",
    "final_df = prepararSetDeValidacion(final_df)"
   ]
  },
  {
   "cell_type": "markdown",
   "id": "35515c9a",
   "metadata": {},
   "source": [
    "Ahora que ya tenemos los datasets cargados, **le aplicamos al dataset de entrenamiento distintos preprocesamientos, y luego lo particionamos usando k-fold cross validation.** a chequear esto ultimo"
   ]
  },
  {
   "cell_type": "code",
   "execution_count": 3,
   "id": "a8a6a1e1",
   "metadata": {},
   "outputs": [],
   "source": [
    "X,y,df,y_encoder = ingenieriaDeFeauturesArboles1(train_df)\n",
    "\n",
    "X_train, X_test, y_train, y_test = train_test_split(X, y, random_state=117, test_size=0.1, stratify=y)"
   ]
  },
  {
   "cell_type": "markdown",
   "id": "da6f6c07",
   "metadata": {},
   "source": [
    "* ingenieria de feautures (2 formas)\n",
    "* dividimos cada set en 3.\n",
    "* entrenamos (2 arboles)\n",
    "* metricas\n",
    "\n",
    "fit: ajusta el modelo al set de entrenamiento\n",
    "predict: que agarre un ejemplo y haga una prediccion (predice la clase a la que pertenece)\n",
    "\n",
    "\n",
    "hiperparametros: quiero encontrar el mejor modelo para este dataset. Son parametros que el modelo no aprende, hay que decirselos.\n",
    "-> random state: quiero que si un valor es random, que sea reproducible. Que el modelo vuelva a dar lo mismo cada vez que lo corro (que sea determinista).\n",
    "->split: cuantos feautures miro para ir dividiendo."
   ]
  },
  {
   "cell_type": "code",
   "execution_count": 11,
   "id": "01b9dda1",
   "metadata": {},
   "outputs": [
    {
     "data": {
      "text/plain": [
       "0.815474362910654"
      ]
     },
     "execution_count": 11,
     "metadata": {},
     "output_type": "execute_result"
    }
   ],
   "source": [
    "params2 = {\n",
    "    'max_depth': np.arange(1, 10),\n",
    "    'min_samples_leaf': np.arange(1, 16),\n",
    "    \"criterion\": [\"gini\", \"entropy\"],\n",
    "}\n",
    "\n",
    "arbol_2 = tree.DecisionTreeClassifier()\n",
    "gscv2 = GridSearchCV(\n",
    "    arbol_2, params2, scoring='accuracy', n_jobs=-1, cv=5, return_train_score=True\n",
    ").fit(X_train, y_train)\n",
    "\n",
    "arbol_2.fit(X_train, y_train)\n",
    "y_pred2 = arbol_2.predict(X_test)\n",
    "accuracy_score(y_test, y_pred2)"
   ]
  },
  {
   "cell_type": "code",
   "execution_count": 12,
   "id": "417c7753",
   "metadata": {},
   "outputs": [
    {
     "name": "stdout",
     "output_type": "stream",
     "text": [
      "Best score: 0.8569477829092987\n",
      "Best params {'criterion': 'gini', 'max_depth': 8, 'min_samples_leaf': 3}\n"
     ]
    }
   ],
   "source": [
    "print(f\"Best score: {gscv2.best_score_}\")\n",
    "print(f\"Best params {gscv2.best_params_}\")"
   ]
  },
  {
   "cell_type": "code",
   "execution_count": null,
   "id": "6ab3b6c3",
   "metadata": {},
   "outputs": [],
   "source": []
  },
  {
   "cell_type": "code",
   "execution_count": null,
   "id": "8c6a7083",
   "metadata": {},
   "outputs": [],
   "source": []
  }
 ],
 "metadata": {
  "kernelspec": {
   "display_name": "Python 3",
   "language": "python",
   "name": "python3"
  },
  "language_info": {
   "codemirror_mode": {
    "name": "ipython",
    "version": 3
   },
   "file_extension": ".py",
   "mimetype": "text/x-python",
   "name": "python",
   "nbconvert_exporter": "python",
   "pygments_lexer": "ipython3",
   "version": "3.8.5"
  }
 },
 "nbformat": 4,
 "nbformat_minor": 5
}
