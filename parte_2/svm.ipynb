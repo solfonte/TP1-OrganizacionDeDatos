{
 "cells": [
  {
   "cell_type": "markdown",
   "id": "db17197f",
   "metadata": {},
   "source": [
    "## SVM"
   ]
  },
  {
   "cell_type": "code",
   "execution_count": 1,
   "id": "437018ae",
   "metadata": {},
   "outputs": [],
   "source": [
    "import numpy as np\n",
    "import pandas as pd\n",
    "import seaborn as sns\n",
    "from sklearn import preprocessing\n",
    "import matplotlib.pyplot as plt\n",
    "import timeit"
   ]
  },
  {
   "cell_type": "code",
   "execution_count": 2,
   "id": "e9c77590",
   "metadata": {},
   "outputs": [],
   "source": [
    "from preprocessing import cargarDatasets\n",
    "from preprocessing import prepararSet\n",
    "from preprocessing import ingenieriaDeFeaturesSVM"
   ]
  },
  {
   "cell_type": "code",
   "execution_count": 3,
   "id": "6ddf5136",
   "metadata": {},
   "outputs": [],
   "source": [
    "from sklearn.metrics import classification_report\n",
    "from sklearn.metrics import accuracy_score, roc_auc_score\n",
    "from sklearn.model_selection import train_test_split,KFold, StratifiedKFold, GridSearchCV, RandomizedSearchCV\n",
    "from sklearn.metrics import accuracy_score, roc_auc_score, precision_score, recall_score"
   ]
  },
  {
   "cell_type": "code",
   "execution_count": 4,
   "id": "d5099999",
   "metadata": {},
   "outputs": [],
   "source": [
    "from sklearn.svm import SVC"
   ]
  },
  {
   "cell_type": "markdown",
   "id": "5ec58823",
   "metadata": {},
   "source": [
    "* Este metodo es un algortimo suvervisado en la cual busca un hiperplano que separae las clases de la mejor forma posible. \n",
    "* A su vez busca maximinar M (margen), el espacio entre los distintos puntos de las distintas clases. \n",
    "  Si se decea que los punos esten perfectamente separados tenemos un modelo hard margin, en donde el modelo no funciona con outliers y ruido. Si se le permite tener algo de rido y outliers entonces tenemos un modelo soft margin.\n",
    "\n",
    "* En el caso en que no se encuentre el hiperplano, los puntos no son linealmente separables por lo que hay reccurir a una transformacion de datos en una nueva dimension. Como es costoso se utilizan kernes que hace que se piense que esta en otro dimension. Estos kernel puede sen lineal, polinomial, radial, etc."
   ]
  },
  {
   "cell_type": "markdown",
   "id": "265cbccd",
   "metadata": {},
   "source": [
    "## Carga y preprosesamiento de datos "
   ]
  },
  {
   "cell_type": "code",
   "execution_count": 5,
   "id": "b070f97a",
   "metadata": {},
   "outputs": [],
   "source": [
    "train_df,final_df = cargarDatasets()\n",
    "train_df = prepararSet(train_df)\n"
   ]
  },
  {
   "cell_type": "markdown",
   "id": "4f085d97",
   "metadata": {},
   "source": [
    "Una vez que tenemos cargados el set de entrenamiento vamos a ir aplicando distintos preprocesamientos"
   ]
  },
  {
   "cell_type": "markdown",
   "id": "5901ed85",
   "metadata": {},
   "source": [
    "svm es sensible a la escala y distribucion de datos, es por eso que normalizamos las variables."
   ]
  },
  {
   "cell_type": "code",
   "execution_count": 6,
   "id": "44b7cfdf",
   "metadata": {},
   "outputs": [],
   "source": [
    "X,y,df,y_encoder = ingenieriaDeFeaturesSVM(train_df)"
   ]
  },
  {
   "cell_type": "code",
   "execution_count": 7,
   "id": "c16f1679",
   "metadata": {},
   "outputs": [],
   "source": [
    "X_train, X_test, y_train, y_test = train_test_split(X, y, random_state=117, test_size=0.1, stratify=y)"
   ]
  },
  {
   "cell_type": "markdown",
   "id": "6135f090",
   "metadata": {},
   "source": [
    "## Busca de hiperparaemtros"
   ]
  },
  {
   "cell_type": "markdown",
   "id": "acf72222",
   "metadata": {},
   "source": [
    "los hiperparametros a tener en cuenta van a ser c y el kernel \n",
    "* c: es la resistencia al ruido, a mayor c se tiene un modelo hard margin y a menor c se tiene un modelo soft margin.\n",
    "* kernel: es una funcion que nos permite tener dimensiones mayores sin tener que convertir los datos.     "
   ]
  },
  {
   "cell_type": "code",
   "execution_count": 8,
   "id": "0ad355d2",
   "metadata": {},
   "outputs": [],
   "source": [
    "parametros_lineal = [ {'C': [1,2,3] , 'kernel': ['linear']}]"
   ]
  },
  {
   "cell_type": "code",
   "execution_count": 9,
   "id": "b5780576",
   "metadata": {},
   "outputs": [],
   "source": [
    "parametros_radial = [ {'C': [0.5,1,2,3], 'gamma': [0.0000001,0.00001, 0.0001, 0.001, 0.01, 0.1, 1, 10, 100], 'kernel': ['rbf']}]"
   ]
  },
  {
   "cell_type": "code",
   "execution_count": 10,
   "id": "a1fe4021",
   "metadata": {},
   "outputs": [],
   "source": [
    "parametro_polinomial = [{'C': [1,2,3], 'gamma': [0.0000001,0.0001,0.01, 0.1, 1], 'degree':[3,10,100,500]}]"
   ]
  },
  {
   "cell_type": "code",
   "execution_count": 11,
   "id": "9d167f8c",
   "metadata": {},
   "outputs": [],
   "source": [
    "svm = SVC(probability = True)\n",
    "lineal = RandomizedSearchCV(\n",
    "    svm, parametros_lineal, scoring='roc_auc', n_jobs=-1, cv=2, return_train_score=True, n_iter = 8, verbose = 99\n",
    ")"
   ]
  },
  {
   "cell_type": "code",
   "execution_count": 12,
   "id": "486e3b6b",
   "metadata": {},
   "outputs": [
    {
     "name": "stdout",
     "output_type": "stream",
     "text": [
      "Fitting 2 folds for each of 3 candidates, totalling 6 fits\n",
      "[Parallel(n_jobs=-1)]: Using backend LokyBackend with 4 concurrent workers.\n"
     ]
    },
    {
     "name": "stderr",
     "output_type": "stream",
     "text": [
      "/home/sol/.local/lib/python3.8/site-packages/sklearn/model_selection/_search.py:278: UserWarning: The total space of parameters 3 is smaller than n_iter=8. Running 3 iterations. For exhaustive searches, use GridSearchCV.\n",
      "  warnings.warn(\n"
     ]
    },
    {
     "name": "stdout",
     "output_type": "stream",
     "text": [
      "[Parallel(n_jobs=-1)]: Done   1 tasks      | elapsed:  2.2min\n",
      "[Parallel(n_jobs=-1)]: Done   2 out of   6 | elapsed:  2.3min remaining:  4.5min\n",
      "[Parallel(n_jobs=-1)]: Done   3 out of   6 | elapsed:  2.5min remaining:  2.5min\n",
      "[Parallel(n_jobs=-1)]: Done   4 out of   6 | elapsed:  2.6min remaining:  1.3min\n",
      "[Parallel(n_jobs=-1)]: Done   6 out of   6 | elapsed:  4.6min remaining:    0.0s\n",
      "[Parallel(n_jobs=-1)]: Done   6 out of   6 | elapsed:  4.6min finished\n"
     ]
    }
   ],
   "source": [
    "resultado1 = lineal.fit(X_train, y_train)"
   ]
  },
  {
   "cell_type": "code",
   "execution_count": 13,
   "id": "d8bfd5d2",
   "metadata": {},
   "outputs": [
    {
     "name": "stdout",
     "output_type": "stream",
     "text": [
      "mejor score: 0.8813722378785952\n",
      "mejores hiperparametros {'kernel': 'linear', 'C': 3}\n"
     ]
    }
   ],
   "source": [
    "print('mejor score: %s' % resultado1.best_score_)\n",
    "print('mejores hiperparametros %s' % resultado1.best_params_)\n",
    "   "
   ]
  },
  {
   "cell_type": "markdown",
   "id": "2e6e8e6a",
   "metadata": {},
   "source": [
    "Pruebo con radial"
   ]
  },
  {
   "cell_type": "code",
   "execution_count": 14,
   "id": "a37c4c97",
   "metadata": {},
   "outputs": [],
   "source": [
    "svm = SVC(probability = True)\n",
    "radial = RandomizedSearchCV(\n",
    "    svm, parametros_radial, scoring='roc_auc', n_jobs=-1, cv=2, return_train_score=True, n_iter = 8, verbose = 99\n",
    ")"
   ]
  },
  {
   "cell_type": "code",
   "execution_count": null,
   "id": "07b74e61",
   "metadata": {},
   "outputs": [
    {
     "name": "stdout",
     "output_type": "stream",
     "text": [
      "Fitting 2 folds for each of 8 candidates, totalling 16 fits\n",
      "[Parallel(n_jobs=-1)]: Using backend LokyBackend with 4 concurrent workers.\n",
      "[Parallel(n_jobs=-1)]: Done   1 tasks      | elapsed:  4.0min\n",
      "[Parallel(n_jobs=-1)]: Done   2 tasks      | elapsed:  4.1min\n",
      "[Parallel(n_jobs=-1)]: Done   3 tasks      | elapsed:  4.4min\n",
      "[Parallel(n_jobs=-1)]: Done   4 tasks      | elapsed:  4.4min\n",
      "[Parallel(n_jobs=-1)]: Done   5 tasks      | elapsed:  7.7min\n",
      "[Parallel(n_jobs=-1)]: Done   6 tasks      | elapsed:  7.9min\n",
      "[Parallel(n_jobs=-1)]: Done   7 tasks      | elapsed:  8.1min\n",
      "[Parallel(n_jobs=-1)]: Done   8 tasks      | elapsed:  8.4min\n",
      "[Parallel(n_jobs=-1)]: Done   9 tasks      | elapsed: 10.4min\n",
      "[Parallel(n_jobs=-1)]: Done  10 out of  16 | elapsed: 10.6min remaining:  6.4min\n",
      "[Parallel(n_jobs=-1)]: Done  11 out of  16 | elapsed: 10.8min remaining:  4.9min\n",
      "[Parallel(n_jobs=-1)]: Done  12 out of  16 | elapsed: 10.8min remaining:  3.6min\n",
      "[Parallel(n_jobs=-1)]: Done  13 out of  16 | elapsed: 14.2min remaining:  3.3min\n",
      "[Parallel(n_jobs=-1)]: Done  14 out of  16 | elapsed: 14.4min remaining:  2.1min\n",
      "[Parallel(n_jobs=-1)]: Done  16 out of  16 | elapsed: 14.5min remaining:    0.0s\n",
      "[Parallel(n_jobs=-1)]: Done  16 out of  16 | elapsed: 14.5min finished\n"
     ]
    }
   ],
   "source": [
    "resultado2 = radial.fit(X_train, y_train)"
   ]
  },
  {
   "cell_type": "code",
   "execution_count": null,
   "id": "e3092131",
   "metadata": {},
   "outputs": [],
   "source": [
    "print('mejor score: %s' % resultado2.best_score_)\n",
    "print('mejores hiperparametros %s' % resultado2.best_params_)"
   ]
  },
  {
   "cell_type": "markdown",
   "id": "cb656801",
   "metadata": {},
   "source": [
    "Pruebo con polonimial"
   ]
  },
  {
   "cell_type": "code",
   "execution_count": null,
   "id": "63b5f6f0",
   "metadata": {},
   "outputs": [],
   "source": [
    "svm = SVC(probability = True)\n",
    "poly = RandomizedSearchCV(\n",
    "    svm, parametro_polinomial, scoring='roc_auc', n_jobs=-1, cv=3, return_train_score=True, n_iter = 8, verbose = 99\n",
    ")"
   ]
  },
  {
   "cell_type": "code",
   "execution_count": null,
   "id": "6b5d30b6",
   "metadata": {},
   "outputs": [],
   "source": [
    "resultado3 = poly.fit(X_train, y_train)"
   ]
  },
  {
   "cell_type": "code",
   "execution_count": null,
   "id": "cd45756b",
   "metadata": {},
   "outputs": [],
   "source": [
    "print('mejor score: %s' % resultado3.best_score_)\n",
    "print('mejores hiperparametros %s' % resultado3.best_params_)"
   ]
  },
  {
   "cell_type": "markdown",
   "id": "57d6580a",
   "metadata": {},
   "source": [
    "vemos que el mejoor score lo obtuvimos con el kernel lineal. Ahora entrenamos."
   ]
  },
  {
   "cell_type": "markdown",
   "id": "d8fefae0",
   "metadata": {},
   "source": [
    "# Entrenamos Modelo"
   ]
  },
  {
   "cell_type": "code",
   "execution_count": null,
   "id": "a4adbc00",
   "metadata": {},
   "outputs": [],
   "source": [
    "svm = SVC(kernel='linear', C=1, probability=True)\n",
    "svm.fit(X_train, y_train)"
   ]
  },
  {
   "cell_type": "markdown",
   "id": "0b0929f8",
   "metadata": {},
   "source": [
    "# Analisis de Metricas "
   ]
  },
  {
   "cell_type": "code",
   "execution_count": null,
   "id": "42dd80fa",
   "metadata": {},
   "outputs": [],
   "source": [
    "y_pred = svm.predict(X_test)"
   ]
  },
  {
   "cell_type": "markdown",
   "id": "68ff3c04",
   "metadata": {},
   "source": [
    "# Precision, Recall, F1- score, Accuracy"
   ]
  },
  {
   "cell_type": "code",
   "execution_count": null,
   "id": "370854ef",
   "metadata": {},
   "outputs": [],
   "source": [
    "print(classification_report(y_test, y_pred, target_names=['tiene bajo poder adqusitivo','tiene alto poder adquisitivo']))"
   ]
  },
  {
   "cell_type": "markdown",
   "id": "d9de1e1f",
   "metadata": {},
   "source": [
    "# Matriz de confuncion"
   ]
  },
  {
   "cell_type": "code",
   "execution_count": null,
   "id": "0b9888b8",
   "metadata": {},
   "outputs": [],
   "source": [
    "from sklearn.metrics import plot_confusion_matrix\n",
    "\n",
    "fig, ax = plt.subplots(figsize=(15, 7))\n",
    "plt.grid(False)\n",
    "plot_confusion_matrix(\n",
    "    svm, X_test, y_test, cmap=plt.cm.Blues, display_labels=['bajo poder adquisitivo', 'alto poder adquisitivo'], ax=ax\n",
    ")\n",
    "plt.show()"
   ]
  },
  {
   "cell_type": "markdown",
   "id": "9fba8d1a",
   "metadata": {},
   "source": [
    "# Auc roc curve"
   ]
  },
  {
   "cell_type": "code",
   "execution_count": null,
   "id": "4b549776",
   "metadata": {},
   "outputs": [],
   "source": [
    "import matplotlib.pyplot as plt\n",
    "from sklearn.metrics import roc_curve, auc, plot_roc_curve"
   ]
  },
  {
   "cell_type": "code",
   "execution_count": null,
   "id": "6b3eb8b2",
   "metadata": {},
   "outputs": [],
   "source": [
    "plot_roc_curve(svm,X_test,y_test,response_method='predict_proba')\n",
    "plt.show()"
   ]
  },
  {
   "cell_type": "markdown",
   "id": "25e59388",
   "metadata": {},
   "source": [
    "# Prediccion sobre el data ser de HoldOut "
   ]
  },
  {
   "cell_type": "code",
   "execution_count": null,
   "id": "d9130eb9",
   "metadata": {},
   "outputs": [],
   "source": [
    "from preprocessing import prepararSetDeHoldOutSvm\n",
    "from preprocessing import prepararHoldOut"
   ]
  },
  {
   "cell_type": "code",
   "execution_count": null,
   "id": "85e19670",
   "metadata": {},
   "outputs": [],
   "source": [
    "final_df = prepararset(final_df)"
   ]
  },
  {
   "cell_type": "code",
   "execution_count": null,
   "id": "79f5f22e",
   "metadata": {},
   "outputs": [],
   "source": [
    "final_df = prepararSetDeHoldOutSvm(final_df)"
   ]
  },
  {
   "cell_type": "code",
   "execution_count": null,
   "id": "cd1198e3",
   "metadata": {},
   "outputs": [],
   "source": [
    "ho_prediction = svm.predict(final_df)\n",
    "final_df['tiene_alto_valor_adquisitivo'] = ho_prediction\n",
    "\n",
    "final_df.to_csv('predicciones/svm.csv')"
   ]
  },
  {
   "cell_type": "code",
   "execution_count": null,
   "id": "7d344e6e",
   "metadata": {},
   "outputs": [],
   "source": []
  }
 ],
 "metadata": {
  "kernelspec": {
   "display_name": "Python 3",
   "language": "python",
   "name": "python3"
  },
  "language_info": {
   "codemirror_mode": {
    "name": "ipython",
    "version": 3
   },
   "file_extension": ".py",
   "mimetype": "text/x-python",
   "name": "python",
   "nbconvert_exporter": "python",
   "pygments_lexer": "ipython3",
   "version": "3.8.10"
  }
 },
 "nbformat": 4,
 "nbformat_minor": 5
}
