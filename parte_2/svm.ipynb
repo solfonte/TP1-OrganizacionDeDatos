{
 "cells": [
  {
   "cell_type": "markdown",
   "id": "e316f3f8-660d-4bb8-891c-29fec5f0288e",
   "metadata": {},
   "source": [
    "## SVM"
   ]
  },
  {
   "cell_type": "code",
   "execution_count": 23,
   "id": "9b3ee56d-95d3-419c-a891-035c6056f93b",
   "metadata": {},
   "outputs": [],
   "source": [
    "import numpy as np\n",
    "import pandas as pd\n",
    "import seaborn as sns\n",
    "from sklearn import preprocessing\n",
    "import matplotlib.pyplot as plt\n",
    "import timeit"
   ]
  },
  {
   "cell_type": "code",
   "execution_count": 24,
   "id": "78776406-5fc5-4f75-8bab-12d0dd3068dd",
   "metadata": {},
   "outputs": [],
   "source": [
    "from preprocessing import cargarDatasets\n",
    "from preprocessing import prepararSetDeEntrenamiento\n",
    "from preprocessing import prepararSetDeValidacion\n",
    "from preprocessing import ingenieriaDeFeaturesSVM"
   ]
  },
  {
   "cell_type": "code",
   "execution_count": 25,
   "id": "ca0b3973-5567-4edb-b0ae-6af0695f772e",
   "metadata": {},
   "outputs": [],
   "source": [
    "from sklearn.metrics import classification_report\n",
    "from sklearn.metrics import accuracy_score, roc_auc_score\n",
    "from sklearn.model_selection import train_test_split,KFold, StratifiedKFold, GridSearchCV, RandomizedSearchCV\n",
    "from sklearn.metrics import accuracy_score, roc_auc_score, precision_score, recall_score"
   ]
  },
  {
   "cell_type": "code",
   "execution_count": 26,
   "id": "083cda15-77e2-4420-8162-98c3c34187bc",
   "metadata": {},
   "outputs": [],
   "source": [
    "from sklearn.svm import SVC"
   ]
  },
  {
   "cell_type": "markdown",
   "id": "892bb609-9705-4c86-ab52-d810e4a46434",
   "metadata": {},
   "source": [
    "* Este metodo es un algortimo suvervisado en la cual busca un hiperplano que separae las clases de la mejor forma posible. \n",
    "* A su vez busca maximinar M (margen), el espacio entre los distintos puntos de las distintas clases. \n",
    "  Si se decea que los punos esten perfectamente separados tenemos un modelo hard margin, en donde el modelo no funciona con outliers y ruido. Si se le permite tener algo de rido y outliers entonces tenemos un modelo soft margin.\n",
    "\n",
    "* En el caso en que no se encuentre el hiperplano, los puntos no son linealmente separables por lo que hay reccurir a una transformacion de datos en una nueva dimension. Como es costoso se utilizan kernes que hace que se piense que esta en otro dimension. Estos kernel puede sen lineal, polinomial, radial, etc."
   ]
  },
  {
   "cell_type": "markdown",
   "id": "4aefef2a-4ed6-4392-a7b7-e3ac288390dd",
   "metadata": {},
   "source": [
    "## Carga y preprosesamiento de datos "
   ]
  },
  {
   "cell_type": "code",
   "execution_count": 27,
   "id": "f5d4af29-3029-4992-b7b2-66d8f13d4757",
   "metadata": {},
   "outputs": [],
   "source": [
    "train_df,final_df = cargarDatasets()\n",
    "train_df = prepararSetDeEntrenamiento(train_df)\n"
   ]
  },
  {
   "cell_type": "markdown",
   "id": "c3731cde-3d3b-4b80-81d0-d8f27ae487ec",
   "metadata": {},
   "source": [
    "Una vez que tenemos cargados el set de entrenamiento vamos a ir aplicando distintos preprocesamientos"
   ]
  },
  {
   "cell_type": "markdown",
   "id": "d88a05cd-c1f2-4386-a7e4-e2ba4d1ef775",
   "metadata": {},
   "source": [
    "svm es sensible a la escala y distribucion de datos, es por eso que normalizamos las variables."
   ]
  },
  {
   "cell_type": "code",
   "execution_count": 28,
   "id": "79aa0fe3-f4e7-4967-865f-c33003024b9e",
   "metadata": {},
   "outputs": [],
   "source": [
    "X,y,df,y_encoder = ingenieriaDeFeaturesSVM(train_df)"
   ]
  },
  {
   "cell_type": "code",
   "execution_count": 29,
   "id": "0ec880cf-0e7e-4f14-a3e8-5e582aadb466",
   "metadata": {},
   "outputs": [],
   "source": [
    "X_train, X_test, y_train, y_test = train_test_split(X, y, random_state=117, test_size=0.1, stratify=y)"
   ]
  },
  {
   "cell_type": "markdown",
   "id": "1c0608fe-8d40-41cb-9e8e-36f2cfee186c",
   "metadata": {},
   "source": [
    "## Busca de hiperparaemtros"
   ]
  },
  {
   "cell_type": "markdown",
   "id": "f5087f3f-53ba-4e54-ba91-36caac5e6d5f",
   "metadata": {},
   "source": [
    "los hiperparametros a tener en cuenta van a ser c y el kernel \n",
    "* c: es la resistencia al ruido, a mayor c se tiene un modelo hard margin y a menor c se tiene un modelo soft margin.\n",
    "* kernel: es una funcion que nos permite tener dimensiones mayores sin tener que convertir los datos.     "
   ]
  },
  {
   "cell_type": "code",
   "execution_count": 30,
   "id": "ee2e949d-c49d-4da5-b57d-a172ac4b9b37",
   "metadata": {},
   "outputs": [],
   "source": [
    "parametros_lineal = [ {'C': [1,2,3] , 'kernel': ['linear']}]"
   ]
  },
  {
   "cell_type": "code",
   "execution_count": 31,
   "id": "91ba46c2-a7d7-4944-90d8-2d89c63fefff",
   "metadata": {},
   "outputs": [],
   "source": [
    "parametros_radial = [ {'C': [0.5,1,2,3], 'gamma': [0.0000001,0.00001, 0.0001, 0.001, 0.01, 0.1, 1, 10, 100], 'kernel': ['rbf']}]"
   ]
  },
  {
   "cell_type": "code",
   "execution_count": 40,
   "id": "1e063a68-c422-44d1-848a-3ae8235b0ae7",
   "metadata": {},
   "outputs": [],
   "source": [
    "parametro_polinomial = [{'C': [1,2,3], 'gamma': [0.0000001,0.0001,0.01, 0.1, 1], 'degree':[3,10,100,500]}]"
   ]
  },
  {
   "cell_type": "code",
   "execution_count": 33,
   "id": "40d77d62-79c0-4fdf-a775-d6da6f116cde",
   "metadata": {},
   "outputs": [],
   "source": [
    "svm = SVC(probability = True)\n",
    "lineal = RandomizedSearchCV(\n",
    "    svm, parametros_lineal, scoring='roc_auc', n_jobs=-1, cv=2, return_train_score=True, n_iter = 8, verbose = 99\n",
    ")"
   ]
  },
  {
   "cell_type": "code",
   "execution_count": 34,
   "id": "70372508-dc6f-495d-81d8-552b30565eae",
   "metadata": {},
   "outputs": [
    {
     "name": "stdout",
     "output_type": "stream",
     "text": [
      "Fitting 2 folds for each of 3 candidates, totalling 6 fits\n"
     ]
    },
    {
     "name": "stderr",
     "output_type": "stream",
     "text": [
      "/home/agus/.local/lib/python3.8/site-packages/sklearn/model_selection/_search.py:285: UserWarning: The total space of parameters 3 is smaller than n_iter=8. Running 3 iterations. For exhaustive searches, use GridSearchCV.\n",
      "  warnings.warn(\n"
     ]
    }
   ],
   "source": [
    "resultado1 = lineal.fit(X_train, y_train)"
   ]
  },
  {
   "cell_type": "code",
   "execution_count": 35,
   "id": "6928f8d1-5544-430d-ab7e-c05c02b125ea",
   "metadata": {},
   "outputs": [
    {
     "name": "stdout",
     "output_type": "stream",
     "text": [
      "mejor score: 0.8816213603693884\n",
      "mejores hiperparametros {'kernel': 'linear', 'C': 1}\n"
     ]
    }
   ],
   "source": [
    "print('mejor score: %s' % resultado1.best_score_)\n",
    "print('mejores hiperparametros %s' % resultado1.best_params_)\n",
    "   "
   ]
  },
  {
   "cell_type": "markdown",
   "id": "6ce50b96-0598-462c-bc69-032deeaea723",
   "metadata": {},
   "source": [
    "Pruebo con radial"
   ]
  },
  {
   "cell_type": "code",
   "execution_count": 36,
   "id": "949cefdd-6853-4a4b-821c-8c448a114c04",
   "metadata": {},
   "outputs": [],
   "source": [
    "svm = SVC(probability = True)\n",
    "radial = RandomizedSearchCV(\n",
    "    svm, parametros_radial, scoring='roc_auc', n_jobs=-1, cv=2, return_train_score=True, n_iter = 8, verbose = 99\n",
    ")"
   ]
  },
  {
   "cell_type": "code",
   "execution_count": 37,
   "id": "89d8dc13-2635-41ad-9843-b6745e832b8f",
   "metadata": {},
   "outputs": [
    {
     "name": "stdout",
     "output_type": "stream",
     "text": [
      "Fitting 2 folds for each of 8 candidates, totalling 16 fits\n"
     ]
    }
   ],
   "source": [
    "resultado2 = radial.fit(X_train, y_train)"
   ]
  },
  {
   "cell_type": "code",
   "execution_count": 38,
   "id": "c9b4114a-f338-4b8e-a3ed-2a9b10598e3a",
   "metadata": {},
   "outputs": [
    {
     "name": "stdout",
     "output_type": "stream",
     "text": [
      "mejor score: 0.8795917583695099\n",
      "mejores hiperparametros {'kernel': 'rbf', 'gamma': 0.001, 'C': 1}\n"
     ]
    }
   ],
   "source": [
    "print('mejor score: %s' % resultado2.best_score_)\n",
    "print('mejores hiperparametros %s' % resultado2.best_params_)"
   ]
  },
  {
   "cell_type": "markdown",
   "id": "340ce562-c08b-4ef6-8a0d-c0e695b57272",
   "metadata": {},
   "source": [
    "Pruebo con polonimial"
   ]
  },
  {
   "cell_type": "code",
   "execution_count": 41,
   "id": "1f428f35-4d4e-4d49-b7e2-2c4fd55a7bed",
   "metadata": {},
   "outputs": [],
   "source": [
    "svm = SVC(probability = True)\n",
    "poly = RandomizedSearchCV(\n",
    "    svm, parametro_polinomial, scoring='roc_auc', n_jobs=-1, cv=3, return_train_score=True, n_iter = 8, verbose = 99\n",
    ")"
   ]
  },
  {
   "cell_type": "code",
   "execution_count": 42,
   "id": "49f28bcb-dd1d-4dbc-b3ff-b8b7762e5488",
   "metadata": {},
   "outputs": [
    {
     "name": "stdout",
     "output_type": "stream",
     "text": [
      "Fitting 3 folds for each of 8 candidates, totalling 24 fits\n"
     ]
    }
   ],
   "source": [
    "resultado3 = poly.fit(X_train, y_train)"
   ]
  },
  {
   "cell_type": "code",
   "execution_count": 43,
   "id": "e029f9fe-5258-45b4-964a-ee4344dc57bc",
   "metadata": {},
   "outputs": [
    {
     "name": "stdout",
     "output_type": "stream",
     "text": [
      "mejor score: 0.8776762962876234\n",
      "mejores hiperparametros {'gamma': 1e-07, 'degree': 10, 'C': 3}\n"
     ]
    }
   ],
   "source": [
    "print('mejor score: %s' % resultado3.best_score_)\n",
    "print('mejores hiperparametros %s' % resultado3.best_params_)"
   ]
  },
  {
   "cell_type": "code",
   "execution_count": null,
   "id": "e2f4b7bd-b949-42cf-b11c-791c9a40c846",
   "metadata": {},
   "outputs": [],
   "source": [
    "vemos que el mejoor score lo obtuvimos con el kernel lineal. Ahora entrenamos."
   ]
  },
  {
   "cell_type": "markdown",
   "id": "cb979290-f8b7-4aad-90c3-f41ede033016",
   "metadata": {},
   "source": [
    "# Entrenamos Modelo"
   ]
  },
  {
   "cell_type": "code",
   "execution_count": 47,
   "id": "dd949467-fff2-4a4b-938b-3a08812724c0",
   "metadata": {},
   "outputs": [
    {
     "ename": "TypeError",
     "evalue": "__init__() got an unexpected keyword argument 'kerner'",
     "output_type": "error",
     "traceback": [
      "\u001b[0;31m---------------------------------------------------------------------------\u001b[0m",
      "\u001b[0;31mTypeError\u001b[0m                                 Traceback (most recent call last)",
      "\u001b[0;32m<ipython-input-47-72589c44dced>\u001b[0m in \u001b[0;36m<module>\u001b[0;34m\u001b[0m\n\u001b[0;32m----> 1\u001b[0;31m \u001b[0msvm\u001b[0m \u001b[0;34m=\u001b[0m \u001b[0mSVC\u001b[0m\u001b[0;34m(\u001b[0m\u001b[0mC\u001b[0m \u001b[0;34m=\u001b[0m \u001b[0;36m1\u001b[0m\u001b[0;34m,\u001b[0m \u001b[0mkerner\u001b[0m \u001b[0;34m=\u001b[0m \u001b[0;34m'linear'\u001b[0m\u001b[0;34m)\u001b[0m\u001b[0;34m\u001b[0m\u001b[0;34m\u001b[0m\u001b[0m\n\u001b[0m\u001b[1;32m      2\u001b[0m \u001b[0msvm\u001b[0m\u001b[0;34m.\u001b[0m\u001b[0mfit\u001b[0m\u001b[0;34m(\u001b[0m\u001b[0mX_train\u001b[0m\u001b[0;34m,\u001b[0m \u001b[0my_train\u001b[0m\u001b[0;34m)\u001b[0m\u001b[0;34m\u001b[0m\u001b[0;34m\u001b[0m\u001b[0m\n",
      "\u001b[0;32m~/.local/lib/python3.8/site-packages/sklearn/utils/validation.py\u001b[0m in \u001b[0;36minner_f\u001b[0;34m(*args, **kwargs)\u001b[0m\n\u001b[1;32m     61\u001b[0m             \u001b[0mextra_args\u001b[0m \u001b[0;34m=\u001b[0m \u001b[0mlen\u001b[0m\u001b[0;34m(\u001b[0m\u001b[0margs\u001b[0m\u001b[0;34m)\u001b[0m \u001b[0;34m-\u001b[0m \u001b[0mlen\u001b[0m\u001b[0;34m(\u001b[0m\u001b[0mall_args\u001b[0m\u001b[0;34m)\u001b[0m\u001b[0;34m\u001b[0m\u001b[0;34m\u001b[0m\u001b[0m\n\u001b[1;32m     62\u001b[0m             \u001b[0;32mif\u001b[0m \u001b[0mextra_args\u001b[0m \u001b[0;34m<=\u001b[0m \u001b[0;36m0\u001b[0m\u001b[0;34m:\u001b[0m\u001b[0;34m\u001b[0m\u001b[0;34m\u001b[0m\u001b[0m\n\u001b[0;32m---> 63\u001b[0;31m                 \u001b[0;32mreturn\u001b[0m \u001b[0mf\u001b[0m\u001b[0;34m(\u001b[0m\u001b[0;34m*\u001b[0m\u001b[0margs\u001b[0m\u001b[0;34m,\u001b[0m \u001b[0;34m**\u001b[0m\u001b[0mkwargs\u001b[0m\u001b[0;34m)\u001b[0m\u001b[0;34m\u001b[0m\u001b[0;34m\u001b[0m\u001b[0m\n\u001b[0m\u001b[1;32m     64\u001b[0m \u001b[0;34m\u001b[0m\u001b[0m\n\u001b[1;32m     65\u001b[0m             \u001b[0;31m# extra_args > 0\u001b[0m\u001b[0;34m\u001b[0m\u001b[0;34m\u001b[0m\u001b[0;34m\u001b[0m\u001b[0m\n",
      "\u001b[0;31mTypeError\u001b[0m: __init__() got an unexpected keyword argument 'kerner'"
     ]
    }
   ],
   "source": [
    "svm = SVC(C = 1, kerner = 'linear')\n",
    "svm.fit(X_train, y_train)"
   ]
  },
  {
   "cell_type": "code",
   "execution_count": null,
   "id": "16b5ed5d-d748-4737-a0cd-c6d75365a2c7",
   "metadata": {},
   "outputs": [],
   "source": []
  }
 ],
 "metadata": {
  "kernelspec": {
   "display_name": "Python 3",
   "language": "python",
   "name": "python3"
  },
  "language_info": {
   "codemirror_mode": {
    "name": "ipython",
    "version": 3
   },
   "file_extension": ".py",
   "mimetype": "text/x-python",
   "name": "python",
   "nbconvert_exporter": "python",
   "pygments_lexer": "ipython3",
   "version": "3.8.5"
  }
 },
 "nbformat": 4,
 "nbformat_minor": 5
}
