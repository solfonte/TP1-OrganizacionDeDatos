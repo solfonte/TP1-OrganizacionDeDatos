{
 "cells": [
  {
   "cell_type": "markdown",
   "id": "8817cf11",
   "metadata": {},
   "source": [
    "## SVM"
   ]
  },
  {
   "cell_type": "code",
   "execution_count": 1,
   "id": "6205f4e6",
   "metadata": {},
   "outputs": [],
   "source": [
    "import numpy as np\n",
    "import pandas as pd\n",
    "import seaborn as sns\n",
    "from sklearn import preprocessing\n",
    "import matplotlib.pyplot as plt\n",
    "import timeit"
   ]
  },
  {
   "cell_type": "code",
   "execution_count": 3,
   "id": "d6e15a3a",
   "metadata": {},
   "outputs": [],
   "source": [
    "from preprocessing import cargarDatasets\n",
    "from preprocessing import prepararSet\n",
    "from preprocessing import ingenieriaDeFeaturesSVM"
   ]
  },
  {
   "cell_type": "code",
   "execution_count": 4,
   "id": "59f9b83e",
   "metadata": {},
   "outputs": [],
   "source": [
    "from sklearn.metrics import classification_report\n",
    "from sklearn.metrics import accuracy_score, roc_auc_score\n",
    "from sklearn.model_selection import train_test_split,KFold, StratifiedKFold, GridSearchCV, RandomizedSearchCV\n",
    "from sklearn.metrics import accuracy_score, roc_auc_score, precision_score, recall_score"
   ]
  },
  {
   "cell_type": "code",
   "execution_count": 5,
   "id": "3e8ce6bd",
   "metadata": {},
   "outputs": [],
   "source": [
    "from sklearn.svm import SVC"
   ]
  },
  {
   "cell_type": "markdown",
   "id": "dc6d7b61",
   "metadata": {},
   "source": [
    "* Este metodo es un algortimo suvervisado en la cual busca un hiperplano que separae las clases de la mejor forma posible. \n",
    "* A su vez busca maximinar M (margen), el espacio entre los distintos puntos de las distintas clases. \n",
    "  Si se decea que los punos esten perfectamente separados tenemos un modelo hard margin, en donde el modelo no funciona con outliers y ruido. Si se le permite tener algo de rido y outliers entonces tenemos un modelo soft margin.\n",
    "\n",
    "* En el caso en que no se encuentre el hiperplano, los puntos no son linealmente separables por lo que hay reccurir a una transformacion de datos en una nueva dimension. Como es costoso se utilizan kernes que hace que se piense que esta en otro dimension. Estos kernel puede sen lineal, polinomial, radial, etc."
   ]
  },
  {
   "cell_type": "markdown",
   "id": "5843bc2f",
   "metadata": {},
   "source": [
    "## Carga y preprosesamiento de datos "
   ]
  },
  {
   "cell_type": "code",
   "execution_count": 6,
   "id": "99ccf3ed",
   "metadata": {},
   "outputs": [],
   "source": [
    "train_df,final_df = cargarDatasets()\n",
    "train_df = prepararSet(train_df)\n"
   ]
  },
  {
   "cell_type": "markdown",
   "id": "7d97a69c",
   "metadata": {},
   "source": [
    "Una vez que tenemos cargados el set de entrenamiento vamos a ir aplicando distintos preprocesamientos"
   ]
  },
  {
   "cell_type": "markdown",
   "id": "7546bbd4",
   "metadata": {},
   "source": [
    "svm es sensible a la escala y distribucion de datos, es por eso que normalizamos las variables."
   ]
  },
  {
   "cell_type": "code",
   "execution_count": 7,
   "id": "fe4e313b",
   "metadata": {},
   "outputs": [],
   "source": [
    "X,y,df,y_encoder = ingenieriaDeFeaturesSVM(train_df)"
   ]
  },
  {
   "cell_type": "code",
   "execution_count": 8,
   "id": "96a6b7f9",
   "metadata": {},
   "outputs": [],
   "source": [
    "X_train, X_test, y_train, y_test = train_test_split(X, y, random_state=117, test_size=0.1, stratify=y)"
   ]
  },
  {
   "cell_type": "markdown",
   "id": "b2b091f8",
   "metadata": {},
   "source": [
    "## Busca de hiperparaemtros"
   ]
  },
  {
   "cell_type": "markdown",
   "id": "0ae7690a",
   "metadata": {},
   "source": [
    "los hiperparametros a tener en cuenta van a ser c y el kernel \n",
    "* c: es la resistencia al ruido, a mayor c se tiene un modelo hard margin y a menor c se tiene un modelo soft margin.\n",
    "* kernel: es una funcion que nos permite tener dimensiones mayores sin tener que convertir los datos.     "
   ]
  },
  {
   "cell_type": "code",
   "execution_count": 9,
   "id": "8cec2f92",
   "metadata": {},
   "outputs": [],
   "source": [
    "parametros_lineal = [ {'C': [1,2,3] , 'kernel': ['linear']}]"
   ]
  },
  {
   "cell_type": "code",
   "execution_count": 10,
   "id": "6c4d5343",
   "metadata": {},
   "outputs": [],
   "source": [
    "parametros_radial = [ {'C': [0.5,1,2,3], 'gamma': [0.0000001,0.00001, 0.0001, 0.001, 0.01, 0.1, 1, 10, 100], 'kernel': ['rbf']}]"
   ]
  },
  {
   "cell_type": "code",
   "execution_count": 11,
   "id": "a72f293e",
   "metadata": {},
   "outputs": [],
   "source": [
    "parametro_polinomial = [{'C': [1,2,3], 'gamma': [0.0000001,0.0001,0.01, 0.1, 1], 'degree':[3,10,100,500]}]"
   ]
  },
  {
   "cell_type": "code",
   "execution_count": 12,
   "id": "d4c949e2",
   "metadata": {},
   "outputs": [],
   "source": [
    "svm = SVC(probability = True)\n",
    "lineal = RandomizedSearchCV(\n",
    "    svm, parametros_lineal, scoring='roc_auc', n_jobs=-1, cv=2, return_train_score=True, n_iter = 8, verbose = 99\n",
    ")"
   ]
  },
  {
   "cell_type": "code",
   "execution_count": 13,
   "id": "cff63d46",
   "metadata": {},
   "outputs": [
    {
     "name": "stdout",
     "output_type": "stream",
     "text": [
      "Fitting 2 folds for each of 3 candidates, totalling 6 fits\n",
      "[Parallel(n_jobs=-1)]: Using backend LokyBackend with 4 concurrent workers.\n"
     ]
    },
    {
     "name": "stderr",
     "output_type": "stream",
     "text": [
      "/home/sol/.local/lib/python3.8/site-packages/sklearn/model_selection/_search.py:278: UserWarning: The total space of parameters 3 is smaller than n_iter=8. Running 3 iterations. For exhaustive searches, use GridSearchCV.\n",
      "  warnings.warn(\n"
     ]
    },
    {
     "name": "stdout",
     "output_type": "stream",
     "text": [
      "[Parallel(n_jobs=-1)]: Done   1 tasks      | elapsed:  3.2min\n",
      "[Parallel(n_jobs=-1)]: Done   2 out of   6 | elapsed:  3.3min remaining:  6.7min\n",
      "[Parallel(n_jobs=-1)]: Done   3 out of   6 | elapsed:  3.7min remaining:  3.7min\n",
      "[Parallel(n_jobs=-1)]: Done   4 out of   6 | elapsed:  3.9min remaining:  2.0min\n",
      "[Parallel(n_jobs=-1)]: Done   6 out of   6 | elapsed:  6.0min remaining:    0.0s\n",
      "[Parallel(n_jobs=-1)]: Done   6 out of   6 | elapsed:  6.0min finished\n"
     ]
    }
   ],
   "source": [
    "resultado1 = lineal.fit(X_train, y_train)"
   ]
  },
  {
   "cell_type": "code",
   "execution_count": 14,
   "id": "928f8fd5",
   "metadata": {},
   "outputs": [
    {
     "name": "stdout",
     "output_type": "stream",
     "text": [
      "mejor score: 0.8813722378785952\n",
      "mejores hiperparametros {'kernel': 'linear', 'C': 3}\n"
     ]
    }
   ],
   "source": [
    "print('mejor score: %s' % resultado1.best_score_)\n",
    "print('mejores hiperparametros %s' % resultado1.best_params_)\n",
    "   "
   ]
  },
  {
   "cell_type": "markdown",
   "id": "1377c358",
   "metadata": {},
   "source": [
    "Pruebo con radial"
   ]
  },
  {
   "cell_type": "code",
   "execution_count": 15,
   "id": "65ca4f80",
   "metadata": {},
   "outputs": [],
   "source": [
    "svm = SVC(probability = True)\n",
    "radial = RandomizedSearchCV(\n",
    "    svm, parametros_radial, scoring='roc_auc', n_jobs=-1, cv=2, return_train_score=True, n_iter = 8, verbose = 99\n",
    ")"
   ]
  },
  {
   "cell_type": "code",
   "execution_count": 16,
   "id": "a338b100",
   "metadata": {},
   "outputs": [
    {
     "name": "stdout",
     "output_type": "stream",
     "text": [
      "Fitting 2 folds for each of 8 candidates, totalling 16 fits\n",
      "[Parallel(n_jobs=-1)]: Using backend LokyBackend with 4 concurrent workers.\n",
      "[Parallel(n_jobs=-1)]: Done   1 tasks      | elapsed:  2.9min\n",
      "[Parallel(n_jobs=-1)]: Done   2 tasks      | elapsed:  3.0min\n",
      "[Parallel(n_jobs=-1)]: Done   3 tasks      | elapsed:  3.1min\n",
      "[Parallel(n_jobs=-1)]: Done   4 tasks      | elapsed:  3.2min\n",
      "[Parallel(n_jobs=-1)]: Done   5 tasks      | elapsed:  5.4min\n",
      "[Parallel(n_jobs=-1)]: Done   6 tasks      | elapsed:  5.6min\n",
      "[Parallel(n_jobs=-1)]: Done   7 tasks      | elapsed:  5.9min\n",
      "[Parallel(n_jobs=-1)]: Done   8 tasks      | elapsed:  6.0min\n",
      "[Parallel(n_jobs=-1)]: Done   9 tasks      | elapsed:  8.1min\n",
      "[Parallel(n_jobs=-1)]: Done  10 out of  16 | elapsed:  8.3min remaining:  5.0min\n",
      "[Parallel(n_jobs=-1)]: Done  11 out of  16 | elapsed:  8.3min remaining:  3.8min\n",
      "[Parallel(n_jobs=-1)]: Done  12 out of  16 | elapsed:  8.4min remaining:  2.8min\n",
      "[Parallel(n_jobs=-1)]: Done  13 out of  16 | elapsed: 10.4min remaining:  2.4min\n",
      "[Parallel(n_jobs=-1)]: Done  14 out of  16 | elapsed: 10.4min remaining:  1.5min\n",
      "[Parallel(n_jobs=-1)]: Done  16 out of  16 | elapsed: 10.8min remaining:    0.0s\n",
      "[Parallel(n_jobs=-1)]: Done  16 out of  16 | elapsed: 10.8min finished\n"
     ]
    }
   ],
   "source": [
    "resultado2 = radial.fit(X_train, y_train)"
   ]
  },
  {
   "cell_type": "code",
   "execution_count": 17,
   "id": "fc838fee",
   "metadata": {},
   "outputs": [
    {
     "name": "stdout",
     "output_type": "stream",
     "text": [
      "mejor score: 0.881741226937123\n",
      "mejores hiperparametros {'kernel': 'rbf', 'gamma': 0.001, 'C': 3}\n"
     ]
    }
   ],
   "source": [
    "print('mejor score: %s' % resultado2.best_score_)\n",
    "print('mejores hiperparametros %s' % resultado2.best_params_)"
   ]
  },
  {
   "cell_type": "markdown",
   "id": "66cba496",
   "metadata": {},
   "source": [
    "Pruebo con polonimial"
   ]
  },
  {
   "cell_type": "code",
   "execution_count": 18,
   "id": "e6fd8e66",
   "metadata": {},
   "outputs": [],
   "source": [
    "svm = SVC(probability = True)\n",
    "poly = RandomizedSearchCV(\n",
    "    svm, parametro_polinomial, scoring='roc_auc', n_jobs=-1, cv=3, return_train_score=True, n_iter = 8, verbose = 99\n",
    ")"
   ]
  },
  {
   "cell_type": "code",
   "execution_count": null,
   "id": "84aa36a6",
   "metadata": {},
   "outputs": [
    {
     "name": "stdout",
     "output_type": "stream",
     "text": [
      "Fitting 3 folds for each of 8 candidates, totalling 24 fits\n",
      "[Parallel(n_jobs=-1)]: Using backend LokyBackend with 4 concurrent workers.\n",
      "[Parallel(n_jobs=-1)]: Done   1 tasks      | elapsed:  4.4min\n",
      "[Parallel(n_jobs=-1)]: Done   2 tasks      | elapsed:  4.4min\n",
      "[Parallel(n_jobs=-1)]: Done   3 tasks      | elapsed:  4.5min\n",
      "[Parallel(n_jobs=-1)]: Done   4 tasks      | elapsed:  4.5min\n",
      "[Parallel(n_jobs=-1)]: Done   5 tasks      | elapsed:  7.6min\n",
      "[Parallel(n_jobs=-1)]: Done   6 tasks      | elapsed:  7.7min\n",
      "[Parallel(n_jobs=-1)]: Done   7 tasks      | elapsed:  7.8min\n",
      "[Parallel(n_jobs=-1)]: Done   8 tasks      | elapsed:  7.8min\n",
      "[Parallel(n_jobs=-1)]: Done   9 tasks      | elapsed: 10.8min\n",
      "[Parallel(n_jobs=-1)]: Done  10 tasks      | elapsed: 10.9min\n",
      "[Parallel(n_jobs=-1)]: Done  11 tasks      | elapsed: 10.9min\n",
      "[Parallel(n_jobs=-1)]: Done  12 tasks      | elapsed: 10.9min\n",
      "[Parallel(n_jobs=-1)]: Done  13 tasks      | elapsed: 13.7min\n",
      "[Parallel(n_jobs=-1)]: Done  14 tasks      | elapsed: 13.7min\n",
      "[Parallel(n_jobs=-1)]: Done  15 tasks      | elapsed: 13.8min\n",
      "[Parallel(n_jobs=-1)]: Done  16 tasks      | elapsed: 13.8min\n",
      "[Parallel(n_jobs=-1)]: Done  17 tasks      | elapsed: 16.4min\n",
      "[Parallel(n_jobs=-1)]: Done  18 out of  24 | elapsed: 16.6min remaining:  5.5min\n",
      "[Parallel(n_jobs=-1)]: Done  19 out of  24 | elapsed: 16.6min remaining:  4.4min\n",
      "[Parallel(n_jobs=-1)]: Done  20 out of  24 | elapsed: 16.6min remaining:  3.3min\n",
      "[Parallel(n_jobs=-1)]: Done  21 out of  24 | elapsed: 19.2min remaining:  2.7min\n",
      "[Parallel(n_jobs=-1)]: Done  22 out of  24 | elapsed: 19.3min remaining:  1.8min\n",
      "[Parallel(n_jobs=-1)]: Done  24 out of  24 | elapsed: 19.4min remaining:    0.0s\n",
      "[Parallel(n_jobs=-1)]: Done  24 out of  24 | elapsed: 19.4min finished\n"
     ]
    }
   ],
   "source": [
    "resultado3 = poly.fit(X_train, y_train)"
   ]
  },
  {
   "cell_type": "code",
   "execution_count": null,
   "id": "c879aebc",
   "metadata": {},
   "outputs": [],
   "source": [
    "print('mejor score: %s' % resultado3.best_score_)\n",
    "print('mejores hiperparametros %s' % resultado3.best_params_)"
   ]
  },
  {
   "cell_type": "markdown",
   "id": "fae058aa",
   "metadata": {},
   "source": [
    "vemos que el mejoor score lo obtuvimos con el kernel lineal. Ahora entrenamos."
   ]
  },
  {
   "cell_type": "markdown",
   "id": "5a3a0298",
   "metadata": {},
   "source": [
    "# Entrenamos Modelo"
   ]
  },
  {
   "cell_type": "code",
   "execution_count": 47,
   "id": "d45464d7",
   "metadata": {},
   "outputs": [
    {
     "ename": "TypeError",
     "evalue": "__init__() got an unexpected keyword argument 'kerner'",
     "output_type": "error",
     "traceback": [
      "\u001b[0;31m---------------------------------------------------------------------------\u001b[0m",
      "\u001b[0;31mTypeError\u001b[0m                                 Traceback (most recent call last)",
      "\u001b[0;32m<ipython-input-47-72589c44dced>\u001b[0m in \u001b[0;36m<module>\u001b[0;34m\u001b[0m\n\u001b[0;32m----> 1\u001b[0;31m \u001b[0msvm\u001b[0m \u001b[0;34m=\u001b[0m \u001b[0mSVC\u001b[0m\u001b[0;34m(\u001b[0m\u001b[0mC\u001b[0m \u001b[0;34m=\u001b[0m \u001b[0;36m1\u001b[0m\u001b[0;34m,\u001b[0m \u001b[0mkerner\u001b[0m \u001b[0;34m=\u001b[0m \u001b[0;34m'linear'\u001b[0m\u001b[0;34m)\u001b[0m\u001b[0;34m\u001b[0m\u001b[0;34m\u001b[0m\u001b[0m\n\u001b[0m\u001b[1;32m      2\u001b[0m \u001b[0msvm\u001b[0m\u001b[0;34m.\u001b[0m\u001b[0mfit\u001b[0m\u001b[0;34m(\u001b[0m\u001b[0mX_train\u001b[0m\u001b[0;34m,\u001b[0m \u001b[0my_train\u001b[0m\u001b[0;34m)\u001b[0m\u001b[0;34m\u001b[0m\u001b[0;34m\u001b[0m\u001b[0m\n",
      "\u001b[0;32m~/.local/lib/python3.8/site-packages/sklearn/utils/validation.py\u001b[0m in \u001b[0;36minner_f\u001b[0;34m(*args, **kwargs)\u001b[0m\n\u001b[1;32m     61\u001b[0m             \u001b[0mextra_args\u001b[0m \u001b[0;34m=\u001b[0m \u001b[0mlen\u001b[0m\u001b[0;34m(\u001b[0m\u001b[0margs\u001b[0m\u001b[0;34m)\u001b[0m \u001b[0;34m-\u001b[0m \u001b[0mlen\u001b[0m\u001b[0;34m(\u001b[0m\u001b[0mall_args\u001b[0m\u001b[0;34m)\u001b[0m\u001b[0;34m\u001b[0m\u001b[0;34m\u001b[0m\u001b[0m\n\u001b[1;32m     62\u001b[0m             \u001b[0;32mif\u001b[0m \u001b[0mextra_args\u001b[0m \u001b[0;34m<=\u001b[0m \u001b[0;36m0\u001b[0m\u001b[0;34m:\u001b[0m\u001b[0;34m\u001b[0m\u001b[0;34m\u001b[0m\u001b[0m\n\u001b[0;32m---> 63\u001b[0;31m                 \u001b[0;32mreturn\u001b[0m \u001b[0mf\u001b[0m\u001b[0;34m(\u001b[0m\u001b[0;34m*\u001b[0m\u001b[0margs\u001b[0m\u001b[0;34m,\u001b[0m \u001b[0;34m**\u001b[0m\u001b[0mkwargs\u001b[0m\u001b[0;34m)\u001b[0m\u001b[0;34m\u001b[0m\u001b[0;34m\u001b[0m\u001b[0m\n\u001b[0m\u001b[1;32m     64\u001b[0m \u001b[0;34m\u001b[0m\u001b[0m\n\u001b[1;32m     65\u001b[0m             \u001b[0;31m# extra_args > 0\u001b[0m\u001b[0;34m\u001b[0m\u001b[0;34m\u001b[0m\u001b[0;34m\u001b[0m\u001b[0m\n",
      "\u001b[0;31mTypeError\u001b[0m: __init__() got an unexpected keyword argument 'kerner'"
     ]
    }
   ],
   "source": [
    "svm = SVC(C = 1, kerner = 'linear')\n",
    "svm.fit(X_train, y_train)"
   ]
  },
  {
   "cell_type": "code",
   "execution_count": null,
   "id": "e065bd49",
   "metadata": {},
   "outputs": [],
   "source": []
  }
 ],
 "metadata": {
  "kernelspec": {
   "display_name": "Python 3",
   "language": "python",
   "name": "python3"
  },
  "language_info": {
   "codemirror_mode": {
    "name": "ipython",
    "version": 3
   },
   "file_extension": ".py",
   "mimetype": "text/x-python",
   "name": "python",
   "nbconvert_exporter": "python",
   "pygments_lexer": "ipython3",
   "version": "3.8.10"
  }
 },
 "nbformat": 4,
 "nbformat_minor": 5
}
