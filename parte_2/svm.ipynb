{
 "cells": [
  {
   "cell_type": "markdown",
   "id": "5a7c57d5",
   "metadata": {},
   "source": [
    "## SVM"
   ]
  },
  {
   "cell_type": "code",
   "execution_count": 1,
   "id": "acd99f01",
   "metadata": {},
   "outputs": [],
   "source": [
    "import numpy as np\n",
    "import pandas as pd\n",
    "import seaborn as sns\n",
    "from sklearn import preprocessing\n",
    "import matplotlib.pyplot as plt\n",
    "import timeit"
   ]
  },
  {
   "cell_type": "code",
   "execution_count": 2,
   "id": "3e761cb0",
   "metadata": {},
   "outputs": [],
   "source": [
    "from preprocessing import cargarDatasets\n",
    "from preprocessing import prepararSet\n",
    "from preprocessing import ingenieriaDeFeaturesSVM"
   ]
  },
  {
   "cell_type": "code",
   "execution_count": 3,
   "id": "a676de2d",
   "metadata": {},
   "outputs": [],
   "source": [
    "from sklearn.metrics import classification_report\n",
    "from sklearn.metrics import accuracy_score, roc_auc_score\n",
    "from sklearn.model_selection import train_test_split,KFold, StratifiedKFold, GridSearchCV, RandomizedSearchCV\n",
    "from sklearn.metrics import accuracy_score, roc_auc_score, precision_score, recall_score"
   ]
  },
  {
   "cell_type": "code",
   "execution_count": 4,
   "id": "33eb6367",
   "metadata": {},
   "outputs": [],
   "source": [
    "from sklearn.svm import SVC"
   ]
  },
  {
   "cell_type": "markdown",
   "id": "019c5df8",
   "metadata": {},
   "source": [
    "* Este metodo es un algortimo suvervisado en la cual busca un hiperplano que separae las clases de la mejor forma posible. \n",
    "* A su vez busca maximinar M (margen), el espacio entre los distintos puntos de las distintas clases. \n",
    "  Si se decea que los punos esten perfectamente separados tenemos un modelo hard margin, en donde el modelo no funciona con outliers y ruido. Si se le permite tener algo de rido y outliers entonces tenemos un modelo soft margin.\n",
    "\n",
    "* En el caso en que no se encuentre el hiperplano, los puntos no son linealmente separables por lo que hay reccurir a una transformacion de datos en una nueva dimension. Como es costoso se utilizan kernes que hace que se piense que esta en otro dimension. Estos kernel puede sen lineal, polinomial, radial, etc."
   ]
  },
  {
   "cell_type": "markdown",
   "id": "7685c261",
   "metadata": {},
   "source": [
    "## Carga y preprosesamiento de datos "
   ]
  },
  {
   "cell_type": "code",
   "execution_count": 5,
   "id": "3e69c177",
   "metadata": {},
   "outputs": [],
   "source": [
    "train_df,final_df = cargarDatasets()\n",
    "train_df = prepararSet(train_df)\n"
   ]
  },
  {
   "cell_type": "markdown",
   "id": "2fbcc735",
   "metadata": {},
   "source": [
    "Una vez que tenemos cargados el set de entrenamiento vamos a ir aplicando distintos preprocesamientos"
   ]
  },
  {
   "cell_type": "markdown",
   "id": "c4ca9a4e",
   "metadata": {},
   "source": [
    "svm es sensible a la escala y distribucion de datos, es por eso que normalizamos las variables."
   ]
  },
  {
   "cell_type": "code",
   "execution_count": 6,
   "id": "3a1b60ab",
   "metadata": {},
   "outputs": [],
   "source": [
    "X,y,df,y_encoder = ingenieriaDeFeaturesSVM(train_df)"
   ]
  },
  {
   "cell_type": "code",
   "execution_count": 7,
   "id": "1a4ccab2",
   "metadata": {},
   "outputs": [],
   "source": [
    "X_train, X_test, y_train, y_test = train_test_split(X, y, random_state=117, test_size=0.1, stratify=y)"
   ]
  },
  {
   "cell_type": "markdown",
   "id": "0de676f9",
   "metadata": {},
   "source": [
    "## Busca de hiperparaemtros"
   ]
  },
  {
   "cell_type": "markdown",
   "id": "00b578ef",
   "metadata": {},
   "source": [
    "los hiperparametros a tener en cuenta van a ser c y el kernel \n",
    "* c: es la resistencia al ruido, a mayor c se tiene un modelo hard margin y a menor c se tiene un modelo soft margin.\n",
    "* kernel: es una funcion que nos permite tener dimensiones mayores sin tener que convertir los datos.     "
   ]
  },
  {
   "cell_type": "code",
   "execution_count": 8,
   "id": "97602a5b",
   "metadata": {},
   "outputs": [],
   "source": [
    "parametros_lineal = [ {'C': [1,2,3] , 'kernel': ['linear']}]"
   ]
  },
  {
   "cell_type": "code",
   "execution_count": 9,
   "id": "962074d2",
   "metadata": {},
   "outputs": [],
   "source": [
    "parametros_radial = [ {'C': [0.5,1,2,3], 'gamma': [0.0000001,0.00001, 0.0001, 0.001, 0.01, 0.1, 1, 10, 100], 'kernel': ['rbf']}]"
   ]
  },
  {
   "cell_type": "code",
   "execution_count": 10,
   "id": "52f3ea3d",
   "metadata": {},
   "outputs": [],
   "source": [
    "parametro_polinomial = [{'C': [1,2,3], 'gamma': [0.0000001,0.0001,0.01, 0.1, 1], 'degree':[3,10,100,500]}]"
   ]
  },
  {
   "cell_type": "code",
   "execution_count": 11,
   "id": "6695b593",
   "metadata": {},
   "outputs": [],
   "source": [
    "svm = SVC(probability = True)\n",
    "lineal = RandomizedSearchCV(\n",
    "    svm, parametros_lineal, scoring='roc_auc', n_jobs=-1, cv=2, return_train_score=True, n_iter = 8, verbose = 99\n",
    ")"
   ]
  },
  {
   "cell_type": "code",
   "execution_count": 12,
   "id": "195c2a77",
   "metadata": {},
   "outputs": [
    {
     "name": "stdout",
     "output_type": "stream",
     "text": [
      "Fitting 2 folds for each of 3 candidates, totalling 6 fits\n",
      "[Parallel(n_jobs=-1)]: Using backend LokyBackend with 4 concurrent workers.\n"
     ]
    },
    {
     "name": "stderr",
     "output_type": "stream",
     "text": [
      "/home/sol/.local/lib/python3.8/site-packages/sklearn/model_selection/_search.py:278: UserWarning: The total space of parameters 3 is smaller than n_iter=8. Running 3 iterations. For exhaustive searches, use GridSearchCV.\n",
      "  warnings.warn(\n"
     ]
    },
    {
     "name": "stdout",
     "output_type": "stream",
     "text": [
      "[Parallel(n_jobs=-1)]: Done   1 tasks      | elapsed:  2.4min\n",
      "[Parallel(n_jobs=-1)]: Done   2 out of   6 | elapsed:  2.4min remaining:  4.7min\n",
      "[Parallel(n_jobs=-1)]: Done   3 out of   6 | elapsed:  2.8min remaining:  2.8min\n",
      "[Parallel(n_jobs=-1)]: Done   4 out of   6 | elapsed:  2.8min remaining:  1.4min\n",
      "[Parallel(n_jobs=-1)]: Done   6 out of   6 | elapsed:  4.6min remaining:    0.0s\n",
      "[Parallel(n_jobs=-1)]: Done   6 out of   6 | elapsed:  4.6min finished\n"
     ]
    }
   ],
   "source": [
    "resultado1 = lineal.fit(X_train, y_train)"
   ]
  },
  {
   "cell_type": "code",
   "execution_count": 13,
   "id": "dc58ebc4",
   "metadata": {},
   "outputs": [
    {
     "name": "stdout",
     "output_type": "stream",
     "text": [
      "mejor score: 0.8813722378785952\n",
      "mejores hiperparametros {'kernel': 'linear', 'C': 3}\n"
     ]
    }
   ],
   "source": [
    "print('mejor score: %s' % resultado1.best_score_)\n",
    "print('mejores hiperparametros %s' % resultado1.best_params_)\n",
    "   "
   ]
  },
  {
   "cell_type": "markdown",
   "id": "65d6a8c5",
   "metadata": {},
   "source": [
    "Pruebo con radial"
   ]
  },
  {
   "cell_type": "code",
   "execution_count": 14,
   "id": "823f5a04",
   "metadata": {},
   "outputs": [],
   "source": [
    "svm = SVC(probability = True)\n",
    "radial = RandomizedSearchCV(\n",
    "    svm, parametros_radial, scoring='roc_auc', n_jobs=-1, cv=2, return_train_score=True, n_iter = 8, verbose = 99\n",
    ")"
   ]
  },
  {
   "cell_type": "code",
   "execution_count": 15,
   "id": "ef4da4b7",
   "metadata": {},
   "outputs": [
    {
     "name": "stdout",
     "output_type": "stream",
     "text": [
      "Fitting 2 folds for each of 8 candidates, totalling 16 fits\n",
      "[Parallel(n_jobs=-1)]: Using backend LokyBackend with 4 concurrent workers.\n",
      "[Parallel(n_jobs=-1)]: Done   1 tasks      | elapsed:  2.6min\n",
      "[Parallel(n_jobs=-1)]: Done   2 tasks      | elapsed:  2.6min\n",
      "[Parallel(n_jobs=-1)]: Done   3 tasks      | elapsed:  2.7min\n",
      "[Parallel(n_jobs=-1)]: Done   4 tasks      | elapsed:  2.7min\n",
      "[Parallel(n_jobs=-1)]: Done   5 tasks      | elapsed:  4.9min\n",
      "[Parallel(n_jobs=-1)]: Done   6 tasks      | elapsed:  5.0min\n",
      "[Parallel(n_jobs=-1)]: Done   7 tasks      | elapsed:  5.0min\n",
      "[Parallel(n_jobs=-1)]: Done   8 tasks      | elapsed:  5.2min\n",
      "[Parallel(n_jobs=-1)]: Done   9 tasks      | elapsed:  7.2min\n",
      "[Parallel(n_jobs=-1)]: Done  10 out of  16 | elapsed:  7.3min remaining:  4.4min\n",
      "[Parallel(n_jobs=-1)]: Done  11 out of  16 | elapsed:  7.7min remaining:  3.5min\n",
      "[Parallel(n_jobs=-1)]: Done  12 out of  16 | elapsed:  7.8min remaining:  2.6min\n",
      "[Parallel(n_jobs=-1)]: Done  13 out of  16 | elapsed:  9.8min remaining:  2.3min\n",
      "[Parallel(n_jobs=-1)]: Done  14 out of  16 | elapsed:  9.8min remaining:  1.4min\n",
      "[Parallel(n_jobs=-1)]: Done  16 out of  16 | elapsed:  9.9min remaining:    0.0s\n",
      "[Parallel(n_jobs=-1)]: Done  16 out of  16 | elapsed:  9.9min finished\n"
     ]
    }
   ],
   "source": [
    "resultado2 = radial.fit(X_train, y_train)"
   ]
  },
  {
   "cell_type": "code",
   "execution_count": 16,
   "id": "55dd13bc",
   "metadata": {},
   "outputs": [
    {
     "name": "stdout",
     "output_type": "stream",
     "text": [
      "mejor score: 0.881741226937123\n",
      "mejores hiperparametros {'kernel': 'rbf', 'gamma': 0.001, 'C': 3}\n"
     ]
    }
   ],
   "source": [
    "print('mejor score: %s' % resultado2.best_score_)\n",
    "print('mejores hiperparametros %s' % resultado2.best_params_)"
   ]
  },
  {
   "cell_type": "markdown",
   "id": "53c7f8bb",
   "metadata": {},
   "source": [
    "Pruebo con polonimial"
   ]
  },
  {
   "cell_type": "code",
   "execution_count": 17,
   "id": "8cd14924",
   "metadata": {},
   "outputs": [],
   "source": [
    "svm = SVC(probability = True)\n",
    "poly = RandomizedSearchCV(\n",
    "    svm, parametro_polinomial, scoring='roc_auc', n_jobs=-1, cv=3, return_train_score=True, n_iter = 8, verbose = 99\n",
    ")"
   ]
  },
  {
   "cell_type": "code",
   "execution_count": 18,
   "id": "e48a4538",
   "metadata": {},
   "outputs": [
    {
     "name": "stdout",
     "output_type": "stream",
     "text": [
      "Fitting 3 folds for each of 8 candidates, totalling 24 fits\n",
      "[Parallel(n_jobs=-1)]: Using backend LokyBackend with 4 concurrent workers.\n",
      "[Parallel(n_jobs=-1)]: Done   1 tasks      | elapsed:  3.8min\n",
      "[Parallel(n_jobs=-1)]: Done   2 tasks      | elapsed:  4.0min\n",
      "[Parallel(n_jobs=-1)]: Done   3 tasks      | elapsed:  4.1min\n",
      "[Parallel(n_jobs=-1)]: Done   4 tasks      | elapsed:  4.1min\n",
      "[Parallel(n_jobs=-1)]: Done   5 tasks      | elapsed:  7.5min\n",
      "[Parallel(n_jobs=-1)]: Done   6 tasks      | elapsed:  7.9min\n",
      "[Parallel(n_jobs=-1)]: Done   7 tasks      | elapsed:  8.6min\n",
      "[Parallel(n_jobs=-1)]: Done   8 tasks      | elapsed:  8.8min\n",
      "[Parallel(n_jobs=-1)]: Done   9 tasks      | elapsed: 11.6min\n",
      "[Parallel(n_jobs=-1)]: Done  10 tasks      | elapsed: 12.0min\n",
      "[Parallel(n_jobs=-1)]: Done  11 tasks      | elapsed: 12.4min\n",
      "[Parallel(n_jobs=-1)]: Done  12 tasks      | elapsed: 12.7min\n",
      "[Parallel(n_jobs=-1)]: Done  13 tasks      | elapsed: 16.2min\n",
      "[Parallel(n_jobs=-1)]: Done  14 tasks      | elapsed: 16.4min\n",
      "[Parallel(n_jobs=-1)]: Done  15 tasks      | elapsed: 16.6min\n",
      "[Parallel(n_jobs=-1)]: Done  16 tasks      | elapsed: 16.9min\n",
      "[Parallel(n_jobs=-1)]: Done  17 tasks      | elapsed: 20.3min\n",
      "[Parallel(n_jobs=-1)]: Done  18 out of  24 | elapsed: 20.5min remaining:  6.8min\n",
      "[Parallel(n_jobs=-1)]: Done  19 out of  24 | elapsed: 20.5min remaining:  5.4min\n",
      "[Parallel(n_jobs=-1)]: Done  20 out of  24 | elapsed: 20.8min remaining:  4.2min\n",
      "[Parallel(n_jobs=-1)]: Done  21 out of  24 | elapsed: 24.1min remaining:  3.4min\n",
      "[Parallel(n_jobs=-1)]: Done  22 out of  24 | elapsed: 24.2min remaining:  2.2min\n",
      "[Parallel(n_jobs=-1)]: Done  24 out of  24 | elapsed: 24.4min remaining:    0.0s\n",
      "[Parallel(n_jobs=-1)]: Done  24 out of  24 | elapsed: 24.4min finished\n"
     ]
    }
   ],
   "source": [
    "resultado3 = poly.fit(X_train, y_train)"
   ]
  },
  {
   "cell_type": "code",
   "execution_count": 19,
   "id": "2d8258a3",
   "metadata": {},
   "outputs": [
    {
     "name": "stdout",
     "output_type": "stream",
     "text": [
      "mejor score: 0.8776762962876234\n",
      "mejores hiperparametros {'gamma': 1e-07, 'degree': 100, 'C': 3}\n"
     ]
    }
   ],
   "source": [
    "print('mejor score: %s' % resultado3.best_score_)\n",
    "print('mejores hiperparametros %s' % resultado3.best_params_)"
   ]
  },
  {
   "cell_type": "markdown",
   "id": "4e514499",
   "metadata": {},
   "source": [
    "vemos que el mejor score lo obtuvimos con el kernel lineal. Ahora entrenamos."
   ]
  },
  {
   "cell_type": "markdown",
   "id": "13069598",
   "metadata": {},
   "source": [
    "# Entrenamos Modelo"
   ]
  },
  {
   "cell_type": "code",
   "execution_count": 20,
   "id": "5d9cd574",
   "metadata": {},
   "outputs": [
    {
     "data": {
      "text/plain": [
       "SVC(C=1, kernel='linear', probability=True)"
      ]
     },
     "execution_count": 20,
     "metadata": {},
     "output_type": "execute_result"
    }
   ],
   "source": [
    "svm = SVC(kernel='linear', C=1, probability=True)\n",
    "svm.fit(X_train, y_train)"
   ]
  },
  {
   "cell_type": "markdown",
   "id": "c3c9090a",
   "metadata": {},
   "source": [
    "# Analisis de Metricas "
   ]
  },
  {
   "cell_type": "code",
   "execution_count": 21,
   "id": "46a6e2a1",
   "metadata": {},
   "outputs": [],
   "source": [
    "y_pred = svm.predict(X_test)"
   ]
  },
  {
   "cell_type": "markdown",
   "id": "9423eac0",
   "metadata": {},
   "source": [
    "# Precision, Recall, F1- score, Accuracy"
   ]
  },
  {
   "cell_type": "code",
   "execution_count": 22,
   "id": "defef1e0",
   "metadata": {},
   "outputs": [
    {
     "name": "stdout",
     "output_type": "stream",
     "text": [
      "                              precision    recall  f1-score   support\n",
      "\n",
      " tiene bajo poder adqusitivo       0.87      0.93      0.89      2473\n",
      "tiene alto poder adquisitivo       0.70      0.55      0.62       784\n",
      "\n",
      "                    accuracy                           0.83      3257\n",
      "                   macro avg       0.78      0.74      0.76      3257\n",
      "                weighted avg       0.83      0.83      0.83      3257\n",
      "\n"
     ]
    }
   ],
   "source": [
    "print(classification_report(y_test, y_pred, target_names=['tiene bajo poder adqusitivo','tiene alto poder adquisitivo']))"
   ]
  },
  {
   "cell_type": "markdown",
   "id": "931da0a9",
   "metadata": {},
   "source": [
    "# Matriz de confuncion"
   ]
  },
  {
   "cell_type": "code",
   "execution_count": 23,
   "id": "0f141f5a",
   "metadata": {},
   "outputs": [
    {
     "data": {
      "image/png": "[encoded data removed]",
      "text/plain": [
       "<Figure size 1080x504 with 2 Axes>"
      ]
     },
     "metadata": {
      "needs_background": "light"
     },
     "output_type": "display_data"
    }
   ],
   "source": [
    "from sklearn.metrics import plot_confusion_matrix\n",
    "\n",
    "fig, ax = plt.subplots(figsize=(15, 7))\n",
    "plt.grid(False)\n",
    "plot_confusion_matrix(\n",
    "    svm, X_test, y_test, cmap=plt.cm.Blues, display_labels=['bajo poder adquisitivo', 'alto poder adquisitivo'], ax=ax\n",
    ")\n",
    "plt.show()"
   ]
  },
  {
   "cell_type": "markdown",
   "id": "dbb9dd5b",
   "metadata": {},
   "source": [
    "# Auc roc curve"
   ]
  },
  {
   "cell_type": "code",
   "execution_count": 24,
   "id": "b0f14bf8",
   "metadata": {},
   "outputs": [],
   "source": [
    "import matplotlib.pyplot as plt\n",
    "from sklearn.metrics import roc_curve, auc, plot_roc_curve"
   ]
  },
  {
   "cell_type": "code",
   "execution_count": 25,
   "id": "2ab88f0c",
   "metadata": {},
   "outputs": [
    {
     "data": {
      "image/png": "[encoded data removed]",
      "text/plain": [
       "<Figure size 432x288 with 1 Axes>"
      ]
     },
     "metadata": {
      "needs_background": "light"
     },
     "output_type": "display_data"
    }
   ],
   "source": [
    "plot_roc_curve(svm,X_test,y_test,response_method='predict_proba')\n",
    "plt.show()"
   ]
  },
  {
   "cell_type": "markdown",
   "id": "f222407e",
   "metadata": {},
   "source": [
    "# Prediccion sobre el data ser de HoldOut "
   ]
  },
  {
   "cell_type": "code",
   "execution_count": 26,
   "id": "8b2d89c8",
   "metadata": {},
   "outputs": [],
   "source": [
    "from preprocessing import prepararSetDeHoldOutSvm\n",
    "from preprocessing import prepararSet"
   ]
  },
  {
   "cell_type": "code",
   "execution_count": 27,
   "id": "e8b0a2fb",
   "metadata": {},
   "outputs": [],
   "source": [
    "final_df_copy = prepararSet(final_df)"
   ]
  },
  {
   "cell_type": "code",
   "execution_count": 30,
   "id": "ca4d0ed8",
   "metadata": {},
   "outputs": [],
   "source": [
    "final_df_copy = prepararSetDeHoldOutSvm(final_df_copy)"
   ]
  },
  {
   "cell_type": "code",
   "execution_count": 31,
   "id": "94a456b6",
   "metadata": {},
   "outputs": [],
   "source": [
    "ho_prediction = svm.predict(final_df_copy)\n",
    "final_df['tiene_alto_valor_adquisitivo'] = ho_prediction\n",
    "\n",
    "final_df.to_csv('predicciones/svm.csv')"
   ]
  },
  {
   "cell_type": "code",
   "execution_count": null,
   "id": "ed38bc3f",
   "metadata": {},
   "outputs": [],
   "source": []
  },
  {
   "cell_type": "code",
   "execution_count": null,
   "id": "3a462fa4",
   "metadata": {},
   "outputs": [],
   "source": []
  }
 ],
 "metadata": {
  "kernelspec": {
   "display_name": "Python 3",
   "language": "python",
   "name": "python3"
  },
  "language_info": {
   "codemirror_mode": {
    "name": "ipython",
    "version": 3
   },
   "file_extension": ".py",
   "mimetype": "text/x-python",
   "name": "python",
   "nbconvert_exporter": "python",
   "pygments_lexer": "ipython3",
   "version": "3.8.10"
  }
 },
 "nbformat": 4,
 "nbformat_minor": 5
}
