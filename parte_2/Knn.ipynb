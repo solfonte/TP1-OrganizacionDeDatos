{
 "cells": [
  {
   "cell_type": "markdown",
   "id": "b96b7a66",
   "metadata": {},
   "source": [
    "## KNN (Vecino mas cercano)"
   ]
  },
  {
   "cell_type": "markdown",
   "id": "f9488ef0",
   "metadata": {},
   "source": [
    "Es un metodo de aprendisaje supervisado cuya funcionalidad es buscas en los datos mas cercanos de la que se estar trantando predecir y luego clasificarla basado en los datos que la rodean"
   ]
  },
  {
   "cell_type": "markdown",
   "id": "51434402",
   "metadata": {},
   "source": [
    "En este notebook vas a entrenar un modelo KNN"
   ]
  },
  {
   "cell_type": "code",
   "execution_count": 1,
   "id": "c3750837",
   "metadata": {},
   "outputs": [],
   "source": [
    "import numpy as np\n",
    "import pandas as pd\n",
    "import seaborn as sns\n",
    "from sklearn import preprocessing\n",
    "import matplotlib.pyplot as plt\n",
    "\n",
    "from preprocessing import cargarDatasets\n",
    "from preprocessing import prepararSetDeEntrenamiento\n",
    "from preprocessing import ingenieriaDeFeaturesVariablesNormalizadas\n",
    "from preprocessing import ingenieriaDeFeauturesVariablesNormalizadasME\n",
    "\n",
    "from sklearn.metrics import classification_report\n",
    "from sklearn.metrics import accuracy_score, roc_auc_score\n",
    "from sklearn.model_selection import train_test_split,KFold, StratifiedKFold\n",
    "from sklearn.neighbors import KNeighborsClassifier\n",
    "from sklearn.metrics import accuracy_score, roc_auc_score, precision_score, recall_score\n",
    "from sklearn.model_selection import GridSearchCV"
   ]
  },
  {
   "cell_type": "markdown",
   "id": "7ae41ecf",
   "metadata": {},
   "source": [
    "## Carga y preprosesamiento de datos"
   ]
  },
  {
   "cell_type": "code",
   "execution_count": 2,
   "id": "6d47c09e",
   "metadata": {},
   "outputs": [],
   "source": [
    "train_df,final_df = cargarDatasets()\n",
    "train_df = prepararSetDeEntrenamiento(train_df)"
   ]
  },
  {
   "cell_type": "markdown",
   "id": "ddaa20f3",
   "metadata": {},
   "source": [
    "ahora que ya tenemos los datasets cargados vamos a ir aplicacion preprocesamientos al dateset de entrenamiento."
   ]
  },
  {
   "cell_type": "code",
   "execution_count": 3,
   "id": "cc939e36",
   "metadata": {},
   "outputs": [],
   "source": [
    "X,y,df,y_encoder = ingenieriaDeFeaturesVariablesNormalizadas(train_df)\n",
    "\n",
    "X_train, X_test, y_train, y_test = train_test_split(X, y, random_state=117, test_size=0.1, stratify=y)"
   ]
  },
  {
   "cell_type": "code",
   "execution_count": 4,
   "id": "314c00b5",
   "metadata": {},
   "outputs": [],
   "source": [
    "X2,y2,df2,y_encoder2, meanEncoding = ingenieriaDeFeauturesVariablesNormalizadasME(train_df)\n",
    "\n",
    "X_train2, X_test2, y_train2, y_test2 = train_test_split(X2, y2, random_state=117, test_size=0.1, stratify=y2)"
   ]
  },
  {
   "cell_type": "markdown",
   "id": "1ae11583",
   "metadata": {},
   "source": [
    "Para la busqueda de hiperametros tenemos en cuenta:\n",
    "   *  k: la cantidad de vecinos que se va a tener en una instancia.\n",
    "   *  peso: lo que se le da a la distancia entre los puntos.\n",
    "   *  metrica    "
   ]
  },
  {
   "cell_type": "code",
   "execution_count": 5,
   "id": "90217626",
   "metadata": {},
   "outputs": [],
   "source": [
    "def hallarMejoresHiperparametros(Xtrain, ytrain, Xtest, ytest):\n",
    "    mejor_puntaje = 0\n",
    "    mejor_k = -1\n",
    "    mejor_distancia = None\n",
    "    mejor_metrica = None\n",
    "    for tipo_distancias in ['uniform', 'distance']:\n",
    "        for metrica in ['minkowski','cosine','manhattan','euclidean']:\n",
    "            for k in range(1, 30):\n",
    "                knn = KNeighborsClassifier(n_neighbors = k,  weights=tipo_distancias, metric = metrica)\n",
    "                knn.fit(Xtrain, ytrain)\n",
    "                puntaje = knn.score(Xtest, ytest)\n",
    "\n",
    "                if puntaje > mejor_puntaje:\n",
    "                    mejor_k = k\n",
    "                    mejor_puntaje = puntaje\n",
    "                    mejor_distancia = tipo_distancias\n",
    "                    mejor_metrica = metrica\n",
    "    print(\" mejor puntaje: \", mejor_puntaje)\n",
    "    print(\" mejor k: \", mejor_k)\n",
    "    print(\"mejor distancia: \", mejor_distancia)\n",
    "    print(\"mejor metrica: \", mejor_metrica)\n",
    "    return mejor_puntaje, mejor_k, mejor_distancia, mejor_metrica\n",
    "\n",
    "    "
   ]
  },
  {
   "cell_type": "markdown",
   "id": "373d5761",
   "metadata": {},
   "source": [
    "primer preprocesamiento"
   ]
  },
  {
   "cell_type": "code",
   "execution_count": null,
   "id": "174144f5",
   "metadata": {},
   "outputs": [],
   "source": [
    "mejor_valor, mejor_k, mejor_distancia, mejor_metrica = hallarMejoresHiperparametros(X_train, y_train, X_test, y_test)"
   ]
  },
  {
   "cell_type": "markdown",
   "id": "310d6d43",
   "metadata": {},
   "source": [
    "segundo preprocesamiento "
   ]
  },
  {
   "cell_type": "code",
   "execution_count": null,
   "id": "da53b0e2",
   "metadata": {},
   "outputs": [],
   "source": [
    "mejor_valor2, mejor_k2, mejor_distancia2, mejor_metrica2 = hallarMejoresHiperparametros(X_train2, y_train2, X_test2, y_test2)"
   ]
  },
  {
   "cell_type": "code",
   "execution_count": null,
   "id": "99474b3a",
   "metadata": {},
   "outputs": [],
   "source": [
    "dio mejor el segundo preprosamiento, vamos a utilizar este para plantear el modelo final "
   ]
  },
  {
   "cell_type": "markdown",
   "id": "8c2a909d",
   "metadata": {},
   "source": [
    "# Modelo KNN Final\n",
    "una vez hallados los hiperparametros, vamos a entrenar un modelo definitivo con estos mismo. "
   ]
  },
  {
   "cell_type": "code",
   "execution_count": null,
   "id": "7893e2f1",
   "metadata": {},
   "outputs": [],
   "source": [
    "knn = KNeighborsClassifier(n_neighbors = 21, weights = 'distance', metric = 'minkowski')\n",
    "knn.fit(X_train2, y_train2)"
   ]
  },
  {
   "cell_type": "markdown",
   "id": "28e1cb7f",
   "metadata": {},
   "source": [
    "## Analisis de Metricas"
   ]
  },
  {
   "cell_type": "code",
   "execution_count": null,
   "id": "733c61b4",
   "metadata": {},
   "outputs": [],
   "source": [
    "y_pred = knn.predict(X_test2)"
   ]
  },
  {
   "cell_type": "markdown",
   "id": "090f78e1",
   "metadata": {},
   "source": [
    "# Precision, Recall, Acurracy"
   ]
  },
  {
   "cell_type": "code",
   "execution_count": null,
   "id": "e7f59d74",
   "metadata": {},
   "outputs": [],
   "source": [
    "print(classification_report(y_test, y_pred, target_names=['tiene bajo poder adqusitivo','tiene alto poder adquisitivo']))"
   ]
  },
  {
   "cell_type": "markdown",
   "id": "fcfe2fc4",
   "metadata": {},
   "source": [
    "# Accurary "
   ]
  },
  {
   "cell_type": "code",
   "execution_count": null,
   "id": "6d32f893",
   "metadata": {},
   "outputs": [],
   "source": [
    "accuracy_score(y_test, y_pred) "
   ]
  },
  {
   "cell_type": "markdown",
   "id": "7f4e806a",
   "metadata": {},
   "source": [
    "# Precision "
   ]
  },
  {
   "cell_type": "code",
   "execution_count": null,
   "id": "51eaabda",
   "metadata": {},
   "outputs": [],
   "source": [
    "precision_score(y_test, y_pred)"
   ]
  },
  {
   "cell_type": "markdown",
   "id": "87ba3dcb",
   "metadata": {},
   "source": [
    "# Recall"
   ]
  },
  {
   "cell_type": "code",
   "execution_count": null,
   "id": "fc873d9d",
   "metadata": {},
   "outputs": [],
   "source": [
    "recall_score(y_test, y_pred)"
   ]
  },
  {
   "cell_type": "markdown",
   "id": "41423d06",
   "metadata": {},
   "source": [
    "# Matriz de confucion "
   ]
  },
  {
   "cell_type": "code",
   "execution_count": null,
   "id": "603e0d6b",
   "metadata": {},
   "outputs": [],
   "source": [
    "from sklearn.metrics import plot_confusion_matrix\n",
    "\n",
    "fig, ax = plt.subplots(figsize=(15, 7))\n",
    "plt.grid(False)\n",
    "plot_confusion_matrix(\n",
    "    knn, X_test2, y_test2, cmap=plt.cm.Blues, display_labels=['bajo poder adquisitivo', 'alto poder adquisitivo'], ax=ax\n",
    ")\n",
    "plt.show()"
   ]
  },
  {
   "cell_type": "markdown",
   "id": "b21f2c3f",
   "metadata": {},
   "source": [
    "# Curva AUC ROC"
   ]
  },
  {
   "cell_type": "code",
   "execution_count": null,
   "id": "d75907dc",
   "metadata": {},
   "outputs": [],
   "source": [
    "from sklearn.metrics import roc_curve, auc, plot_roc_curve\n",
    "from sklearn.metrics import roc_auc_score"
   ]
  },
  {
   "cell_type": "code",
   "execution_count": null,
   "id": "12953f0d",
   "metadata": {},
   "outputs": [],
   "source": [
    "fpr, tpr, thresholds = roc_curve(y_test, knn.predict_proba(X_test2)[:,1])"
   ]
  },
  {
   "cell_type": "code",
   "execution_count": null,
   "id": "816d8a63",
   "metadata": {},
   "outputs": [],
   "source": [
    "plot_roc_curve(knn,X_test2,y_test2,response_method='predict_proba')\n",
    "plt.show()"
   ]
  },
  {
   "cell_type": "markdown",
   "id": "fe4d6599",
   "metadata": {},
   "source": [
    "## Prediccion sobre el data set de hold out"
   ]
  },
  {
   "cell_type": "code",
   "execution_count": null,
   "id": "3e3e57d5",
   "metadata": {},
   "outputs": [],
   "source": [
    "from preprocessing import prepararSetDeHoldOutKNN\n",
    "from preprocessing import prepararHoldOut"
   ]
  },
  {
   "cell_type": "code",
   "execution_count": null,
   "id": "914659f1",
   "metadata": {},
   "outputs": [],
   "source": [
    "final_df = prepararHoldOut(final_df)"
   ]
  },
  {
   "cell_type": "code",
   "execution_count": null,
   "id": "7dc6e947",
   "metadata": {},
   "outputs": [],
   "source": [
    "final_df = prepararSetDeHoldOutKNN(final_df, meanEncoding)"
   ]
  },
  {
   "cell_type": "code",
   "execution_count": null,
   "id": "b400e401",
   "metadata": {},
   "outputs": [],
   "source": [
    "ho_prediction = knn.predict(final_df)\n",
    "final_df['tiene_alto_valor_adquisitivo'] = ho_prediction\n",
    "\n",
    "final_df.to_csv('predicciones/knn.csv')"
   ]
  },
  {
   "cell_type": "code",
   "execution_count": null,
   "id": "176a13c9",
   "metadata": {},
   "outputs": [],
   "source": []
  }
 ],
 "metadata": {
  "kernelspec": {
   "display_name": "Python 3",
   "language": "python",
   "name": "python3"
  },
  "language_info": {
   "codemirror_mode": {
    "name": "ipython",
    "version": 3
   },
   "file_extension": ".py",
   "mimetype": "text/x-python",
   "name": "python",
   "nbconvert_exporter": "python",
   "pygments_lexer": "ipython3",
   "version": "3.8.5"
  }
 },
 "nbformat": 4,
 "nbformat_minor": 5
}
