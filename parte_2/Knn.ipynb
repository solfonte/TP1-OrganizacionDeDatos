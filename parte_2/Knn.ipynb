{
 "cells": [
  {
   "cell_type": "markdown",
   "id": "1955130d-eeb9-40a3-bbb5-e61462330b62",
   "metadata": {},
   "source": [
    "## KNN (Vecino mas cercano)"
   ]
  },
  {
   "cell_type": "markdown",
   "id": "03981531-6afa-4d67-8eb1-f10b1e158f3c",
   "metadata": {},
   "source": [
    "Es un metodo de aprendisaje supervisado cuya funcionalidad es buscas en los datos mas cercanos de la que se estar trantando predecir y luego clasificarla basado en los datos que la rodean"
   ]
  },
  {
   "cell_type": "markdown",
   "id": "65021459-8cd5-4382-9433-30114ee9810c",
   "metadata": {},
   "source": [
    "En este notebook vas a entrenar un modelo KNN"
   ]
  },
  {
   "cell_type": "code",
   "execution_count": 33,
   "id": "65fbac37-593d-4510-a0c4-9d8a1cd678bf",
   "metadata": {},
   "outputs": [],
   "source": [
    "import numpy as np\n",
    "import pandas as pd\n",
    "import seaborn as sns\n",
    "from sklearn import preprocessing\n",
    "import matplotlib.pyplot as plt\n",
    "\n",
    "from preprocessing import cargarDatasets\n",
    "from preprocessing import prepararSetDeEntrenamiento\n",
    "from preprocessing import prepararSetDeValidacion\n",
    "from preprocessing import ingenieriaDeFeaturesKnn\n",
    "\n",
    "from sklearn.metrics import classification_report\n",
    "from sklearn.metrics import accuracy_score, roc_auc_score\n",
    "from sklearn.model_selection import train_test_split,KFold, StratifiedKFold\n",
    "from sklearn.neighbors import KNeighborsClassifier\n",
    "from sklearn.metrics import accuracy_score, roc_auc_score, precision_score, recall_score"
   ]
  },
  {
   "cell_type": "markdown",
   "id": "6b97d8ff-4672-4da0-bd32-5bc501c221de",
   "metadata": {},
   "source": [
    "## Carga y preprosesamiento de datos"
   ]
  },
  {
   "cell_type": "code",
   "execution_count": 2,
   "id": "3911139a-7c47-4768-8c48-cad63689adb8",
   "metadata": {},
   "outputs": [],
   "source": [
    "train_df,final_df = cargarDatasets()\n",
    "train_df = prepararSetDeEntrenamiento(train_df)\n",
    "final_df = prepararSetDeValidacion(final_df)"
   ]
  },
  {
   "cell_type": "code",
   "execution_count": null,
   "id": "3266c1aa-d9cd-4bf4-ae11-893768347358",
   "metadata": {},
   "outputs": [],
   "source": []
  },
  {
   "cell_type": "markdown",
   "id": "53d196e8-db75-4782-8e05-9fb55799b86c",
   "metadata": {},
   "source": [
    "ahora que ya tenemos los datasets cargados vamos a ir aplicacion preprocesamientos al dateset de entrenamiento."
   ]
  },
  {
   "cell_type": "code",
   "execution_count": 5,
   "id": "2d263aec-6ddb-4d21-838b-6f260de18c64",
   "metadata": {},
   "outputs": [],
   "source": [
    "X,y,df,y_encoder = ingenieriaDeFeaturesKnn(train_df)\n",
    "\n",
    "X_train, X_test, y_train, y_test = train_test_split(X, y, random_state=117, test_size=0.1, stratify=y)"
   ]
  },
  {
   "cell_type": "markdown",
   "id": "d3854d83-3468-43e3-9b7c-a6672e6fe08b",
   "metadata": {},
   "source": [
    "Para la busqueda de hiperametros tenemos en cuenta:\n",
    "   *  k: la cantidad de vecinos que se va a tener en una instancia.\n",
    "   *  peso: lo que se le da a la distancia entre los puntos.\n",
    "   *  metrica    "
   ]
  },
  {
   "cell_type": "code",
   "execution_count": 15,
   "id": "ba9635d1-4189-4346-8315-e36057a103bb",
   "metadata": {},
   "outputs": [],
   "source": [
    "def hallarMejoresHiperparametros():\n",
    "    mejor_puntaje = 0\n",
    "    mejor_k = -1\n",
    "    mejor_distancia = None\n",
    "    mejor_metrica = None\n",
    "    for tipo_distancias in ['uniform', 'distance']:\n",
    "        for metrica in ['minkowski','cosine','manhattan','euclidean']:\n",
    "            for k in range(1, 30):\n",
    "                knn = KNeighborsClassifier(n_neighbors = k,  weights=tipo_distancias, metric = metrica)\n",
    "                knn.fit(X_train, y_train)\n",
    "                puntaje = knn.score(X_test, y_test)\n",
    "\n",
    "                if puntaje > mejor_puntaje:\n",
    "                    mejor_k = k\n",
    "                    mejor_puntaje = puntaje\n",
    "                    mejor_distancia = tipo_distancias\n",
    "                    mejor_metrica = metrica\n",
    "    print(\" mejor puntaje: \", mejor_puntaje)\n",
    "    print(\" mejor k: \", mejor_k)\n",
    "    print(\"mejor distancia: \", mejor_distancia)\n",
    "    print(\"mejor metrica: \", mejor_metrica)\n",
    "    return mejor_puntaje, mejor_k, mejor_distancia, mejor_metrica\n",
    "\n",
    "    "
   ]
  },
  {
   "cell_type": "code",
   "execution_count": 16,
   "id": "7f0b228a-5f46-4f24-9c40-29295677ea82",
   "metadata": {},
   "outputs": [
    {
     "name": "stdout",
     "output_type": "stream",
     "text": [
      " mejor puntaje:  0.8415719987718759\n",
      " mejor k:  24\n",
      "mejor distancia:  distance\n",
      "mejor metrica:  minkowski\n"
     ]
    }
   ],
   "source": [
    "mejor_valor, mejor_k, mejor_distancia, mejor_metrica = hallarMejoresHiperparametros()"
   ]
  },
  {
   "cell_type": "markdown",
   "id": "f6de2282-061f-4875-9875-40482b1a0e1f",
   "metadata": {},
   "source": [
    "# Modelo KNN Final\n",
    "una vez hallados los hiperparametros, vamos a entrenar un modelo defnitiv con estos mismo. "
   ]
  },
  {
   "cell_type": "code",
   "execution_count": 17,
   "id": "7753c51e-5447-4320-8205-b0f7f8ccd11f",
   "metadata": {},
   "outputs": [
    {
     "data": {
      "text/plain": [
       "KNeighborsClassifier(n_neighbors=24, weights='distance')"
      ]
     },
     "execution_count": 17,
     "metadata": {},
     "output_type": "execute_result"
    }
   ],
   "source": [
    "knn = KNeighborsClassifier(n_neighbors = mejor_k, weights = mejor_distancia, metric = mejor_metrica)\n",
    "X_train, X_test, y_train, y_test = train_test_split(X, y, random_state=117, test_size=0.1, stratify=y)\n",
    "knn.fit(X_train, y_train)"
   ]
  },
  {
   "cell_type": "markdown",
   "id": "a37c73d3-3ae8-4243-9950-46edae7cf5a5",
   "metadata": {},
   "source": [
    "## Analisis de Metricas"
   ]
  },
  {
   "cell_type": "code",
   "execution_count": 21,
   "id": "b157a96b-a552-4452-8bda-7552e66d216a",
   "metadata": {},
   "outputs": [],
   "source": [
    "y_pred = knn.predict(X_test)"
   ]
  },
  {
   "cell_type": "markdown",
   "id": "c192588a-bb4d-45a7-8da8-eb1a68fce890",
   "metadata": {},
   "source": [
    "# Precision, Recall, Acurracy"
   ]
  },
  {
   "cell_type": "code",
   "execution_count": 23,
   "id": "9bcf53df-714e-43b4-9f4d-48a9296b7db8",
   "metadata": {},
   "outputs": [
    {
     "name": "stdout",
     "output_type": "stream",
     "text": [
      "                              precision    recall  f1-score   support\n",
      "\n",
      " tiene bajo poder adqusitivo       0.87      0.93      0.90      2473\n",
      "tiene alto poder adquisitivo       0.72      0.56      0.63       784\n",
      "\n",
      "                    accuracy                           0.84      3257\n",
      "                   macro avg       0.79      0.75      0.77      3257\n",
      "                weighted avg       0.83      0.84      0.83      3257\n",
      "\n"
     ]
    }
   ],
   "source": [
    "print(classification_report(y_test, y_pred, target_names=['tiene bajo poder adqusitivo','tiene alto poder adquisitivo']))"
   ]
  },
  {
   "cell_type": "markdown",
   "id": "6dff435e-4432-4126-9760-711ac38f01e9",
   "metadata": {},
   "source": [
    "# Accurary "
   ]
  },
  {
   "cell_type": "code",
   "execution_count": 29,
   "id": "3861bf7d-0eb4-48fd-9afe-6465f66f9e19",
   "metadata": {},
   "outputs": [
    {
     "data": {
      "text/plain": [
       "0.8415719987718759"
      ]
     },
     "execution_count": 29,
     "metadata": {},
     "output_type": "execute_result"
    }
   ],
   "source": [
    "accuracy_score(y_test, y_pred) "
   ]
  },
  {
   "cell_type": "markdown",
   "id": "53e8ba92-514c-40e6-96e8-1de3598e5cdf",
   "metadata": {},
   "source": [
    "# Precision "
   ]
  },
  {
   "cell_type": "code",
   "execution_count": 30,
   "id": "7ad72621-95bb-4af9-9288-9401885b7648",
   "metadata": {},
   "outputs": [
    {
     "data": {
      "text/plain": [
       "0.7182410423452769"
      ]
     },
     "execution_count": 30,
     "metadata": {},
     "output_type": "execute_result"
    }
   ],
   "source": [
    "precision_score(y_test, y_pred)"
   ]
  },
  {
   "cell_type": "markdown",
   "id": "6fde85a0-9218-49cc-a5f3-7209bab67c86",
   "metadata": {},
   "source": [
    "# Recall"
   ]
  },
  {
   "cell_type": "code",
   "execution_count": 31,
   "id": "cf8f0f53-2ea8-4775-b955-9396b19aa608",
   "metadata": {},
   "outputs": [
    {
     "data": {
      "text/plain": [
       "0.5625"
      ]
     },
     "execution_count": 31,
     "metadata": {},
     "output_type": "execute_result"
    }
   ],
   "source": [
    "recall_score(y_test, y_pred)"
   ]
  },
  {
   "cell_type": "markdown",
   "id": "82ba7150-3160-4a7f-8dfd-0fca460db8cb",
   "metadata": {},
   "source": [
    "# Matriz de confucion "
   ]
  },
  {
   "cell_type": "code",
   "execution_count": 34,
   "id": "1e4b49cf-08d4-4483-b316-5b4a43462cb0",
   "metadata": {},
   "outputs": [
    {
     "name": "stderr",
     "output_type": "stream",
     "text": [
      "/home/agus/.local/lib/python3.8/site-packages/sklearn/utils/validation.py:70: FutureWarning: Pass labels=[0, 1] as keyword args. From version 1.0 (renaming of 0.25) passing these as positional arguments will result in an error\n",
      "  warnings.warn(f\"Pass {args_msg} as keyword args. From version \"\n"
     ]
    },
    {
     "data": {
      "image/png": "[encoded data removed]",
      "text/plain": [
       "<Figure size 600x400 with 2 Axes>"
      ]
     },
     "metadata": {
      "needs_background": "light"
     },
     "output_type": "display_data"
    }
   ],
   "source": [
    "from sklearn.metrics import confusion_matrix\n",
    "\n",
    "\n",
    "def plot_confusion_matrix(y_true, y_pred):\n",
    "    names = sorted(set(y_true))\n",
    "    cm = confusion_matrix(y_true, y_pred, names)\n",
    "    df_cm = pd.DataFrame(cm, names, names)\n",
    "\n",
    "    plt.figure(dpi=100)\n",
    "    plt.title(\"Matriz de confusion\")\n",
    "    sns.heatmap(df_cm, annot=True, annot_kws={\"size\": 16}, fmt='g', square=True)\n",
    "    plt.ylabel(\"True label\")\n",
    "    plt.xlabel(\"Predicted label\")\n",
    "    plt.show()\n",
    "\n",
    "\n",
    "plot_confusion_matrix(y_test, knn.predict(X_test))"
   ]
  },
  {
   "cell_type": "markdown",
   "id": "9fd81fef-3a22-45d4-9cf7-2ae14608e868",
   "metadata": {},
   "source": [
    "# Curva AUC ROC"
   ]
  },
  {
   "cell_type": "code",
   "execution_count": 37,
   "id": "d1fa2f90-6659-4a62-ad7d-336ac7acf882",
   "metadata": {},
   "outputs": [],
   "source": [
    "from sklearn.metrics import roc_curve, auc\n",
    "from sklearn.metrics import roc_auc_score"
   ]
  },
  {
   "cell_type": "code",
   "execution_count": 39,
   "id": "ff81cb4c-2dcd-46bf-b0d2-4f92836d6ef8",
   "metadata": {},
   "outputs": [],
   "source": [
    "fpr, tpr, thresholds = roc_curve(y_test, y_pred)"
   ]
  },
  {
   "cell_type": "code",
   "execution_count": 40,
   "id": "e2a560f7-ccc9-4e3a-92e3-50ed64c5f0a5",
   "metadata": {},
   "outputs": [],
   "source": [
    "def plot_roc(_fpr, _tpr, x):\n",
    "\n",
    "    roc_auc = auc(_fpr, _tpr)\n",
    "\n",
    "    plt.figure(figsize=(15, 10))\n",
    "    plt.plot(\n",
    "        _fpr, _tpr, color='darkorange', lw=2, label=f'ROC curve (area = {roc_auc:.2f})'\n",
    "    )\n",
    "    plt.scatter(_fpr, x)\n",
    "    plt.plot([0, 1], [0, 1], color='navy', lw=2, linestyle='--')\n",
    "    plt.xlim([0.0, 1.0])\n",
    "    plt.ylim([0.0, 1.05])\n",
    "    plt.xlabel('False Positive Rate')\n",
    "    plt.ylabel('True Positive Rate')\n",
    "    plt.title('Receiver operating characteristic')\n",
    "    plt.legend(loc=\"lower right\")\n",
    "    plt.show()"
   ]
  },
  {
   "cell_type": "code",
   "execution_count": 41,
   "id": "fbc409fe-7992-47c4-8e6b-123dbbb72ede",
   "metadata": {},
   "outputs": [
    {
     "data": {
      "image/png": "[encoded data removed]",
      "text/plain": [
       "<Figure size 1080x720 with 1 Axes>"
      ]
     },
     "metadata": {
      "needs_background": "light"
     },
     "output_type": "display_data"
    },
    {
     "data": {
      "text/plain": [
       "0.8691557597563894"
      ]
     },
     "execution_count": 41,
     "metadata": {},
     "output_type": "execute_result"
    }
   ],
   "source": [
    "plot_roc(fpr, tpr, thresholds)\n",
    "roc_auc_score(y_test, knn.predict_proba(X_test)[:,1])"
   ]
  },
  {
   "cell_type": "code",
   "execution_count": null,
   "id": "0ff845ad-fa9f-48a9-ab21-a829d0a94668",
   "metadata": {},
   "outputs": [],
   "source": []
  }
 ],
 "metadata": {
  "kernelspec": {
   "display_name": "Python 3",
   "language": "python",
   "name": "python3"
  },
  "language_info": {
   "codemirror_mode": {
    "name": "ipython",
    "version": 3
   },
   "file_extension": ".py",
   "mimetype": "text/x-python",
   "name": "python",
   "nbconvert_exporter": "python",
   "pygments_lexer": "ipython3",
   "version": "3.8.5"
  }
 },
 "nbformat": 4,
 "nbformat_minor": 5
}
