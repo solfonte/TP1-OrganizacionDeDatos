{
 "cells": [
  {
   "cell_type": "markdown",
   "id": "d176abb0",
   "metadata": {},
   "source": [
    "## KNN (Vecino mas cercano)"
   ]
  },
  {
   "cell_type": "markdown",
   "id": "94db5112",
   "metadata": {},
   "source": [
    "Es un metodo de aprendizaje supervisado cuya funcionalidad es buscar en los datos mas cercanos de la que se esta trantando predecir y luego clasificarla basado en los datos que la rodean"
   ]
  },
  {
   "cell_type": "markdown",
   "id": "8354e925",
   "metadata": {},
   "source": [
    "En este notebook vamos a entrenar un modelo KNN"
   ]
  },
  {
   "cell_type": "code",
   "execution_count": 1,
   "id": "04e6f96a",
   "metadata": {},
   "outputs": [],
   "source": [
    "import numpy as np\n",
    "import pandas as pd\n",
    "import seaborn as sns\n",
    "from sklearn import preprocessing\n",
    "import matplotlib.pyplot as plt\n",
    "\n",
    "from preprocessing import cargarDatasets\n",
    "from preprocessing import prepararSet\n",
    "from preprocessing import ingenieriaDeFeaturesVariablesNormalizadas\n",
    "from preprocessing import ingenieriaDeFeauturesVariablesNormalizadasME\n",
    "\n",
    "from sklearn.metrics import classification_report\n",
    "from sklearn.metrics import accuracy_score, roc_auc_score\n",
    "from sklearn.model_selection import train_test_split,KFold, StratifiedKFold\n",
    "from sklearn.neighbors import KNeighborsClassifier\n",
    "from sklearn.metrics import accuracy_score, roc_auc_score, precision_score, recall_score\n",
    "from sklearn.model_selection import GridSearchCV"
   ]
  },
  {
   "cell_type": "markdown",
   "id": "0331d187",
   "metadata": {},
   "source": [
    "## Carga y preprosesamiento de datos"
   ]
  },
  {
   "cell_type": "code",
   "execution_count": 2,
   "id": "34d30248",
   "metadata": {},
   "outputs": [],
   "source": [
    "train_df,final_df = cargarDatasets()\n",
    "train_df = prepararSet(train_df)"
   ]
  },
  {
   "cell_type": "markdown",
   "id": "c5f8312a",
   "metadata": {},
   "source": [
    "ahora que ya tenemos los datasets cargados vamos a ir aplicacion preprocesamientos al dateset de entrenamiento."
   ]
  },
  {
   "cell_type": "code",
   "execution_count": 3,
   "id": "69312a51",
   "metadata": {},
   "outputs": [],
   "source": [
    "X,y,df,y_encoder = ingenieriaDeFeaturesVariablesNormalizadas(train_df)\n",
    "\n",
    "X_train, X_test, y_train, y_test = train_test_split(X, y, random_state=117, test_size=0.1, stratify=y)"
   ]
  },
  {
   "cell_type": "code",
   "execution_count": 4,
   "id": "34d8468e",
   "metadata": {},
   "outputs": [],
   "source": [
    "X2,y2,df2,y_encoder2, meanEncoding = ingenieriaDeFeauturesVariablesNormalizadasME(train_df)\n",
    "\n",
    "X_train2, X_test2, y_train2, y_test2 = train_test_split(X2, y2, random_state=117, test_size=0.1, stratify=y2)"
   ]
  },
  {
   "cell_type": "markdown",
   "id": "429eafd6",
   "metadata": {},
   "source": [
    "Para la busqueda de hiperametros tenemos en cuenta:\n",
    "   *  k: la cantidad de vecinos que se va a tener en una instancia.\n",
    "   *  peso: lo que se le da a la distancia entre los puntos.\n",
    "   *  metrica    "
   ]
  },
  {
   "cell_type": "code",
   "execution_count": 5,
   "id": "5e2a8434",
   "metadata": {},
   "outputs": [],
   "source": [
    "def hallarMejoresHiperparametros(Xtrain, ytrain, Xtest, ytest):\n",
    "    mejor_puntaje = 0\n",
    "    mejor_k = -1\n",
    "    mejor_distancia = None\n",
    "    mejor_metrica = None\n",
    "    for tipo_distancias in ['uniform', 'distance']:\n",
    "        for metrica in ['minkowski','cosine','manhattan','euclidean']:\n",
    "            for k in range(1, 30):\n",
    "                knn = KNeighborsClassifier(n_neighbors = k,  weights=tipo_distancias, metric = metrica)\n",
    "                knn.fit(Xtrain, ytrain)\n",
    "                puntaje = knn.score(Xtest, ytest)\n",
    "\n",
    "                if puntaje > mejor_puntaje:\n",
    "                    mejor_k = k\n",
    "                    mejor_puntaje = puntaje\n",
    "                    mejor_distancia = tipo_distancias\n",
    "                    mejor_metrica = metrica\n",
    "    print(\" mejor puntaje: \", mejor_puntaje)\n",
    "    print(\" mejor k: \", mejor_k)\n",
    "    print(\"mejor distancia: \", mejor_distancia)\n",
    "    print(\"mejor metrica: \", mejor_metrica)\n",
    "    return mejor_puntaje, mejor_k, mejor_distancia, mejor_metrica\n",
    "\n",
    "    "
   ]
  },
  {
   "cell_type": "markdown",
   "id": "528cb869",
   "metadata": {},
   "source": [
    "primer preprocesamiento"
   ]
  },
  {
   "cell_type": "code",
   "execution_count": 6,
   "id": "14f8226f",
   "metadata": {},
   "outputs": [
    {
     "name": "stdout",
     "output_type": "stream",
     "text": [
      " mejor puntaje:  0.8434141848326681\n",
      " mejor k:  19\n",
      "mejor distancia:  distance\n",
      "mejor metrica:  minkowski\n"
     ]
    }
   ],
   "source": [
    "mejor_valor, mejor_k, mejor_distancia, mejor_metrica = hallarMejoresHiperparametros(X_train, y_train, X_test, y_test)"
   ]
  },
  {
   "cell_type": "markdown",
   "id": "dad58530",
   "metadata": {},
   "source": [
    "segundo preprocesamiento "
   ]
  },
  {
   "cell_type": "code",
   "execution_count": 7,
   "id": "aa86b29e",
   "metadata": {},
   "outputs": [
    {
     "name": "stdout",
     "output_type": "stream",
     "text": [
      " mejor puntaje:  0.8489407430150445\n",
      " mejor k:  21\n",
      "mejor distancia:  distance\n",
      "mejor metrica:  minkowski\n"
     ]
    }
   ],
   "source": [
    "mejor_valor2, mejor_k2, mejor_distancia2, mejor_metrica2 = hallarMejoresHiperparametros(X_train2, y_train2, X_test2, y_test2)"
   ]
  },
  {
   "cell_type": "markdown",
   "id": "562a69a2",
   "metadata": {},
   "source": [
    "dio mejor el segundo preprocesamiento, vamos a utilizar este para plantear el modelo final "
   ]
  },
  {
   "cell_type": "markdown",
   "id": "8bbed0e1",
   "metadata": {},
   "source": [
    "# Modelo KNN Final\n",
    "una vez hallados los hiperparametros, vamos a entrenar un modelo definitivo con estos mismo. "
   ]
  },
  {
   "cell_type": "code",
   "execution_count": 8,
   "id": "9edecd04",
   "metadata": {},
   "outputs": [
    {
     "data": {
      "text/plain": [
       "KNeighborsClassifier(n_neighbors=21, weights='distance')"
      ]
     },
     "execution_count": 8,
     "metadata": {},
     "output_type": "execute_result"
    }
   ],
   "source": [
    "knn = KNeighborsClassifier(n_neighbors = 21, weights = 'distance', metric = 'minkowski')\n",
    "knn.fit(X_train2, y_train2)"
   ]
  },
  {
   "cell_type": "markdown",
   "id": "fcf2b1f1",
   "metadata": {},
   "source": [
    "## Analisis de Metricas"
   ]
  },
  {
   "cell_type": "code",
   "execution_count": 9,
   "id": "0c82121d",
   "metadata": {},
   "outputs": [],
   "source": [
    "y_pred = knn.predict(X_test2)"
   ]
  },
  {
   "cell_type": "markdown",
   "id": "974bc214",
   "metadata": {},
   "source": [
    "# Precision, Recall, Acurracy"
   ]
  },
  {
   "cell_type": "code",
   "execution_count": 10,
   "id": "fa06e275",
   "metadata": {},
   "outputs": [
    {
     "name": "stdout",
     "output_type": "stream",
     "text": [
      "                              precision    recall  f1-score   support\n",
      "\n",
      " tiene bajo poder adqusitivo       0.88      0.93      0.90      2473\n",
      "tiene alto poder adquisitivo       0.72      0.60      0.66       784\n",
      "\n",
      "                    accuracy                           0.85      3257\n",
      "                   macro avg       0.80      0.77      0.78      3257\n",
      "                weighted avg       0.84      0.85      0.84      3257\n",
      "\n"
     ]
    }
   ],
   "source": [
    "print(classification_report(y_test, y_pred, target_names=['tiene bajo poder adqusitivo','tiene alto poder adquisitivo']))"
   ]
  },
  {
   "cell_type": "markdown",
   "id": "fe28ad87",
   "metadata": {},
   "source": [
    "# Accurary "
   ]
  },
  {
   "cell_type": "code",
   "execution_count": 11,
   "id": "703ece19",
   "metadata": {},
   "outputs": [
    {
     "data": {
      "text/plain": [
       "0.8489407430150445"
      ]
     },
     "execution_count": 11,
     "metadata": {},
     "output_type": "execute_result"
    }
   ],
   "source": [
    "accuracy_score(y_test, y_pred) "
   ]
  },
  {
   "cell_type": "markdown",
   "id": "7a9030bb",
   "metadata": {},
   "source": [
    "# Precision "
   ]
  },
  {
   "cell_type": "code",
   "execution_count": 12,
   "id": "a776ee1a",
   "metadata": {},
   "outputs": [
    {
     "data": {
      "text/plain": [
       "0.7225609756097561"
      ]
     },
     "execution_count": 12,
     "metadata": {},
     "output_type": "execute_result"
    }
   ],
   "source": [
    "precision_score(y_test, y_pred)"
   ]
  },
  {
   "cell_type": "markdown",
   "id": "b82031db",
   "metadata": {},
   "source": [
    "# Recall"
   ]
  },
  {
   "cell_type": "code",
   "execution_count": 13,
   "id": "bed00a32",
   "metadata": {},
   "outputs": [
    {
     "data": {
      "text/plain": [
       "0.6045918367346939"
      ]
     },
     "execution_count": 13,
     "metadata": {},
     "output_type": "execute_result"
    }
   ],
   "source": [
    "recall_score(y_test, y_pred)"
   ]
  },
  {
   "cell_type": "markdown",
   "id": "f1fc03bf",
   "metadata": {},
   "source": [
    "# Matriz de confucion "
   ]
  },
  {
   "cell_type": "code",
   "execution_count": 14,
   "id": "fd1c98d8",
   "metadata": {},
   "outputs": [
    {
     "data": {
      "image/png": "[encoded data removed]",
      "text/plain": [
       "<Figure size 1080x504 with 2 Axes>"
      ]
     },
     "metadata": {
      "needs_background": "light"
     },
     "output_type": "display_data"
    }
   ],
   "source": [
    "from sklearn.metrics import plot_confusion_matrix\n",
    "\n",
    "fig, ax = plt.subplots(figsize=(15, 7))\n",
    "plt.grid(False)\n",
    "plot_confusion_matrix(\n",
    "    knn, X_test2, y_test2, cmap=plt.cm.Blues, display_labels=['bajo poder adquisitivo', 'alto poder adquisitivo'], ax=ax\n",
    ")\n",
    "plt.show()"
   ]
  },
  {
   "cell_type": "markdown",
   "id": "f94db1e5",
   "metadata": {},
   "source": [
    "# Curva AUC ROC"
   ]
  },
  {
   "cell_type": "code",
   "execution_count": 15,
   "id": "d98ce9fb",
   "metadata": {},
   "outputs": [],
   "source": [
    "from sklearn.metrics import roc_curve, auc, plot_roc_curve\n",
    "from sklearn.metrics import roc_auc_score"
   ]
  },
  {
   "cell_type": "code",
   "execution_count": 16,
   "id": "52b5eeab",
   "metadata": {},
   "outputs": [],
   "source": [
    "fpr, tpr, thresholds = roc_curve(y_test, knn.predict_proba(X_test2)[:,1])"
   ]
  },
  {
   "cell_type": "code",
   "execution_count": 17,
   "id": "2aab7af9",
   "metadata": {},
   "outputs": [
    {
     "data": {
      "image/png": "[encoded data removed]",
      "text/plain": [
       "<Figure size 432x288 with 1 Axes>"
      ]
     },
     "metadata": {
      "needs_background": "light"
     },
     "output_type": "display_data"
    }
   ],
   "source": [
    "plot_roc_curve(knn,X_test2,y_test2,response_method='predict_proba')\n",
    "plt.show()"
   ]
  },
  {
   "cell_type": "markdown",
   "id": "602c9a24",
   "metadata": {},
   "source": [
    "## Prediccion sobre el data set de hold out"
   ]
  },
  {
   "cell_type": "code",
   "execution_count": 18,
   "id": "e2af7834",
   "metadata": {},
   "outputs": [],
   "source": [
    "from preprocessing import prepararSetDeHoldOutKNN"
   ]
  },
  {
   "cell_type": "code",
   "execution_count": 19,
   "id": "4a272255",
   "metadata": {},
   "outputs": [],
   "source": [
    "final_df_copy = prepararSet(final_df)"
   ]
  },
  {
   "cell_type": "code",
   "execution_count": 20,
   "id": "7c303b40",
   "metadata": {},
   "outputs": [],
   "source": [
    "final_df_copy = prepararSetDeHoldOutKNN(final_df_copy, meanEncoding)"
   ]
  },
  {
   "cell_type": "code",
   "execution_count": 21,
   "id": "f69dc1fa",
   "metadata": {},
   "outputs": [],
   "source": [
    "ho_prediction = knn.predict(final_df_copy)\n",
    "final_df['tiene_alto_valor_adquisitivo'] = ho_prediction\n",
    "\n",
    "final_df.to_csv('predicciones/knn.csv')"
   ]
  },
  {
   "cell_type": "code",
   "execution_count": null,
   "id": "d7e09b08",
   "metadata": {},
   "outputs": [],
   "source": []
  },
  {
   "cell_type": "code",
   "execution_count": null,
   "id": "ff1d420d",
   "metadata": {},
   "outputs": [],
   "source": []
  }
 ],
 "metadata": {
  "kernelspec": {
   "display_name": "Python 3",
   "language": "python",
   "name": "python3"
  },
  "language_info": {
   "codemirror_mode": {
    "name": "ipython",
    "version": 3
   },
   "file_extension": ".py",
   "mimetype": "text/x-python",
   "name": "python",
   "nbconvert_exporter": "python",
   "pygments_lexer": "ipython3",
   "version": "3.8.10"
  }
 },
 "nbformat": 4,
 "nbformat_minor": 5
}
