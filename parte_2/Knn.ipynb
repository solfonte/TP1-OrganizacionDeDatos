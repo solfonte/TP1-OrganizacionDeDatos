{
 "cells": [
  {
   "cell_type": "markdown",
   "id": "87ed2049",
   "metadata": {},
   "source": [
    "## KNN (Vecino mas cercano)"
   ]
  },
  {
   "cell_type": "markdown",
   "id": "40deb7b1",
   "metadata": {},
   "source": [
    "Es un metodo de aprendisaje supervisado cuya funcionalidad es buscas en los datos mas cercanos de la que se estar trantando predecir y luego clasificarla basado en los datos que la rodean"
   ]
  },
  {
   "cell_type": "markdown",
   "id": "a59d0bef",
   "metadata": {},
   "source": [
    "En este notebook vas a entrenar un modelo KNN"
   ]
  },
  {
   "cell_type": "code",
   "execution_count": 1,
   "id": "ea663569",
   "metadata": {},
   "outputs": [],
   "source": [
    "import numpy as np\n",
    "import pandas as pd\n",
    "import seaborn as sns\n",
    "from sklearn import preprocessing\n",
    "import matplotlib.pyplot as plt\n",
    "\n",
    "from preprocessing import cargarDatasets\n",
    "from preprocessing import prepararSet\n",
    "from preprocessing import ingenieriaDeFeaturesVariablesNormalizadas\n",
    "from preprocessing import ingenieriaDeFeauturesVariablesNormalizadasME\n",
    "\n",
    "from sklearn.metrics import classification_report\n",
    "from sklearn.metrics import accuracy_score, roc_auc_score\n",
    "from sklearn.model_selection import train_test_split,KFold, StratifiedKFold\n",
    "from sklearn.neighbors import KNeighborsClassifier\n",
    "from sklearn.metrics import accuracy_score, roc_auc_score, precision_score, recall_score\n",
    "from sklearn.model_selection import GridSearchCV"
   ]
  },
  {
   "cell_type": "markdown",
   "id": "b66b8f9c",
   "metadata": {},
   "source": [
    "## Carga y preprosesamiento de datos"
   ]
  },
  {
   "cell_type": "code",
   "execution_count": 2,
   "id": "e500e431",
   "metadata": {},
   "outputs": [],
   "source": [
    "train_df,final_df = cargarDatasets()\n",
    "train_df = prepararSet(train_df)"
   ]
  },
  {
   "cell_type": "markdown",
   "id": "5bf56fb0",
   "metadata": {},
   "source": [
    "ahora que ya tenemos los datasets cargados vamos a ir aplicacion preprocesamientos al dateset de entrenamiento."
   ]
  },
  {
   "cell_type": "code",
   "execution_count": 3,
   "id": "fb188e8f",
   "metadata": {},
   "outputs": [],
   "source": [
    "X,y,df,y_encoder = ingenieriaDeFeaturesVariablesNormalizadas(train_df)\n",
    "\n",
    "X_train, X_test, y_train, y_test = train_test_split(X, y, random_state=117, test_size=0.1, stratify=y)"
   ]
  },
  {
   "cell_type": "code",
   "execution_count": 4,
   "id": "0976b2f7",
   "metadata": {},
   "outputs": [],
   "source": [
    "X2,y2,df2,y_encoder2, meanEncoding = ingenieriaDeFeauturesVariablesNormalizadasME(train_df)\n",
    "\n",
    "X_train2, X_test2, y_train2, y_test2 = train_test_split(X2, y2, random_state=117, test_size=0.1, stratify=y2)"
   ]
  },
  {
   "cell_type": "markdown",
   "id": "eedd93fb",
   "metadata": {},
   "source": [
    "Para la busqueda de hiperametros tenemos en cuenta:\n",
    "   *  k: la cantidad de vecinos que se va a tener en una instancia.\n",
    "   *  peso: lo que se le da a la distancia entre los puntos.\n",
    "   *  metrica    "
   ]
  },
  {
   "cell_type": "code",
   "execution_count": 5,
   "id": "92d84f32",
   "metadata": {},
   "outputs": [],
   "source": [
    "def hallarMejoresHiperparametros(Xtrain, ytrain, Xtest, ytest):\n",
    "    mejor_puntaje = 0\n",
    "    mejor_k = -1\n",
    "    mejor_distancia = None\n",
    "    mejor_metrica = None\n",
    "    for tipo_distancias in ['uniform', 'distance']:\n",
    "        for metrica in ['minkowski','cosine','manhattan','euclidean']:\n",
    "            for k in range(1, 30):\n",
    "                knn = KNeighborsClassifier(n_neighbors = k,  weights=tipo_distancias, metric = metrica)\n",
    "                knn.fit(Xtrain, ytrain)\n",
    "                puntaje = knn.score(Xtest, ytest)\n",
    "\n",
    "                if puntaje > mejor_puntaje:\n",
    "                    mejor_k = k\n",
    "                    mejor_puntaje = puntaje\n",
    "                    mejor_distancia = tipo_distancias\n",
    "                    mejor_metrica = metrica\n",
    "    print(\" mejor puntaje: \", mejor_puntaje)\n",
    "    print(\" mejor k: \", mejor_k)\n",
    "    print(\"mejor distancia: \", mejor_distancia)\n",
    "    print(\"mejor metrica: \", mejor_metrica)\n",
    "    return mejor_puntaje, mejor_k, mejor_distancia, mejor_metrica\n",
    "\n",
    "    "
   ]
  },
  {
   "cell_type": "markdown",
   "id": "62e24bb9",
   "metadata": {},
   "source": [
    "primer preprocesamiento"
   ]
  },
  {
   "cell_type": "code",
   "execution_count": null,
   "id": "210dcf50",
   "metadata": {},
   "outputs": [],
   "source": [
    "mejor_valor, mejor_k, mejor_distancia, mejor_metrica = hallarMejoresHiperparametros(X_train, y_train, X_test, y_test)"
   ]
  },
  {
   "cell_type": "markdown",
   "id": "bd197b52",
   "metadata": {},
   "source": [
    "segundo preprocesamiento "
   ]
  },
  {
   "cell_type": "code",
   "execution_count": null,
   "id": "167a218d",
   "metadata": {},
   "outputs": [],
   "source": [
    "mejor_valor2, mejor_k2, mejor_distancia2, mejor_metrica2 = hallarMejoresHiperparametros(X_train2, y_train2, X_test2, y_test2)"
   ]
  },
  {
   "cell_type": "markdown",
   "id": "6aafd171",
   "metadata": {},
   "source": [
    "dio mejor el segundo preprocesamiento, vamos a utilizar este para plantear el modelo final "
   ]
  },
  {
   "cell_type": "markdown",
   "id": "6b1da348",
   "metadata": {},
   "source": [
    "# Modelo KNN Final\n",
    "una vez hallados los hiperparametros, vamos a entrenar un modelo definitivo con estos mismo. "
   ]
  },
  {
   "cell_type": "code",
   "execution_count": null,
   "id": "195a579d",
   "metadata": {},
   "outputs": [],
   "source": [
    "knn = KNeighborsClassifier(n_neighbors = 21, weights = 'distance', metric = 'minkowski')\n",
    "knn.fit(X_train2, y_train2)"
   ]
  },
  {
   "cell_type": "markdown",
   "id": "838e6e48",
   "metadata": {},
   "source": [
    "## Analisis de Metricas"
   ]
  },
  {
   "cell_type": "code",
   "execution_count": null,
   "id": "e5c2095e",
   "metadata": {},
   "outputs": [],
   "source": [
    "y_pred = knn.predict(X_test2)"
   ]
  },
  {
   "cell_type": "markdown",
   "id": "633067e9",
   "metadata": {},
   "source": [
    "# Precision, Recall, Acurracy"
   ]
  },
  {
   "cell_type": "code",
   "execution_count": null,
   "id": "b02748ee",
   "metadata": {},
   "outputs": [],
   "source": [
    "print(classification_report(y_test, y_pred, target_names=['tiene bajo poder adqusitivo','tiene alto poder adquisitivo']))"
   ]
  },
  {
   "cell_type": "markdown",
   "id": "8ae6ef67",
   "metadata": {},
   "source": [
    "# Accurary "
   ]
  },
  {
   "cell_type": "code",
   "execution_count": null,
   "id": "530c158a",
   "metadata": {},
   "outputs": [],
   "source": [
    "accuracy_score(y_test, y_pred) "
   ]
  },
  {
   "cell_type": "markdown",
   "id": "96e7f88b",
   "metadata": {},
   "source": [
    "# Precision "
   ]
  },
  {
   "cell_type": "code",
   "execution_count": null,
   "id": "3dbec294",
   "metadata": {},
   "outputs": [],
   "source": [
    "precision_score(y_test, y_pred)"
   ]
  },
  {
   "cell_type": "markdown",
   "id": "f4f82443",
   "metadata": {},
   "source": [
    "# Recall"
   ]
  },
  {
   "cell_type": "code",
   "execution_count": null,
   "id": "6c952f76",
   "metadata": {},
   "outputs": [],
   "source": [
    "recall_score(y_test, y_pred)"
   ]
  },
  {
   "cell_type": "markdown",
   "id": "0a011139",
   "metadata": {},
   "source": [
    "# Matriz de confucion "
   ]
  },
  {
   "cell_type": "code",
   "execution_count": null,
   "id": "55f0e665",
   "metadata": {},
   "outputs": [],
   "source": [
    "from sklearn.metrics import plot_confusion_matrix\n",
    "\n",
    "fig, ax = plt.subplots(figsize=(15, 7))\n",
    "plt.grid(False)\n",
    "plot_confusion_matrix(\n",
    "    knn, X_test2, y_test2, cmap=plt.cm.Blues, display_labels=['bajo poder adquisitivo', 'alto poder adquisitivo'], ax=ax\n",
    ")\n",
    "plt.show()"
   ]
  },
  {
   "cell_type": "markdown",
   "id": "b382a023",
   "metadata": {},
   "source": [
    "# Curva AUC ROC"
   ]
  },
  {
   "cell_type": "code",
   "execution_count": null,
   "id": "78ee6ef2",
   "metadata": {},
   "outputs": [],
   "source": [
    "from sklearn.metrics import roc_curve, auc, plot_roc_curve\n",
    "from sklearn.metrics import roc_auc_score"
   ]
  },
  {
   "cell_type": "code",
   "execution_count": null,
   "id": "7d7e5b62",
   "metadata": {},
   "outputs": [],
   "source": [
    "fpr, tpr, thresholds = roc_curve(y_test, knn.predict_proba(X_test2)[:,1])"
   ]
  },
  {
   "cell_type": "code",
   "execution_count": null,
   "id": "e5541055",
   "metadata": {},
   "outputs": [],
   "source": [
    "plot_roc_curve(knn,X_test2,y_test2,response_method='predict_proba')\n",
    "plt.show()"
   ]
  },
  {
   "cell_type": "markdown",
   "id": "b109ac90",
   "metadata": {},
   "source": [
    "## Prediccion sobre el data set de hold out"
   ]
  },
  {
   "cell_type": "code",
   "execution_count": null,
   "id": "e5f6831d",
   "metadata": {},
   "outputs": [],
   "source": [
    "from preprocessing import prepararSetDeHoldOutKNN\n",
    "from preprocessing import prepararHoldOut"
   ]
  },
  {
   "cell_type": "code",
   "execution_count": null,
   "id": "a6297013",
   "metadata": {},
   "outputs": [],
   "source": [
    "final_df_copy = prepararSet(final_df)"
   ]
  },
  {
   "cell_type": "code",
   "execution_count": null,
   "id": "804466a8",
   "metadata": {},
   "outputs": [],
   "source": [
    "final_df_copy = prepararSetDeHoldOutKNN(final_df_copy, meanEncoding)"
   ]
  },
  {
   "cell_type": "code",
   "execution_count": null,
   "id": "ba84a554",
   "metadata": {},
   "outputs": [],
   "source": [
    "ho_prediction = knn.predict(final_df_copy)\n",
    "final_df['tiene_alto_valor_adquisitivo'] = ho_prediction\n",
    "\n",
    "final_df.to_csv('predicciones/knn.csv')"
   ]
  },
  {
   "cell_type": "code",
   "execution_count": null,
   "id": "7e05aa86",
   "metadata": {},
   "outputs": [],
   "source": []
  },
  {
   "cell_type": "code",
   "execution_count": null,
   "id": "7a711158",
   "metadata": {},
   "outputs": [],
   "source": []
  },
  {
   "cell_type": "code",
   "execution_count": null,
   "id": "56484f32",
   "metadata": {},
   "outputs": [],
   "source": []
  }
 ],
 "metadata": {
  "kernelspec": {
   "display_name": "Python 3",
   "language": "python",
   "name": "python3"
  },
  "language_info": {
   "codemirror_mode": {
    "name": "ipython",
    "version": 3
   },
   "file_extension": ".py",
   "mimetype": "text/x-python",
   "name": "python",
   "nbconvert_exporter": "python",
   "pygments_lexer": "ipython3",
   "version": "3.8.10"
  }
 },
 "nbformat": 4,
 "nbformat_minor": 5
}
