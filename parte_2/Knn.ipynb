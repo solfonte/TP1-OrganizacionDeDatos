{
 "cells": [
  {
   "cell_type": "markdown",
   "id": "1955130d-eeb9-40a3-bbb5-e61462330b62",
   "metadata": {},
   "source": [
    "## KNN (Vecino mas cercano)"
   ]
  },
  {
   "cell_type": "markdown",
   "id": "03981531-6afa-4d67-8eb1-f10b1e158f3c",
   "metadata": {},
   "source": [
    "Es un metodo de aprendisaje supervisado cuya funcionalidad es buscas en los datos mas cercanos de la que se estar trantando predecir y luego clasificarla basado en los datos que la rodean"
   ]
  },
  {
   "cell_type": "markdown",
   "id": "65021459-8cd5-4382-9433-30114ee9810c",
   "metadata": {},
   "source": [
    "En este notebook vas a entrenar un modelo KNN"
   ]
  },
  {
   "cell_type": "code",
   "execution_count": 1,
   "id": "65fbac37-593d-4510-a0c4-9d8a1cd678bf",
   "metadata": {},
   "outputs": [],
   "source": [
    "import numpy as np\n",
    "import pandas as pd\n",
    "import seaborn as sns\n",
    "from sklearn import preprocessing\n",
    "import matplotlib.pyplot as plt\n",
    "\n",
    "from preprocessing import cargarDatasets\n",
    "from preprocessing import prepararSetDeEntrenamiento\n",
    "from preprocessing import ingenieriaDeFeaturesKnn\n",
    "from preprocessing import ingenieriaDeFeaturesKnn2\n",
    "\n",
    "from sklearn.metrics import classification_report\n",
    "from sklearn.metrics import accuracy_score, roc_auc_score\n",
    "from sklearn.model_selection import train_test_split,KFold, StratifiedKFold\n",
    "from sklearn.neighbors import KNeighborsClassifier\n",
    "from sklearn.metrics import accuracy_score, roc_auc_score, precision_score, recall_score\n",
    "from sklearn.model_selection import GridSearchCV"
   ]
  },
  {
   "cell_type": "markdown",
   "id": "6b97d8ff-4672-4da0-bd32-5bc501c221de",
   "metadata": {},
   "source": [
    "## Carga y preprosesamiento de datos"
   ]
  },
  {
   "cell_type": "code",
   "execution_count": 11,
   "id": "3911139a-7c47-4768-8c48-cad63689adb8",
   "metadata": {},
   "outputs": [],
   "source": [
    "train_df,final_df = cargarDatasets()\n",
    "train_df = prepararSetDeEntrenamiento(train_df)"
   ]
  },
  {
   "cell_type": "markdown",
   "id": "53d196e8-db75-4782-8e05-9fb55799b86c",
   "metadata": {},
   "source": [
    "ahora que ya tenemos los datasets cargados vamos a ir aplicacion preprocesamientos al dateset de entrenamiento."
   ]
  },
  {
   "cell_type": "code",
   "execution_count": 3,
   "id": "2d263aec-6ddb-4d21-838b-6f260de18c64",
   "metadata": {},
   "outputs": [],
   "source": [
    "X,y,df,y_encoder = ingenieriaDeFeaturesKnn(train_df)\n",
    "\n",
    "X_train, X_test, y_train, y_test = train_test_split(X, y, random_state=117, test_size=0.1, stratify=y)"
   ]
  },
  {
   "cell_type": "code",
   "execution_count": 12,
   "id": "08988a5c-98dd-4336-89e2-94caa17af8c3",
   "metadata": {},
   "outputs": [],
   "source": [
    "X2,y2,df2,y_encoder2, meanEncoding = ingenieriaDeFeaturesKnn2(train_df)\n",
    "\n",
    "X_train2, X_test2, y_train2, y_test2 = train_test_split(X2, y2, random_state=117, test_size=0.1, stratify=y2)"
   ]
  },
  {
   "cell_type": "markdown",
   "id": "d3854d83-3468-43e3-9b7c-a6672e6fe08b",
   "metadata": {},
   "source": [
    "Para la busqueda de hiperametros tenemos en cuenta:\n",
    "   *  k: la cantidad de vecinos que se va a tener en una instancia.\n",
    "   *  peso: lo que se le da a la distancia entre los puntos.\n",
    "   *  metrica    "
   ]
  },
  {
   "cell_type": "code",
   "execution_count": 8,
   "id": "ba9635d1-4189-4346-8315-e36057a103bb",
   "metadata": {},
   "outputs": [],
   "source": [
    "def hallarMejoresHiperparametros(Xtrain, ytrain, Xtest, ytest):\n",
    "    mejor_puntaje = 0\n",
    "    mejor_k = -1\n",
    "    mejor_distancia = None\n",
    "    mejor_metrica = None\n",
    "    for tipo_distancias in ['uniform', 'distance']:\n",
    "        for metrica in ['minkowski','cosine','manhattan','euclidean']:\n",
    "            for k in range(1, 30):\n",
    "                knn = KNeighborsClassifier(n_neighbors = k,  weights=tipo_distancias, metric = metrica)\n",
    "                knn.fit(Xtrain, ytrain)\n",
    "                puntaje = knn.score(Xtest, ytest)\n",
    "\n",
    "                if puntaje > mejor_puntaje:\n",
    "                    mejor_k = k\n",
    "                    mejor_puntaje = puntaje\n",
    "                    mejor_distancia = tipo_distancias\n",
    "                    mejor_metrica = metrica\n",
    "    print(\" mejor puntaje: \", mejor_puntaje)\n",
    "    print(\" mejor k: \", mejor_k)\n",
    "    print(\"mejor distancia: \", mejor_distancia)\n",
    "    print(\"mejor metrica: \", mejor_metrica)\n",
    "    return mejor_puntaje, mejor_k, mejor_distancia, mejor_metrica\n",
    "\n",
    "    "
   ]
  },
  {
   "cell_type": "markdown",
   "id": "f63c16c7-c6b7-4213-8f6e-1ad78abe271c",
   "metadata": {},
   "source": [
    "primer preproseamiento"
   ]
  },
  {
   "cell_type": "code",
   "execution_count": 9,
   "id": "7f0b228a-5f46-4f24-9c40-29295677ea82",
   "metadata": {},
   "outputs": [
    {
     "name": "stdout",
     "output_type": "stream",
     "text": [
      " mejor puntaje:  0.8415719987718759\n",
      " mejor k:  24\n",
      "mejor distancia:  distance\n",
      "mejor metrica:  minkowski\n"
     ]
    }
   ],
   "source": [
    "mejor_valor, mejor_k, mejor_distancia, mejor_metrica = hallarMejoresHiperparametros(X_train, y_train, X_test, y_test)"
   ]
  },
  {
   "cell_type": "markdown",
   "id": "6bfe1f59-6442-40fa-8398-e5122c6ffe47",
   "metadata": {},
   "source": [
    "segundo preproseamiento "
   ]
  },
  {
   "cell_type": "code",
   "execution_count": 10,
   "id": "652de61b-9fcc-4d7c-bd49-abd5337fbeac",
   "metadata": {},
   "outputs": [
    {
     "name": "stdout",
     "output_type": "stream",
     "text": [
      " mejor puntaje:  0.8489407430150445\n",
      " mejor k:  21\n",
      "mejor distancia:  distance\n",
      "mejor metrica:  minkowski\n"
     ]
    }
   ],
   "source": [
    "mejor_valor2, mejor_k2, mejor_distancia2, mejor_metrica2 = hallarMejoresHiperparametros(X_train2, y_train2, X_test2, y_test2)"
   ]
  },
  {
   "cell_type": "code",
   "execution_count": null,
   "id": "4ef5156d-f90c-4295-8418-76f036f74925",
   "metadata": {},
   "outputs": [],
   "source": [
    "dio mejor el segundo preprosamiento, vamos a utilizar este para plantear el modelo final "
   ]
  },
  {
   "cell_type": "markdown",
   "id": "f6de2282-061f-4875-9875-40482b1a0e1f",
   "metadata": {},
   "source": [
    "# Modelo KNN Final\n",
    "una vez hallados los hiperparametros, vamos a entrenar un modelo defnitiv con estos mismo. "
   ]
  },
  {
   "cell_type": "code",
   "execution_count": 13,
   "id": "7753c51e-5447-4320-8205-b0f7f8ccd11f",
   "metadata": {},
   "outputs": [
    {
     "data": {
      "text/plain": [
       "KNeighborsClassifier(n_neighbors=21, weights='distance')"
      ]
     },
     "execution_count": 13,
     "metadata": {},
     "output_type": "execute_result"
    }
   ],
   "source": [
    "knn = KNeighborsClassifier(n_neighbors = 21, weights = 'distance', metric = 'minkowski')\n",
    "knn.fit(X_train2, y_train2)"
   ]
  },
  {
   "cell_type": "markdown",
   "id": "a37c73d3-3ae8-4243-9950-46edae7cf5a5",
   "metadata": {},
   "source": [
    "## Analisis de Metricas"
   ]
  },
  {
   "cell_type": "code",
   "execution_count": null,
   "id": "b157a96b-a552-4452-8bda-7552e66d216a",
   "metadata": {},
   "outputs": [],
   "source": [
    "y_pred = knn.predict(X_test2)"
   ]
  },
  {
   "cell_type": "markdown",
   "id": "c192588a-bb4d-45a7-8da8-eb1a68fce890",
   "metadata": {},
   "source": [
    "# Precision, Recall, Acurracy"
   ]
  },
  {
   "cell_type": "code",
   "execution_count": 15,
   "id": "9bcf53df-714e-43b4-9f4d-48a9296b7db8",
   "metadata": {},
   "outputs": [
    {
     "name": "stdout",
     "output_type": "stream",
     "text": [
      "                              precision    recall  f1-score   support\n",
      "\n",
      " tiene bajo poder adqusitivo       0.88      0.93      0.90      2473\n",
      "tiene alto poder adquisitivo       0.72      0.60      0.66       784\n",
      "\n",
      "                    accuracy                           0.85      3257\n",
      "                   macro avg       0.80      0.77      0.78      3257\n",
      "                weighted avg       0.84      0.85      0.84      3257\n",
      "\n"
     ]
    }
   ],
   "source": [
    "print(classification_report(y_test, y_pred, target_names=['tiene bajo poder adqusitivo','tiene alto poder adquisitivo']))"
   ]
  },
  {
   "cell_type": "markdown",
   "id": "6dff435e-4432-4126-9760-711ac38f01e9",
   "metadata": {},
   "source": [
    "# Accurary "
   ]
  },
  {
   "cell_type": "code",
   "execution_count": 16,
   "id": "3861bf7d-0eb4-48fd-9afe-6465f66f9e19",
   "metadata": {},
   "outputs": [
    {
     "data": {
      "text/plain": [
       "0.8489407430150445"
      ]
     },
     "execution_count": 16,
     "metadata": {},
     "output_type": "execute_result"
    }
   ],
   "source": [
    "accuracy_score(y_test, y_pred) "
   ]
  },
  {
   "cell_type": "markdown",
   "id": "53e8ba92-514c-40e6-96e8-1de3598e5cdf",
   "metadata": {},
   "source": [
    "# Precision "
   ]
  },
  {
   "cell_type": "code",
   "execution_count": 17,
   "id": "7ad72621-95bb-4af9-9288-9401885b7648",
   "metadata": {},
   "outputs": [
    {
     "data": {
      "text/plain": [
       "0.7225609756097561"
      ]
     },
     "execution_count": 17,
     "metadata": {},
     "output_type": "execute_result"
    }
   ],
   "source": [
    "precision_score(y_test, y_pred)"
   ]
  },
  {
   "cell_type": "markdown",
   "id": "6fde85a0-9218-49cc-a5f3-7209bab67c86",
   "metadata": {},
   "source": [
    "# Recall"
   ]
  },
  {
   "cell_type": "code",
   "execution_count": 18,
   "id": "cf8f0f53-2ea8-4775-b955-9396b19aa608",
   "metadata": {},
   "outputs": [
    {
     "data": {
      "text/plain": [
       "0.6045918367346939"
      ]
     },
     "execution_count": 18,
     "metadata": {},
     "output_type": "execute_result"
    }
   ],
   "source": [
    "recall_score(y_test, y_pred)"
   ]
  },
  {
   "cell_type": "markdown",
   "id": "82ba7150-3160-4a7f-8dfd-0fca460db8cb",
   "metadata": {},
   "source": [
    "# Matriz de confucion "
   ]
  },
  {
   "cell_type": "code",
   "execution_count": 21,
   "id": "1e4b49cf-08d4-4483-b316-5b4a43462cb0",
   "metadata": {},
   "outputs": [
    {
     "data": {
      "image/png": "[encoded data removed]",
      "text/plain": [
       "<Figure size 1080x504 with 2 Axes>"
      ]
     },
     "metadata": {
      "needs_background": "light"
     },
     "output_type": "display_data"
    }
   ],
   "source": [
    "from sklearn.metrics import plot_confusion_matrix\n",
    "\n",
    "fig, ax = plt.subplots(figsize=(15, 7))\n",
    "plt.grid(False)\n",
    "plot_confusion_matrix(\n",
    "    knn, X_test2, y_test2, cmap=plt.cm.Blues, display_labels=['bajo poder adquisitivo', 'alto poder adquisitivo'], ax=ax\n",
    ")\n",
    "plt.show()"
   ]
  },
  {
   "cell_type": "markdown",
   "id": "9fd81fef-3a22-45d4-9cf7-2ae14608e868",
   "metadata": {},
   "source": [
    "# Curva AUC ROC"
   ]
  },
  {
   "cell_type": "code",
   "execution_count": 22,
   "id": "d1fa2f90-6659-4a62-ad7d-336ac7acf882",
   "metadata": {},
   "outputs": [],
   "source": [
    "from sklearn.metrics import roc_curve, auc, plot_roc_curve\n",
    "from sklearn.metrics import roc_auc_score"
   ]
  },
  {
   "cell_type": "code",
   "execution_count": 24,
   "id": "ff81cb4c-2dcd-46bf-b0d2-4f92836d6ef8",
   "metadata": {},
   "outputs": [],
   "source": [
    "fpr, tpr, thresholds = roc_curve(y_test, knn.predict_proba(X_test2)[:,1])"
   ]
  },
  {
   "cell_type": "code",
   "execution_count": 26,
   "id": "fbc409fe-7992-47c4-8e6b-123dbbb72ede",
   "metadata": {},
   "outputs": [
    {
     "data": {
      "image/png": "[encoded data removed]",
      "text/plain": [
       "<Figure size 432x288 with 1 Axes>"
      ]
     },
     "metadata": {
      "needs_background": "light"
     },
     "output_type": "display_data"
    }
   ],
   "source": [
    "plot_roc_curve(knn,X_test2,y_test2,response_method='predict_proba')\n",
    "plt.show()"
   ]
  },
  {
   "cell_type": "markdown",
   "id": "ef6a29c5-0164-443c-adbe-4e736003a028",
   "metadata": {},
   "source": [
    "## Prediccion sobre el data set de hold out"
   ]
  },
  {
   "cell_type": "code",
   "execution_count": 14,
   "id": "55524fcd-121b-48e0-9957-23327afacff9",
   "metadata": {},
   "outputs": [],
   "source": [
    "from preprocessing import prepararSetDeHoldOutKNN\n",
    "from preprocessing import prepararHoldOut"
   ]
  },
  {
   "cell_type": "code",
   "execution_count": 37,
   "id": "4845fedc-78e9-4086-9335-a7e1cfb31d76",
   "metadata": {},
   "outputs": [
    {
     "data": {
      "text/html": [
       "<div>\n",
       "<style scoped>\n",
       "    .dataframe tbody tr th:only-of-type {\n",
       "        vertical-align: middle;\n",
       "    }\n",
       "\n",
       "    .dataframe tbody tr th {\n",
       "        vertical-align: top;\n",
       "    }\n",
       "\n",
       "    .dataframe thead th {\n",
       "        text-align: right;\n",
       "    }\n",
       "</style>\n",
       "<table border=\"1\" class=\"dataframe\">\n",
       "  <thead>\n",
       "    <tr style=\"text-align: right;\">\n",
       "      <th></th>\n",
       "      <th>id</th>\n",
       "      <th>anios_estudiados</th>\n",
       "      <th>categoria_de_trabajo</th>\n",
       "      <th>estado_marital</th>\n",
       "      <th>ganancia_perdida_declarada_bolsa_argentina</th>\n",
       "      <th>genero</th>\n",
       "      <th>representatividad_poblacional</th>\n",
       "      <th>rol_familiar_registrado</th>\n",
       "      <th>trabajo</th>\n",
       "      <th>educacion_alcanzada_encoded</th>\n",
       "    </tr>\n",
       "  </thead>\n",
       "  <tbody>\n",
       "    <tr>\n",
       "      <th>0</th>\n",
       "      <td>-1.731891</td>\n",
       "      <td>-1.142154</td>\n",
       "      <td>-0.289179</td>\n",
       "      <td>-1.007777</td>\n",
       "      <td>-0.130667</td>\n",
       "      <td>0.706499</td>\n",
       "      <td>0.353463</td>\n",
       "      <td>-1.166293</td>\n",
       "      <td>-0.766863</td>\n",
       "      <td>-0.767844</td>\n",
       "    </tr>\n",
       "    <tr>\n",
       "      <th>1</th>\n",
       "      <td>-1.731678</td>\n",
       "      <td>-0.391855</td>\n",
       "      <td>-0.289179</td>\n",
       "      <td>1.088122</td>\n",
       "      <td>-0.130667</td>\n",
       "      <td>0.706499</td>\n",
       "      <td>-0.942362</td>\n",
       "      <td>1.084054</td>\n",
       "      <td>-0.827948</td>\n",
       "      <td>0.371743</td>\n",
       "    </tr>\n",
       "    <tr>\n",
       "      <th>2</th>\n",
       "      <td>-1.731466</td>\n",
       "      <td>0.733593</td>\n",
       "      <td>0.689978</td>\n",
       "      <td>1.088122</td>\n",
       "      <td>-0.130667</td>\n",
       "      <td>0.706499</td>\n",
       "      <td>1.395407</td>\n",
       "      <td>1.084054</td>\n",
       "      <td>0.565416</td>\n",
       "      <td>-0.767844</td>\n",
       "    </tr>\n",
       "    <tr>\n",
       "      <th>3</th>\n",
       "      <td>-1.731253</td>\n",
       "      <td>-0.016706</td>\n",
       "      <td>-0.289179</td>\n",
       "      <td>1.088122</td>\n",
       "      <td>0.879960</td>\n",
       "      <td>0.706499</td>\n",
       "      <td>-0.275389</td>\n",
       "      <td>1.084054</td>\n",
       "      <td>-0.766863</td>\n",
       "      <td>0.941537</td>\n",
       "    </tr>\n",
       "    <tr>\n",
       "      <th>4</th>\n",
       "      <td>-1.731040</td>\n",
       "      <td>-0.016706</td>\n",
       "      <td>-1.763877</td>\n",
       "      <td>-1.007777</td>\n",
       "      <td>-0.130667</td>\n",
       "      <td>-1.415344</td>\n",
       "      <td>-0.812929</td>\n",
       "      <td>-1.166293</td>\n",
       "      <td>-0.908179</td>\n",
       "      <td>0.941537</td>\n",
       "    </tr>\n",
       "  </tbody>\n",
       "</table>\n",
       "</div>"
      ],
      "text/plain": [
       "         id  anios_estudiados  categoria_de_trabajo  estado_marital  \\\n",
       "0 -1.731891         -1.142154             -0.289179       -1.007777   \n",
       "1 -1.731678         -0.391855             -0.289179        1.088122   \n",
       "2 -1.731466          0.733593              0.689978        1.088122   \n",
       "3 -1.731253         -0.016706             -0.289179        1.088122   \n",
       "4 -1.731040         -0.016706             -1.763877       -1.007777   \n",
       "\n",
       "   ganancia_perdida_declarada_bolsa_argentina    genero  \\\n",
       "0                                   -0.130667  0.706499   \n",
       "1                                   -0.130667  0.706499   \n",
       "2                                   -0.130667  0.706499   \n",
       "3                                    0.879960  0.706499   \n",
       "4                                   -0.130667 -1.415344   \n",
       "\n",
       "   representatividad_poblacional  rol_familiar_registrado   trabajo  \\\n",
       "0                       0.353463                -1.166293 -0.766863   \n",
       "1                      -0.942362                 1.084054 -0.827948   \n",
       "2                       1.395407                 1.084054  0.565416   \n",
       "3                      -0.275389                 1.084054 -0.766863   \n",
       "4                      -0.812929                -1.166293 -0.908179   \n",
       "\n",
       "   educacion_alcanzada_encoded  \n",
       "0                    -0.767844  \n",
       "1                     0.371743  \n",
       "2                    -0.767844  \n",
       "3                     0.941537  \n",
       "4                     0.941537  "
      ]
     },
     "execution_count": 37,
     "metadata": {},
     "output_type": "execute_result"
    }
   ],
   "source": [
    "final_df.head()"
   ]
  },
  {
   "cell_type": "code",
   "execution_count": 39,
   "id": "761104da-ce0f-41c9-8987-852308a2f164",
   "metadata": {},
   "outputs": [
    {
     "data": {
      "text/html": [
       "<div>\n",
       "<style scoped>\n",
       "    .dataframe tbody tr th:only-of-type {\n",
       "        vertical-align: middle;\n",
       "    }\n",
       "\n",
       "    .dataframe tbody tr th {\n",
       "        vertical-align: top;\n",
       "    }\n",
       "\n",
       "    .dataframe thead th {\n",
       "        text-align: right;\n",
       "    }\n",
       "</style>\n",
       "<table border=\"1\" class=\"dataframe\">\n",
       "  <thead>\n",
       "    <tr style=\"text-align: right;\">\n",
       "      <th></th>\n",
       "      <th>anios_estudiados</th>\n",
       "      <th>categoria_de_trabajo</th>\n",
       "      <th>estado_marital</th>\n",
       "      <th>ganancia_perdida_declarada_bolsa_argentina</th>\n",
       "      <th>genero</th>\n",
       "      <th>rol_familiar_registrado</th>\n",
       "      <th>trabajo</th>\n",
       "      <th>educacion_alcanzada_encoded</th>\n",
       "    </tr>\n",
       "  </thead>\n",
       "  <tbody>\n",
       "    <tr>\n",
       "      <th>29580</th>\n",
       "      <td>0.355090</td>\n",
       "      <td>-0.288893</td>\n",
       "      <td>-1.018542</td>\n",
       "      <td>-0.133668</td>\n",
       "      <td>0.703061</td>\n",
       "      <td>-1.047170</td>\n",
       "      <td>-0.094169</td>\n",
       "      <td>-1.311776</td>\n",
       "    </tr>\n",
       "    <tr>\n",
       "      <th>7359</th>\n",
       "      <td>1.481010</td>\n",
       "      <td>0.704496</td>\n",
       "      <td>1.077036</td>\n",
       "      <td>-0.133668</td>\n",
       "      <td>0.703061</td>\n",
       "      <td>1.071243</td>\n",
       "      <td>1.383893</td>\n",
       "      <td>0.370689</td>\n",
       "    </tr>\n",
       "    <tr>\n",
       "      <th>30739</th>\n",
       "      <td>1.105703</td>\n",
       "      <td>-0.288893</td>\n",
       "      <td>-0.714059</td>\n",
       "      <td>-0.133668</td>\n",
       "      <td>-1.422309</td>\n",
       "      <td>-0.710199</td>\n",
       "      <td>1.383893</td>\n",
       "      <td>-0.190133</td>\n",
       "    </tr>\n",
       "    <tr>\n",
       "      <th>23107</th>\n",
       "      <td>-0.395524</td>\n",
       "      <td>-0.288893</td>\n",
       "      <td>-0.714059</td>\n",
       "      <td>-0.133668</td>\n",
       "      <td>-1.422309</td>\n",
       "      <td>-0.710199</td>\n",
       "      <td>-1.324125</td>\n",
       "      <td>0.370689</td>\n",
       "    </tr>\n",
       "    <tr>\n",
       "      <th>14357</th>\n",
       "      <td>1.105703</td>\n",
       "      <td>-0.288893</td>\n",
       "      <td>-1.018542</td>\n",
       "      <td>-0.133668</td>\n",
       "      <td>0.703061</td>\n",
       "      <td>-0.710199</td>\n",
       "      <td>-0.831537</td>\n",
       "      <td>-0.190133</td>\n",
       "    </tr>\n",
       "  </tbody>\n",
       "</table>\n",
       "</div>"
      ],
      "text/plain": [
       "       anios_estudiados  categoria_de_trabajo  estado_marital  \\\n",
       "29580          0.355090             -0.288893       -1.018542   \n",
       "7359           1.481010              0.704496        1.077036   \n",
       "30739          1.105703             -0.288893       -0.714059   \n",
       "23107         -0.395524             -0.288893       -0.714059   \n",
       "14357          1.105703             -0.288893       -1.018542   \n",
       "\n",
       "       ganancia_perdida_declarada_bolsa_argentina    genero  \\\n",
       "29580                                   -0.133668  0.703061   \n",
       "7359                                    -0.133668  0.703061   \n",
       "30739                                   -0.133668 -1.422309   \n",
       "23107                                   -0.133668 -1.422309   \n",
       "14357                                   -0.133668  0.703061   \n",
       "\n",
       "       rol_familiar_registrado   trabajo  educacion_alcanzada_encoded  \n",
       "29580                -1.047170 -0.094169                    -1.311776  \n",
       "7359                  1.071243  1.383893                     0.370689  \n",
       "30739                -0.710199  1.383893                    -0.190133  \n",
       "23107                -0.710199 -1.324125                     0.370689  \n",
       "14357                -0.710199 -0.831537                    -0.190133  "
      ]
     },
     "execution_count": 39,
     "metadata": {},
     "output_type": "execute_result"
    }
   ],
   "source": [
    "X_train2.head()"
   ]
  },
  {
   "cell_type": "code",
   "execution_count": 15,
   "id": "0ca07ce7-1944-4b6f-826b-c727285b7649",
   "metadata": {},
   "outputs": [],
   "source": [
    "final_df = prepararHoldOut(final_df)"
   ]
  },
  {
   "cell_type": "code",
   "execution_count": 16,
   "id": "1ee67c64-ac8b-4f7f-82c4-fcfeba1175a1",
   "metadata": {},
   "outputs": [],
   "source": [
    "final_df = prepararSetDeHoldOutKNN(final_df, meanEncoding)"
   ]
  },
  {
   "cell_type": "code",
   "execution_count": 17,
   "id": "4c037f09-6f04-4185-aeb8-5de00b131313",
   "metadata": {},
   "outputs": [],
   "source": [
    "ho_prediction = knn.predict(final_df)\n",
    "final_df['tiene_alto_valor_adquisitivo'] = ho_prediction\n",
    "\n",
    "final_df.to_csv('predicciones/knn.csv')"
   ]
  },
  {
   "cell_type": "code",
   "execution_count": null,
   "id": "05cdb3a9-8bb2-41d9-ab97-9233b4be9d76",
   "metadata": {},
   "outputs": [],
   "source": []
  }
 ],
 "metadata": {
  "kernelspec": {
   "display_name": "Python 3",
   "language": "python",
   "name": "python3"
  },
  "language_info": {
   "codemirror_mode": {
    "name": "ipython",
    "version": 3
   },
   "file_extension": ".py",
   "mimetype": "text/x-python",
   "name": "python",
   "nbconvert_exporter": "python",
   "pygments_lexer": "ipython3",
   "version": "3.8.5"
  }
 },
 "nbformat": 4,
 "nbformat_minor": 5
}
