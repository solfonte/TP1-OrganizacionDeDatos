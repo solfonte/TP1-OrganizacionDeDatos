{
 "cells": [
  {
   "cell_type": "markdown",
   "id": "16e94108",
   "metadata": {},
   "source": [
    "# Ensamble: Boosting\n",
    "\n",
    "Podemos encontrar la documentacion en:  \n",
    "https://scikit-learn.org/stable/modules/generated/sklearn.ensemble.GradientBoostingClassifier.html"
   ]
  },
  {
   "cell_type": "code",
   "execution_count": 1,
   "id": "775459c9",
   "metadata": {},
   "outputs": [],
   "source": [
    "import numpy as np\n",
    "import pandas as pd\n",
    "import seaborn as sns\n",
    "from sklearn import preprocessing, ensemble\n",
    "\n",
    "from preprocessing import cargarDatasets\n",
    "from preprocessing import prepararSet\n",
    "from preprocessing import ingenieriaDeFeaturesArboles1\n",
    "from preprocessing import ingenieriaDeFeaturesBoosting\n",
    "\n",
    "\n",
    "from sklearn.metrics import accuracy_score, roc_auc_score, precision_score, recall_score\n",
    "from sklearn.model_selection import train_test_split,GridSearchCV, RandomizedSearchCV"
   ]
  },
  {
   "cell_type": "markdown",
   "id": "31fcbd14",
   "metadata": {},
   "source": [
    "## Carga y preprocesamiento de datos\n",
    "Cargamos los datasets y los preparamos para entrenar."
   ]
  },
  {
   "cell_type": "code",
   "execution_count": 2,
   "id": "d0eea1a1",
   "metadata": {},
   "outputs": [],
   "source": [
    "train_df,final_df = cargarDatasets()\n",
    "train_df = prepararSet(train_df)"
   ]
  },
  {
   "cell_type": "markdown",
   "id": "c0196ac2",
   "metadata": {},
   "source": [
    "Como sabemos, boosting es un ensamble que usa arboles de decision como estimadores. Es por eso que vamos a utilizar los preprocesamientos que usamos para el modelo de arbol solo. "
   ]
  },
  {
   "cell_type": "code",
   "execution_count": 3,
   "id": "544e8cdf",
   "metadata": {},
   "outputs": [],
   "source": [
    "X,y,df,y_encoder = ingenieriaDeFeaturesArboles1(train_df)\n",
    "X_2,y_2,df_2,y_encoder_2,meanEncoding = ingenieriaDeFeaturesBoosting(train_df)\n",
    "\n",
    "X_train, X_test, y_train, y_test = train_test_split(X, y, random_state=117, test_size=0.1, stratify=y)\n",
    "X_train_2, X_test_2, y_train_2, y_test_2 = train_test_split(X_2, y_2, random_state=117, test_size=0.1, stratify=y_2)"
   ]
  },
  {
   "cell_type": "markdown",
   "id": "be089f94",
   "metadata": {},
   "source": [
    "## Hiperparametros\n",
    "(estos me parecieron los mas importantes)\n",
    "* loss function\n",
    "* n_estimators: The number of boosting stages to perform. Gradient boosting is fairly robust to over-fitting so a large number usually results in better performance.\n",
    "* criterion: valores posibles -> ‘friedman_mse’, ‘mse’, ‘mae’\n",
    "* min_samples_leaf\n"
   ]
  },
  {
   "cell_type": "code",
   "execution_count": 5,
   "id": "d526e39f",
   "metadata": {},
   "outputs": [],
   "source": [
    "#Como trabaja con arboles, los hiperparametros van a ser similares a los del arbol (tal vez podemos \n",
    "#No uso muchos parametros porque el boost es algo lento de entrenar. \n",
    "params = [{\n",
    "    \"loss\" : ['exponential','deviance'], \"criterion\" : ['mse', 'friedman_mse'],\n",
    "    'min_samples_leaf' : [10,20], \"n_estimators\" : [100,150]\n",
    "}]\n"
   ]
  },
  {
   "cell_type": "code",
   "execution_count": 6,
   "id": "fb8d1742",
   "metadata": {},
   "outputs": [],
   "source": [
    "boost1 = ensemble.GradientBoostingClassifier(random_state = 0)"
   ]
  },
  {
   "cell_type": "code",
   "execution_count": 7,
   "id": "b6eafd84",
   "metadata": {},
   "outputs": [
    {
     "name": "stdout",
     "output_type": "stream",
     "text": [
      "Fitting 2 folds for each of 10 candidates, totalling 20 fits\n",
      "[Parallel(n_jobs=-1)]: Using backend LokyBackend with 4 concurrent workers.\n",
      "[Parallel(n_jobs=-1)]: Done   1 tasks      | elapsed:    4.2s\n",
      "[Parallel(n_jobs=-1)]: Done   2 tasks      | elapsed:    4.3s\n",
      "[Parallel(n_jobs=-1)]: Done   3 tasks      | elapsed:    4.3s\n",
      "[Parallel(n_jobs=-1)]: Done   4 tasks      | elapsed:    4.4s\n",
      "[Parallel(n_jobs=-1)]: Done   5 tasks      | elapsed:    6.9s\n",
      "[Parallel(n_jobs=-1)]: Done   6 tasks      | elapsed:    7.0s\n",
      "[Parallel(n_jobs=-1)]: Done   7 tasks      | elapsed:    7.1s\n",
      "[Parallel(n_jobs=-1)]: Done   8 tasks      | elapsed:    7.2s\n",
      "[Parallel(n_jobs=-1)]: Done   9 tasks      | elapsed:    9.6s\n",
      "[Parallel(n_jobs=-1)]: Done  10 tasks      | elapsed:    9.9s\n",
      "[Parallel(n_jobs=-1)]: Done  11 tasks      | elapsed:   10.0s\n",
      "[Parallel(n_jobs=-1)]: Done  12 tasks      | elapsed:   10.0s\n",
      "[Parallel(n_jobs=-1)]: Done  13 tasks      | elapsed:   13.7s\n",
      "[Parallel(n_jobs=-1)]: Done  14 out of  20 | elapsed:   14.0s remaining:    6.0s\n",
      "[Parallel(n_jobs=-1)]: Done  15 out of  20 | elapsed:   14.2s remaining:    4.7s\n",
      "[Parallel(n_jobs=-1)]: Done  16 out of  20 | elapsed:   14.4s remaining:    3.6s\n",
      "[Parallel(n_jobs=-1)]: Done  17 out of  20 | elapsed:   18.0s remaining:    3.2s\n",
      "[Parallel(n_jobs=-1)]: Done  18 out of  20 | elapsed:   18.4s remaining:    2.0s\n",
      "[Parallel(n_jobs=-1)]: Done  20 out of  20 | elapsed:   19.0s remaining:    0.0s\n",
      "[Parallel(n_jobs=-1)]: Done  20 out of  20 | elapsed:   19.0s finished\n",
      "Best score: 0.9144158459195778\n",
      "Best params {'n_estimators': 150, 'min_samples_leaf': 10, 'loss': 'deviance', 'criterion': 'friedman_mse'}\n"
     ]
    }
   ],
   "source": [
    "rdSearch1 = RandomizedSearchCV(\n",
    "    boost1, params, scoring='roc_auc', n_jobs=-1, cv=2, return_train_score=True, n_iter = 10, verbose = 99\n",
    ").fit(X_train, y_train)\n",
    "\n",
    "print(f\"Best score: {rdSearch1.best_score_}\")\n",
    "print(f\"Best params {rdSearch1.best_params_}\")"
   ]
  },
  {
   "cell_type": "markdown",
   "id": "e420ad4d",
   "metadata": {},
   "source": [
    "Luego de varias corridas obtuvimos:\n",
    "\n",
    "Best score: 0.9144158459195778  \n",
    "Best params {'n_estimators': 150, 'min_samples_leaf': 10, 'loss': 'deviance', 'criterion': 'mse'}  \n",
    "\n",
    "Ahora buscamos los hiperparametros para otro modelo con el segundo preprocesamiento."
   ]
  },
  {
   "cell_type": "code",
   "execution_count": 8,
   "id": "a502b418",
   "metadata": {},
   "outputs": [],
   "source": [
    "boost2 = ensemble.GradientBoostingClassifier(random_state = 0)"
   ]
  },
  {
   "cell_type": "code",
   "execution_count": 9,
   "id": "64d267cc",
   "metadata": {},
   "outputs": [
    {
     "name": "stdout",
     "output_type": "stream",
     "text": [
      "Fitting 2 folds for each of 10 candidates, totalling 20 fits\n",
      "[Parallel(n_jobs=-1)]: Using backend LokyBackend with 4 concurrent workers.\n",
      "[Parallel(n_jobs=-1)]: Done   1 tasks      | elapsed:    3.5s\n",
      "[Parallel(n_jobs=-1)]: Done   2 tasks      | elapsed:    3.6s\n",
      "[Parallel(n_jobs=-1)]: Done   3 tasks      | elapsed:    3.6s\n",
      "[Parallel(n_jobs=-1)]: Done   4 tasks      | elapsed:    3.7s\n",
      "[Parallel(n_jobs=-1)]: Done   5 tasks      | elapsed:    5.5s\n",
      "[Parallel(n_jobs=-1)]: Done   6 tasks      | elapsed:    5.5s\n",
      "[Parallel(n_jobs=-1)]: Done   7 tasks      | elapsed:    6.3s\n",
      "[Parallel(n_jobs=-1)]: Done   8 tasks      | elapsed:    6.5s\n",
      "[Parallel(n_jobs=-1)]: Done   9 tasks      | elapsed:    7.4s\n",
      "[Parallel(n_jobs=-1)]: Done  10 tasks      | elapsed:    7.4s\n",
      "[Parallel(n_jobs=-1)]: Done  11 tasks      | elapsed:    8.0s\n",
      "[Parallel(n_jobs=-1)]: Done  12 tasks      | elapsed:    8.2s\n",
      "[Parallel(n_jobs=-1)]: Done  13 tasks      | elapsed:    9.1s\n",
      "[Parallel(n_jobs=-1)]: Done  14 out of  20 | elapsed:    9.2s remaining:    4.0s\n",
      "[Parallel(n_jobs=-1)]: Done  15 out of  20 | elapsed:    9.7s remaining:    3.2s\n",
      "[Parallel(n_jobs=-1)]: Done  16 out of  20 | elapsed:   10.0s remaining:    2.5s\n",
      "[Parallel(n_jobs=-1)]: Done  17 out of  20 | elapsed:   11.8s remaining:    2.1s\n",
      "[Parallel(n_jobs=-1)]: Done  18 out of  20 | elapsed:   12.0s remaining:    1.3s\n",
      "[Parallel(n_jobs=-1)]: Done  20 out of  20 | elapsed:   12.4s remaining:    0.0s\n",
      "[Parallel(n_jobs=-1)]: Done  20 out of  20 | elapsed:   12.4s finished\n",
      "Best score: 0.9172842262723193\n",
      "Best params {'n_estimators': 150, 'min_samples_leaf': 10, 'loss': 'deviance', 'criterion': 'friedman_mse'}\n"
     ]
    }
   ],
   "source": [
    "rdSearch2 = RandomizedSearchCV(\n",
    "    boost2, params, scoring='roc_auc', n_jobs=-1, cv=2, return_train_score=True, n_iter = 10, verbose = 99\n",
    ").fit(X_train_2, y_train_2)\n",
    "\n",
    "print(f\"Best score: {rdSearch2.best_score_}\")\n",
    "print(f\"Best params {rdSearch2.best_params_}\")"
   ]
  },
  {
   "cell_type": "markdown",
   "id": "ff0d5cf0",
   "metadata": {},
   "source": [
    "Luego de varias corridas obtuvimos los siguientes parametros:\n",
    "\n",
    "Best score: 0.9172842262723193  \n",
    "Best params {'n_estimators': 150, 'min_samples_leaf': 10, 'loss': 'deviance', 'criterion': 'mse'}"
   ]
  },
  {
   "cell_type": "markdown",
   "id": "a5e33079",
   "metadata": {},
   "source": [
    "Como obtuvimos un mejor roc score con el preprocesamiento de arboles, vamos a utilizar este para predecir sobre el set de hold out."
   ]
  },
  {
   "cell_type": "code",
   "execution_count": 10,
   "id": "cd323e19",
   "metadata": {},
   "outputs": [],
   "source": [
    "params = {'n_estimators': 150, 'min_samples_leaf': 10, 'loss': 'deviance', 'criterion': 'mse'}\n",
    "\n",
    "boost1.set_params(**params)\n",
    "boost1.fit(X_train, y_train)\n",
    "y_pred = boost1.predict(X_test)"
   ]
  },
  {
   "cell_type": "markdown",
   "id": "97e22ae3",
   "metadata": {},
   "source": [
    "## Evaluacion de metricas\n",
    "Analizamos primero el reporte de clasificacion."
   ]
  },
  {
   "cell_type": "code",
   "execution_count": 11,
   "id": "b483efd1",
   "metadata": {},
   "outputs": [
    {
     "name": "stdout",
     "output_type": "stream",
     "text": [
      "              precision    recall  f1-score   support\n",
      "\n",
      "           0       0.88      0.94      0.91      2473\n",
      "           1       0.77      0.60      0.67       784\n",
      "\n",
      "    accuracy                           0.86      3257\n",
      "   macro avg       0.82      0.77      0.79      3257\n",
      "weighted avg       0.85      0.86      0.85      3257\n",
      "\n"
     ]
    }
   ],
   "source": [
    "from sklearn.metrics import classification_report\n",
    "\n",
    "print(classification_report(y_test, boost1.predict(X_test)))"
   ]
  },
  {
   "cell_type": "markdown",
   "id": "e33639c9",
   "metadata": {},
   "source": [
    "### AUC-ROC score"
   ]
  },
  {
   "cell_type": "code",
   "execution_count": 12,
   "id": "ec857d44",
   "metadata": {},
   "outputs": [
    {
     "data": {
      "image/png": "[encoded data removed]",
      "text/plain": [
       "<Figure size 432x288 with 1 Axes>"
      ]
     },
     "metadata": {
      "needs_background": "light"
     },
     "output_type": "display_data"
    }
   ],
   "source": [
    "import matplotlib.pyplot as plt\n",
    "from sklearn.metrics import roc_curve, auc, plot_roc_curve\n",
    "\n",
    "plot_roc_curve(boost1,X_test,y_test,response_method='predict_proba')\n",
    "plt.show()"
   ]
  },
  {
   "cell_type": "markdown",
   "id": "9305e7fe",
   "metadata": {},
   "source": [
    "Podemos observar que el modelo tiene un 0.9 de probabilidad de distinguir correctamente las clases."
   ]
  },
  {
   "cell_type": "markdown",
   "id": "94365a5d",
   "metadata": {},
   "source": [
    "### Recall"
   ]
  },
  {
   "cell_type": "code",
   "execution_count": 13,
   "id": "bc2428c1",
   "metadata": {},
   "outputs": [
    {
     "data": {
      "text/plain": [
       "0.6007653061224489"
      ]
     },
     "execution_count": 13,
     "metadata": {},
     "output_type": "execute_result"
    }
   ],
   "source": [
    "recall_score(y_test, y_pred)"
   ]
  },
  {
   "cell_type": "markdown",
   "id": "86e06ea4",
   "metadata": {},
   "source": [
    "### Precision"
   ]
  },
  {
   "cell_type": "code",
   "execution_count": 14,
   "id": "8bd210c8",
   "metadata": {},
   "outputs": [
    {
     "data": {
      "text/plain": [
       "0.7671009771986971"
      ]
     },
     "execution_count": 14,
     "metadata": {},
     "output_type": "execute_result"
    }
   ],
   "source": [
    "precision_score(y_test,y_pred)"
   ]
  },
  {
   "cell_type": "markdown",
   "id": "872e0654",
   "metadata": {},
   "source": [
    "### Accuracy"
   ]
  },
  {
   "cell_type": "code",
   "execution_count": 15,
   "id": "30bb90db",
   "metadata": {},
   "outputs": [
    {
     "data": {
      "text/plain": [
       "0.8599938593797973"
      ]
     },
     "execution_count": 15,
     "metadata": {},
     "output_type": "execute_result"
    }
   ],
   "source": [
    "accuracy_score(y_test, y_pred) "
   ]
  },
  {
   "cell_type": "markdown",
   "id": "0ffeaa80",
   "metadata": {},
   "source": [
    "### Matriz de confusion"
   ]
  },
  {
   "cell_type": "code",
   "execution_count": 16,
   "id": "00cff157",
   "metadata": {},
   "outputs": [
    {
     "data": {
      "image/png": "[encoded data removed]",
      "text/plain": [
       "<Figure size 1080x504 with 2 Axes>"
      ]
     },
     "metadata": {
      "needs_background": "light"
     },
     "output_type": "display_data"
    }
   ],
   "source": [
    "from sklearn.metrics import plot_confusion_matrix\n",
    "\n",
    "fig, ax = plt.subplots(figsize=(15, 7))\n",
    "plt.grid(False)\n",
    "plot_confusion_matrix(\n",
    "    boost1, X_test, y_test, cmap=plt.cm.Blues, display_labels=['0', '1'], ax=ax\n",
    ")\n",
    "\n",
    "plt.show()"
   ]
  },
  {
   "cell_type": "markdown",
   "id": "59e634b1",
   "metadata": {},
   "source": [
    "## Prediccion sobre el data set de hold out\n",
    "\n",
    "Aplicamos la ingenieria de features correspondiente al primer modelo de Boosting y luego predecimos."
   ]
  },
  {
   "cell_type": "code",
   "execution_count": 17,
   "id": "eef4b644",
   "metadata": {},
   "outputs": [],
   "source": [
    "from preprocessing import prepararSetDeHoldOutBoosting"
   ]
  },
  {
   "cell_type": "code",
   "execution_count": 18,
   "id": "9c8237bd",
   "metadata": {},
   "outputs": [],
   "source": [
    "final_df = prepararSetDeHoldOutBoosting(final_df,meanEncoding)\n",
    "\n",
    "ho_prediction = boost1.predict(final_df)\n",
    "final_df['tiene_alto_valor_adquisitivo'] = ho_prediction\n",
    "\n",
    "final_df.to_csv('predicciones/boosting.csv')"
   ]
  }
 ],
 "metadata": {
  "kernelspec": {
   "display_name": "Python 3",
   "language": "python",
   "name": "python3"
  },
  "language_info": {
   "codemirror_mode": {
    "name": "ipython",
    "version": 3
   },
   "file_extension": ".py",
   "mimetype": "text/x-python",
   "name": "python",
   "nbconvert_exporter": "python",
   "pygments_lexer": "ipython3",
   "version": "3.8.10"
  }
 },
 "nbformat": 4,
 "nbformat_minor": 5
}
