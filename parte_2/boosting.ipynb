{
 "cells": [
  {
   "cell_type": "markdown",
   "id": "fde6b57a",
   "metadata": {},
   "source": [
    "# Ensamble: Boosting\n",
    "\n",
    "Podemos encontrar la documentacion en:  \n",
    "https://scikit-learn.org/stable/modules/generated/sklearn.ensemble.GradientBoostingClassifier.html"
   ]
  },
  {
   "cell_type": "code",
   "execution_count": 36,
   "id": "c84d5867",
   "metadata": {},
   "outputs": [],
   "source": [
    "import numpy as np\n",
    "import pandas as pd\n",
    "import seaborn as sns\n",
    "from sklearn import preprocessing, ensemble\n",
    "\n",
    "from preprocessing import cargarDatasets\n",
    "from preprocessing import prepararSet\n",
    "from preprocessing import ingenieriaDeFeaturesArboles1\n",
    "from preprocessing import ingenieriaDeFeaturesBoosting\n",
    "\n",
    "\n",
    "from sklearn.metrics import accuracy_score, roc_auc_score, precision_score, recall_score\n",
    "from sklearn.model_selection import train_test_split,GridSearchCV, RandomizedSearchCV"
   ]
  },
  {
   "cell_type": "markdown",
   "id": "44d22539",
   "metadata": {},
   "source": [
    "## Carga y preprocesamiento de datos\n",
    "Cargamos los datasets y los preparamos para entrenar."
   ]
  },
  {
   "cell_type": "code",
   "execution_count": 37,
   "id": "d60bfbc1",
   "metadata": {},
   "outputs": [],
   "source": [
    "train_df,final_df = cargarDatasets()\n",
    "train_df = prepararSet(train_df)"
   ]
  },
  {
   "cell_type": "markdown",
   "id": "d3059cd9",
   "metadata": {},
   "source": [
    "Como sabemos, boosting es un ensamble que usa arboles de decision como estimadores. Es por eso que vamos a utilizar uno de los preprocesamientos que usamos para el modelo de arbol de decision. Utilizamos el primer preprocesamiento utilizado ya que fue el que mejor resultados nos dio. "
   ]
  },
  {
   "cell_type": "code",
   "execution_count": 38,
   "id": "bd473318",
   "metadata": {},
   "outputs": [],
   "source": [
    "X,y,df,y_encoder = ingenieriaDeFeaturesArboles1(train_df)\n",
    "X_2,y_2,df_2,y_encoder_2,meanEncoding = ingenieriaDeFeaturesBoosting(train_df)\n",
    "\n",
    "X_train, X_test, y_train, y_test = train_test_split(X, y, random_state=117, test_size=0.1, stratify=y)\n",
    "X_train_2, X_test_2, y_train_2, y_test_2 = train_test_split(X_2, y_2, random_state=117, test_size=0.1, stratify=y_2)"
   ]
  },
  {
   "cell_type": "markdown",
   "id": "4b73ded2",
   "metadata": {},
   "source": [
    "## Hiperparametros\n",
    "* loss function: funcion de error que se quiere minimizar a la hora de calcular los hiperparametros para el siguiente estimador a entrenar.\n",
    "* n_estimators: cantidad de arboles a utilizar para la estimacion. \n",
    "* criterion\n",
    "* min_samples_leaf\n"
   ]
  },
  {
   "cell_type": "code",
   "execution_count": 22,
   "id": "6045ebdf",
   "metadata": {},
   "outputs": [],
   "source": [
    "params = [{\n",
    "    \"loss\" : ['exponential','deviance'], \"criterion\" : ['mse', 'friedman_mse'],\n",
    "    'min_samples_leaf' : [10,20], \"n_estimators\" : [100,150]\n",
    "}]\n"
   ]
  },
  {
   "cell_type": "code",
   "execution_count": 39,
   "id": "103e4123",
   "metadata": {},
   "outputs": [],
   "source": [
    "boost1 = ensemble.GradientBoostingClassifier(random_state = 0)"
   ]
  },
  {
   "cell_type": "code",
   "execution_count": 24,
   "id": "6538b634",
   "metadata": {},
   "outputs": [
    {
     "name": "stdout",
     "output_type": "stream",
     "text": [
      "Fitting 2 folds for each of 10 candidates, totalling 20 fits\n",
      "[Parallel(n_jobs=-1)]: Using backend LokyBackend with 4 concurrent workers.\n",
      "[Parallel(n_jobs=-1)]: Done   1 tasks      | elapsed:    6.1s\n",
      "[Parallel(n_jobs=-1)]: Done   2 tasks      | elapsed:    6.4s\n",
      "[Parallel(n_jobs=-1)]: Done   3 tasks      | elapsed:    6.5s\n",
      "[Parallel(n_jobs=-1)]: Done   4 tasks      | elapsed:    6.8s\n",
      "[Parallel(n_jobs=-1)]: Done   5 tasks      | elapsed:   10.7s\n",
      "[Parallel(n_jobs=-1)]: Done   6 tasks      | elapsed:   11.1s\n",
      "[Parallel(n_jobs=-1)]: Done   7 tasks      | elapsed:   13.0s\n",
      "[Parallel(n_jobs=-1)]: Done   8 tasks      | elapsed:   13.4s\n",
      "[Parallel(n_jobs=-1)]: Done   9 tasks      | elapsed:   16.1s\n",
      "[Parallel(n_jobs=-1)]: Done  10 tasks      | elapsed:   16.4s\n",
      "[Parallel(n_jobs=-1)]: Done  11 tasks      | elapsed:   17.2s\n",
      "[Parallel(n_jobs=-1)]: Done  12 tasks      | elapsed:   17.4s\n",
      "[Parallel(n_jobs=-1)]: Done  13 tasks      | elapsed:   20.9s\n",
      "[Parallel(n_jobs=-1)]: Done  14 out of  20 | elapsed:   21.1s remaining:    9.1s\n",
      "[Parallel(n_jobs=-1)]: Done  15 out of  20 | elapsed:   24.3s remaining:    8.1s\n",
      "[Parallel(n_jobs=-1)]: Done  16 out of  20 | elapsed:   24.7s remaining:    6.2s\n",
      "[Parallel(n_jobs=-1)]: Done  17 out of  20 | elapsed:   26.4s remaining:    4.7s\n",
      "[Parallel(n_jobs=-1)]: Done  18 out of  20 | elapsed:   26.8s remaining:    3.0s\n",
      "[Parallel(n_jobs=-1)]: Done  20 out of  20 | elapsed:   28.2s remaining:    0.0s\n",
      "[Parallel(n_jobs=-1)]: Done  20 out of  20 | elapsed:   28.2s finished\n",
      "Best score: 0.9144158459195778\n",
      "Best params {'n_estimators': 150, 'min_samples_leaf': 10, 'loss': 'deviance', 'criterion': 'friedman_mse'}\n"
     ]
    }
   ],
   "source": [
    "rdSearch1 = RandomizedSearchCV(\n",
    "    boost1, params, scoring='roc_auc', n_jobs=-1, cv=2, return_train_score=True, n_iter = 10, verbose = 99\n",
    ").fit(X_train, y_train)\n",
    "\n",
    "print(f\"Best score: {rdSearch1.best_score_}\")\n",
    "print(f\"Best params {rdSearch1.best_params_}\")"
   ]
  },
  {
   "cell_type": "markdown",
   "id": "ceff775e",
   "metadata": {},
   "source": [
    "Luego de varias corridas obtuvimos:\n",
    "\n",
    "Best score: 0.9144158459195778  \n",
    "Best params {'n_estimators': 150, 'min_samples_leaf': 10, 'loss': 'deviance', 'criterion': 'mse'}  \n",
    "\n",
    "Ahora buscamos los hiperparametros para otro modelo con el segundo preprocesamiento."
   ]
  },
  {
   "cell_type": "code",
   "execution_count": 25,
   "id": "d272cbd4",
   "metadata": {},
   "outputs": [],
   "source": [
    "boost2 = ensemble.GradientBoostingClassifier(random_state = 0)"
   ]
  },
  {
   "cell_type": "code",
   "execution_count": 26,
   "id": "319e8cd7",
   "metadata": {},
   "outputs": [
    {
     "name": "stdout",
     "output_type": "stream",
     "text": [
      "Fitting 2 folds for each of 10 candidates, totalling 20 fits\n",
      "[Parallel(n_jobs=-1)]: Using backend LokyBackend with 4 concurrent workers.\n",
      "[Parallel(n_jobs=-1)]: Done   1 tasks      | elapsed:    2.1s\n",
      "[Parallel(n_jobs=-1)]: Done   2 tasks      | elapsed:    2.3s\n",
      "[Parallel(n_jobs=-1)]: Done   3 tasks      | elapsed:    2.8s\n",
      "[Parallel(n_jobs=-1)]: Done   4 tasks      | elapsed:    2.8s\n",
      "[Parallel(n_jobs=-1)]: Done   5 tasks      | elapsed:    4.4s\n",
      "[Parallel(n_jobs=-1)]: Done   6 tasks      | elapsed:    4.8s\n",
      "[Parallel(n_jobs=-1)]: Done   7 tasks      | elapsed:    6.3s\n",
      "[Parallel(n_jobs=-1)]: Done   8 tasks      | elapsed:    6.9s\n",
      "[Parallel(n_jobs=-1)]: Done   9 tasks      | elapsed:    8.1s\n",
      "[Parallel(n_jobs=-1)]: Done  10 tasks      | elapsed:    8.2s\n",
      "[Parallel(n_jobs=-1)]: Done  11 tasks      | elapsed:    8.7s\n",
      "[Parallel(n_jobs=-1)]: Done  12 tasks      | elapsed:    9.4s\n",
      "[Parallel(n_jobs=-1)]: Done  13 tasks      | elapsed:   10.6s\n",
      "[Parallel(n_jobs=-1)]: Done  14 out of  20 | elapsed:   11.0s remaining:    4.7s\n",
      "[Parallel(n_jobs=-1)]: Done  15 out of  20 | elapsed:   12.4s remaining:    4.1s\n",
      "[Parallel(n_jobs=-1)]: Done  16 out of  20 | elapsed:   12.6s remaining:    3.1s\n",
      "[Parallel(n_jobs=-1)]: Done  17 out of  20 | elapsed:   13.9s remaining:    2.5s\n",
      "[Parallel(n_jobs=-1)]: Done  18 out of  20 | elapsed:   14.5s remaining:    1.6s\n",
      "[Parallel(n_jobs=-1)]: Done  20 out of  20 | elapsed:   15.3s remaining:    0.0s\n",
      "[Parallel(n_jobs=-1)]: Done  20 out of  20 | elapsed:   15.3s finished\n",
      "Best score: 0.9172842262723193\n",
      "Best params {'n_estimators': 150, 'min_samples_leaf': 10, 'loss': 'deviance', 'criterion': 'friedman_mse'}\n"
     ]
    }
   ],
   "source": [
    "rdSearch2 = RandomizedSearchCV(\n",
    "    boost2, params, scoring='roc_auc', n_jobs=-1, cv=2, return_train_score=True, n_iter = 10, verbose = 99\n",
    ").fit(X_train_2, y_train_2)\n",
    "\n",
    "print(f\"Best score: {rdSearch2.best_score_}\")\n",
    "print(f\"Best params {rdSearch2.best_params_}\")"
   ]
  },
  {
   "cell_type": "markdown",
   "id": "6fa87a13",
   "metadata": {},
   "source": [
    "Luego de varias corridas obtuvimos los siguientes parametros:\n",
    "\n",
    "Best score: 0.9172842262723193  \n",
    "Best params {'n_estimators': 150, 'min_samples_leaf': 10, 'loss': 'deviance', 'criterion': 'mse'}"
   ]
  },
  {
   "cell_type": "markdown",
   "id": "f2f04c5b",
   "metadata": {},
   "source": [
    "Como obtuvimos un mejor roc score con el preprocesamiento de arboles, vamos a utilizar este para predecir sobre el set de hold out."
   ]
  },
  {
   "cell_type": "code",
   "execution_count": 40,
   "id": "03d3bf85",
   "metadata": {},
   "outputs": [],
   "source": [
    "params = {'n_estimators': 150, 'min_samples_leaf': 10, 'loss': 'deviance', 'criterion': 'mse'}\n",
    "\n",
    "boost1.set_params(**params)\n",
    "boost1.fit(X_train, y_train)\n",
    "y_pred = boost1.predict(X_test)"
   ]
  },
  {
   "cell_type": "markdown",
   "id": "e5f90ce5",
   "metadata": {},
   "source": [
    "## Evaluacion de metricas\n",
    "Analizamos primero el reporte de clasificacion."
   ]
  },
  {
   "cell_type": "code",
   "execution_count": 28,
   "id": "7c6f7de0",
   "metadata": {},
   "outputs": [
    {
     "name": "stdout",
     "output_type": "stream",
     "text": [
      "              precision    recall  f1-score   support\n",
      "\n",
      "           0       0.88      0.94      0.91      2473\n",
      "           1       0.77      0.60      0.67       784\n",
      "\n",
      "    accuracy                           0.86      3257\n",
      "   macro avg       0.82      0.77      0.79      3257\n",
      "weighted avg       0.85      0.86      0.85      3257\n",
      "\n"
     ]
    }
   ],
   "source": [
    "from sklearn.metrics import classification_report\n",
    "\n",
    "print(classification_report(y_test, boost1.predict(X_test)))"
   ]
  },
  {
   "cell_type": "markdown",
   "id": "eff643d4",
   "metadata": {},
   "source": [
    "### AUC-ROC score"
   ]
  },
  {
   "cell_type": "code",
   "execution_count": 29,
   "id": "d4225c0d",
   "metadata": {},
   "outputs": [
    {
     "data": {
      "image/png": "[encoded data removed]",
      "text/plain": [
       "<Figure size 432x288 with 1 Axes>"
      ]
     },
     "metadata": {
      "needs_background": "light"
     },
     "output_type": "display_data"
    }
   ],
   "source": [
    "import matplotlib.pyplot as plt\n",
    "from sklearn.metrics import roc_curve, auc, plot_roc_curve\n",
    "\n",
    "plot_roc_curve(boost1,X_test,y_test,response_method='predict_proba')\n",
    "plt.show()"
   ]
  },
  {
   "cell_type": "markdown",
   "id": "8eaa2ce5",
   "metadata": {},
   "source": [
    "Podemos observar que el modelo tiene un 0.9 de probabilidad de distinguir correctamente las clases."
   ]
  },
  {
   "cell_type": "markdown",
   "id": "ba35c622",
   "metadata": {},
   "source": [
    "### Recall"
   ]
  },
  {
   "cell_type": "code",
   "execution_count": 30,
   "id": "bf0366ec",
   "metadata": {},
   "outputs": [
    {
     "data": {
      "text/plain": [
       "0.6007653061224489"
      ]
     },
     "execution_count": 30,
     "metadata": {},
     "output_type": "execute_result"
    }
   ],
   "source": [
    "recall_score(y_test, y_pred)"
   ]
  },
  {
   "cell_type": "markdown",
   "id": "e6fff2e3",
   "metadata": {},
   "source": [
    "### Precision"
   ]
  },
  {
   "cell_type": "code",
   "execution_count": 31,
   "id": "f944d363",
   "metadata": {},
   "outputs": [
    {
     "data": {
      "text/plain": [
       "0.7671009771986971"
      ]
     },
     "execution_count": 31,
     "metadata": {},
     "output_type": "execute_result"
    }
   ],
   "source": [
    "precision_score(y_test,y_pred)"
   ]
  },
  {
   "cell_type": "markdown",
   "id": "e5af135a",
   "metadata": {},
   "source": [
    "### Accuracy"
   ]
  },
  {
   "cell_type": "code",
   "execution_count": 32,
   "id": "550b605d",
   "metadata": {},
   "outputs": [
    {
     "data": {
      "text/plain": [
       "0.8599938593797973"
      ]
     },
     "execution_count": 32,
     "metadata": {},
     "output_type": "execute_result"
    }
   ],
   "source": [
    "accuracy_score(y_test, y_pred) "
   ]
  },
  {
   "cell_type": "markdown",
   "id": "08b08c27",
   "metadata": {},
   "source": [
    "### Matriz de confusion"
   ]
  },
  {
   "cell_type": "code",
   "execution_count": 33,
   "id": "f80215de",
   "metadata": {},
   "outputs": [
    {
     "data": {
      "image/png": "[encoded data removed]",
      "text/plain": [
       "<Figure size 1080x504 with 2 Axes>"
      ]
     },
     "metadata": {
      "needs_background": "light"
     },
     "output_type": "display_data"
    }
   ],
   "source": [
    "from sklearn.metrics import plot_confusion_matrix\n",
    "\n",
    "fig, ax = plt.subplots(figsize=(15, 7))\n",
    "plt.grid(False)\n",
    "plot_confusion_matrix(\n",
    "    boost1, X_test, y_test, cmap=plt.cm.Blues, display_labels=['no tiene alto valor adquisitivo', 'tiene alto valor adquisitivo'], ax=ax\n",
    ")\n",
    "\n",
    "plt.show()"
   ]
  },
  {
   "cell_type": "markdown",
   "id": "81e04d30",
   "metadata": {},
   "source": [
    "## Prediccion sobre el data set de hold out\n",
    "\n",
    "Aplicamos la ingenieria de features correspondiente al primer modelo de Boosting y luego predecimos."
   ]
  },
  {
   "cell_type": "code",
   "execution_count": 41,
   "id": "6309e80f",
   "metadata": {},
   "outputs": [],
   "source": [
    "from preprocessing import prepararSetDeHoldOutBoosting"
   ]
  },
  {
   "cell_type": "code",
   "execution_count": 42,
   "id": "4f008c94",
   "metadata": {},
   "outputs": [],
   "source": [
    "aux = final_df.copy()\n",
    "\n",
    "final_df_copy = prepararSetDeHoldOutBoosting(final_df,meanEncoding)\n",
    "ho_prediction = boost1.predict(final_df_copy)\n",
    "\n",
    "aux['tiene_alto_valor_adquisitivo'] = ho_prediction\n",
    "aux.to_csv('predicciones/boosting.csv')"
   ]
  }
 ],
 "metadata": {
  "kernelspec": {
   "display_name": "Python 3",
   "language": "python",
   "name": "python3"
  },
  "language_info": {
   "codemirror_mode": {
    "name": "ipython",
    "version": 3
   },
   "file_extension": ".py",
   "mimetype": "text/x-python",
   "name": "python",
   "nbconvert_exporter": "python",
   "pygments_lexer": "ipython3",
   "version": "3.8.10"
  }
 },
 "nbformat": 4,
 "nbformat_minor": 5
}
