{
 "cells": [
  {
   "cell_type": "markdown",
   "id": "ffa7d976",
   "metadata": {},
   "source": [
    "# Ensamble: Boosting\n",
    "\n",
    "Podemos encontrar la documentacion en:  \n",
    "https://scikit-learn.org/stable/modules/generated/sklearn.ensemble.GradientBoostingClassifier.html"
   ]
  },
  {
   "cell_type": "code",
   "execution_count": 1,
   "id": "ad086c98",
   "metadata": {},
   "outputs": [],
   "source": [
    "import numpy as np\n",
    "import pandas as pd\n",
    "import seaborn as sns\n",
    "from sklearn import preprocessing, ensemble\n",
    "\n",
    "from preprocessing import cargarDatasets\n",
    "from preprocessing import prepararSetDeEntrenamiento\n",
    "from preprocessing import prepararSetDeValidacion\n",
    "from preprocessing import ingenieriaDeFeaturesArboles1\n",
    "from preprocessing import ingenieriaDeFeaturesArboles2\n",
    "from preprocessing import ingenieriaDeFeaturesBoosting\n",
    "\n",
    "\n",
    "from sklearn.metrics import accuracy_score, roc_auc_score, precision_score, recall_score\n",
    "from sklearn.model_selection import train_test_split,GridSearchCV, RandomizedSearchCV"
   ]
  },
  {
   "cell_type": "markdown",
   "id": "5233b7ec",
   "metadata": {},
   "source": [
    "## Carga y preprocesamiento de datos\n",
    "Cargamos los datasets y los preparamos para entrenar."
   ]
  },
  {
   "cell_type": "code",
   "execution_count": 2,
   "id": "b90e09b4",
   "metadata": {},
   "outputs": [],
   "source": [
    "train_df,final_df = cargarDatasets()\n",
    "train_df = prepararSetDeEntrenamiento(train_df)\n",
    "final_df = prepararSetDeValidacion(final_df)"
   ]
  },
  {
   "cell_type": "markdown",
   "id": "19c8fb22",
   "metadata": {},
   "source": [
    "Como sabemos, boosting es un ensamble que usa arboles de decision como estimadores. Es por eso que vamos a utilizar los preprocesamientos que usamos para el modelo de arbol solo. "
   ]
  },
  {
   "cell_type": "code",
   "execution_count": 3,
   "id": "3f8cc11d",
   "metadata": {},
   "outputs": [],
   "source": [
    "X,y,df,y_encoder = ingenieriaDeFeaturesArboles1(train_df)\n",
    "X_2,y_2,df_2,y_encoder_2 = ingenieriaDeFeaturesBoosting(train_df)\n",
    "\n",
    "X_train, X_test, y_train, y_test = train_test_split(X, y, random_state=117, test_size=0.1, stratify=y)\n",
    "X_train_2, X_test_2, y_train_2, y_test_2 = train_test_split(X_2, y_2, random_state=117, test_size=0.1, stratify=y_2)"
   ]
  },
  {
   "cell_type": "markdown",
   "id": "ed1c5019",
   "metadata": {},
   "source": [
    "## Hiperparametros\n",
    "(estos me parecieron los mas importantes)\n",
    "* loss function\n",
    "* learning_rate\n",
    "* n_estimators: The number of boosting stages to perform. Gradient boosting is fairly robust to over-fitting so a large number usually results in better performance.\n",
    "* criterion: valores posibles -> ‘friedman_mse’, ‘mse’, ‘mae’\n",
    "* min_samples_split\n",
    "* min_samples_leaf\n",
    "* max_depth\n",
    "\n",
    "n_iter_no_change is used to decide if early stopping will be used to terminate training when validation score is not improving. By default it is set to None to disable early stopping. If set to a number, it will set aside validation_fraction size of the training data as validation and terminate training when validation score is not improving in all of the previous n_iter_no_change numbers of iterations. The split is stratified."
   ]
  },
  {
   "cell_type": "code",
   "execution_count": 4,
   "id": "2f6c7e90",
   "metadata": {},
   "outputs": [],
   "source": [
    "#Como trabaja con arboles, los hiperparametros van a ser similares a los del arbol (tal vez podemos \n",
    "#No uso muchos parametros porque el boost es algo lento de entrenar. \n",
    "params = [{\n",
    "    \"loss\" : ['exponential','deviance'], \"criterion\" : ['mse', 'friedman_mse'],\n",
    "    'min_samples_leaf' : [3,10,20], \"n_estimators\" : [100,150]\n",
    "}]\n"
   ]
  },
  {
   "cell_type": "code",
   "execution_count": 5,
   "id": "00b4990e",
   "metadata": {},
   "outputs": [],
   "source": [
    "boost1 = ensemble.GradientBoostingClassifier(random_state = 0)"
   ]
  },
  {
   "cell_type": "code",
   "execution_count": 6,
   "id": "a92f17d0",
   "metadata": {},
   "outputs": [
    {
     "name": "stdout",
     "output_type": "stream",
     "text": [
      "Fitting 2 folds for each of 10 candidates, totalling 20 fits\n",
      "[Parallel(n_jobs=-1)]: Using backend LokyBackend with 4 concurrent workers.\n",
      "[Parallel(n_jobs=-1)]: Done   1 tasks      | elapsed:    4.3s\n",
      "[Parallel(n_jobs=-1)]: Done   2 tasks      | elapsed:    4.3s\n",
      "[Parallel(n_jobs=-1)]: Done   3 tasks      | elapsed:    5.4s\n",
      "[Parallel(n_jobs=-1)]: Done   4 tasks      | elapsed:    5.5s\n",
      "[Parallel(n_jobs=-1)]: Done   5 tasks      | elapsed:    7.8s\n",
      "[Parallel(n_jobs=-1)]: Done   6 tasks      | elapsed:    7.8s\n",
      "[Parallel(n_jobs=-1)]: Done   7 tasks      | elapsed:    8.0s\n",
      "[Parallel(n_jobs=-1)]: Done   8 tasks      | elapsed:    8.1s\n",
      "[Parallel(n_jobs=-1)]: Done   9 tasks      | elapsed:   10.6s\n",
      "[Parallel(n_jobs=-1)]: Done  10 tasks      | elapsed:   10.8s\n",
      "[Parallel(n_jobs=-1)]: Done  11 tasks      | elapsed:   10.9s\n",
      "[Parallel(n_jobs=-1)]: Done  12 tasks      | elapsed:   11.0s\n",
      "[Parallel(n_jobs=-1)]: Done  13 tasks      | elapsed:   14.2s\n",
      "[Parallel(n_jobs=-1)]: Done  14 out of  20 | elapsed:   14.6s remaining:    6.3s\n",
      "[Parallel(n_jobs=-1)]: Done  15 out of  20 | elapsed:   14.6s remaining:    4.9s\n",
      "[Parallel(n_jobs=-1)]: Done  16 out of  20 | elapsed:   15.1s remaining:    3.8s\n",
      "[Parallel(n_jobs=-1)]: Done  17 out of  20 | elapsed:   17.1s remaining:    3.0s\n",
      "[Parallel(n_jobs=-1)]: Done  18 out of  20 | elapsed:   17.5s remaining:    1.9s\n",
      "[Parallel(n_jobs=-1)]: Done  20 out of  20 | elapsed:   18.0s remaining:    0.0s\n",
      "[Parallel(n_jobs=-1)]: Done  20 out of  20 | elapsed:   18.0s finished\n",
      "Best score: 0.9089013047468231\n",
      "Best params {'n_estimators': 150, 'min_samples_leaf': 10, 'loss': 'deviance', 'criterion': 'friedman_mse'}\n"
     ]
    }
   ],
   "source": [
    "rdSearch = RandomizedSearchCV(\n",
    "    boost1, params, scoring='roc_auc', n_jobs=-1, cv=2, return_train_score=True, n_iter = 10, verbose = 99\n",
    ").fit(X_train, y_train)\n",
    "\n",
    "print(f\"Best score: {rdSearch.best_score_}\")\n",
    "print(f\"Best params {rdSearch.best_params_}\")"
   ]
  },
  {
   "cell_type": "markdown",
   "id": "7e9eb55e",
   "metadata": {},
   "source": [
    "Luego de varias corridas obtuvimos:\n",
    "\n",
    "Best score: 0.9092720500298002  \n",
    "Best params {'n_estimators': 150, 'min_samples_leaf': 3, 'loss': 'deviance', 'criterion': 'mse'}\n",
    "\n",
    "Ahora buscamos los hiperparametros para otro modelo con el segundo preprocesamiento."
   ]
  },
  {
   "cell_type": "code",
   "execution_count": 7,
   "id": "a46b9bab",
   "metadata": {},
   "outputs": [],
   "source": [
    "boost2 = ensemble.GradientBoostingClassifier(random_state = 0)"
   ]
  },
  {
   "cell_type": "code",
   "execution_count": 8,
   "id": "2e4b6222",
   "metadata": {},
   "outputs": [
    {
     "name": "stdout",
     "output_type": "stream",
     "text": [
      "Fitting 2 folds for each of 10 candidates, totalling 20 fits\n",
      "[Parallel(n_jobs=-1)]: Using backend LokyBackend with 4 concurrent workers.\n",
      "[Parallel(n_jobs=-1)]: Done   1 tasks      | elapsed:    2.5s\n",
      "[Parallel(n_jobs=-1)]: Done   2 tasks      | elapsed:    2.5s\n",
      "[Parallel(n_jobs=-1)]: Done   3 tasks      | elapsed:    2.6s\n",
      "[Parallel(n_jobs=-1)]: Done   4 tasks      | elapsed:    2.6s\n",
      "[Parallel(n_jobs=-1)]: Done   5 tasks      | elapsed:    4.5s\n",
      "[Parallel(n_jobs=-1)]: Done   6 tasks      | elapsed:    4.7s\n",
      "[Parallel(n_jobs=-1)]: Done   7 tasks      | elapsed:    5.4s\n",
      "[Parallel(n_jobs=-1)]: Done   8 tasks      | elapsed:    5.4s\n",
      "[Parallel(n_jobs=-1)]: Done   9 tasks      | elapsed:    6.3s\n",
      "[Parallel(n_jobs=-1)]: Done  10 tasks      | elapsed:    6.5s\n",
      "[Parallel(n_jobs=-1)]: Done  11 tasks      | elapsed:    7.3s\n",
      "[Parallel(n_jobs=-1)]: Done  12 tasks      | elapsed:    7.3s\n",
      "[Parallel(n_jobs=-1)]: Done  13 tasks      | elapsed:    8.1s\n",
      "[Parallel(n_jobs=-1)]: Done  14 out of  20 | elapsed:    8.3s remaining:    3.5s\n",
      "[Parallel(n_jobs=-1)]: Done  15 out of  20 | elapsed:    9.1s remaining:    3.0s\n",
      "[Parallel(n_jobs=-1)]: Done  16 out of  20 | elapsed:    9.1s remaining:    2.3s\n",
      "[Parallel(n_jobs=-1)]: Done  17 out of  20 | elapsed:   10.7s remaining:    1.9s\n",
      "[Parallel(n_jobs=-1)]: Done  18 out of  20 | elapsed:   10.8s remaining:    1.2s\n",
      "[Parallel(n_jobs=-1)]: Done  20 out of  20 | elapsed:   11.4s remaining:    0.0s\n",
      "[Parallel(n_jobs=-1)]: Done  20 out of  20 | elapsed:   11.4s finished\n",
      "Best score: 0.9172842262723193\n",
      "Best params {'n_estimators': 150, 'min_samples_leaf': 10, 'loss': 'deviance', 'criterion': 'mse'}\n"
     ]
    }
   ],
   "source": [
    "rdSearch = RandomizedSearchCV(\n",
    "    boost2, params, scoring='roc_auc', n_jobs=-1, cv=2, return_train_score=True, n_iter = 10, verbose = 99\n",
    ").fit(X_train_2, y_train_2)\n",
    "\n",
    "print(f\"Best score: {rdSearch.best_score_}\")\n",
    "print(f\"Best params {rdSearch.best_params_}\")"
   ]
  },
  {
   "cell_type": "markdown",
   "id": "f1fb1621",
   "metadata": {},
   "source": [
    "Luego de varias corridas obtuvimos los siguientes parametros:\n",
    "\n",
    "Best score: 0.9172842262723193  \n",
    "Best params {'n_estimators': 150, 'min_samples_leaf': 10, 'loss': 'deviance', 'criterion': 'mse'}"
   ]
  },
  {
   "cell_type": "markdown",
   "id": "98c693eb",
   "metadata": {},
   "source": [
    "Como obtuvimos un mejor roc score con el preprocesamiento de boosting, vamos a utilizar este para predecir sobre el set de hold out."
   ]
  },
  {
   "cell_type": "code",
   "execution_count": 9,
   "id": "56345dba",
   "metadata": {},
   "outputs": [],
   "source": [
    "params = {'n_estimators': 150, 'min_samples_leaf': 10, 'loss': 'deviance', 'criterion': 'mse'}\n",
    "\n",
    "boost2.set_params(**params)\n",
    "boost2.fit(X_train_2, y_train_2)\n",
    "y_pred_2 = boost2.predict(X_test_2)"
   ]
  },
  {
   "cell_type": "markdown",
   "id": "2e580239",
   "metadata": {},
   "source": [
    "## Evaluacion de metricas\n",
    "Analizamos primero el reporte de clasificacion."
   ]
  },
  {
   "cell_type": "code",
   "execution_count": 10,
   "id": "3a577543",
   "metadata": {},
   "outputs": [
    {
     "name": "stdout",
     "output_type": "stream",
     "text": [
      "              precision    recall  f1-score   support\n",
      "\n",
      "           0       0.88      0.95      0.91      2473\n",
      "           1       0.78      0.59      0.67       784\n",
      "\n",
      "    accuracy                           0.86      3257\n",
      "   macro avg       0.83      0.77      0.79      3257\n",
      "weighted avg       0.85      0.86      0.85      3257\n",
      "\n"
     ]
    }
   ],
   "source": [
    "from sklearn.metrics import classification_report\n",
    "\n",
    "print(classification_report(y_test, boost2.predict(X_test_2)))"
   ]
  },
  {
   "cell_type": "markdown",
   "id": "8994d691",
   "metadata": {},
   "source": [
    "### AUC-ROC score"
   ]
  },
  {
   "cell_type": "code",
   "execution_count": 11,
   "id": "1556aec6",
   "metadata": {},
   "outputs": [
    {
     "data": {
      "image/png": "[encoded data removed]",
      "text/plain": [
       "<Figure size 432x288 with 1 Axes>"
      ]
     },
     "metadata": {
      "needs_background": "light"
     },
     "output_type": "display_data"
    }
   ],
   "source": [
    "import matplotlib.pyplot as plt\n",
    "from sklearn.metrics import roc_curve, auc, plot_roc_curve\n",
    "\n",
    "plot_roc_curve(boost2,X_test_2,y_test_2,response_method='predict_proba')\n",
    "plt.show()"
   ]
  },
  {
   "cell_type": "markdown",
   "id": "5cba8dc6",
   "metadata": {},
   "source": [
    "Podemos observar que el modelo tiene un 0.9 de probabilidad de distinguir correctamente las clases."
   ]
  },
  {
   "cell_type": "markdown",
   "id": "e36eebad",
   "metadata": {},
   "source": [
    "### Recall"
   ]
  },
  {
   "cell_type": "code",
   "execution_count": 12,
   "id": "373997a9",
   "metadata": {},
   "outputs": [
    {
     "data": {
      "text/plain": [
       "0.5854591836734694"
      ]
     },
     "execution_count": 12,
     "metadata": {},
     "output_type": "execute_result"
    }
   ],
   "source": [
    "recall_score(y_test, y_pred_2)"
   ]
  },
  {
   "cell_type": "markdown",
   "id": "abcb4b3c",
   "metadata": {},
   "source": [
    "### Precision"
   ]
  },
  {
   "cell_type": "code",
   "execution_count": 13,
   "id": "cc8bfe17",
   "metadata": {},
   "outputs": [
    {
     "data": {
      "text/plain": [
       "0.7753378378378378"
      ]
     },
     "execution_count": 13,
     "metadata": {},
     "output_type": "execute_result"
    }
   ],
   "source": [
    "precision_score(y_test,y_pred_2)"
   ]
  },
  {
   "cell_type": "markdown",
   "id": "50d9d967",
   "metadata": {},
   "source": [
    "### Accuracy"
   ]
  },
  {
   "cell_type": "code",
   "execution_count": 14,
   "id": "f6461d2e",
   "metadata": {},
   "outputs": [
    {
     "data": {
      "text/plain": [
       "0.8593797973595333"
      ]
     },
     "execution_count": 14,
     "metadata": {},
     "output_type": "execute_result"
    }
   ],
   "source": [
    "accuracy_score(y_test, y_pred_2) "
   ]
  },
  {
   "cell_type": "markdown",
   "id": "a226f0ea",
   "metadata": {},
   "source": [
    "### Matriz de confusion"
   ]
  },
  {
   "cell_type": "code",
   "execution_count": 15,
   "id": "4b1192e5",
   "metadata": {},
   "outputs": [
    {
     "data": {
      "image/png": "[encoded data removed]",
      "text/plain": [
       "<Figure size 1080x504 with 2 Axes>"
      ]
     },
     "metadata": {
      "needs_background": "light"
     },
     "output_type": "display_data"
    }
   ],
   "source": [
    "from sklearn.metrics import plot_confusion_matrix\n",
    "\n",
    "fig, ax = plt.subplots(figsize=(15, 7))\n",
    "plt.grid(False)\n",
    "plot_confusion_matrix(\n",
    "    boost2, X_test_2, y_test_2, cmap=plt.cm.Blues, display_labels=['0', '1'], ax=ax\n",
    ")\n",
    "\n",
    "plt.show()"
   ]
  },
  {
   "cell_type": "markdown",
   "id": "9a60cb6a",
   "metadata": {},
   "source": [
    "## Prediccion sobre el data set de hold out\n",
    "\n",
    "Aplicamos la ingenieria de features correspondiente al primer modelo de Boosting y luego predecimos."
   ]
  },
  {
   "cell_type": "code",
   "execution_count": null,
   "id": "7d36f41d",
   "metadata": {},
   "outputs": [],
   "source": []
  }
 ],
 "metadata": {
  "kernelspec": {
   "display_name": "Python 3",
   "language": "python",
   "name": "python3"
  },
  "language_info": {
   "codemirror_mode": {
    "name": "ipython",
    "version": 3
   },
   "file_extension": ".py",
   "mimetype": "text/x-python",
   "name": "python",
   "nbconvert_exporter": "python",
   "pygments_lexer": "ipython3",
   "version": "3.8.5"
  }
 },
 "nbformat": 4,
 "nbformat_minor": 5
}
