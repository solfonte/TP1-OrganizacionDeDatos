{
 "cells": [
  {
   "cell_type": "markdown",
   "id": "3ef7d9ba",
   "metadata": {},
   "source": [
    "# Ensamble: Boosting\n",
    "\n",
    "Podemos encontrar la documentacion en:  \n",
    "https://scikit-learn.org/stable/modules/generated/sklearn.ensemble.GradientBoostingClassifier.html"
   ]
  },
  {
   "cell_type": "code",
   "execution_count": 1,
   "id": "5d84968b",
   "metadata": {},
   "outputs": [],
   "source": [
    "import numpy as np\n",
    "import pandas as pd\n",
    "import seaborn as sns\n",
    "from sklearn import preprocessing, ensemble\n",
    "\n",
    "from preprocessing import cargarDatasets\n",
    "from preprocessing import prepararSetDeEntrenamiento\n",
    "from preprocessing import prepararSetDeValidacion\n",
    "from preprocessing import ingenieriaDeFeaturesArboles1\n",
    "from preprocessing import ingenieriaDeFeaturesArboles2\n",
    "\n",
    "\n",
    "from sklearn.metrics import accuracy_score, roc_auc_score, precision_score, recall_score\n",
    "from sklearn.model_selection import train_test_split,GridSearchCV, RandomizedSearchCV"
   ]
  },
  {
   "cell_type": "markdown",
   "id": "e6d75d25",
   "metadata": {},
   "source": [
    "## Carga y preprocesamiento de datos\n",
    "Cargamos los datasets y los preparamos para entrenar."
   ]
  },
  {
   "cell_type": "code",
   "execution_count": 2,
   "id": "dc398f2c",
   "metadata": {},
   "outputs": [],
   "source": [
    "train_df,final_df = cargarDatasets()\n",
    "train_df = prepararSetDeEntrenamiento(train_df)\n",
    "final_df = prepararSetDeValidacion(final_df)"
   ]
  },
  {
   "cell_type": "markdown",
   "id": "8f22612d",
   "metadata": {},
   "source": [
    "Como sabemos, boosting es un ensamble que usa arboles de decision como estimadores. Es por eso que vamos a utilizar los preprocesamientos que usamos para el modelo de arbol solo. "
   ]
  },
  {
   "cell_type": "code",
   "execution_count": 3,
   "id": "ed9ff515",
   "metadata": {},
   "outputs": [],
   "source": [
    "X,y,df,y_encoder = ingenieriaDeFeaturesArboles1(train_df)\n",
    "X_2,y_2,df_2,y_encoder_2 = ingenieriaDeFeaturesArboles2(train_df)\n",
    "\n",
    "X_train, X_test, y_train, y_test = train_test_split(X, y, random_state=117, test_size=0.1, stratify=y)\n",
    "X_train_2, X_test_2, y_train_2, y_test_2 = train_test_split(X_2, y_2, random_state=117, test_size=0.1, stratify=y_2)"
   ]
  },
  {
   "cell_type": "markdown",
   "id": "451671da",
   "metadata": {},
   "source": [
    "## Hiperparametros\n",
    "(estos me parecieron los mas importantes)\n",
    "* loss function\n",
    "* learning_rate\n",
    "* n_estimators: The number of boosting stages to perform. Gradient boosting is fairly robust to over-fitting so a large number usually results in better performance.\n",
    "* criterion: valores posibles -> ‘friedman_mse’, ‘mse’, ‘mae’\n",
    "* min_samples_split\n",
    "* min_samples_leaf\n",
    "* max_depth\n",
    "\n",
    "n_iter_no_change is used to decide if early stopping will be used to terminate training when validation score is not improving. By default it is set to None to disable early stopping. If set to a number, it will set aside validation_fraction size of the training data as validation and terminate training when validation score is not improving in all of the previous n_iter_no_change numbers of iterations. The split is stratified."
   ]
  },
  {
   "cell_type": "code",
   "execution_count": 4,
   "id": "6fde0114",
   "metadata": {},
   "outputs": [],
   "source": [
    "#https://www.kaggle.com/prashant111/a-guide-on-xgboost-hyperparameters-tuning\n",
    "#https://www.quora.com/In-what-situations-do-neural-networks-outperform-gradient-boosting-and-random-forest-models-on-regular-numeric-and-categorical-data-non-image-or-text-data-if-any\n",
    "\n",
    "#Como trabaja con arboles, los hiperparametros van a ser similares a los del arbol (tal vez podemos \n",
    "#No uso muchos parametros porque el boost es algo lento de entrenar. \n",
    "params = [{\n",
    "    \"loss\" : ['exponential','deviance'], \"criterion\" : ['mse', 'friedman_mse'],\n",
    "    'min_samples_leaf' : [3,10,20], \"n_estimators\" : [100,150]\n",
    "}]\n"
   ]
  },
  {
   "cell_type": "code",
   "execution_count": 5,
   "id": "ab385d26",
   "metadata": {},
   "outputs": [],
   "source": [
    "boost1 = ensemble.GradientBoostingClassifier(random_state = 0)"
   ]
  },
  {
   "cell_type": "code",
   "execution_count": 6,
   "id": "92673f50",
   "metadata": {},
   "outputs": [
    {
     "name": "stdout",
     "output_type": "stream",
     "text": [
      "Fitting 2 folds for each of 10 candidates, totalling 20 fits\n",
      "[Parallel(n_jobs=-1)]: Using backend LokyBackend with 4 concurrent workers.\n",
      "[Parallel(n_jobs=-1)]: Done   1 tasks      | elapsed:    3.9s\n",
      "[Parallel(n_jobs=-1)]: Done   2 tasks      | elapsed:    4.2s\n",
      "[Parallel(n_jobs=-1)]: Done   3 tasks      | elapsed:    5.3s\n",
      "[Parallel(n_jobs=-1)]: Done   4 tasks      | elapsed:    5.3s\n",
      "[Parallel(n_jobs=-1)]: Done   5 tasks      | elapsed:    6.3s\n",
      "[Parallel(n_jobs=-1)]: Done   6 tasks      | elapsed:    6.6s\n",
      "[Parallel(n_jobs=-1)]: Done   7 tasks      | elapsed:    8.6s\n",
      "[Parallel(n_jobs=-1)]: Done   8 tasks      | elapsed:    8.8s\n",
      "[Parallel(n_jobs=-1)]: Done   9 tasks      | elapsed:    8.9s\n",
      "[Parallel(n_jobs=-1)]: Done  10 tasks      | elapsed:    9.0s\n",
      "[Parallel(n_jobs=-1)]: Done  11 tasks      | elapsed:   11.2s\n",
      "[Parallel(n_jobs=-1)]: Done  12 tasks      | elapsed:   11.4s\n",
      "[Parallel(n_jobs=-1)]: Done  13 tasks      | elapsed:   11.5s\n",
      "[Parallel(n_jobs=-1)]: Done  14 out of  20 | elapsed:   11.5s remaining:    4.9s\n",
      "[Parallel(n_jobs=-1)]: Done  15 out of  20 | elapsed:   13.5s remaining:    4.5s\n",
      "[Parallel(n_jobs=-1)]: Done  16 out of  20 | elapsed:   13.8s remaining:    3.4s\n",
      "[Parallel(n_jobs=-1)]: Done  17 out of  20 | elapsed:   15.1s remaining:    2.7s\n",
      "[Parallel(n_jobs=-1)]: Done  18 out of  20 | elapsed:   15.1s remaining:    1.7s\n",
      "[Parallel(n_jobs=-1)]: Done  20 out of  20 | elapsed:   16.6s remaining:    0.0s\n",
      "[Parallel(n_jobs=-1)]: Done  20 out of  20 | elapsed:   16.6s finished\n",
      "Best score: 0.9089013047468231\n",
      "Best params {'n_estimators': 150, 'min_samples_leaf': 10, 'loss': 'deviance', 'criterion': 'mse'}\n"
     ]
    }
   ],
   "source": [
    "rdSearch = RandomizedSearchCV(\n",
    "    boost1, params, scoring='roc_auc', n_jobs=-1, cv=2, return_train_score=True, n_iter = 10, verbose = 99\n",
    ").fit(X_train, y_train)\n",
    "\n",
    "print(f\"Best score: {rdSearch.best_score_}\")\n",
    "print(f\"Best params {rdSearch.best_params_}\")"
   ]
  },
  {
   "cell_type": "markdown",
   "id": "3241bc3f",
   "metadata": {},
   "source": [
    "Luego de varias corridas obtuvimos:\n",
    "\n",
    "Best score: 0.9092720500298002  \n",
    "Best params {'n_estimators': 150, 'min_samples_leaf': 3, 'loss': 'deviance', 'criterion': 'mse'}\n",
    "\n",
    "Ahora buscamos los hiperparametros para otro modelo con el segundo preprocesamiento."
   ]
  },
  {
   "cell_type": "code",
   "execution_count": 7,
   "id": "7b72780c",
   "metadata": {},
   "outputs": [],
   "source": [
    "boost2 = ensemble.GradientBoostingClassifier(random_state = 0)"
   ]
  },
  {
   "cell_type": "code",
   "execution_count": 8,
   "id": "ea9eeb21",
   "metadata": {},
   "outputs": [
    {
     "name": "stdout",
     "output_type": "stream",
     "text": [
      "Fitting 2 folds for each of 10 candidates, totalling 20 fits\n",
      "[Parallel(n_jobs=-1)]: Using backend LokyBackend with 4 concurrent workers.\n",
      "[Parallel(n_jobs=-1)]: Done   1 tasks      | elapsed:    2.9s\n",
      "[Parallel(n_jobs=-1)]: Done   2 tasks      | elapsed:    3.0s\n",
      "[Parallel(n_jobs=-1)]: Done   3 tasks      | elapsed:    3.0s\n",
      "[Parallel(n_jobs=-1)]: Done   4 tasks      | elapsed:    3.0s\n",
      "[Parallel(n_jobs=-1)]: Done   5 tasks      | elapsed:    4.8s\n",
      "[Parallel(n_jobs=-1)]: Done   6 tasks      | elapsed:    4.9s\n",
      "[Parallel(n_jobs=-1)]: Done   7 tasks      | elapsed:    6.0s\n",
      "[Parallel(n_jobs=-1)]: Done   8 tasks      | elapsed:    6.0s\n",
      "[Parallel(n_jobs=-1)]: Done   9 tasks      | elapsed:    7.1s\n",
      "[Parallel(n_jobs=-1)]: Done  10 tasks      | elapsed:    7.2s\n",
      "[Parallel(n_jobs=-1)]: Done  11 tasks      | elapsed:    8.3s\n",
      "[Parallel(n_jobs=-1)]: Done  12 tasks      | elapsed:    8.5s\n",
      "[Parallel(n_jobs=-1)]: Done  13 tasks      | elapsed:   10.2s\n",
      "[Parallel(n_jobs=-1)]: Done  14 out of  20 | elapsed:   10.3s remaining:    4.4s\n",
      "[Parallel(n_jobs=-1)]: Done  15 out of  20 | elapsed:   10.4s remaining:    3.5s\n",
      "[Parallel(n_jobs=-1)]: Done  16 out of  20 | elapsed:   10.7s remaining:    2.7s\n",
      "[Parallel(n_jobs=-1)]: Done  17 out of  20 | elapsed:   12.0s remaining:    2.1s\n",
      "[Parallel(n_jobs=-1)]: Done  18 out of  20 | elapsed:   12.4s remaining:    1.4s\n",
      "[Parallel(n_jobs=-1)]: Done  20 out of  20 | elapsed:   12.6s remaining:    0.0s\n",
      "[Parallel(n_jobs=-1)]: Done  20 out of  20 | elapsed:   12.6s finished\n",
      "Best score: 0.9090111017129845\n",
      "Best params {'n_estimators': 150, 'min_samples_leaf': 3, 'loss': 'deviance', 'criterion': 'mse'}\n"
     ]
    }
   ],
   "source": [
    "rdSearch = RandomizedSearchCV(\n",
    "    boost2, params, scoring='roc_auc', n_jobs=-1, cv=2, return_train_score=True, n_iter = 10, verbose = 99\n",
    ").fit(X_train_2, y_train_2)\n",
    "\n",
    "print(f\"Best score: {rdSearch.best_score_}\")\n",
    "print(f\"Best params {rdSearch.best_params_}\")"
   ]
  },
  {
   "cell_type": "markdown",
   "id": "9abb24e8",
   "metadata": {},
   "source": [
    "Luego de varias corridas obtuvimos los siguientes parametros:\n",
    "\n",
    "Best score: 0.9090111017129845  \n",
    "Best params {'n_estimators': 150, 'min_samples_leaf': 3, 'loss': 'deviance', 'criterion': 'mse'}\n",
    "\n",
    "A priori creemos que las predicciones no seran muy diferentes entre los ensambles."
   ]
  },
  {
   "cell_type": "code",
   "execution_count": 10,
   "id": "12510e97",
   "metadata": {},
   "outputs": [],
   "source": [
    "params = {'n_estimators': 150, 'min_samples_leaf': 3, 'loss': 'deviance', 'criterion': 'mse'}\n",
    "\n",
    "boost1.set_params(**params)\n",
    "boost1.fit(X_train, y_train)\n",
    "y_pred_1 = boost1.predict(X_test)\n",
    "\n",
    "boost2.set_params(**params)\n",
    "boost2.fit(X_train_2, y_train_2)\n",
    "y_pred_2 = boost2.predict(X_test_2)"
   ]
  },
  {
   "cell_type": "markdown",
   "id": "4e74828f",
   "metadata": {},
   "source": [
    "## Evaluacion de metricas\n",
    "Analizamos primero el reporte de clasificacion."
   ]
  },
  {
   "cell_type": "code",
   "execution_count": 11,
   "id": "6a71d917",
   "metadata": {},
   "outputs": [
    {
     "name": "stdout",
     "output_type": "stream",
     "text": [
      "              precision    recall  f1-score   support\n",
      "\n",
      "           0       0.88      0.94      0.91      2473\n",
      "           1       0.75      0.61      0.67       784\n",
      "\n",
      "    accuracy                           0.86      3257\n",
      "   macro avg       0.82      0.77      0.79      3257\n",
      "weighted avg       0.85      0.86      0.85      3257\n",
      "\n"
     ]
    }
   ],
   "source": [
    "from sklearn.metrics import classification_report\n",
    "\n",
    "print(classification_report(y_test, boost1.predict(X_test)))"
   ]
  },
  {
   "cell_type": "code",
   "execution_count": 12,
   "id": "9b3ec33d",
   "metadata": {},
   "outputs": [
    {
     "name": "stdout",
     "output_type": "stream",
     "text": [
      "              precision    recall  f1-score   support\n",
      "\n",
      "           0       0.88      0.94      0.91      2473\n",
      "           1       0.75      0.60      0.67       784\n",
      "\n",
      "    accuracy                           0.86      3257\n",
      "   macro avg       0.82      0.77      0.79      3257\n",
      "weighted avg       0.85      0.86      0.85      3257\n",
      "\n"
     ]
    }
   ],
   "source": [
    "from sklearn.metrics import classification_report\n",
    "\n",
    "print(classification_report(y_test_2, boost2.predict(X_test_2)))"
   ]
  },
  {
   "cell_type": "markdown",
   "id": "63c226d2",
   "metadata": {},
   "source": [
    "Podemos observar que ambos modelos nos devuelven casi las mismas metricas. Nos quedamos con el primero que devolvio un recall ligeramente mejor. "
   ]
  },
  {
   "cell_type": "markdown",
   "id": "8c6f9a1a",
   "metadata": {},
   "source": [
    "### AUC-ROC score"
   ]
  },
  {
   "cell_type": "code",
   "execution_count": 13,
   "id": "131dba0e",
   "metadata": {},
   "outputs": [
    {
     "data": {
      "image/png": "[encoded data removed]",
      "text/plain": [
       "<Figure size 432x288 with 1 Axes>"
      ]
     },
     "metadata": {
      "needs_background": "light"
     },
     "output_type": "display_data"
    }
   ],
   "source": [
    "import matplotlib.pyplot as plt\n",
    "from sklearn.metrics import roc_curve, auc, plot_roc_curve\n",
    "\n",
    "plot_roc_curve(boost1,X_test,y_test,response_method='predict_proba')\n",
    "plt.show()"
   ]
  },
  {
   "cell_type": "markdown",
   "id": "41435176",
   "metadata": {},
   "source": [
    "Podemos observar que el modelo tiene un 0.9 de probabilidad de distinguir correctamente las clases."
   ]
  },
  {
   "cell_type": "markdown",
   "id": "4ec83a5b",
   "metadata": {},
   "source": [
    "### Recall"
   ]
  },
  {
   "cell_type": "code",
   "execution_count": 14,
   "id": "8d248209",
   "metadata": {},
   "outputs": [
    {
     "data": {
      "text/plain": [
       "0.6096938775510204"
      ]
     },
     "execution_count": 14,
     "metadata": {},
     "output_type": "execute_result"
    }
   ],
   "source": [
    "recall_score(y_test, y_pred_1)"
   ]
  },
  {
   "cell_type": "markdown",
   "id": "1037f662",
   "metadata": {},
   "source": [
    "### Precision"
   ]
  },
  {
   "cell_type": "code",
   "execution_count": 15,
   "id": "c7f83334",
   "metadata": {},
   "outputs": [
    {
     "data": {
      "text/plain": [
       "0.750392464678179"
      ]
     },
     "execution_count": 15,
     "metadata": {},
     "output_type": "execute_result"
    }
   ],
   "source": [
    "precision_score(y_test,y_pred_1)"
   ]
  },
  {
   "cell_type": "markdown",
   "id": "0d743209",
   "metadata": {},
   "source": [
    "### Accuracy"
   ]
  },
  {
   "cell_type": "code",
   "execution_count": 16,
   "id": "69e061de",
   "metadata": {},
   "outputs": [
    {
     "data": {
      "text/plain": [
       "0.8572305802886091"
      ]
     },
     "execution_count": 16,
     "metadata": {},
     "output_type": "execute_result"
    }
   ],
   "source": [
    "accuracy_score(y_test, y_pred_1) "
   ]
  },
  {
   "cell_type": "markdown",
   "id": "a85aa0fd",
   "metadata": {},
   "source": [
    "### Matriz de confusion"
   ]
  },
  {
   "cell_type": "code",
   "execution_count": 17,
   "id": "8d84305e",
   "metadata": {},
   "outputs": [
    {
     "data": {
      "image/png": "[encoded data removed]",
      "text/plain": [
       "<Figure size 1080x504 with 2 Axes>"
      ]
     },
     "metadata": {
      "needs_background": "light"
     },
     "output_type": "display_data"
    }
   ],
   "source": [
    "from sklearn.metrics import plot_confusion_matrix\n",
    "\n",
    "fig, ax = plt.subplots(figsize=(15, 7))\n",
    "plt.grid(False)\n",
    "plot_confusion_matrix(\n",
    "    boost1, X_test, y_test, cmap=plt.cm.Blues, display_labels=['0', '1'], ax=ax\n",
    ")\n",
    "\n",
    "plt.show()"
   ]
  },
  {
   "cell_type": "markdown",
   "id": "dcbd974a",
   "metadata": {},
   "source": [
    "## Prediccion sobre el data set de hold out\n",
    "\n",
    "Aplicamos la ingenieria de features correspondiente al primer modelo de Boosting y luego predecimos."
   ]
  },
  {
   "cell_type": "code",
   "execution_count": null,
   "id": "732f6d94",
   "metadata": {},
   "outputs": [],
   "source": []
  }
 ],
 "metadata": {
  "kernelspec": {
   "display_name": "Python 3",
   "language": "python",
   "name": "python3"
  },
  "language_info": {
   "codemirror_mode": {
    "name": "ipython",
    "version": 3
   },
   "file_extension": ".py",
   "mimetype": "text/x-python",
   "name": "python",
   "nbconvert_exporter": "python",
   "pygments_lexer": "ipython3",
   "version": "3.8.5"
  }
 },
 "nbformat": 4,
 "nbformat_minor": 5
}
