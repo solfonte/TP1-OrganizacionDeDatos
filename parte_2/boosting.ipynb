{
 "cells": [
  {
   "cell_type": "markdown",
   "id": "4113a799",
   "metadata": {},
   "source": [
    "# Ensamble: Boosting\n",
    "\n",
    "Podemos encontrar la documentacion en:  \n",
    "https://scikit-learn.org/stable/modules/generated/sklearn.ensemble.GradientBoostingClassifier.html"
   ]
  },
  {
   "cell_type": "code",
   "execution_count": 3,
   "id": "021624fc",
   "metadata": {},
   "outputs": [],
   "source": [
    "import numpy as np\n",
    "import pandas as pd\n",
    "import seaborn as sns\n",
    "from sklearn import preprocessing, ensemble\n",
    "\n",
    "from preprocessing import cargarDatasets\n",
    "from preprocessing import prepararSetDeEntrenamiento\n",
    "from preprocessing import prepararSetDeValidacion\n",
    "from preprocessing import ingenieriaDeFeauturesArboles1\n",
    "from preprocessing import ingenieriaDeFeauturesArboles2\n",
    "\n",
    "from sklearn.metrics import accuracy_score, roc_auc_score, precision_score, recall_score\n",
    "from sklearn.model_selection import train_test_split,GridSearchCV"
   ]
  },
  {
   "cell_type": "markdown",
   "id": "c4d906e4",
   "metadata": {},
   "source": [
    "## Carga y preprocesamiento de datos\n",
    "Cargamos los datasets y los preparamos para entrenar."
   ]
  },
  {
   "cell_type": "code",
   "execution_count": 4,
   "id": "dbdb298c",
   "metadata": {},
   "outputs": [],
   "source": [
    "train_df,final_df = cargarDatasets()\n",
    "train_df = prepararSetDeEntrenamiento(train_df)\n",
    "final_df = prepararSetDeValidacion(final_df)"
   ]
  },
  {
   "cell_type": "code",
   "execution_count": 5,
   "id": "87c15adf",
   "metadata": {},
   "outputs": [],
   "source": [
    "#CAMBIAR PREPROCESAMIENTO PARA XGBOOST\n",
    "X,y,df,y_encoder = ingenieriaDeFeauturesArboles1(train_df)\n",
    "X_reducido,y_reducido,df_reducido,y_encoder_reducido = ingenieriaDeFeauturesArboles2(train_df)\n",
    "\n",
    "X_train, X_test, y_train, y_test = train_test_split(X, y, random_state=117, test_size=0.1, stratify=y)\n",
    "X_train_r, X_test_r, y_train_r, y_test_r = train_test_split(X_reducido, y_reducido, random_state=117, test_size=0.1, stratify=y_reducido)"
   ]
  },
  {
   "cell_type": "markdown",
   "id": "87221490",
   "metadata": {},
   "source": [
    "## Hiperparametros\n",
    "(estos me parecieron los mas importantes)\n",
    "* loss function\n",
    "* learning_rate\n",
    "* n_estimators: The number of boosting stages to perform. Gradient boosting is fairly robust to over-fitting so a large number usually results in better performance.\n",
    "* criterion: valores posibles -> ‘friedman_mse’, ‘mse’, ‘mae’\n",
    "* min_samples_split\n",
    "* min_samples_leaf\n",
    "* max_depth"
   ]
  },
  {
   "cell_type": "code",
   "execution_count": 6,
   "id": "8fc1e5a5",
   "metadata": {},
   "outputs": [],
   "source": [
    "#https://www.kaggle.com/prashant111/a-guide-on-xgboost-hyperparameters-tuning\n",
    "#https://www.quora.com/In-what-situations-do-neural-networks-outperform-gradient-boosting-and-random-forest-models-on-regular-numeric-and-categorical-data-non-image-or-text-data-if-any\n",
    "\n",
    "#Como trabaja con arboles, los hiperparametros van a ser similares a los del arbol (tal vez podemos \n",
    "#justificar q por eso usamos los mismos preprocesamientos).\n",
    "#creo que gridsearch no va a servir"
   ]
  },
  {
   "cell_type": "code",
   "execution_count": 7,
   "id": "4073f206",
   "metadata": {},
   "outputs": [],
   "source": [
    "XGboost = ensemble.GradientBoostingClassifier(random_state = 0, loss = 'exponential', criterion = 'mse', \n",
    "                                              min_samples_leaf = 20)\n",
    "\n",
    "#entrenamos con los parametros."
   ]
  },
  {
   "cell_type": "code",
   "execution_count": 8,
   "id": "886996c6",
   "metadata": {},
   "outputs": [
    {
     "data": {
      "text/plain": [
       "GradientBoostingClassifier(criterion='mse', loss='exponential',\n",
       "                           min_samples_leaf=20, random_state=0)"
      ]
     },
     "execution_count": 8,
     "metadata": {},
     "output_type": "execute_result"
    }
   ],
   "source": [
    "XGboost.fit(X_train_r, y_train_r)"
   ]
  },
  {
   "cell_type": "code",
   "execution_count": 9,
   "id": "11ef37c2",
   "metadata": {},
   "outputs": [],
   "source": [
    "y_pred = XGboost.predict(X_test_r)\n"
   ]
  },
  {
   "cell_type": "code",
   "execution_count": 12,
   "id": "79c831ea",
   "metadata": {},
   "outputs": [
    {
     "data": {
      "image/png": "[encoded data removed]",
      "text/plain": [
       "<Figure size 432x288 with 1 Axes>"
      ]
     },
     "metadata": {
      "needs_background": "light"
     },
     "output_type": "display_data"
    }
   ],
   "source": [
    "import matplotlib.pyplot as plt\n",
    "from sklearn.metrics import roc_curve, auc, plot_roc_curve\n",
    "\n",
    "plot_roc_curve(XGboost,X_test_r,y_test_r,response_method='predict_proba')\n",
    "plt.show()"
   ]
  },
  {
   "cell_type": "code",
   "execution_count": null,
   "id": "0babff91",
   "metadata": {},
   "outputs": [],
   "source": []
  }
 ],
 "metadata": {
  "kernelspec": {
   "display_name": "Python 3",
   "language": "python",
   "name": "python3"
  },
  "language_info": {
   "codemirror_mode": {
    "name": "ipython",
    "version": 3
   },
   "file_extension": ".py",
   "mimetype": "text/x-python",
   "name": "python",
   "nbconvert_exporter": "python",
   "pygments_lexer": "ipython3",
   "version": "3.8.5"
  }
 },
 "nbformat": 4,
 "nbformat_minor": 5
}
