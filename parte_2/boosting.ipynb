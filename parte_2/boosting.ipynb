{
 "cells": [
  {
   "cell_type": "markdown",
   "id": "3945b623",
   "metadata": {},
   "source": [
    "# Ensamble: Boosting\n",
    "\n",
    "Podemos encontrar la documentacion en:  \n",
    "https://scikit-learn.org/stable/modules/generated/sklearn.ensemble.GradientBoostingClassifier.html"
   ]
  },
  {
   "cell_type": "code",
   "execution_count": 27,
   "id": "2d132b3e",
   "metadata": {},
   "outputs": [],
   "source": [
    "import numpy as np\n",
    "import pandas as pd\n",
    "import seaborn as sns\n",
    "from sklearn import preprocessing, ensemble\n",
    "\n",
    "from preprocessing import cargarDatasets\n",
    "from preprocessing import prepararSetDeEntrenamiento\n",
    "from preprocessing import prepararSetDeValidacion\n",
    "from preprocessing import ingenieriaDeFeauturesArboles1\n",
    "from preprocessing import ingenieriaDeFeauturesArboles2\n",
    "\n",
    "from sklearn.metrics import accuracy_score, roc_auc_score, precision_score, recall_score\n",
    "from sklearn.model_selection import train_test_split,GridSearchCV, RandomizedSearchCV"
   ]
  },
  {
   "cell_type": "markdown",
   "id": "5a60c4fa",
   "metadata": {},
   "source": [
    "## Carga y preprocesamiento de datos\n",
    "Cargamos los datasets y los preparamos para entrenar."
   ]
  },
  {
   "cell_type": "code",
   "execution_count": 16,
   "id": "d48946ae",
   "metadata": {},
   "outputs": [],
   "source": [
    "train_df,final_df = cargarDatasets()\n",
    "train_df = prepararSetDeEntrenamiento(train_df)\n",
    "final_df = prepararSetDeValidacion(final_df)"
   ]
  },
  {
   "cell_type": "markdown",
   "id": "0b91d3ac",
   "metadata": {},
   "source": [
    "Como sabemos, boosting es un ensamble que usa arboles de decision como estimadores. Es por eso que vamos a utilizar los preprocesamientos que usamos para el modelo de arbol solo. "
   ]
  },
  {
   "cell_type": "code",
   "execution_count": 17,
   "id": "09927b98",
   "metadata": {},
   "outputs": [],
   "source": [
    "X,y,df,y_encoder = ingenieriaDeFeauturesArboles1(train_df)\n",
    "X_reducido,y_reducido,df_reducido,y_encoder_reducido = ingenieriaDeFeauturesArboles2(train_df)\n",
    "\n",
    "X_train, X_test, y_train, y_test = train_test_split(X, y, random_state=117, test_size=0.1, stratify=y)\n",
    "X_train_r, X_test_r, y_train_r, y_test_r = train_test_split(X_reducido, y_reducido, random_state=117, test_size=0.1, stratify=y_reducido)"
   ]
  },
  {
   "cell_type": "markdown",
   "id": "c330484f",
   "metadata": {},
   "source": [
    "## Hiperparametros\n",
    "(estos me parecieron los mas importantes)\n",
    "* loss function\n",
    "* learning_rate\n",
    "* n_estimators: The number of boosting stages to perform. Gradient boosting is fairly robust to over-fitting so a large number usually results in better performance.\n",
    "* criterion: valores posibles -> ‘friedman_mse’, ‘mse’, ‘mae’\n",
    "* min_samples_split\n",
    "* min_samples_leaf\n",
    "* max_depth"
   ]
  },
  {
   "cell_type": "code",
   "execution_count": 18,
   "id": "d80aaf49",
   "metadata": {},
   "outputs": [],
   "source": [
    "#https://www.kaggle.com/prashant111/a-guide-on-xgboost-hyperparameters-tuning\n",
    "#https://www.quora.com/In-what-situations-do-neural-networks-outperform-gradient-boosting-and-random-forest-models-on-regular-numeric-and-categorical-data-non-image-or-text-data-if-any\n",
    "\n",
    "#Como trabaja con arboles, los hiperparametros van a ser similares a los del arbol (tal vez podemos \n",
    "#No uso muchos parametros porque el boost es algo lento de entrenar. \n",
    "params = [{\n",
    "    \"loss\" : ['exponential','deviance'], \"criterion\" : ['mse', 'friedman_mse'],\n",
    "    'min_samples_leaf' : [3,10,20], \"n_estimators\" : [100,150]\n",
    "}]\n"
   ]
  },
  {
   "cell_type": "code",
   "execution_count": 19,
   "id": "9947494f",
   "metadata": {},
   "outputs": [],
   "source": [
    "boost = ensemble.GradientBoostingClassifier(random_state = 0, loss = 'exponential', criterion = 'mse', \n",
    "                                              min_samples_leaf = 20)\n",
    "boost2 = ensemble.GradientBoostingClassifier(random_state = 0)"
   ]
  },
  {
   "cell_type": "code",
   "execution_count": 20,
   "id": "1b9207e0",
   "metadata": {},
   "outputs": [
    {
     "data": {
      "text/plain": [
       "GradientBoostingClassifier(criterion='mse', loss='exponential',\n",
       "                           min_samples_leaf=20, random_state=0)"
      ]
     },
     "execution_count": 20,
     "metadata": {},
     "output_type": "execute_result"
    }
   ],
   "source": [
    "boost.fit(X_train_r, y_train_r)"
   ]
  },
  {
   "cell_type": "code",
   "execution_count": 21,
   "id": "d4bf4aef",
   "metadata": {},
   "outputs": [
    {
     "ename": "NameError",
     "evalue": "name 'RandomizedSearchCV' is not defined",
     "output_type": "error",
     "traceback": [
      "\u001b[0;31m---------------------------------------------------------------------------\u001b[0m",
      "\u001b[0;31mNameError\u001b[0m                                 Traceback (most recent call last)",
      "\u001b[0;32m<ipython-input-21-40e3f1e8db99>\u001b[0m in \u001b[0;36m<module>\u001b[0;34m\u001b[0m\n\u001b[1;32m      1\u001b[0m \u001b[0;31m#no probe esto todavia\u001b[0m\u001b[0;34m\u001b[0m\u001b[0;34m\u001b[0m\u001b[0;34m\u001b[0m\u001b[0m\n\u001b[1;32m      2\u001b[0m \u001b[0;34m\u001b[0m\u001b[0m\n\u001b[0;32m----> 3\u001b[0;31m rdSearch = RandomizedSearchCV(\n\u001b[0m\u001b[1;32m      4\u001b[0m     \u001b[0mboost2\u001b[0m\u001b[0;34m,\u001b[0m \u001b[0mparams\u001b[0m\u001b[0;34m,\u001b[0m \u001b[0mscoring\u001b[0m\u001b[0;34m=\u001b[0m\u001b[0;34m'roc_auc'\u001b[0m\u001b[0;34m,\u001b[0m \u001b[0mn_jobs\u001b[0m\u001b[0;34m=\u001b[0m\u001b[0;34m-\u001b[0m\u001b[0;36m1\u001b[0m\u001b[0;34m,\u001b[0m \u001b[0mcv\u001b[0m\u001b[0;34m=\u001b[0m\u001b[0;36m2\u001b[0m\u001b[0;34m,\u001b[0m \u001b[0mreturn_train_score\u001b[0m\u001b[0;34m=\u001b[0m\u001b[0;32mTrue\u001b[0m\u001b[0;34m,\u001b[0m \u001b[0mn_iter\u001b[0m \u001b[0;34m=\u001b[0m \u001b[0;36m10\u001b[0m\u001b[0;34m,\u001b[0m \u001b[0mverbose\u001b[0m \u001b[0;34m=\u001b[0m \u001b[0;36m99\u001b[0m\u001b[0;34m\u001b[0m\u001b[0;34m\u001b[0m\u001b[0m\n\u001b[1;32m      5\u001b[0m ).fit(X_train_r, y_train_r)\n",
      "\u001b[0;31mNameError\u001b[0m: name 'RandomizedSearchCV' is not defined"
     ]
    }
   ],
   "source": [
    "#no probe esto todavia\n",
    "\n",
    "rdSearch = RandomizedSearchCV(\n",
    "    boost2, params, scoring='roc_auc', n_jobs=-1, cv=2, return_train_score=True, n_iter = 10, verbose = 99\n",
    ").fit(X_train_r, y_train_r)\n",
    "print(f\"Best score: {rdSearch.best_score_}\")\n",
    "print(f\"Best params {rdSearch.best_params_}\")"
   ]
  },
  {
   "cell_type": "code",
   "execution_count": 22,
   "id": "e3811583",
   "metadata": {},
   "outputs": [],
   "source": [
    "y_pred = boost.predict(X_test_r)"
   ]
  },
  {
   "cell_type": "markdown",
   "id": "8e7f921c",
   "metadata": {},
   "source": [
    "## Evaluacion de metricas\n",
    "Analizamos primero el reporte de clasificacion."
   ]
  },
  {
   "cell_type": "code",
   "execution_count": 25,
   "id": "8321af11",
   "metadata": {},
   "outputs": [
    {
     "name": "stdout",
     "output_type": "stream",
     "text": [
      "              precision    recall  f1-score   support\n",
      "\n",
      "           0       0.88      0.94      0.91      2473\n",
      "           1       0.75      0.59      0.66       784\n",
      "\n",
      "    accuracy                           0.85      3257\n",
      "   macro avg       0.81      0.76      0.78      3257\n",
      "weighted avg       0.85      0.85      0.85      3257\n",
      "\n"
     ]
    }
   ],
   "source": [
    "from sklearn.metrics import classification_report\n",
    "\n",
    "print(classification_report(y_test_r, boost.predict(X_test_r)))"
   ]
  },
  {
   "cell_type": "markdown",
   "id": "86ddeb41",
   "metadata": {},
   "source": [
    "**CONCLUSION**"
   ]
  },
  {
   "cell_type": "markdown",
   "id": "b9a42eb8",
   "metadata": {},
   "source": [
    "### AUC-ROC score"
   ]
  },
  {
   "cell_type": "code",
   "execution_count": 30,
   "id": "7b7c8ee9",
   "metadata": {},
   "outputs": [
    {
     "data": {
      "image/png": "[encoded data removed]",
      "text/plain": [
       "<Figure size 432x288 with 1 Axes>"
      ]
     },
     "metadata": {
      "needs_background": "light"
     },
     "output_type": "display_data"
    }
   ],
   "source": [
    "import matplotlib.pyplot as plt\n",
    "from sklearn.metrics import roc_curve, auc, plot_roc_curve\n",
    "\n",
    "plot_roc_curve(boost,X_test_r,y_test_r,response_method='predict_proba')\n",
    "plt.show()"
   ]
  },
  {
   "cell_type": "markdown",
   "id": "5b8c41e2",
   "metadata": {},
   "source": [
    "Podemos observar que el modelo tiene un 0.9 de probabilidad de distinguir correctamente las clases."
   ]
  },
  {
   "cell_type": "markdown",
   "id": "332361b8",
   "metadata": {},
   "source": [
    "### Recall"
   ]
  },
  {
   "cell_type": "code",
   "execution_count": 31,
   "id": "e9712860",
   "metadata": {},
   "outputs": [
    {
     "data": {
      "text/plain": [
       "0.5880102040816326"
      ]
     },
     "execution_count": 31,
     "metadata": {},
     "output_type": "execute_result"
    }
   ],
   "source": [
    "recall_score(y_test_r, y_pred)"
   ]
  },
  {
   "cell_type": "markdown",
   "id": "c9506f17",
   "metadata": {},
   "source": [
    "### Precision"
   ]
  },
  {
   "cell_type": "code",
   "execution_count": 32,
   "id": "1864cbb1",
   "metadata": {},
   "outputs": [
    {
     "data": {
      "text/plain": [
       "0.7495934959349594"
      ]
     },
     "execution_count": 32,
     "metadata": {},
     "output_type": "execute_result"
    }
   ],
   "source": [
    "precision_score(y_test_r,y_pred)"
   ]
  },
  {
   "cell_type": "markdown",
   "id": "4729c15e",
   "metadata": {},
   "source": [
    "### Accuracy"
   ]
  },
  {
   "cell_type": "code",
   "execution_count": 34,
   "id": "20a209df",
   "metadata": {},
   "outputs": [
    {
     "data": {
      "text/plain": [
       "0.8535462081670249"
      ]
     },
     "execution_count": 34,
     "metadata": {},
     "output_type": "execute_result"
    }
   ],
   "source": [
    "accuracy_score(y_test_r, y_pred) "
   ]
  },
  {
   "cell_type": "markdown",
   "id": "f28241df",
   "metadata": {},
   "source": [
    "### Matriz de confusion"
   ]
  },
  {
   "cell_type": "code",
   "execution_count": 37,
   "id": "8f765712",
   "metadata": {},
   "outputs": [
    {
     "data": {
      "image/png": "[encoded data removed]",
      "text/plain": [
       "<Figure size 1080x504 with 2 Axes>"
      ]
     },
     "metadata": {
      "needs_background": "light"
     },
     "output_type": "display_data"
    }
   ],
   "source": [
    "from sklearn.metrics import plot_confusion_matrix\n",
    "\n",
    "fig, ax = plt.subplots(figsize=(15, 7))\n",
    "plt.grid(False)\n",
    "plot_confusion_matrix(\n",
    "    boost, X_test_r, y_test_r, cmap=plt.cm.Blues, display_labels=['0', '1'], ax=ax\n",
    ")\n",
    "\n",
    "plt.show()"
   ]
  },
  {
   "cell_type": "code",
   "execution_count": null,
   "id": "1a94c4d8",
   "metadata": {},
   "outputs": [],
   "source": []
  }
 ],
 "metadata": {
  "kernelspec": {
   "display_name": "Python 3",
   "language": "python",
   "name": "python3"
  },
  "language_info": {
   "codemirror_mode": {
    "name": "ipython",
    "version": 3
   },
   "file_extension": ".py",
   "mimetype": "text/x-python",
   "name": "python",
   "nbconvert_exporter": "python",
   "pygments_lexer": "ipython3",
   "version": "3.8.5"
  }
 },
 "nbformat": 4,
 "nbformat_minor": 5
}
