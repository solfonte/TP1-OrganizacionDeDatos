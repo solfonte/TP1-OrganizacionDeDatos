{
 "cells": [
  {
   "cell_type": "markdown",
   "metadata": {
    "id": "9DKEwdjiEo30"
   },
   "source": [
    "#TP parte 1"
   ]
  },
  {
   "cell_type": "code",
   "execution_count": null,
   "metadata": {
    "id": "ay8sT_XqEQM3"
   },
   "outputs": [],
   "source": [
    "import pandas as pd\n",
    "import numpy as np\n",
    "import requests\n",
    "from collections import Counter\n",
    "import plotly.express as px\n",
    "from matplotlib import pyplot as plt\n",
    "from pandas_profiling import ProfileReport"
   ]
  },
  {
   "cell_type": "code",
   "execution_count": null,
   "metadata": {
    "execution": {
     "iopub.execute_input": "2021-04-21T00:37:18.051551Z",
     "iopub.status.busy": "2021-04-21T00:37:18.051069Z",
     "iopub.status.idle": "2021-04-21T00:37:18.843042Z",
     "shell.execute_reply": "2021-04-21T00:37:18.842125Z"
    },
    "id": "9be4882a"
   },
   "outputs": [],
   "source": [
    "with requests.get(\n",
    "    \"https://docs.google.com/spreadsheets/d/1-DWTP8uwVS-dZY402-dm0F9ICw_6PNqDGLmH0u8Eqa0/export?format=csv\"\n",
    ") as r, open(\"impuestos.csv\", \"wb\") as f:\n",
    "    for chunk in r.iter_content():\n",
    "        f.write(chunk)\n",
    "\n"
   ]
  },
  {
   "cell_type": "markdown",
   "metadata": {
    "id": "KXQZoUFbFSUD"
   },
   "source": [
    "Abrimos el data frame"
   ]
  },
  {
   "cell_type": "code",
   "execution_count": null,
   "metadata": {
    "execution": {
     "iopub.execute_input": "2021-04-21T00:35:44.722723Z",
     "iopub.status.busy": "2021-04-21T00:35:44.722159Z",
     "iopub.status.idle": "2021-04-21T00:35:45.142745Z",
     "shell.execute_reply": "2021-04-21T00:35:45.141849Z"
    },
    "id": "b87c5a01"
   },
   "outputs": [],
   "source": [
    "df = pd.read_csv(\"impuestos.csv\")"
   ]
  },
  {
   "cell_type": "code",
   "execution_count": 1,
   "metadata": {
    "colab": {
     "base_uri": "https://localhost:8080/",
     "height": 697
    },
    "id": "wAYKrKhsRm9r",
    "outputId": "8f767082-3cb3-439a-8a1e-83a531b70490"
   },
   "outputs": [
    {
     "ename": "NameError",
     "evalue": "name 'ProfileReport' is not defined",
     "output_type": "error",
     "traceback": [
      "\u001b[0;31m---------------------------------------------------------------------------\u001b[0m",
      "\u001b[0;31mNameError\u001b[0m                                 Traceback (most recent call last)",
      "\u001b[0;32m<ipython-input-1-7b4cf3650de1>\u001b[0m in \u001b[0;36m<module>\u001b[0;34m\u001b[0m\n\u001b[1;32m      1\u001b[0m \u001b[0;31m# Usando pandas profiling\u001b[0m\u001b[0;34m\u001b[0m\u001b[0;34m\u001b[0m\u001b[0;34m\u001b[0m\u001b[0m\n\u001b[0;32m----> 2\u001b[0;31m \u001b[0mreport\u001b[0m \u001b[0;34m=\u001b[0m \u001b[0mProfileReport\u001b[0m\u001b[0;34m(\u001b[0m\u001b[0mdf\u001b[0m\u001b[0;34m,\u001b[0m \u001b[0mtitle\u001b[0m\u001b[0;34m=\u001b[0m\u001b[0;34m'impuestos'\u001b[0m\u001b[0;34m,\u001b[0m \u001b[0mexplorative\u001b[0m\u001b[0;34m=\u001b[0m\u001b[0;32mTrue\u001b[0m\u001b[0;34m,\u001b[0m \u001b[0mlazy\u001b[0m\u001b[0;34m=\u001b[0m\u001b[0;32mFalse\u001b[0m\u001b[0;34m)\u001b[0m\u001b[0;34m\u001b[0m\u001b[0;34m\u001b[0m\u001b[0m\n\u001b[0m\u001b[1;32m      3\u001b[0m \u001b[0mreport\u001b[0m\u001b[0;34m\u001b[0m\u001b[0;34m\u001b[0m\u001b[0m\n",
      "\u001b[0;31mNameError\u001b[0m: name 'ProfileReport' is not defined"
     ]
    }
   ],
   "source": [
    "# Usando pandas profiling\n",
    "report = ProfileReport(df, title='impuestos', explorative=True, lazy=False)\n",
    "report"
   ]
  },
  {
   "cell_type": "code",
   "execution_count": null,
   "metadata": {},
   "outputs": [],
   "source": [
    "#Verificamos los datos del dataframe\n",
    "#Buscamos entender cada uno de los datos, cómo se relacionan entre sí y si se puede sacar alguna conclusión\n",
    "#A partir de ellos vamos a determinar los factores que determinan si alguien tiene altos o bajos ingresos"
   ]
  },
  {
   "cell_type": "code",
   "execution_count": null,
   "metadata": {},
   "outputs": [],
   "source": []
  }
 ],
 "metadata": {
  "colab": {
   "collapsed_sections": [],
   "name": "TPparte1.ipynb",
   "provenance": []
  },
  "kernelspec": {
   "display_name": "Python 3",
   "language": "python",
   "name": "python3"
  },
  "language_info": {
   "codemirror_mode": {
    "name": "ipython",
    "version": 3
   },
   "file_extension": ".py",
   "mimetype": "text/x-python",
   "name": "python",
   "nbconvert_exporter": "python",
   "pygments_lexer": "ipython3",
   "version": "3.8.5"
  }
 },
 "nbformat": 4,
 "nbformat_minor": 4
}
